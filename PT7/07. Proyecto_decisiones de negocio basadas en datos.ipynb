{
 "cells": [
  {
   "cell_type": "markdown",
   "id": "83d81ab3-fc98-46a7-8dbd-3a82514fcb2c",
   "metadata": {},
   "source": [
    "# Tomar decisiones de negocio basadas en datos \n",
    "\n",
    "Eres analista en una gran tienda en línea. Junto con el departamento de marketing has recopilado una lista de hipótesis que pueden ayudar a aumentar los ingresos.\n",
    "Tienes que priorizar estas hipótesis, lanzar un test A/B y analizar los resultados."
   ]
  },
  {
   "cell_type": "markdown",
   "id": "c16be118-ce43-4ee9-aac0-96232ba68112",
   "metadata": {},
   "source": [
    "**Descripción de los datos** \n",
    "\n",
    "La tabla hypotheses_us.csv  contiene las siguientes tablas:\n",
    "\n",
    " - Hypotheses: breves descripciones de las hipótesis\n",
    " - Reach: alcance del usuario, en una escala del uno a diez\n",
    " - Impact: impacto en los usuarios, en una escala del uno al diez\n",
    " - Confidence: confianza en la hipótesis, en una escala del uno al diez\n",
    " - Effort: los recursos necesarios para probar una hipótesis, en una escala del uno al diez. Cuanto mayor sea el valor Effort, más recursos requiere la prueba.\n",
    "\n",
    "\n",
    "La tabla orders_us.csv contiene las siguientes columnas:\n",
    "\n",
    "- transactionId: identificador de pedido\n",
    "- visitorId: identificador del usuario que realizó el pedido\n",
    "- date: fecha del pedido\n",
    "- revenue: ingresos del pedido\n",
    "- group: el grupo del test A/B al que pertenece el usuario\n",
    "\n",
    "La tabla visits contiene las siguientes columnas :\n",
    "\n",
    "- date: la fecha\n",
    "- group: grupo del test A/B\n",
    "- visits: el número de visitas en la fecha especificada para el grupo de test A/B especificado\n",
    "\n",
    "Asegúrate de preprocesar los datos. Es posible que haya errores en los datasets originales; por ejemplo, algunos de los visitantes podrían haber entrado tanto en el grupo A como en el grupo B."
   ]
  },
  {
   "cell_type": "markdown",
   "id": "af6a382a",
   "metadata": {
    "toc": true
   },
   "source": [
    "<h1>Table of Contents<span class=\"tocSkip\"></span></h1>\n",
    "<div class=\"toc\"><ul class=\"toc-item\"><li><span><a href=\"#01.-Iniciacion\" data-toc-modified-id=\"01.-Iniciacion-1\"><span class=\"toc-item-num\">1&nbsp;&nbsp;</span>01. Iniciacion</a></span></li><li><span><a href=\"#0.2-Exploracion-de-datos\" data-toc-modified-id=\"0.2-Exploracion-de-datos-2\"><span class=\"toc-item-num\">2&nbsp;&nbsp;</span>0.2 Exploracion de datos</a></span><ul class=\"toc-item\"><li><span><a href=\"#hypothesis\" data-toc-modified-id=\"hypothesis-2.1\"><span class=\"toc-item-num\">2.1&nbsp;&nbsp;</span><code>hypothesis</code></a></span></li><li><span><a href=\"#orders\" data-toc-modified-id=\"orders-2.2\"><span class=\"toc-item-num\">2.2&nbsp;&nbsp;</span><code>orders</code></a></span></li><li><span><a href=\"#visits\" data-toc-modified-id=\"visits-2.3\"><span class=\"toc-item-num\">2.3&nbsp;&nbsp;</span><code>visits</code></a></span></li></ul></li><li><span><a href=\"#0.3-Preparacion-de-los-datos\" data-toc-modified-id=\"0.3-Preparacion-de-los-datos-3\"><span class=\"toc-item-num\">3&nbsp;&nbsp;</span>0.3 Preparacion de los datos</a></span><ul class=\"toc-item\"><li><ul class=\"toc-item\"><li><ul class=\"toc-item\"><li><span><a href=\"#Conclusion-General\" data-toc-modified-id=\"Conclusion-General-3.0.0.1\"><span class=\"toc-item-num\">3.0.0.1&nbsp;&nbsp;</span><strong>Conclusion General</strong></a></span></li></ul></li></ul></li></ul></li><li><span><a href=\"#04.--Priorizar-hipótesis\" data-toc-modified-id=\"04.--Priorizar-hipótesis-4\"><span class=\"toc-item-num\">4&nbsp;&nbsp;</span>04.  Priorizar hipótesis</a></span><ul class=\"toc-item\"><li><span><a href=\"#Aplicar-el-framework-ICE-para-priorizar-hipótesis.\" data-toc-modified-id=\"Aplicar-el-framework-ICE-para-priorizar-hipótesis.-4.1\"><span class=\"toc-item-num\">4.1&nbsp;&nbsp;</span>Aplicar el framework ICE para priorizar hipótesis.</a></span></li><li><span><a href=\"#Aplicar-el-framework-RICE-para-priorizar-hipótesis\" data-toc-modified-id=\"Aplicar-el-framework-RICE-para-priorizar-hipótesis-4.2\"><span class=\"toc-item-num\">4.2&nbsp;&nbsp;</span>Aplicar el framework RICE para priorizar hipótesis</a></span></li><li><span><a href=\"#Mostrar-cómo-cambia-la-priorización-de-hipótesis-cuando-utilizas-RICE-en-lugar-de-ICE.\" data-toc-modified-id=\"Mostrar-cómo-cambia-la-priorización-de-hipótesis-cuando-utilizas-RICE-en-lugar-de-ICE.-4.3\"><span class=\"toc-item-num\">4.3&nbsp;&nbsp;</span>Mostrar cómo cambia la priorización de hipótesis cuando utilizas RICE en lugar de ICE.</a></span></li><li><span><a href=\"#Conclusion-General\" data-toc-modified-id=\"Conclusion-General-4.4\"><span class=\"toc-item-num\">4.4&nbsp;&nbsp;</span>Conclusion General</a></span></li></ul></li><li><span><a href=\"#0.5-Análisis-de-test-A/B\" data-toc-modified-id=\"0.5-Análisis-de-test-A/B-5\"><span class=\"toc-item-num\">5&nbsp;&nbsp;</span>0.5 Análisis de test A/B</a></span><ul class=\"toc-item\"><li><ul class=\"toc-item\"><li><span><a href=\"#1.-Representa-gráficamente-el-ingreso-acumulado-por-grupo.-Haz-conclusiones-y-conjeturas.\" data-toc-modified-id=\"1.-Representa-gráficamente-el-ingreso-acumulado-por-grupo.-Haz-conclusiones-y-conjeturas.-5.0.1\"><span class=\"toc-item-num\">5.0.1&nbsp;&nbsp;</span>1. Representa gráficamente el ingreso acumulado por grupo. Haz conclusiones y conjeturas.</a></span><ul class=\"toc-item\"><li><span><a href=\"#Conclusion-general\" data-toc-modified-id=\"Conclusion-general-5.0.1.1\"><span class=\"toc-item-num\">5.0.1.1&nbsp;&nbsp;</span><strong>Conclusion general</strong></a></span></li></ul></li><li><span><a href=\"#2.-Representa-gráficamente-el-tamaño-de-pedido-promedio-acumulado-por-grupo.-Haz-conclusiones-y-conjeturas.\" data-toc-modified-id=\"2.-Representa-gráficamente-el-tamaño-de-pedido-promedio-acumulado-por-grupo.-Haz-conclusiones-y-conjeturas.-5.0.2\"><span class=\"toc-item-num\">5.0.2&nbsp;&nbsp;</span>2. Representa gráficamente el tamaño de pedido promedio acumulado por grupo. Haz conclusiones y conjeturas.</a></span><ul class=\"toc-item\"><li><span><a href=\"#Conclusion-general\" data-toc-modified-id=\"Conclusion-general-5.0.2.1\"><span class=\"toc-item-num\">5.0.2.1&nbsp;&nbsp;</span><strong>Conclusion general</strong></a></span></li></ul></li><li><span><a href=\"#3.-Representa-gráficamente-la-diferencia-relativa-en-el-tamaño-de-pedido-promedio-acumulado-para-el-grupo-B-en-comparación-con-el-grupo-A.\" data-toc-modified-id=\"3.-Representa-gráficamente-la-diferencia-relativa-en-el-tamaño-de-pedido-promedio-acumulado-para-el-grupo-B-en-comparación-con-el-grupo-A.-5.0.3\"><span class=\"toc-item-num\">5.0.3&nbsp;&nbsp;</span>3. Representa gráficamente la diferencia relativa en el tamaño de pedido promedio acumulado para el grupo B en comparación con el grupo A.</a></span><ul class=\"toc-item\"><li><span><a href=\"#Conclusion-general\" data-toc-modified-id=\"Conclusion-general-5.0.3.1\"><span class=\"toc-item-num\">5.0.3.1&nbsp;&nbsp;</span><strong>Conclusion general</strong></a></span></li></ul></li><li><span><a href=\"#4.-Calcula-la-tasa-de-conversión-de-cada-grupo-como-la-relación-entre-los-pedidos-y-el-número-de-visitas-de-cada-día\" data-toc-modified-id=\"4.-Calcula-la-tasa-de-conversión-de-cada-grupo-como-la-relación-entre-los-pedidos-y-el-número-de-visitas-de-cada-día-5.0.4\"><span class=\"toc-item-num\">5.0.4&nbsp;&nbsp;</span>4. Calcula la tasa de conversión de cada grupo como la relación entre los pedidos y el número de visitas de cada día</a></span><ul class=\"toc-item\"><li><span><a href=\"#Conclusion-General\" data-toc-modified-id=\"Conclusion-General-5.0.4.1\"><span class=\"toc-item-num\">5.0.4.1&nbsp;&nbsp;</span><strong>Conclusion General</strong></a></span></li></ul></li><li><span><a href=\"#5.-Traza-un-gráfico-de-dispersión-del-número-de-pedidos-por-usuario.-Haz-conclusiones-y-conjeturas.\" data-toc-modified-id=\"5.-Traza-un-gráfico-de-dispersión-del-número-de-pedidos-por-usuario.-Haz-conclusiones-y-conjeturas.-5.0.5\"><span class=\"toc-item-num\">5.0.5&nbsp;&nbsp;</span>5. Traza un gráfico de dispersión del número de pedidos por usuario. Haz conclusiones y conjeturas.</a></span><ul class=\"toc-item\"><li><span><a href=\"#Conclusion-General\" data-toc-modified-id=\"Conclusion-General-5.0.5.1\"><span class=\"toc-item-num\">5.0.5.1&nbsp;&nbsp;</span><strong>Conclusion General</strong></a></span></li></ul></li><li><span><a href=\"#6.-Calcula-los-percentiles-95-y-99-para-el-número-de-pedidos-por-usuario.-Define-el-punto-en-el-cual-un-punto-de-datos-se-convierte-en-una-anomalía.\" data-toc-modified-id=\"6.-Calcula-los-percentiles-95-y-99-para-el-número-de-pedidos-por-usuario.-Define-el-punto-en-el-cual-un-punto-de-datos-se-convierte-en-una-anomalía.-5.0.6\"><span class=\"toc-item-num\">5.0.6&nbsp;&nbsp;</span>6. Calcula los percentiles 95 y 99 para el número de pedidos por usuario. Define el punto en el cual un punto de datos se convierte en una anomalía.</a></span><ul class=\"toc-item\"><li><span><a href=\"#Conclusion-General\" data-toc-modified-id=\"Conclusion-General-5.0.6.1\"><span class=\"toc-item-num\">5.0.6.1&nbsp;&nbsp;</span><strong>Conclusion General</strong></a></span></li></ul></li><li><span><a href=\"#7.-Traza-un-gráfico-de-dispersión-de-los-precios-de-los-pedidos.\" data-toc-modified-id=\"7.-Traza-un-gráfico-de-dispersión-de-los-precios-de-los-pedidos.-5.0.7\"><span class=\"toc-item-num\">5.0.7&nbsp;&nbsp;</span>7. Traza un gráfico de dispersión de los precios de los pedidos.</a></span></li><li><span><a href=\"#8.-Calcula-los-percentiles-95-y-99-de-los-precios-de-los-pedidos.-Define-el-punto-en-el-cual-un-punto-de-datos-se-convierte-en-una-anomalía.\" data-toc-modified-id=\"8.-Calcula-los-percentiles-95-y-99-de-los-precios-de-los-pedidos.-Define-el-punto-en-el-cual-un-punto-de-datos-se-convierte-en-una-anomalía.-5.0.8\"><span class=\"toc-item-num\">5.0.8&nbsp;&nbsp;</span>8. Calcula los percentiles 95 y 99 de los precios de los pedidos. Define el punto en el cual un punto de datos se convierte en una anomalía.</a></span><ul class=\"toc-item\"><li><span><a href=\"#Conclusion-General\" data-toc-modified-id=\"Conclusion-General-5.0.8.1\"><span class=\"toc-item-num\">5.0.8.1&nbsp;&nbsp;</span><strong>Conclusion General</strong></a></span></li></ul></li><li><span><a href=\"#9.-Encuentra-la-significancia-estadística-de-la-diferencia-en-la-conversión-entre-los-grupos-utilizando-los-datos-en-bruto.-Haz-conclusiones-y-conjeturas.\" data-toc-modified-id=\"9.-Encuentra-la-significancia-estadística-de-la-diferencia-en-la-conversión-entre-los-grupos-utilizando-los-datos-en-bruto.-Haz-conclusiones-y-conjeturas.-5.0.9\"><span class=\"toc-item-num\">5.0.9&nbsp;&nbsp;</span>9. Encuentra la significancia estadística de la diferencia en la conversión entre los grupos utilizando los datos en bruto. Haz conclusiones y conjeturas.</a></span></li><li><span><a href=\"#Conclusion-General\" data-toc-modified-id=\"Conclusion-General-5.0.10\"><span class=\"toc-item-num\">5.0.10&nbsp;&nbsp;</span><strong>Conclusion General</strong></a></span></li><li><span><a href=\"#10.-Encuentra-la-significancia-estadística-de-la-diferencia-en-el-tamaño-promedio-de-pedido-entre-los-grupos-utilizando-los-datos-en-bruto.-Haz-conclusiones-y-conjeturas.\" data-toc-modified-id=\"10.-Encuentra-la-significancia-estadística-de-la-diferencia-en-el-tamaño-promedio-de-pedido-entre-los-grupos-utilizando-los-datos-en-bruto.-Haz-conclusiones-y-conjeturas.-5.0.11\"><span class=\"toc-item-num\">5.0.11&nbsp;&nbsp;</span>10. Encuentra la significancia estadística de la diferencia en el tamaño promedio de pedido entre los grupos utilizando los datos en bruto. Haz conclusiones y conjeturas.</a></span><ul class=\"toc-item\"><li><span><a href=\"#Conclusion-General\" data-toc-modified-id=\"Conclusion-General-5.0.11.1\"><span class=\"toc-item-num\">5.0.11.1&nbsp;&nbsp;</span><strong>Conclusion General</strong></a></span></li></ul></li><li><span><a href=\"#11.-Encuentra-la-significancia-estadística-de-la-diferencia-en-la-conversión-entre-los-grupos-utilizando-los-datos-filtrados.-Haz-conclusiones-y-conjeturas.\" data-toc-modified-id=\"11.-Encuentra-la-significancia-estadística-de-la-diferencia-en-la-conversión-entre-los-grupos-utilizando-los-datos-filtrados.-Haz-conclusiones-y-conjeturas.-5.0.12\"><span class=\"toc-item-num\">5.0.12&nbsp;&nbsp;</span>11. Encuentra la significancia estadística de la diferencia en la conversión entre los grupos utilizando los datos filtrados. Haz conclusiones y conjeturas.</a></span><ul class=\"toc-item\"><li><span><a href=\"#Conclusion-General\" data-toc-modified-id=\"Conclusion-General-5.0.12.1\"><span class=\"toc-item-num\">5.0.12.1&nbsp;&nbsp;</span><strong>Conclusion General</strong></a></span></li></ul></li><li><span><a href=\"#12.-Encuentra-la-significancia-estadística-de-la-diferencia-en-el-tamaño-promedio-de-pedido-entre-los-grupos-utilizando-los-datos-filtrados.-Haz-conclusiones-y-conjeturas.\" data-toc-modified-id=\"12.-Encuentra-la-significancia-estadística-de-la-diferencia-en-el-tamaño-promedio-de-pedido-entre-los-grupos-utilizando-los-datos-filtrados.-Haz-conclusiones-y-conjeturas.-5.0.13\"><span class=\"toc-item-num\">5.0.13&nbsp;&nbsp;</span>12. Encuentra la significancia estadística de la diferencia en el tamaño promedio de pedido entre los grupos utilizando los datos filtrados. Haz conclusiones y conjeturas.</a></span><ul class=\"toc-item\"><li><span><a href=\"#Conclusion-General\" data-toc-modified-id=\"Conclusion-General-5.0.13.1\"><span class=\"toc-item-num\">5.0.13.1&nbsp;&nbsp;</span><strong>Conclusion General</strong></a></span></li></ul></li><li><span><a href=\"#13.-Toma-una-decisión-basada-en-los-resultados-de-la-prueba\" data-toc-modified-id=\"13.-Toma-una-decisión-basada-en-los-resultados-de-la-prueba-5.0.14\"><span class=\"toc-item-num\">5.0.14&nbsp;&nbsp;</span>13. Toma una decisión basada en los resultados de la prueba</a></span></li></ul></li></ul></li></ul></div>"
   ]
  },
  {
   "cell_type": "markdown",
   "id": "1bde89bc-2ebd-4b84-8d5b-3bc528d403f8",
   "metadata": {
    "tags": [],
    "toc-hr-collapsed": true
   },
   "source": [
    "## 01. Iniciacion ## "
   ]
  },
  {
   "cell_type": "code",
   "execution_count": 1,
   "id": "bfc67c58-63de-42a8-810d-9626edec6cc9",
   "metadata": {},
   "outputs": [],
   "source": [
    "#Cargaremos las librerias \n",
    "\n",
    "import pandas as pd\n",
    "import matplotlib.pyplot as plt #Creacion de graficos\n",
    "import seaborn as sns  # Visualizacion de datos\n",
    "import numpy as np  # Calculo matematico y estadistico \n",
    "from scipy.stats import ttest_ind  #  realiza una prueba t de dos muestras independientes. \n",
    "from scipy import stats \n",
    "from math import ceil as math\n",
    "from scipy import stats as st"
   ]
  },
  {
   "cell_type": "code",
   "execution_count": 2,
   "id": "ac3839bf-74c1-44da-81b2-931102f0143b",
   "metadata": {},
   "outputs": [],
   "source": [
    "#Carga de datos\n",
    "\n",
    "try: #anaconda\n",
    "    hypotheses = pd.read_csv('hypotheses_us.csv', sep=';')\n",
    "\n",
    "    orders = pd.read_csv('orders_us.csv', sep=',', parse_dates=['date'])\n",
    "    \n",
    "    visits = pd.read_csv('visits_us.csv',parse_dates=['date'] )\n",
    "    \n",
    "except: #jupyter\n",
    "    hypotheses = pd.read_csv('/datasets/hypotheses_us.csv', sep=';' )\n",
    "    \n",
    "    orders = pd.read_csv('/datasets/orders_us.csv', sep=',',parse_dates=['date'])\n",
    "    \n",
    "    visits = pd.read_csv('/datasets/visits_us.csv', parse_dates=['date'],  )"
   ]
  },
  {
   "cell_type": "code",
   "execution_count": 3,
   "id": "c5ea2860-f989-4acc-81b2-de8e054e8c70",
   "metadata": {},
   "outputs": [],
   "source": [
    "# Carga de funciones establecidas\n",
    "\n",
    "def data_info(df):\n",
    "    print('Analisis de datos de la tabla')\n",
    "    print('Filas y columnas: \\n{}'.format(df.shape))\n",
    "    print('*' * 50)\n",
    "    print('Informacion general:')\n",
    "    print(df.info())\n",
    "    print('*' * 50)\n",
    "    print('Primeras cinco columnas: \\n{}'.format(df.head()))\n",
    "    print('*' * 50)\n",
    "    print('Detalles estadisticos: \\n{}'.format(df.describe()))\n",
    "    print('*' * 50)\n",
    "    print('Cuantos duplicados hay?\\n')\n",
    "    print('Hay {} datos duplicados.'.format(df.duplicated().sum()))\n",
    "    print('*' * 50)\n",
    "    print('Valores ausentes ?')\n",
    "    print(df.isna().sum(),'\\n')\n",
    "    print('Porcentaje de valores ausentes \\n')\n",
    "    print(df.isna().mean().reset_index())\n",
    "    print('*' * 50)\n",
    "    print('Distribucion de valores ausentes \\n')\n",
    "    print((df.isna()\n",
    " .sum()\n",
    " .sort_values(ascending=False)\n",
    " .reset_index()\n",
    " .rename(columns = {'index' : 'Variables', 0: 'Missing'})\n",
    ").T)"
   ]
  },
  {
   "cell_type": "code",
   "execution_count": 4,
   "id": "0df3c31c-75de-4e11-85d6-70ffb19ed944",
   "metadata": {},
   "outputs": [],
   "source": [
    "#Funcion que separa la fecha por dia mes y año\n",
    "\n",
    "def get_date(df): \n",
    "    columns = df.columns.tolist()\n",
    "    idx = [columns.index(x) for x in columns if 'date' in x][0]\n",
    "    \n",
    "    df[columns[idx]] = pd.to_datetime(df[columns[idx]])\n",
    "    df['month'] = df[columns[idx]].dt.month_name()\n",
    "    df['year'] = df[columns[idx]].dt.year"
   ]
  },
  {
   "cell_type": "code",
   "execution_count": 5,
   "id": "b3b17163-e4a7-4748-964c-db7b5c1bc9a0",
   "metadata": {},
   "outputs": [],
   "source": [
    "# Funcion para convertir todas las columnas y celdas a minuscula \n",
    "\n",
    "\n",
    "def convertir_a_minusculas(df):\n",
    "    \"\"\"\n",
    "    Convierte todas las columnas de un DataFrame a minúsculas utilizando applymap y str.lower().\n",
    "    También modifica los nombres de las columnas a minúsculas.\n",
    "    \n",
    "    Args:\n",
    "    df (pandas.DataFrame): El DataFrame a convertir.\n",
    "    \n",
    "    Returns:\n",
    "    pandas.DataFrame: El DataFrame con todas las columnas en minúsculas y con nombres de columna en minúsculas.\n",
    "    \"\"\"\n",
    "    df = df.applymap(lambda s: s.lower() if type(s) == str else s)\n",
    "    df.columns = df.columns.str.lower()\n",
    "    return df"
   ]
  },
  {
   "cell_type": "markdown",
   "id": "9cd9af81-6fb9-477a-a98b-e60988ece951",
   "metadata": {
    "tags": []
   },
   "source": [
    "## 0.2 Exploracion de datos "
   ]
  },
  {
   "cell_type": "markdown",
   "id": "7a734119-b74b-433d-8936-bef4f6a6e6c0",
   "metadata": {
    "tags": []
   },
   "source": [
    "### `hypothesis`"
   ]
  },
  {
   "cell_type": "code",
   "execution_count": 6,
   "id": "1b4a2846-d02b-41d8-beef-31af19028cdd",
   "metadata": {},
   "outputs": [
    {
     "name": "stdout",
     "output_type": "stream",
     "text": [
      "Analisis de datos de la tabla\n",
      "Filas y columnas: \n",
      "(9, 5)\n",
      "**************************************************\n",
      "Informacion general:\n",
      "<class 'pandas.core.frame.DataFrame'>\n",
      "RangeIndex: 9 entries, 0 to 8\n",
      "Data columns (total 5 columns):\n",
      " #   Column      Non-Null Count  Dtype \n",
      "---  ------      --------------  ----- \n",
      " 0   Hypothesis  9 non-null      object\n",
      " 1   Reach       9 non-null      int64 \n",
      " 2   Impact      9 non-null      int64 \n",
      " 3   Confidence  9 non-null      int64 \n",
      " 4   Effort      9 non-null      int64 \n",
      "dtypes: int64(4), object(1)\n",
      "memory usage: 488.0+ bytes\n",
      "None\n",
      "**************************************************\n",
      "Primeras cinco columnas: \n",
      "                                          Hypothesis  Reach  Impact  \\\n",
      "0  Add two new channels for attracting traffic. T...      3      10   \n",
      "1  Launch your own delivery service. This will sh...      2       5   \n",
      "2  Add product recommendation blocks to the store...      8       3   \n",
      "3  Change the category structure. This will incre...      8       3   \n",
      "4  Change the background color on the main page. ...      3       1   \n",
      "\n",
      "   Confidence  Effort  \n",
      "0           8       6  \n",
      "1           4      10  \n",
      "2           7       3  \n",
      "3           3       8  \n",
      "4           1       1  \n",
      "**************************************************\n",
      "Detalles estadisticos: \n",
      "           Reach     Impact  Confidence     Effort\n",
      "count   9.000000   9.000000    9.000000   9.000000\n",
      "mean    4.777778   4.777778    5.555556   4.888889\n",
      "std     3.153481   3.192874    3.045944   2.803767\n",
      "min     1.000000   1.000000    1.000000   1.000000\n",
      "25%     3.000000   3.000000    3.000000   3.000000\n",
      "50%     3.000000   3.000000    7.000000   5.000000\n",
      "75%     8.000000   7.000000    8.000000   6.000000\n",
      "max    10.000000  10.000000    9.000000  10.000000\n",
      "**************************************************\n",
      "Cuantos duplicados hay?\n",
      "\n",
      "Hay 0 datos duplicados.\n",
      "**************************************************\n",
      "Valores ausentes ?\n",
      "Hypothesis    0\n",
      "Reach         0\n",
      "Impact        0\n",
      "Confidence    0\n",
      "Effort        0\n",
      "dtype: int64 \n",
      "\n",
      "Porcentaje de valores ausentes \n",
      "\n",
      "        index    0\n",
      "0  Hypothesis  0.0\n",
      "1       Reach  0.0\n",
      "2      Impact  0.0\n",
      "3  Confidence  0.0\n",
      "4      Effort  0.0\n",
      "**************************************************\n",
      "Distribucion de valores ausentes \n",
      "\n",
      "                    0      1       2           3       4\n",
      "Variables  Hypothesis  Reach  Impact  Confidence  Effort\n",
      "Missing             0      0       0           0       0\n"
     ]
    }
   ],
   "source": [
    "data_info(hypotheses)"
   ]
  },
  {
   "cell_type": "code",
   "execution_count": 7,
   "id": "13e826bc-66a9-4721-8997-a26dd34d3741",
   "metadata": {},
   "outputs": [
    {
     "data": {
      "text/html": [
       "<div>\n",
       "<style scoped>\n",
       "    .dataframe tbody tr th:only-of-type {\n",
       "        vertical-align: middle;\n",
       "    }\n",
       "\n",
       "    .dataframe tbody tr th {\n",
       "        vertical-align: top;\n",
       "    }\n",
       "\n",
       "    .dataframe thead th {\n",
       "        text-align: right;\n",
       "    }\n",
       "</style>\n",
       "<table border=\"1\" class=\"dataframe\">\n",
       "  <thead>\n",
       "    <tr style=\"text-align: right;\">\n",
       "      <th></th>\n",
       "      <th>Hypothesis</th>\n",
       "      <th>Reach</th>\n",
       "      <th>Impact</th>\n",
       "      <th>Confidence</th>\n",
       "      <th>Effort</th>\n",
       "    </tr>\n",
       "  </thead>\n",
       "  <tbody>\n",
       "    <tr>\n",
       "      <th>0</th>\n",
       "      <td>Add two new channels for attracting traffic. T...</td>\n",
       "      <td>3</td>\n",
       "      <td>10</td>\n",
       "      <td>8</td>\n",
       "      <td>6</td>\n",
       "    </tr>\n",
       "    <tr>\n",
       "      <th>1</th>\n",
       "      <td>Launch your own delivery service. This will sh...</td>\n",
       "      <td>2</td>\n",
       "      <td>5</td>\n",
       "      <td>4</td>\n",
       "      <td>10</td>\n",
       "    </tr>\n",
       "    <tr>\n",
       "      <th>2</th>\n",
       "      <td>Add product recommendation blocks to the store...</td>\n",
       "      <td>8</td>\n",
       "      <td>3</td>\n",
       "      <td>7</td>\n",
       "      <td>3</td>\n",
       "    </tr>\n",
       "    <tr>\n",
       "      <th>3</th>\n",
       "      <td>Change the category structure. This will incre...</td>\n",
       "      <td>8</td>\n",
       "      <td>3</td>\n",
       "      <td>3</td>\n",
       "      <td>8</td>\n",
       "    </tr>\n",
       "    <tr>\n",
       "      <th>4</th>\n",
       "      <td>Change the background color on the main page. ...</td>\n",
       "      <td>3</td>\n",
       "      <td>1</td>\n",
       "      <td>1</td>\n",
       "      <td>1</td>\n",
       "    </tr>\n",
       "    <tr>\n",
       "      <th>5</th>\n",
       "      <td>Add a customer review page. This will increase...</td>\n",
       "      <td>3</td>\n",
       "      <td>2</td>\n",
       "      <td>2</td>\n",
       "      <td>3</td>\n",
       "    </tr>\n",
       "    <tr>\n",
       "      <th>6</th>\n",
       "      <td>Show banners with current offers and sales on ...</td>\n",
       "      <td>5</td>\n",
       "      <td>3</td>\n",
       "      <td>8</td>\n",
       "      <td>3</td>\n",
       "    </tr>\n",
       "    <tr>\n",
       "      <th>7</th>\n",
       "      <td>Add a subscription form to all the main pages....</td>\n",
       "      <td>10</td>\n",
       "      <td>7</td>\n",
       "      <td>8</td>\n",
       "      <td>5</td>\n",
       "    </tr>\n",
       "    <tr>\n",
       "      <th>8</th>\n",
       "      <td>Launch a promotion that gives users discounts ...</td>\n",
       "      <td>1</td>\n",
       "      <td>9</td>\n",
       "      <td>9</td>\n",
       "      <td>5</td>\n",
       "    </tr>\n",
       "  </tbody>\n",
       "</table>\n",
       "</div>"
      ],
      "text/plain": [
       "                                          Hypothesis  Reach  Impact  \\\n",
       "0  Add two new channels for attracting traffic. T...      3      10   \n",
       "1  Launch your own delivery service. This will sh...      2       5   \n",
       "2  Add product recommendation blocks to the store...      8       3   \n",
       "3  Change the category structure. This will incre...      8       3   \n",
       "4  Change the background color on the main page. ...      3       1   \n",
       "5  Add a customer review page. This will increase...      3       2   \n",
       "6  Show banners with current offers and sales on ...      5       3   \n",
       "7  Add a subscription form to all the main pages....     10       7   \n",
       "8  Launch a promotion that gives users discounts ...      1       9   \n",
       "\n",
       "   Confidence  Effort  \n",
       "0           8       6  \n",
       "1           4      10  \n",
       "2           7       3  \n",
       "3           3       8  \n",
       "4           1       1  \n",
       "5           2       3  \n",
       "6           8       3  \n",
       "7           8       5  \n",
       "8           9       5  "
      ]
     },
     "execution_count": 7,
     "metadata": {},
     "output_type": "execute_result"
    }
   ],
   "source": [
    "hypotheses.head(100)"
   ]
  },
  {
   "cell_type": "code",
   "execution_count": 8,
   "id": "5b32fcce-7edf-4328-82ba-c899ea3360b9",
   "metadata": {},
   "outputs": [],
   "source": [
    "# Con una funcion convertimos las columnas a minuscula \n",
    "\n",
    "hypotheses = convertir_a_minusculas(hypotheses)"
   ]
  },
  {
   "cell_type": "markdown",
   "id": "e9494cbc-6718-4013-8f01-622d6a534919",
   "metadata": {},
   "source": [
    "**Conclusion General**\n",
    "\n",
    "De los datos podemos concluir lo siguiente:\n",
    "- No hay valores duplicados\n",
    "- No hay valores ausentes\n",
    "- Los nombres de las columnas estan correctas pero se modificaron a minuscula"
   ]
  },
  {
   "cell_type": "markdown",
   "id": "11aa0497-01a1-4a29-bcc4-de46ffabce1d",
   "metadata": {},
   "source": [
    "### `orders`"
   ]
  },
  {
   "cell_type": "code",
   "execution_count": 9,
   "id": "f714b04f-0f2d-4a44-b703-a49832b1d8c9",
   "metadata": {},
   "outputs": [
    {
     "name": "stdout",
     "output_type": "stream",
     "text": [
      "Analisis de datos de la tabla\n",
      "Filas y columnas: \n",
      "(1197, 5)\n",
      "**************************************************\n",
      "Informacion general:\n",
      "<class 'pandas.core.frame.DataFrame'>\n",
      "RangeIndex: 1197 entries, 0 to 1196\n",
      "Data columns (total 5 columns):\n",
      " #   Column         Non-Null Count  Dtype         \n",
      "---  ------         --------------  -----         \n",
      " 0   transactionId  1197 non-null   int64         \n",
      " 1   visitorId      1197 non-null   int64         \n",
      " 2   date           1197 non-null   datetime64[ns]\n",
      " 3   revenue        1197 non-null   float64       \n",
      " 4   group          1197 non-null   object        \n",
      "dtypes: datetime64[ns](1), float64(1), int64(2), object(1)\n",
      "memory usage: 46.9+ KB\n",
      "None\n",
      "**************************************************\n",
      "Primeras cinco columnas: \n",
      "   transactionId   visitorId       date  revenue group\n",
      "0     3667963787  3312258926 2019-08-15     30.4     B\n",
      "1     2804400009  3642806036 2019-08-15     15.2     B\n",
      "2     2961555356  4069496402 2019-08-15     10.2     A\n",
      "3     3797467345  1196621759 2019-08-15    155.1     B\n",
      "4     2282983706  2322279887 2019-08-15     40.5     B\n",
      "**************************************************\n",
      "Detalles estadisticos: \n",
      "       transactionId     visitorId       revenue\n",
      "count   1.197000e+03  1.197000e+03   1197.000000\n",
      "mean    2.155621e+09  2.165960e+09    131.491646\n",
      "std     1.229085e+09  1.236014e+09    603.004729\n",
      "min     1.062393e+06  5.114589e+06      5.000000\n",
      "25%     1.166776e+09  1.111826e+09     20.800000\n",
      "50%     2.145194e+09  2.217985e+09     50.200000\n",
      "75%     3.237740e+09  3.177606e+09    130.400000\n",
      "max     4.293856e+09  4.283872e+09  19920.400000\n",
      "**************************************************\n",
      "Cuantos duplicados hay?\n",
      "\n",
      "Hay 0 datos duplicados.\n",
      "**************************************************\n",
      "Valores ausentes ?\n",
      "transactionId    0\n",
      "visitorId        0\n",
      "date             0\n",
      "revenue          0\n",
      "group            0\n",
      "dtype: int64 \n",
      "\n",
      "Porcentaje de valores ausentes \n",
      "\n",
      "           index    0\n",
      "0  transactionId  0.0\n",
      "1      visitorId  0.0\n",
      "2           date  0.0\n",
      "3        revenue  0.0\n",
      "4          group  0.0\n",
      "**************************************************\n",
      "Distribucion de valores ausentes \n",
      "\n",
      "                       0          1     2        3      4\n",
      "Variables  transactionId  visitorId  date  revenue  group\n",
      "Missing                0          0     0        0      0\n"
     ]
    }
   ],
   "source": [
    "data_info(orders)"
   ]
  },
  {
   "cell_type": "code",
   "execution_count": 10,
   "id": "e9945cc8-a589-4902-b746-00363aa1b45b",
   "metadata": {},
   "outputs": [
    {
     "data": {
      "text/html": [
       "<div>\n",
       "<style scoped>\n",
       "    .dataframe tbody tr th:only-of-type {\n",
       "        vertical-align: middle;\n",
       "    }\n",
       "\n",
       "    .dataframe tbody tr th {\n",
       "        vertical-align: top;\n",
       "    }\n",
       "\n",
       "    .dataframe thead th {\n",
       "        text-align: right;\n",
       "    }\n",
       "</style>\n",
       "<table border=\"1\" class=\"dataframe\">\n",
       "  <thead>\n",
       "    <tr style=\"text-align: right;\">\n",
       "      <th></th>\n",
       "      <th>transactionId</th>\n",
       "      <th>visitorId</th>\n",
       "      <th>date</th>\n",
       "      <th>revenue</th>\n",
       "      <th>group</th>\n",
       "    </tr>\n",
       "  </thead>\n",
       "  <tbody>\n",
       "    <tr>\n",
       "      <th>0</th>\n",
       "      <td>3667963787</td>\n",
       "      <td>3312258926</td>\n",
       "      <td>2019-08-15</td>\n",
       "      <td>30.4</td>\n",
       "      <td>B</td>\n",
       "    </tr>\n",
       "    <tr>\n",
       "      <th>1</th>\n",
       "      <td>2804400009</td>\n",
       "      <td>3642806036</td>\n",
       "      <td>2019-08-15</td>\n",
       "      <td>15.2</td>\n",
       "      <td>B</td>\n",
       "    </tr>\n",
       "    <tr>\n",
       "      <th>2</th>\n",
       "      <td>2961555356</td>\n",
       "      <td>4069496402</td>\n",
       "      <td>2019-08-15</td>\n",
       "      <td>10.2</td>\n",
       "      <td>A</td>\n",
       "    </tr>\n",
       "    <tr>\n",
       "      <th>3</th>\n",
       "      <td>3797467345</td>\n",
       "      <td>1196621759</td>\n",
       "      <td>2019-08-15</td>\n",
       "      <td>155.1</td>\n",
       "      <td>B</td>\n",
       "    </tr>\n",
       "    <tr>\n",
       "      <th>4</th>\n",
       "      <td>2282983706</td>\n",
       "      <td>2322279887</td>\n",
       "      <td>2019-08-15</td>\n",
       "      <td>40.5</td>\n",
       "      <td>B</td>\n",
       "    </tr>\n",
       "  </tbody>\n",
       "</table>\n",
       "</div>"
      ],
      "text/plain": [
       "   transactionId   visitorId       date  revenue group\n",
       "0     3667963787  3312258926 2019-08-15     30.4     B\n",
       "1     2804400009  3642806036 2019-08-15     15.2     B\n",
       "2     2961555356  4069496402 2019-08-15     10.2     A\n",
       "3     3797467345  1196621759 2019-08-15    155.1     B\n",
       "4     2282983706  2322279887 2019-08-15     40.5     B"
      ]
     },
     "execution_count": 10,
     "metadata": {},
     "output_type": "execute_result"
    }
   ],
   "source": [
    "orders.head()"
   ]
  },
  {
   "cell_type": "markdown",
   "id": "ae2823c1-ef5d-41b3-b6f0-bb229c1dad55",
   "metadata": {},
   "source": [
    "**Conclusion General**\n",
    "\n",
    "De los datos podemos concluir lo siguiente:\n",
    "- No hay valores duplicados\n",
    "- Los nombres de las columnas estan correctas\n",
    "- Se modifico el formato de la columna  dt por \"datetime\""
   ]
  },
  {
   "cell_type": "markdown",
   "id": "2a9055f8-bc0b-4c8a-a070-1c2539e49045",
   "metadata": {},
   "source": [
    "### `visits`"
   ]
  },
  {
   "cell_type": "code",
   "execution_count": 11,
   "id": "7288b450-4177-4959-9c46-760e87d77e0a",
   "metadata": {},
   "outputs": [
    {
     "name": "stdout",
     "output_type": "stream",
     "text": [
      "Analisis de datos de la tabla\n",
      "Filas y columnas: \n",
      "(62, 3)\n",
      "**************************************************\n",
      "Informacion general:\n",
      "<class 'pandas.core.frame.DataFrame'>\n",
      "RangeIndex: 62 entries, 0 to 61\n",
      "Data columns (total 3 columns):\n",
      " #   Column  Non-Null Count  Dtype         \n",
      "---  ------  --------------  -----         \n",
      " 0   date    62 non-null     datetime64[ns]\n",
      " 1   group   62 non-null     object        \n",
      " 2   visits  62 non-null     int64         \n",
      "dtypes: datetime64[ns](1), int64(1), object(1)\n",
      "memory usage: 1.6+ KB\n",
      "None\n",
      "**************************************************\n",
      "Primeras cinco columnas: \n",
      "        date group  visits\n",
      "0 2019-08-01     A     719\n",
      "1 2019-08-02     A     619\n",
      "2 2019-08-03     A     507\n",
      "3 2019-08-04     A     717\n",
      "4 2019-08-05     A     756\n",
      "**************************************************\n",
      "Detalles estadisticos: \n",
      "           visits\n",
      "count   62.000000\n",
      "mean   607.290323\n",
      "std    114.400560\n",
      "min    361.000000\n",
      "25%    534.000000\n",
      "50%    624.500000\n",
      "75%    710.500000\n",
      "max    770.000000\n",
      "**************************************************\n",
      "Cuantos duplicados hay?\n",
      "\n",
      "Hay 0 datos duplicados.\n",
      "**************************************************\n",
      "Valores ausentes ?\n",
      "date      0\n",
      "group     0\n",
      "visits    0\n",
      "dtype: int64 \n",
      "\n",
      "Porcentaje de valores ausentes \n",
      "\n",
      "    index    0\n",
      "0    date  0.0\n",
      "1   group  0.0\n",
      "2  visits  0.0\n",
      "**************************************************\n",
      "Distribucion de valores ausentes \n",
      "\n",
      "              0      1       2\n",
      "Variables  date  group  visits\n",
      "Missing       0      0       0\n"
     ]
    }
   ],
   "source": [
    "data_info(visits)"
   ]
  },
  {
   "cell_type": "code",
   "execution_count": 12,
   "id": "04ff1bf4-a049-49f2-bf34-27b9a21bcf67",
   "metadata": {},
   "outputs": [
    {
     "data": {
      "text/html": [
       "<div>\n",
       "<style scoped>\n",
       "    .dataframe tbody tr th:only-of-type {\n",
       "        vertical-align: middle;\n",
       "    }\n",
       "\n",
       "    .dataframe tbody tr th {\n",
       "        vertical-align: top;\n",
       "    }\n",
       "\n",
       "    .dataframe thead th {\n",
       "        text-align: right;\n",
       "    }\n",
       "</style>\n",
       "<table border=\"1\" class=\"dataframe\">\n",
       "  <thead>\n",
       "    <tr style=\"text-align: right;\">\n",
       "      <th></th>\n",
       "      <th>date</th>\n",
       "      <th>group</th>\n",
       "      <th>visits</th>\n",
       "    </tr>\n",
       "  </thead>\n",
       "  <tbody>\n",
       "    <tr>\n",
       "      <th>0</th>\n",
       "      <td>2019-08-01</td>\n",
       "      <td>A</td>\n",
       "      <td>719</td>\n",
       "    </tr>\n",
       "    <tr>\n",
       "      <th>1</th>\n",
       "      <td>2019-08-02</td>\n",
       "      <td>A</td>\n",
       "      <td>619</td>\n",
       "    </tr>\n",
       "    <tr>\n",
       "      <th>2</th>\n",
       "      <td>2019-08-03</td>\n",
       "      <td>A</td>\n",
       "      <td>507</td>\n",
       "    </tr>\n",
       "    <tr>\n",
       "      <th>3</th>\n",
       "      <td>2019-08-04</td>\n",
       "      <td>A</td>\n",
       "      <td>717</td>\n",
       "    </tr>\n",
       "    <tr>\n",
       "      <th>4</th>\n",
       "      <td>2019-08-05</td>\n",
       "      <td>A</td>\n",
       "      <td>756</td>\n",
       "    </tr>\n",
       "  </tbody>\n",
       "</table>\n",
       "</div>"
      ],
      "text/plain": [
       "        date group  visits\n",
       "0 2019-08-01     A     719\n",
       "1 2019-08-02     A     619\n",
       "2 2019-08-03     A     507\n",
       "3 2019-08-04     A     717\n",
       "4 2019-08-05     A     756"
      ]
     },
     "execution_count": 12,
     "metadata": {},
     "output_type": "execute_result"
    }
   ],
   "source": [
    "visits.head()"
   ]
  },
  {
   "cell_type": "markdown",
   "id": "ad7c4f72-8ed4-4cc3-9da5-74605a633d84",
   "metadata": {},
   "source": [
    "**Conclusion General**\n",
    "\n",
    "De los datos podemos concluir lo siguiente:\n",
    "- No hay valores duplicados\n",
    "- No hay valores ausentes\n",
    "- Los nombres de las columnas estan correctas\n",
    "-  Se modifico el formato de la columna  dt por \"datetime\""
   ]
  },
  {
   "cell_type": "markdown",
   "id": "23473a94-3b3c-4b27-82c2-6361002b279b",
   "metadata": {
    "tags": []
   },
   "source": [
    "## 0.3 Preparacion de los datos"
   ]
  },
  {
   "cell_type": "markdown",
   "id": "32208840-17e0-46bc-8729-3a2abfa5d13c",
   "metadata": {},
   "source": [
    "Vamos a revisar si en la base existen usuarios que se encuetran en ambos grupos"
   ]
  },
  {
   "cell_type": "code",
   "execution_count": 13,
   "id": "d993d2bc-f047-4098-ab7a-82a1b42ccad1",
   "metadata": {
    "scrolled": true
   },
   "outputs": [
    {
     "name": "stdout",
     "output_type": "stream",
     "text": [
      "      transactionId   visitorId       date  revenue group\n",
      "2        2961555356  4069496402 2019-08-15     10.2     A\n",
      "20       2904772834   963407295 2019-08-15      5.6     B\n",
      "23       4252514150   351125977 2019-08-15    235.6     B\n",
      "24       1162046357  3234906277 2019-08-15    120.2     B\n",
      "26       2223239646   199603092 2019-08-15     55.7     A\n",
      "...             ...         ...        ...      ...   ...\n",
      "1182     2682156369  1668030113 2019-08-14     20.8     B\n",
      "1183     1458356232   963407295 2019-08-14     80.0     A\n",
      "1184     1329499668  2949041841 2019-08-14    160.7     B\n",
      "1189     4082620617   393266494 2019-08-14    490.4     B\n",
      "1195     1947021204  1614305549 2019-08-14      5.5     A\n",
      "\n",
      "[181 rows x 5 columns]\n"
     ]
    }
   ],
   "source": [
    "# Usuarios que se encuentran en ambos grupos \n",
    "\n",
    "visitors_in_2groups = orders[orders.groupby('visitorId' )['group'].transform('nunique') > 1]\n",
    "\n",
    "print(visitors_in_2groups)"
   ]
  },
  {
   "cell_type": "code",
   "execution_count": 14,
   "id": "cd54f683",
   "metadata": {},
   "outputs": [
    {
     "name": "stdout",
     "output_type": "stream",
     "text": [
      "Cantidad de usuarios únicos que se encuentran en ambos grupos: 58\n"
     ]
    }
   ],
   "source": [
    "unique_visitors_in_2groups = visitors_in_2groups['visitorId'].nunique()\n",
    "\n",
    "print(\"Cantidad de usuarios únicos que se encuentran en ambos grupos:\", unique_visitors_in_2groups)\n",
    "\n"
   ]
  },
  {
   "cell_type": "code",
   "execution_count": 15,
   "id": "af64519a-afd9-42d2-b94a-f8ce8911897e",
   "metadata": {},
   "outputs": [],
   "source": [
    "\n",
    "# Crear el nuevo DataFrame orders_new excluyendo los usuarios en visitor_in_2group\n",
    "orders = orders[~orders[\"visitorId\"].isin(visitors_in_2groups[\"visitorId\"])].copy()\n",
    "\n",
    "\n"
   ]
  },
  {
   "cell_type": "markdown",
   "id": "a0846fc7-c5f3-4ea3-8326-bca9048c9f0f",
   "metadata": {},
   "source": [
    "##### **Conclusion General**\n",
    "\n",
    "181 visitantes pertenecen tanto al grupo A como al grupo B. Se debe realizar una prueba A/B entre dos grupos independientes. Por lo tanto, filtramos a los visitantes que están en ambos grupos. De ellos 58 usuarios son unicos. "
   ]
  },
  {
   "cell_type": "markdown",
   "id": "e3b21261-bdb3-478f-a98e-8b5d37733cdc",
   "metadata": {
    "tags": []
   },
   "source": [
    "## 04.  Priorizar hipótesis"
   ]
  },
  {
   "cell_type": "markdown",
   "id": "4f58e17d-c4d3-4c67-b993-4530eb413726",
   "metadata": {},
   "source": [
    " Con el metodo famework vamos a analizar las nueve hipótesis sobre cómo aumentar los ingresos de una tienda en línea con Reach, Impact, Confidence y Effort especificados para cada una.\n",
    " \n",
    " la diferencia clave entre RICE e ICE radica en los criterios utilizados. RICE utiliza el alcance como un criterio adicional para evaluar la cantidad de usuarios afectados, mientras que ICE se centra en la facilidad de implementación del proyecto. Ambos métodos son enfoques útiles para la priorización y pueden adaptarse según las necesidades y preferencias del equipo o la organización."
   ]
  },
  {
   "cell_type": "markdown",
   "id": "853dae37-0712-46bf-b63f-b3baa58637c2",
   "metadata": {},
   "source": [
    "### Aplicar el framework ICE para priorizar hipótesis."
   ]
  },
  {
   "cell_type": "code",
   "execution_count": 16,
   "id": "92806d6b-03bd-4ebb-a8ed-54e4aa566ba6",
   "metadata": {},
   "outputs": [
    {
     "data": {
      "text/html": [
       "<div>\n",
       "<style scoped>\n",
       "    .dataframe tbody tr th:only-of-type {\n",
       "        vertical-align: middle;\n",
       "    }\n",
       "\n",
       "    .dataframe tbody tr th {\n",
       "        vertical-align: top;\n",
       "    }\n",
       "\n",
       "    .dataframe thead th {\n",
       "        text-align: right;\n",
       "    }\n",
       "</style>\n",
       "<table border=\"1\" class=\"dataframe\">\n",
       "  <thead>\n",
       "    <tr style=\"text-align: right;\">\n",
       "      <th></th>\n",
       "      <th>hypothesis</th>\n",
       "      <th>ICE</th>\n",
       "    </tr>\n",
       "  </thead>\n",
       "  <tbody>\n",
       "    <tr>\n",
       "      <th>8</th>\n",
       "      <td>launch a promotion that gives users discounts ...</td>\n",
       "      <td>16.200000</td>\n",
       "    </tr>\n",
       "    <tr>\n",
       "      <th>0</th>\n",
       "      <td>add two new channels for attracting traffic. t...</td>\n",
       "      <td>13.333333</td>\n",
       "    </tr>\n",
       "    <tr>\n",
       "      <th>7</th>\n",
       "      <td>add a subscription form to all the main pages....</td>\n",
       "      <td>11.200000</td>\n",
       "    </tr>\n",
       "    <tr>\n",
       "      <th>6</th>\n",
       "      <td>show banners with current offers and sales on ...</td>\n",
       "      <td>8.000000</td>\n",
       "    </tr>\n",
       "    <tr>\n",
       "      <th>2</th>\n",
       "      <td>add product recommendation blocks to the store...</td>\n",
       "      <td>7.000000</td>\n",
       "    </tr>\n",
       "    <tr>\n",
       "      <th>1</th>\n",
       "      <td>launch your own delivery service. this will sh...</td>\n",
       "      <td>2.000000</td>\n",
       "    </tr>\n",
       "    <tr>\n",
       "      <th>5</th>\n",
       "      <td>add a customer review page. this will increase...</td>\n",
       "      <td>1.333333</td>\n",
       "    </tr>\n",
       "    <tr>\n",
       "      <th>3</th>\n",
       "      <td>change the category structure. this will incre...</td>\n",
       "      <td>1.125000</td>\n",
       "    </tr>\n",
       "    <tr>\n",
       "      <th>4</th>\n",
       "      <td>change the background color on the main page. ...</td>\n",
       "      <td>1.000000</td>\n",
       "    </tr>\n",
       "  </tbody>\n",
       "</table>\n",
       "</div>"
      ],
      "text/plain": [
       "                                          hypothesis        ICE\n",
       "8  launch a promotion that gives users discounts ...  16.200000\n",
       "0  add two new channels for attracting traffic. t...  13.333333\n",
       "7  add a subscription form to all the main pages....  11.200000\n",
       "6  show banners with current offers and sales on ...   8.000000\n",
       "2  add product recommendation blocks to the store...   7.000000\n",
       "1  launch your own delivery service. this will sh...   2.000000\n",
       "5  add a customer review page. this will increase...   1.333333\n",
       "3  change the category structure. this will incre...   1.125000\n",
       "4  change the background color on the main page. ...   1.000000"
      ]
     },
     "metadata": {},
     "output_type": "display_data"
    }
   ],
   "source": [
    "# IMPACTO * Confianza / Esfuerzo`\n",
    "\n",
    "hypotheses['ICE'] = (hypotheses['impact']*hypotheses['confidence'])/hypotheses['effort']\n",
    "display(hypotheses[['hypothesis','ICE']].sort_values(by='ICE', ascending=False))\n",
    "   "
   ]
  },
  {
   "cell_type": "markdown",
   "id": "9b68d333-2935-43ec-8198-2f90816a64db",
   "metadata": {},
   "source": [
    "Las hipotesis mas prometodoras son la 8 , 0 y 7 y la menor evaluada es la 4"
   ]
  },
  {
   "cell_type": "markdown",
   "id": "619a50a6-ca21-4231-9260-7c377d6cf92b",
   "metadata": {},
   "source": [
    "### Aplicar el framework RICE para priorizar hipótesis"
   ]
  },
  {
   "cell_type": "code",
   "execution_count": 17,
   "id": "f61ca53f-787f-4da7-9722-cae54e89abc6",
   "metadata": {},
   "outputs": [
    {
     "data": {
      "text/html": [
       "<div>\n",
       "<style scoped>\n",
       "    .dataframe tbody tr th:only-of-type {\n",
       "        vertical-align: middle;\n",
       "    }\n",
       "\n",
       "    .dataframe tbody tr th {\n",
       "        vertical-align: top;\n",
       "    }\n",
       "\n",
       "    .dataframe thead th {\n",
       "        text-align: right;\n",
       "    }\n",
       "</style>\n",
       "<table border=\"1\" class=\"dataframe\">\n",
       "  <thead>\n",
       "    <tr style=\"text-align: right;\">\n",
       "      <th></th>\n",
       "      <th>hypothesis</th>\n",
       "      <th>RICE</th>\n",
       "    </tr>\n",
       "  </thead>\n",
       "  <tbody>\n",
       "    <tr>\n",
       "      <th>7</th>\n",
       "      <td>add a subscription form to all the main pages....</td>\n",
       "      <td>112.0</td>\n",
       "    </tr>\n",
       "    <tr>\n",
       "      <th>2</th>\n",
       "      <td>add product recommendation blocks to the store...</td>\n",
       "      <td>56.0</td>\n",
       "    </tr>\n",
       "    <tr>\n",
       "      <th>0</th>\n",
       "      <td>add two new channels for attracting traffic. t...</td>\n",
       "      <td>40.0</td>\n",
       "    </tr>\n",
       "    <tr>\n",
       "      <th>6</th>\n",
       "      <td>show banners with current offers and sales on ...</td>\n",
       "      <td>40.0</td>\n",
       "    </tr>\n",
       "    <tr>\n",
       "      <th>8</th>\n",
       "      <td>launch a promotion that gives users discounts ...</td>\n",
       "      <td>16.2</td>\n",
       "    </tr>\n",
       "    <tr>\n",
       "      <th>3</th>\n",
       "      <td>change the category structure. this will incre...</td>\n",
       "      <td>9.0</td>\n",
       "    </tr>\n",
       "    <tr>\n",
       "      <th>1</th>\n",
       "      <td>launch your own delivery service. this will sh...</td>\n",
       "      <td>4.0</td>\n",
       "    </tr>\n",
       "    <tr>\n",
       "      <th>5</th>\n",
       "      <td>add a customer review page. this will increase...</td>\n",
       "      <td>4.0</td>\n",
       "    </tr>\n",
       "    <tr>\n",
       "      <th>4</th>\n",
       "      <td>change the background color on the main page. ...</td>\n",
       "      <td>3.0</td>\n",
       "    </tr>\n",
       "  </tbody>\n",
       "</table>\n",
       "</div>"
      ],
      "text/plain": [
       "                                          hypothesis   RICE\n",
       "7  add a subscription form to all the main pages....  112.0\n",
       "2  add product recommendation blocks to the store...   56.0\n",
       "0  add two new channels for attracting traffic. t...   40.0\n",
       "6  show banners with current offers and sales on ...   40.0\n",
       "8  launch a promotion that gives users discounts ...   16.2\n",
       "3  change the category structure. this will incre...    9.0\n",
       "1  launch your own delivery service. this will sh...    4.0\n",
       "5  add a customer review page. this will increase...    4.0\n",
       "4  change the background color on the main page. ...    3.0"
      ]
     },
     "metadata": {},
     "output_type": "display_data"
    }
   ],
   "source": [
    "\n",
    "# ALCANCE * IMPACTO * CONFIANZA / ESFUERZO`\n",
    "\n",
    "hypotheses['RICE'] = (hypotheses['reach']*hypotheses['impact']*hypotheses['confidence'])/hypotheses['effort']\n",
    "\n",
    "# Ordenar \n",
    "\n",
    "display(hypotheses[['hypothesis','RICE']].sort_values(by='RICE', ascending=False))\n"
   ]
  },
  {
   "cell_type": "markdown",
   "id": "029034cd-0dea-479f-96bf-e9f1d0d8ec4c",
   "metadata": {},
   "source": [
    "\n",
    "Al aplicar el metodo rice se vio modificado el orden de las hipotesis, quedando de los primeros el  7,2 y 0 . por otr lado, la hipotesis 4 sigue siendo el menos prometedor. "
   ]
  },
  {
   "cell_type": "markdown",
   "id": "51cc84fa-9893-45c9-8b63-3da7e67f7171",
   "metadata": {},
   "source": [
    "### Mostrar cómo cambia la priorización de hipótesis cuando utilizas RICE en lugar de ICE. "
   ]
  },
  {
   "cell_type": "code",
   "execution_count": 18,
   "id": "c68ed66b-7355-4522-8e37-f8632985394a",
   "metadata": {},
   "outputs": [
    {
     "data": {
      "image/png": "[encoded data removed]",
      "text/plain": [
       "<Figure size 576x432 with 1 Axes>"
      ]
     },
     "metadata": {
      "needs_background": "light"
     },
     "output_type": "display_data"
    }
   ],
   "source": [
    "ax = hypotheses[['hypothesis','ICE','RICE']].plot(kind='bar',stacked=False, figsize=(8,6))\n",
    "\n",
    "for p in ax.patches:\n",
    "    ax.annotate(str(p.get_height().round()), (p.get_x() * 1.005, p.get_height() * 1.005), rotation=90)\n",
    "    \n",
    "plt.title('ICE vs RICE ')\n",
    "plt.xlabel('Hypotheses')\n",
    "plt.ylabel('ICE/RICE Score')\n",
    "plt.show()"
   ]
  },
  {
   "cell_type": "markdown",
   "id": "e416cbb0-bf80-4579-8108-74b5954917bc",
   "metadata": {},
   "source": [
    "### Conclusion General\n",
    "\n",
    "RICE es un marco de trabajo para priorizar ideas y características de productos. La abreviatura incluye 4 factores que el gerente de productos puede utilizar de manera segura para evaluar y priorizar las características del producto:\n",
    "\n",
    "Alcance: cobertura \n",
    "\n",
    "Impacto: impacto\n",
    "\n",
    "Confianza: confianza en su evaluación de cobertura, impacto y esfuerzo.\n",
    "\n",
    "Esfuerzo: costos laborales Calculamos \n",
    "\n",
    "`la puntuación ICE utilizando la siguiente fórmula: ICE = (Alcance) * (Confianza) * (Esfuerzo) / Impacto`\n",
    "\n",
    "ICE es un marco de trabajo para seleccionar trabajos de características basado en 3 dimensiones clave, que permite a los equipos tomar mejores decisiones sobre qué características priorizar:\n",
    "\n",
    "Impacto: ¿Cuánto cambiará esto nuestro negocio (si funciona)?\n",
    "\n",
    "Confianza: ¿Cuán seguros estamos de que esto funcionará? \n",
    "\n",
    "Facilidad: ¿Cuánto trabajo implica implementarlo? Calculamos la puntuación ICE utilizando la siguiente fórmula:\n",
    "\n",
    "`ICE = (Impacto) * (Confianza) * (Facilidad)`\n",
    "\n",
    "La diferencia entre los marcos de trabajo ICE y RICE es el parámetro de alcance, que estima cuántos clientes se alcanzarán mediante encuestas. Este parámetro agrega otro factor al marco de trabajo, lo que hace que las puntuaciones RICE sean más altas que las puntuaciones ICE. Por lo tanto, el marco de trabajo RICE se verá afectado por el factor de alcance y la puntuación RICE se sesgará en consecuencia.\n",
    "\n",
    "De acuerdo con el gráfico anterior, la hipótesis 7 tiene la puntuación más alta tanto en ICE como en RICE y debería ser priorizada. Las hipótesis 1, 3, 4 y 5 tienen una puntuación baja tanto en ICE como en RICE.\n",
    "\n",
    "En ICE, la hipótesis 8 fue la más alta, pero ocupa el quinto lugar en las puntuaciones de RICE. La hipótesis 7 ocupaba el tercer lugar en ICE, pero tiene la puntuación más alta y el doble de la puntuación que la hipótesis 2. Las diferencias se deben a los valores de alcance de las hipótesis. Las hipótesis con un alcance, impacto y confianza más altos, y un esfuerzo comparativamente menor, tienen una puntuación RICE comparativamente más alta, por ejemplo, la hipótesis 7, que es la tercera más alta en ICE, pero pasó a ocupar el primer lugar en RICE debido a que su alcance es alto."
   ]
  },
  {
   "cell_type": "code",
   "execution_count": 19,
   "id": "2c2844ee-8e5d-4c93-b25d-6557e2234119",
   "metadata": {},
   "outputs": [
    {
     "data": {
      "image/png": "[encoded data removed]",
      "text/plain": [
       "<Figure size 720x576 with 1 Axes>"
      ]
     },
     "metadata": {
      "needs_background": "light"
     },
     "output_type": "display_data"
    }
   ],
   "source": [
    "# Gradicar ICE Y RICE\n",
    "\n",
    "x = hypotheses['ICE'].values\n",
    "y = hypotheses['RICE'].values\n",
    "types = hypotheses.index.values\n",
    "\n",
    "fig, ax = plt.subplots(figsize=(10,8))\n",
    "ax.scatter(x, y)\n",
    "\n",
    "ax.set_xlabel('ICE', fontsize=14)\n",
    "ax.set_ylabel('RICE', fontsize=14)\n",
    "ax.set_title('ICE Vs RICE', fontsize=14)\n",
    "\n",
    "for i, txt in enumerate(types):\n",
    "    ax.annotate(txt, (x[i], y[i]), xytext=(10,10), textcoords='offset points')\n",
    "    plt.scatter(x, y, marker='x', color='blue')"
   ]
  },
  {
   "cell_type": "markdown",
   "id": "0b205148-e8f0-4ea4-b08d-56d5ee79958c",
   "metadata": {},
   "source": [
    "Como se muestra en el grafico, la hipotesis más prometedora es la 7 , a pesar que el 8 era la más alta en el analisis de ICE, no lo es tanto para el RIC."
   ]
  },
  {
   "cell_type": "markdown",
   "id": "6bb1396a-93fb-4269-82b2-04444e6f2023",
   "metadata": {},
   "source": [
    "## 0.5 Análisis de test A/B"
   ]
  },
  {
   "cell_type": "markdown",
   "id": "769f03c4-8761-4407-9f97-1166befc1599",
   "metadata": {},
   "source": [
    "#### 1. Representa gráficamente el ingreso acumulado por grupo. Haz conclusiones y conjeturas."
   ]
  },
  {
   "cell_type": "code",
   "execution_count": 20,
   "id": "1dd32b77-1d53-4250-9b24-bca30fb8ec5f",
   "metadata": {},
   "outputs": [
    {
     "data": {
      "text/html": [
       "<div>\n",
       "<style scoped>\n",
       "    .dataframe tbody tr th:only-of-type {\n",
       "        vertical-align: middle;\n",
       "    }\n",
       "\n",
       "    .dataframe tbody tr th {\n",
       "        vertical-align: top;\n",
       "    }\n",
       "\n",
       "    .dataframe thead th {\n",
       "        text-align: right;\n",
       "    }\n",
       "</style>\n",
       "<table border=\"1\" class=\"dataframe\">\n",
       "  <thead>\n",
       "    <tr style=\"text-align: right;\">\n",
       "      <th></th>\n",
       "      <th>date</th>\n",
       "      <th>group</th>\n",
       "      <th>visitorId</th>\n",
       "    </tr>\n",
       "  </thead>\n",
       "  <tbody>\n",
       "    <tr>\n",
       "      <th>0</th>\n",
       "      <td>2019-08-15</td>\n",
       "      <td>B</td>\n",
       "      <td>3312258926</td>\n",
       "    </tr>\n",
       "    <tr>\n",
       "      <th>1</th>\n",
       "      <td>2019-08-15</td>\n",
       "      <td>B</td>\n",
       "      <td>3642806036</td>\n",
       "    </tr>\n",
       "    <tr>\n",
       "      <th>3</th>\n",
       "      <td>2019-08-15</td>\n",
       "      <td>B</td>\n",
       "      <td>1196621759</td>\n",
       "    </tr>\n",
       "    <tr>\n",
       "      <th>4</th>\n",
       "      <td>2019-08-15</td>\n",
       "      <td>B</td>\n",
       "      <td>2322279887</td>\n",
       "    </tr>\n",
       "    <tr>\n",
       "      <th>5</th>\n",
       "      <td>2019-08-15</td>\n",
       "      <td>B</td>\n",
       "      <td>935554773</td>\n",
       "    </tr>\n",
       "  </tbody>\n",
       "</table>\n",
       "</div>"
      ],
      "text/plain": [
       "        date group   visitorId\n",
       "0 2019-08-15     B  3312258926\n",
       "1 2019-08-15     B  3642806036\n",
       "3 2019-08-15     B  1196621759\n",
       "4 2019-08-15     B  2322279887\n",
       "5 2019-08-15     B   935554773"
      ]
     },
     "execution_count": 20,
     "metadata": {},
     "output_type": "execute_result"
    }
   ],
   "source": [
    "revenueGroup = orders[['date','group','visitorId']].copy()\n",
    "\n",
    "# Se crea un DataFrame \"datesGroups\" con las columnas \"date\" y \"group\" de \"orders\" y se eliminan las filas duplicadas\n",
    "\n",
    "revenueGroup = revenueGroup.drop_duplicates()\n",
    "revenueGroup.head()"
   ]
  },
  {
   "cell_type": "code",
   "execution_count": 21,
   "id": "8f00e804-bf5f-478d-9388-d3217e83658f",
   "metadata": {},
   "outputs": [
    {
     "name": "stdout",
     "output_type": "stream",
     "text": [
      "           date group  transactionId  visitorId  revenue\n",
      "55   2019-08-01     A             23         19   2266.6\n",
      "72   2019-08-01     A             23         19   2266.6\n",
      "73   2019-08-01     A             23         19   2266.6\n",
      "96   2019-08-01     A             23         19   2266.6\n",
      "99   2019-08-01     A             23         19   2266.6\n",
      "...         ...   ...            ...        ...      ...\n",
      "1023 2019-08-31     B            548        528  79651.2\n",
      "1024 2019-08-31     B            548        528  79651.2\n",
      "1026 2019-08-31     B            548        528  79651.2\n",
      "1037 2019-08-31     B            548        528  79651.2\n",
      "1038 2019-08-31     B            548        528  79651.2\n",
      "\n",
      "[1001 rows x 5 columns]\n"
     ]
    }
   ],
   "source": [
    "# Se aplica una función lambda a \"revenue\" para filtrar los datos de \"orders\" que tengan fecha menor o igual a la fecha de cada fila en \"datesGroups\"\n",
    "\n",
    "ordersAggregated = revenueGroup.apply(lambda x: orders[np.logical_and(orders['date'] <= x['date'], orders['group'] == x['group'])].agg(\n",
    "    {'date' : 'max', 'group' : 'max', 'transactionId' : pd.Series.nunique, 'visitorId' : pd.Series.nunique, 'revenue' : 'sum'}), \n",
    "                                      axis=1).sort_values(by=['date','group'])\n",
    "print(ordersAggregated)"
   ]
  },
  {
   "cell_type": "code",
   "execution_count": 22,
   "id": "609ba10e-5801-40f6-9f48-87c443a8ae6b",
   "metadata": {},
   "outputs": [
    {
     "name": "stdout",
     "output_type": "stream",
     "text": [
      "           date group  visits\n",
      "55   2019-08-01     A     719\n",
      "72   2019-08-01     A     719\n",
      "73   2019-08-01     A     719\n",
      "96   2019-08-01     A     719\n",
      "99   2019-08-01     A     719\n",
      "...         ...   ...     ...\n",
      "1023 2019-08-31     B   18916\n",
      "1024 2019-08-31     B   18916\n",
      "1026 2019-08-31     B   18916\n",
      "1037 2019-08-31     B   18916\n",
      "1038 2019-08-31     B   18916\n",
      "\n",
      "[1001 rows x 3 columns]\n"
     ]
    }
   ],
   "source": [
    "\n",
    "# Se aplica una función lambda a \"revenue\" para filtrar los datos de \"orders\" que tengan fecha menor o igual a la fecha de cada fila en \"datesGroups\"\n",
    "visitorsAggregated = revenueGroup.apply(lambda x: visits[np.logical_and(visits['date'] <= x['date'], visits['group'] == x['group'])].\n",
    "                                        agg({'date' : 'max', 'group' : 'max', 'visits' : 'sum'}), axis=1).sort_values(by=['date','group'])\n",
    "print(visitorsAggregated)"
   ]
  },
  {
   "cell_type": "code",
   "execution_count": 23,
   "id": "72534488-ac74-48f3-9de6-81512072b0f4",
   "metadata": {},
   "outputs": [
    {
     "name": "stdout",
     "output_type": "stream",
     "text": [
      "        date group  orders  buyers  revenue  visitors\n",
      "0 2019-08-01     A      23      19   2266.6       719\n",
      "1 2019-08-01     A      23      19   2266.6       719\n",
      "2 2019-08-01     A      23      19   2266.6       719\n",
      "3 2019-08-01     A      23      19   2266.6       719\n",
      "4 2019-08-01     A      23      19   2266.6       719\n"
     ]
    }
   ],
   "source": [
    "\n",
    "# Se fusionan los DataFrames  en un nuevo DataFrame \"cumulativeData\" uniendo los datos por fecha y grupo\n",
    "\n",
    "cumulativeData = ordersAggregated.merge(visitorsAggregated, left_on=['date', 'group'], right_on=['date', 'group'])\n",
    "cumulativeData.columns = ['date', 'group', 'orders', 'buyers', 'revenue', 'visitors']\n",
    "\n",
    "print(cumulativeData.head(5)) \n",
    "\n",
    "# Ordenar \n",
    "cumulativeRevenueA = cumulativeData[cumulativeData['group'] == 'A'][['date','revenue','orders']]\n",
    "cumulativeRevenueB = cumulativeData[cumulativeData['group'] == 'B'][['date','revenue','orders']]\n"
   ]
  },
  {
   "cell_type": "code",
   "execution_count": 24,
   "id": "ddb624e6-c137-49fc-94c7-951e26a348df",
   "metadata": {},
   "outputs": [
    {
     "data": {
      "image/png": "[encoded data removed]",
      "text/plain": [
       "<Figure size 432x288 with 1 Axes>"
      ]
     },
     "metadata": {
      "needs_background": "light"
     },
     "output_type": "display_data"
    }
   ],
   "source": [
    "# Plotting the group A revenue graph \n",
    "plt.plot(cumulativeRevenueA['date'], cumulativeRevenueA['revenue'], label='A')\n",
    "\n",
    "# Plotting the group B revenue graph \n",
    "plt.plot(cumulativeRevenueB['date'], cumulativeRevenueB['revenue'], label='B')\n",
    "\n",
    "plt.legend() \n",
    "plt.title('Cumulative Revenue by Group over Time')\n",
    "plt.xlabel('Time')\n",
    "plt.ylabel('Cumulative Revenue')\n",
    "plt.xticks(rotation=90)\n",
    "plt.show()"
   ]
  },
  {
   "cell_type": "markdown",
   "id": "78dc1d17-28e7-49d5-aaeb-e09d8d177845",
   "metadata": {},
   "source": [
    "##### **Conclusion general** \n",
    "\n",
    "Según el gráfico anterior, los ingresos acumulados para ambos grupos aumentaron constantemente durante todo el experimento. Sin embargo, en 2019, el grupo B experimentó picos de ingresos en ciertos puntos que ocurrieron después del 17 de agosto. Los ingresos acumulados del grupo B aumentaron y continuaron aumentando de manera constante."
   ]
  },
  {
   "cell_type": "markdown",
   "id": "17350dc9-73f3-49d4-b594-2ac51786137a",
   "metadata": {},
   "source": [
    "#### 2. Representa gráficamente el tamaño de pedido promedio acumulado por grupo. Haz conclusiones y conjeturas."
   ]
  },
  {
   "cell_type": "code",
   "execution_count": 25,
   "id": "6392143f-692e-4a83-ba3f-6900a5c506e3",
   "metadata": {},
   "outputs": [
    {
     "data": {
      "image/png": "[encoded data removed]",
      "text/plain": [
       "<Figure size 432x288 with 1 Axes>"
      ]
     },
     "metadata": {
      "needs_background": "light"
     },
     "output_type": "display_data"
    }
   ],
   "source": [
    "# graficaar el tamaño de pedido promedio acolumado \n",
    "\n",
    "plt.plot(cumulativeRevenueA['date'], cumulativeRevenueA['revenue']/cumulativeRevenueA['orders'], label='A')\n",
    "plt.plot(cumulativeRevenueB['date'], cumulativeRevenueB['revenue']/cumulativeRevenueB['orders'], label='B')\n",
    "\n",
    "#  Visualizacion\n",
    "\n",
    "plt.axhline(y=0, color='black', linestyle='--') \n",
    "plt.axhline(y=100, color='black', linestyle='--')\n",
    "plt.legend()\n",
    "plt.title('Average Purchase Size by Group over Time')\n",
    "plt.xlabel('Time')\n",
    "plt.ylabel('Average Number of Orders')\n",
    "plt.xticks(rotation=90)\n",
    "plt.show()\n",
    "\n"
   ]
  },
  {
   "cell_type": "markdown",
   "id": "4ca87aa1-9908-4359-ba33-39b74380012b",
   "metadata": {},
   "source": [
    "##### **Conclusion general**\n",
    "\n",
    "Basándonos en la gráfica anterior, ambos grupos tienen tamaños de pedido promedio fluctuantes. Después del 21 de agosto de 2019, ambas líneas se vuelven un poco más estables. Hay un gran aumento en el tamaño promedio del pedido para el Grupo B en un punto determinado, mientras que el grupo A disminuyó un poco al principio y luego se recuperó lentamente. Sin embargo, el tamaño promedio del pedido del Grupo B es mucho mayor que el del grupo A. El grupo A está bastante por debajo del grupo B."
   ]
  },
  {
   "cell_type": "markdown",
   "id": "b079dd61-ae92-48c4-9df8-399e57883a88",
   "metadata": {},
   "source": [
    "#### 3. Representa gráficamente la diferencia relativa en el tamaño de pedido promedio acumulado para el grupo B en comparación con el grupo A."
   ]
  },
  {
   "cell_type": "code",
   "execution_count": 26,
   "id": "90c771a9-810b-4ee9-803c-1ec056a42d0c",
   "metadata": {},
   "outputs": [
    {
     "data": {
      "image/png": "[encoded data removed]",
      "text/plain": [
       "<Figure size 432x288 with 1 Axes>"
      ]
     },
     "metadata": {
      "needs_background": "light"
     },
     "output_type": "display_data"
    }
   ],
   "source": [
    "#  Recopilacion de datos en un DF\n",
    "mergedCumulativeRevenue = cumulativeRevenueA.merge(cumulativeRevenueB, left_on='date', right_on='date', how='left', suffixes=['A', 'B'])\n",
    "\n",
    "# gráfico de diferencia relativa para los tamaños promedio de compra\n",
    "plt.plot(mergedCumulativeRevenue['date'], mergedCumulativeRevenue['revenueA'] / mergedCumulativeRevenue['ordersA'] -1, label='A')\n",
    "plt.plot(mergedCumulativeRevenue['date'], mergedCumulativeRevenue['revenueB'] / mergedCumulativeRevenue['ordersB'] -1, label='B')\n",
    "\n",
    "\n",
    "# agregando el eje X\n",
    "plt.axhline(y=0, color='black', linestyle='--') \n",
    "plt.legend()\n",
    "plt.title('Relative Difference in Cumulative Average Order Size for groupB compared with groupA')\n",
    "plt.xlabel('Time')\n",
    "plt.ylabel('Average Order Size')\n",
    "plt.xticks(rotation=90)\n",
    "plt.show()"
   ]
  },
  {
   "cell_type": "markdown",
   "id": "c9d76f5b-d18b-4cb3-b40f-6e0a2f01272c",
   "metadata": {},
   "source": [
    "Basándonos en la gráfica anterior, el grupo B comenzó con un salto y entre el 17 de agosto de 2019 y el 21 de agosto de 2019, hubo un aumento repentino en el tamaño promedio de los pedidos, mientras que el grupo A cayó ligeramente durante unos meses y luego se recuperó lentamente. Hubo muchas fluctuaciones en ambos grupos, pero en comparación con el grupo B, el grupo A tiene un tamaño promedio de pedido mucho mejor."
   ]
  },
  {
   "cell_type": "code",
   "execution_count": 27,
   "id": "45ce15e7-df14-429d-8085-005f0f8f382c",
   "metadata": {},
   "outputs": [
    {
     "data": {
      "image/png": "[encoded data removed]",
      "text/plain": [
       "<Figure size 720x432 with 1 Axes>"
      ]
     },
     "metadata": {
      "needs_background": "light"
     },
     "output_type": "display_data"
    }
   ],
   "source": [
    "#Diferencia Relativa en el Tamaño Promedio Acumulativo del Pedido\n",
    "\n",
    "mergedCumulativeRevenue = cumulativeRevenueA.merge(cumulativeRevenueB, left_on='date', right_on='date', how='left', suffixes=['A', 'B'])\n",
    "\n",
    "fig, ax = plt.subplots()\n",
    "fig.set_size_inches(10,6)\n",
    "plt.plot(mergedCumulativeRevenue['date'], (mergedCumulativeRevenue['revenueB']/mergedCumulativeRevenue['ordersB'])/(mergedCumulativeRevenue['revenueA']/mergedCumulativeRevenue['ordersA'])-1)\n",
    "\n",
    "ax.set_title(\"Relative Difference in Cumulative Average Order Size\", fontdict={\"size\":14})\n",
    "plt.xlabel(\"Date\", fontdict={\"size\":14})\n",
    "plt.ylabel(\"Relative Difference\", fontdict={\"size\":14})\n",
    "plt.axhline(y=0, color='black', linestyle='--')\n",
    "plt.xticks(rotation=45)\n",
    "plt.show()"
   ]
  },
  {
   "cell_type": "markdown",
   "id": "a6a265a5-aa60-4d67-8c6a-03521bdffc79",
   "metadata": {},
   "source": [
    "##### **Conclusion general**\n",
    "\n",
    "En el gráfico anterior, observamos varias subidas y bajadas, es decir, la diferencia entre los segmentos aumenta desde menos de -0.4 hasta más de 0.5. Esto significa que debe haber algunos pedidos grandes y valores atípicos o compras anormalmente gr"
   ]
  },
  {
   "cell_type": "markdown",
   "id": "4a3f0cbd-d442-4294-adfe-285de92d0dfe",
   "metadata": {},
   "source": [
    "#### 4. Calcula la tasa de conversión de cada grupo como la relación entre los pedidos y el número de visitas de cada día"
   ]
  },
  {
   "cell_type": "code",
   "execution_count": 28,
   "id": "51218e8f-40a0-4207-ba66-7054bc400d1e",
   "metadata": {},
   "outputs": [
    {
     "data": {
      "image/png": "[encoded data removed]",
      "text/plain": [
       "<Figure size 432x288 with 1 Axes>"
      ]
     },
     "metadata": {
      "needs_background": "light"
     },
     "output_type": "display_data"
    }
   ],
   "source": [
    "\n",
    "\n",
    "# Calculado la conversion acomulativa\n",
    "cumulativeData['conversion'] = cumulativeData['orders']/cumulativeData['visitors']\n",
    "\n",
    "# Seleccionar los datos del grupo A\n",
    "cumulativeDataA = cumulativeData[cumulativeData['group']=='A']\n",
    "\n",
    "# Seleccionar los datos del grupo B\n",
    "cumulativeDataB = cumulativeData[cumulativeData['group']=='B']\n",
    "\n",
    "mergedCumulativeConversions = cumulativeDataA[['date','conversion']].merge(cumulativeDataB[['date','conversion']], left_on='date', right_on='date', how='left', suffixes=['A', 'B'])\n",
    "\n",
    "# Graficar\n",
    "plt.plot(cumulativeDataA['date'], cumulativeDataA['conversion'], label='A')\n",
    "plt.plot(cumulativeDataB['date'], cumulativeDataB['conversion'], label='B')\n",
    "\n",
    "plt.legend()\n",
    "plt.title('Conversion Rate')\n",
    "plt.xlabel('Date')\n",
    "plt.ylabel('Relative Difference')\n",
    "plt.xticks(rotation=90)\n",
    "plt.show()\n",
    "\n"
   ]
  },
  {
   "cell_type": "code",
   "execution_count": 29,
   "id": "1c8ce471-642e-49fa-bf36-7ae5f8d028c8",
   "metadata": {},
   "outputs": [
    {
     "data": {
      "image/png": "[encoded data removed]",
      "text/plain": [
       "<Figure size 720x432 with 1 Axes>"
      ]
     },
     "metadata": {
      "needs_background": "light"
     },
     "output_type": "display_data"
    }
   ],
   "source": [
    "\n",
    "# Diferencia Relativa en la Tasa de Conversión de los grupos\n",
    "mergedCumulativeConversions = cumulativeDataA[['date','conversion']].merge(cumulativeDataB[['date','conversion']], left_on='date', right_on='date', how='left', suffixes=['A', 'B'])\n",
    "\n",
    "mergedCumulativeConversions['conversionB'] = mergedCumulativeConversions.query('date > \"2019-08-10\"')['conversionB']\n",
    "mergedCumulativeConversions['conversionA'] = mergedCumulativeConversions.query('date > \"2019-08-10\"')['conversionA']\n",
    "\n",
    "fig, ax = plt.subplots()\n",
    "fig.set_size_inches(10,6)\n",
    "\n",
    "\n",
    "plt.plot(mergedCumulativeConversions['date'],(mergedCumulativeConversions['conversionB']/\n",
    "    mergedCumulativeConversions['conversionA']-1))\n",
    "\n",
    "\n",
    "ax.set_title(\"Relative Difference in Conversion Rate of the groups\", fontdict={\"size\":14})\n",
    "plt.xlabel(\"Date\", fontdict={\"size\":14})\n",
    "plt.ylabel(\"Relative Difference\", fontdict={\"size\":14})\n",
    "plt.axhline(y=0, color='black', linestyle='--')\n",
    "plt.xticks(rotation=45)\n",
    "plt.show()\n",
    "\n"
   ]
  },
  {
   "cell_type": "markdown",
   "id": "7b32b9f0-d66c-4cfa-aec2-ee123b85d842",
   "metadata": {},
   "source": [
    "##### **Conclusion General**\n",
    "\n",
    "La diferencia relativa en la tasa de conversión no muestra grandes cambios o variaciones significativas después del 10 de agosto de 2019. Esto significa que a partir de esa fecha, la tasa de conversión entre los grupos se mantuvo relativamente estable.\n",
    "\n",
    "Cuando se habla de una diferencia relativa en la tasa de conversión, se refiere a la variación porcentual en la cantidad de conversiones (por ejemplo, compras, registros, clics) entre los grupos comparados. Una diferencia relativa cercana a cero indica que ambos grupos tienen tasas de conversión similares, mientras que una diferencia relativa mayor indica una disparidad en las tasas de conversión entre los grupos.\n",
    "\n",
    "En este caso, la diferencia relativa en la tasa de conversión fluctúa entre 0.15 y 0.20. Esto implica que hay una variación de alrededor del 15% al 20% en la tasa de conversión entre los grupos. Sin embargo, es importante tener en cuenta que esta diferencia se considera relativamente estable, ya que no muestra fluctuaciones drásticas o cambios significativos en el período analizado."
   ]
  },
  {
   "cell_type": "markdown",
   "id": "d0300016-a87c-448d-a694-8cccb0234359",
   "metadata": {},
   "source": [
    "#### 5. Traza un gráfico de dispersión del número de pedidos por usuario. Haz conclusiones y conjeturas."
   ]
  },
  {
   "cell_type": "code",
   "execution_count": 30,
   "id": "eba9eb2a-0298-420c-bd4c-63b9aebd67ee",
   "metadata": {},
   "outputs": [
    {
     "name": "stdout",
     "output_type": "stream",
     "text": [
      "      transactionId   visitorId       date  revenue group\n",
      "0        3667963787  3312258926 2019-08-15     30.4     B\n",
      "1        2804400009  3642806036 2019-08-15     15.2     B\n",
      "3        3797467345  1196621759 2019-08-15    155.1     B\n",
      "4        2282983706  2322279887 2019-08-15     40.5     B\n",
      "5         182168103   935554773 2019-08-15     35.0     B\n",
      "...             ...         ...        ...      ...   ...\n",
      "1191     3592955527   608641596 2019-08-14    255.7     B\n",
      "1192     2662137336  3733762160 2019-08-14    100.8     B\n",
      "1193     2203539145   370388673 2019-08-14     50.1     A\n",
      "1194     1807773912   573423106 2019-08-14    165.3     A\n",
      "1196     3936777065  2108080724 2019-08-15   3120.1     B\n",
      "\n",
      "[1016 rows x 5 columns]\n"
     ]
    }
   ],
   "source": [
    "print(orders)"
   ]
  },
  {
   "cell_type": "code",
   "execution_count": 31,
   "id": "2ab51441-c6fd-48c1-9e53-6126dc20a3ad",
   "metadata": {},
   "outputs": [
    {
     "data": {
      "image/png": "[encoded data removed]",
      "text/plain": [
       "<Figure size 864x432 with 1 Axes>"
      ]
     },
     "metadata": {
      "needs_background": "light"
     },
     "output_type": "display_data"
    }
   ],
   "source": [
    "\n",
    "\n",
    "ordersByUsers = orders.groupby('visitorId', as_index=False).agg({'transactionId':pd.Series.nunique})\n",
    "ordersByUsers.columns = ['userId', 'no_of_orders']\n",
    "\n",
    "# Eliminar cualquier duplicado\n",
    "ordersByUsers = ordersByUsers.drop_duplicates()\n",
    "\n",
    "# Ordenar los datos por el número de pedidos en orden descendente.\n",
    "\n",
    "ordersByUsers = ordersByUsers.sort_values(by='no_of_orders', ascending=False)\n",
    "\n",
    "#Graficar\n",
    "\n",
    "fig, ax = plt.subplots()\n",
    "fig.set_size_inches(12, 6)\n",
    "\n",
    "# Utilizar el número de órdenes como las etiquetas del eje x\n",
    "x_labels = ordersByUsers['no_of_orders']\n",
    "\n",
    "# Cambiar la posición de los argumentos en `bar()` para intercambiar los ejes x e y\n",
    "ax.bar(x_labels, range(len(ordersByUsers)))\n",
    "\n",
    "# Ajustar el título y las etiquetas de los ejes para reflejar el cambio\n",
    "ax.set_title(\"Orders per User\", fontdict={\"size\": 14})\n",
    "ax.set_xlabel(\"Number of Orders\", fontdict={\"size\": 14})\n",
    "ax.set_ylabel(\"Users\", fontdict={\"size\": 14})\n",
    "\n",
    "plt.show()\n"
   ]
  },
  {
   "cell_type": "markdown",
   "id": "2bfbcc0a-46b7-4459-b15c-93c5c17f7018",
   "metadata": {},
   "source": [
    "##### **Conclusion General**\n",
    "\n",
    "Según la gráfica anterior, la mayoría de los usuarios realizan 1 o 2 pedidos. Muy pocos usuarios hacen más de 3 o 4 pedidos."
   ]
  },
  {
   "cell_type": "markdown",
   "id": "772e4c9f-c826-4aa2-8909-e5a23bf8ca12",
   "metadata": {},
   "source": [
    "#### 6. Calcula los percentiles 95 y 99 para el número de pedidos por usuario. Define el punto en el cual un punto de datos se convierte en una anomalía."
   ]
  },
  {
   "cell_type": "code",
   "execution_count": 32,
   "id": "458bd9dd-2c91-41ee-a799-29a39f9f4333",
   "metadata": {},
   "outputs": [
    {
     "name": "stdout",
     "output_type": "stream",
     "text": [
      "[1. 2.]\n"
     ]
    }
   ],
   "source": [
    "print(np.percentile(ordersByUsers['no_of_orders'], [95,99]))\n"
   ]
  },
  {
   "cell_type": "markdown",
   "id": "d3e13b96-1f97-446a-ad6d-8431a3f628eb",
   "metadata": {},
   "source": [
    "##### **Conclusion General**\n",
    "\n",
    "Según los cálculos de percentiles anteriores, el 95% de las observaciones se encuentran dentro de 1 pedido por usuario y el 99% de las observaciones se encuentran dentro de 2 pedidos por usuario. Por lo tanto, filtrar el número de pedidos que es mayor a 2 pedidos sería el punto en el que el valor de los datos se vuelve una anomalía."
   ]
  },
  {
   "cell_type": "markdown",
   "id": "6bf9e1dd-fb07-4386-9ecd-e2fd6cbdc260",
   "metadata": {},
   "source": [
    "#### 7. Traza un gráfico de dispersión de los precios de los pedidos. "
   ]
  },
  {
   "cell_type": "code",
   "execution_count": 33,
   "id": "0b06d9d9-9da6-454a-b638-70234b10b391",
   "metadata": {},
   "outputs": [
    {
     "data": {
      "image/png": "[encoded data removed]",
      "text/plain": [
       "<Figure size 432x288 with 1 Axes>"
      ]
     },
     "metadata": {
      "needs_background": "light"
     },
     "output_type": "display_data"
    }
   ],
   "source": [
    "#print(visits)\n",
    "# Agrupar los pedidos por usuarios\n",
    "\n",
    "ordersByPrices= orders.groupby('visitorId', as_index=False).agg({'revenue':'sum'})\n",
    "ordersByPrices.columns = ['userId', 'revenue']\n",
    "\n",
    "ordersByPrices = ordersByPrices.drop_duplicates()\n",
    "\n",
    "# ordenar los datos por número de pedidos en orden descendente\n",
    "ordersByPrices = ordersByPrices.sort_values(by='revenue', ascending=False)\n",
    "\n",
    "# encontrar los valores para el eje horizontal según el número de observaciones generadas\n",
    "x_values = pd.Series(range(0, len(ordersByPrices)))\n",
    "\n",
    "plt.scatter(x_values, ordersByPrices['revenue'])\n",
    "\n",
    "plt.title('Price per Order')\n",
    "plt.xlabel('Numbers')\n",
    "plt.ylabel('Revenue per Order')\n",
    "plt.show()"
   ]
  },
  {
   "cell_type": "markdown",
   "id": "d0b23103-9780-4fbc-a12d-11d5244f5729",
   "metadata": {},
   "source": [
    "#### 8. Calcula los percentiles 95 y 99 de los precios de los pedidos. Define el punto en el cual un punto de datos se convierte en una anomalía."
   ]
  },
  {
   "cell_type": "code",
   "execution_count": 34,
   "id": "f62d825d-f93f-4926-b9c3-fbaffef229f7",
   "metadata": {},
   "outputs": [
    {
     "name": "stdout",
     "output_type": "stream",
     "text": [
      "[414.275 830.3  ]\n"
     ]
    }
   ],
   "source": [
    "print(np.percentile(orders['revenue'], [ 95, 99]))"
   ]
  },
  {
   "cell_type": "markdown",
   "id": "77883f81-c002-4945-84a2-be53799bb8c2",
   "metadata": {},
   "source": [
    "##### **Conclusion General**\n",
    "\n",
    "Basándonos en los cálculos de percentiles anteriores, podemos concluir que el 95 % de las observaciones se encuentran dentro de los 414 dólares por pedido y el 99 % de las observaciones se encuentran dentro de los 860 dólares por pedido. Podemos definir el punto en el que el valor de los datos se convierte en una anomalía como cualquier observación en la que los ingresos sean superiores a los 450 dólares."
   ]
  },
  {
   "cell_type": "markdown",
   "id": "d7eb8b47-0177-4655-b06d-9d9707b03bce",
   "metadata": {},
   "source": [
    "#### 9. Encuentra la significancia estadística de la diferencia en la conversión entre los grupos utilizando los datos en bruto. Haz conclusiones y conjeturas."
   ]
  },
  {
   "cell_type": "code",
   "execution_count": 35,
   "id": "f519bcf8-f352-4605-9b0c-78f5078f4936",
   "metadata": {},
   "outputs": [
    {
     "name": "stdout",
     "output_type": "stream",
     "text": [
      "p_value: 0.013\n",
      "Tasa de conversion relativa: 0.155\n",
      "Rechaza la hipótesis nula: existe una diferencia significativa entre la tasa de conversión de los grupos A y B.\n"
     ]
    }
   ],
   "source": [
    "# calcular la significancia estadística de la diferencia en la tasa de conversión entre los grupos\n",
    "ordersByUsersA = (\n",
    "    orders[orders['group'] == 'A']\n",
    "    .groupby('visitorId', as_index=False)\n",
    "    .agg({'transactionId': pd.Series.nunique})\n",
    ")\n",
    "ordersByUsersA.columns = ['userId', 'orders']\n",
    "\n",
    "ordersByUsersB = (\n",
    "    orders[orders['group'] == 'B']\n",
    "    .groupby('visitorId', as_index=False)\n",
    "    .agg({'transactionId': pd.Series.nunique})\n",
    ")\n",
    "ordersByUsersB.columns = ['userId', 'orders']\n",
    "\n",
    "\n",
    "sampleAFiltered = pd.concat([ordersByUsersA['orders'], pd.Series(0, index = np.arange(visits[visits['group'] == 'A']['visits'].sum() - len(ordersByUsersA['orders'])), name='orders')], axis=0)\n",
    "sampleBFiltered = pd.concat([ordersByUsersB['orders'], pd.Series(0, index = np.arange(visits[visits['group'] == 'B']['visits'].sum() - len(ordersByUsersA['orders'])), name='orders')], axis=0)\n",
    "\n",
    "p_value = st.mannwhitneyu(sampleAFiltered, sampleBFiltered)[1]\n",
    "print('p_value: {0:.3f}'.format(p_value))\n",
    "print(\"Tasa de conversion relativa: {0:.3f}\".format(sampleBFiltered.mean()/sampleAFiltered.mean()-1))\n",
    "\n",
    "# alpha is Significance level\n",
    "alpha = 0.05\n",
    "\n",
    "if p_value < alpha:\n",
    "    print('Rechaza la hipótesis nula: existe una diferencia significativa entre la tasa de conversión de los grupos A y B.')\n",
    "else:\n",
    "    print('No se rechaza H0: no hay una diferencia significativa entre la tasa de conversión de los grupos A y B.')\n",
    "    "
   ]
  },
  {
   "cell_type": "markdown",
   "id": "ed648d2c-2838-4e6b-8f58-2ab523b806cf",
   "metadata": {},
   "source": [
    "#### **Conclusion General**\n",
    "\n",
    "Probamos si hay una diferencia estadísticamente significativa en la conversión entre los grupos A y B utilizando la prueba no paramétrica de Mann-Wilcoxon-Whitney. Esta prueba ordena dos muestras en orden ascendente y compara los rangos de los valores que aparecen en ambas muestras.\n",
    "\n",
    "Las hipotesis planteadas son las siguientes; \n",
    "\n",
    "Hipótesis nula H0: No hay una diferencia estadísticamente significativa en la conversión entre los grupos A y B.\n",
    "\n",
    "Hipótesis alternativa H1: Hay una diferencia estadísticamente significativa en la conversión entre los grupos A y B.\n",
    "\n",
    "El valor de p de p es 0.013 es menor que el nivel alfa de 0.05, lo que significa que podemos rechazar la hipótesis nula, por ende, existe una diferenica entre la tasa de conversion de los grupos \n",
    "\n",
    "Por lo tanto, la ganancia relativa de aproximadamente el 16% del grupo B es significativa."
   ]
  },
  {
   "cell_type": "markdown",
   "id": "6181836a-0618-4ad8-ac9c-b93d85b9042f",
   "metadata": {},
   "source": [
    "#### 10. Encuentra la significancia estadística de la diferencia en el tamaño promedio de pedido entre los grupos utilizando los datos en bruto. Haz conclusiones y conjeturas."
   ]
  },
  {
   "cell_type": "code",
   "execution_count": 36,
   "id": "954c1fae-6242-47aa-a3b0-a3b9902899d6",
   "metadata": {},
   "outputs": [
    {
     "name": "stdout",
     "output_type": "stream",
     "text": [
      "p_value: 0.862\n",
      "Conversion relativa:0.278\n",
      "No se rechaza H0: No hay una diferencia estadísticamente significativa en el tamaño promedio de pedido entre los grupos A y B\n"
     ]
    }
   ],
   "source": [
    "\n",
    "p_value = stats.mannwhitneyu(orders[orders['group']=='A']['revenue'], orders[orders['group']=='B']['revenue'])[1]\n",
    "print('p_value: {0:.3f}'.format(p_value))\n",
    "\n",
    "relative_conversion = orders[orders['group']=='B']['revenue'].mean()/orders[orders['group']=='A']['revenue'].mean()-1\n",
    "print(\"Conversion relativa:{0:.3f}\".format(relative_conversion))\n",
    "\n",
    "# critical statistical significance level\n",
    "alpha = 0.05\n",
    "\n",
    "if p_value < alpha:\n",
    "    print('Se rechaza el H0: existe una diferencia estadísticamente significativa en el tamaño promedio de pedido entre los grupos A y B ')\n",
    "else:\n",
    "\n",
    "    print('No se rechaza H0: No hay una diferencia estadísticamente significativa en el tamaño promedio de pedido entre los grupos A y B')\n"
   ]
  },
  {
   "cell_type": "markdown",
   "id": "c36ecf7b-6eef-495c-8be4-a99e36c11955",
   "metadata": {},
   "source": [
    "##### **Conclusion General**"
   ]
  },
  {
   "cell_type": "markdown",
   "id": "83f2f6ab-b5ec-4a32-80a7-0325798cf915",
   "metadata": {},
   "source": [
    "Probamos la significancia estadística de la diferencia en el tamaño promedio de los pedidos entre los grupos A y B utilizando la prueba no paramétrica de Mann-Wilcoxon-Whitney. Esta prueba clasifica dos muestras en orden ascendente y compara los rangos de los valores que aparecen en ambas muestras.\n",
    "\n",
    "Hipótesis nula H0: No hay una diferencia estadísticamente significativa en el tamaño promedio de los pedidos entre los grupos A y B.\n",
    "\n",
    "Hipótesis alternativa H1: Hay una diferencia estadísticamente significativa en el tamaño promedio de los pedidos entre los grupos A y B.\n",
    "\n",
    "El valor de p de 0.862 es mayor que el nivel alfa de 0.05, lo que significa que rechazamos la hipótesis nula y determinamos que la diferencia en el tamaño promedio de los pedidos entre los grupos A y B no es estadísticamente significativa. Sin embargo, existe una ganancia relativa para el grupo B (aproximadamente del 28%)."
   ]
  },
  {
   "cell_type": "markdown",
   "id": "0b36d8d3-1098-437e-ad44-ceb41ca6ef7a",
   "metadata": {},
   "source": [
    "#### 11. Encuentra la significancia estadística de la diferencia en la conversión entre los grupos utilizando los datos filtrados. Haz conclusiones y conjeturas."
   ]
  },
  {
   "cell_type": "code",
   "execution_count": 37,
   "id": "8d1d32cd-9761-4a80-bf59-1c3e85dc25e7",
   "metadata": {},
   "outputs": [
    {
     "name": "stdout",
     "output_type": "stream",
     "text": [
      "p_value: 0.005\n",
      "Tasa de conversión relativa:0.205\n",
      "No se rechaza H0: no hay una diferencia estadísticamente significativa en la tasa de conversión entre los grupos A y B.\n"
     ]
    }
   ],
   "source": [
    "\n",
    "#Identificar anomalias con demasiados pedidos\n",
    "usersWithManyOrders = pd.concat([ordersByUsersA[ordersByUsersA['orders'] > 2]['userId'], ordersByUsersB[ordersByUsersB['orders'] > 4]['userId']], axis = 0)\n",
    "\n",
    "# Identificar anomalias con ordenes excesivas \n",
    "usersWithExpensiveOrders = orders[orders['revenue'] > 830]['visitorId']\n",
    "\n",
    "# Juntar las anomalias en una tabla y elimiar duplicados\n",
    "abnormalUsers = pd.concat([usersWithManyOrders, usersWithExpensiveOrders], axis = 0).drop_duplicates().sort_values()\n",
    "\n",
    "\n",
    "# Calcular la significancia estadística de la diferencia en la tasa de conversión entre los grupos utilizando los datos filtrados\n",
    "sampleAFiltered = pd.concat([ordersByUsersA[np.logical_not(ordersByUsersA['userId'].isin(abnormalUsers))]['orders'],pd.Series(0, index=np.arange(visits[visits['group']=='A']['visits'].sum() - len(ordersByUsersA['orders'])),name='orders')],axis=0)\n",
    "\n",
    "sampleBFiltered = pd.concat([ordersByUsersB[np.logical_not(ordersByUsersB['userId'].isin(abnormalUsers))]['orders'],pd.Series(0, index=np.arange(visits[visits['group']=='B']['visits'].sum() - len(ordersByUsersB['orders'])),name='orders')],axis=0) \n",
    "\n",
    "print('p_value: {0:.3f}'.format(stats.mannwhitneyu(sampleAFiltered, sampleBFiltered)[1]))\n",
    "print(\"Tasa de conversión relativa:{0:.3f}\".format(sampleBFiltered.mean()/sampleAFiltered.mean()-1)) \n",
    "\n",
    "# Nivel crítico de significancia estadística\n",
    "alpha = 0.05\n",
    "\n",
    "if p_value < alpha:\n",
    "    print('Rechazar la hipótesis nula: existe una diferencia significativa en la tasa de conversión entre los grupos A y B. ')\n",
    "else:\n",
    "    print('No se rechaza H0: no hay una diferencia estadísticamente significativa en la tasa de conversión entre los grupos A y B.')\n",
    "\n"
   ]
  },
  {
   "cell_type": "markdown",
   "id": "20f40399",
   "metadata": {},
   "source": [
    "##### **Conclusion General** \n",
    "\n",
    "El valor de p de 0. es mucho menor que el nivel alfa de 0.05, lo que significa que podemos rechazar la hipótesis nula y determinar que la diferencia en la tasa de conversión entre los grupos A y B no es estadísticamente significativa. Por lo tanto, la ganancia relativa del grupo B de aproximadamente el 16% es significativa."
   ]
  },
  {
   "cell_type": "markdown",
   "id": "f346d697-b249-467b-ab0f-11256302caaa",
   "metadata": {},
   "source": [
    "#### 12. Encuentra la significancia estadística de la diferencia en el tamaño promedio de pedido entre los grupos utilizando los datos filtrados. Haz conclusiones y conjeturas."
   ]
  },
  {
   "cell_type": "markdown",
   "id": "b3007367-8c7f-4108-9e0a-6ff6f6fcdc57",
   "metadata": {},
   "source": [
    "H0: no existe una diferencia estadísticamente significativa entre los grupos A y B en términos del tamaño promedio de los pedidos.\n",
    "H1:  sostiene que sí existe una diferencia estadísticamente significativa."
   ]
  },
  {
   "cell_type": "code",
   "execution_count": 38,
   "id": "951da729-46b1-405c-9d50-2c8491087239",
   "metadata": {},
   "outputs": [
    {
     "name": "stdout",
     "output_type": "stream",
     "text": [
      "p_value: 0.917\n",
      "No rechazamos la hipotesis nula \n"
     ]
    }
   ],
   "source": [
    "\n",
    "\n",
    "p_value = st.mannwhitneyu(\n",
    "    orders[np.logical_and(\n",
    "        orders['group']=='A',\n",
    "        np.logical_not(orders['visitorId'].isin(abnormalUsers)))]['revenue'],\n",
    "    orders[np.logical_and(\n",
    "        orders['group']=='B',\n",
    "        np.logical_not(orders['visitorId'].isin(abnormalUsers)))]['revenue'])[1]\n",
    "print('p_value: {0:.3f}'.format(p_value))\n",
    "\n",
    "# Nivel crítico de significancia estadística\n",
    "\n",
    "alpha = 0.05\n",
    "\n",
    "if p_value < alpha:\n",
    "    print('Rechazamos la hipotesis nula ')\n",
    "else:\n",
    "    print('No rechazamos la hipotesis nula ')\n",
    "\n",
    "    "
   ]
  },
  {
   "cell_type": "markdown",
   "id": "45e5a3e1-5f3c-46c0-a0c7-f306d37c58a4",
   "metadata": {},
   "source": [
    "##### **Conclusion General**\n",
    "\n",
    "\n",
    "Cuando planteamos una hipótesis nula (H0), estamos asumiendo que no existe una diferencia estadísticamente significativa entre los grupos A y B en términos del tamaño promedio de los pedidos. Por otro lado, la hipótesis alternativa (H1) sostiene que sí existe una diferencia estadísticamente significativa.\n",
    "\n",
    "Al realizar el análisis, elegimos un nivel de significancia conocido como \"alfa\" de 0.05. Esto significa que solo en el 5% de los casos rechazaremos la hipótesis nula si es verdadera, es decir, que solo en un pequeño porcentaje de casos erróneamente concluiremos que hay una diferencia significativa cuando en realidad no la hay.\n",
    "\n",
    "En este caso, el valor de p obtenido es de 0.934, lo cual es mayor que el nivel alfa establecido de 0.05. Esto indica que no hay suficiente evidencia estadística para rechazar la hipótesis nula y concluir que hay una diferencia significativa en el tamaño promedio de los pedidos entre los grupos A y B. En otras palabras, los datos no respaldan la idea de que exista una diferencia estadísticamente significativa en este aspecto entre los grupos.\n",
    "\n",
    "Es importante tener en cuenta que el hecho de no encontrar una diferencia significativa no significa necesariamente que las dos muestras sean idénticas, simplemente no hay suficiente evidencia para afirmar lo contrario en términos estadísticos."
   ]
  },
  {
   "cell_type": "markdown",
   "id": "6f240cab-536a-4fd9-958f-1ceeae38492f",
   "metadata": {},
   "source": [
    "#### 13. Toma una decisión basada en los resultados de la prueba"
   ]
  },
  {
   "cell_type": "markdown",
   "id": "688cedbd-3d34-4aa7-80ff-26cf8a2b1e54",
   "metadata": {},
   "source": [
    "Basándonos en los resultados del test, podemos tomar la decisión de detener el experimento, considerar al grupo B como el líder y es seguro hacer una recomendación respaldada por datos a los especialistas de marketing de que el grupo B es mejor, ya que genera mayores ingresos acumulados y tiene tamaños de pedido promedio más altos.\n",
    "\n",
    "Aunque no hay una diferencia significativa entre los grupos en cuanto al tamaño promedio de los pedidos, sí existe una diferencia estadística y significativa en la conversión entre los grupos, y la ganancia relativa de conversión del grupo B es significativa. Por lo tanto, el test ha sido exitoso."
   ]
  }
 ],
 "metadata": {
  "kernelspec": {
   "display_name": "Python 3 (ipykernel)",
   "language": "python",
   "name": "python3"
  },
  "language_info": {
   "codemirror_mode": {
    "name": "ipython",
    "version": 3
   },
   "file_extension": ".py",
   "mimetype": "text/x-python",
   "name": "python",
   "nbconvert_exporter": "python",
   "pygments_lexer": "ipython3",
   "version": "3.9.12"
  },
  "toc": {
   "base_numbering": 1,
   "nav_menu": {},
   "number_sections": true,
   "sideBar": true,
   "skip_h1_title": true,
   "title_cell": "Table of Contents",
   "title_sidebar": "Contents",
   "toc_cell": true,
   "toc_position": {},
   "toc_section_display": true,
   "toc_window_display": false
  }
 },
 "nbformat": 4,
 "nbformat_minor": 5
}
