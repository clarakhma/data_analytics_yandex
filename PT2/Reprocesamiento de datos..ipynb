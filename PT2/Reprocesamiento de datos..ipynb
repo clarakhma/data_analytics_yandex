{
 "cells": [
  {
   "cell_type": "markdown",
   "metadata": {},
   "source": [
    "# Análisis del riesgo de incumplimiento de los prestatarios\n",
    "\n",
    "Tu proyecto consiste en preparar un informe para la división de préstamos de un banco. Deberás averiguar si el estado civil y el número de hijos de un cliente tienen un impacto en el incumplimiento de pago de un préstamo. El banco ya tiene algunos datos sobre la solvencia crediticia de los clientes.\n",
    "\n",
    "Tu informe se tendrá en cuenta al crear una **puntuación de crédito** para un cliente potencial. La **puntuación de crédito** se utiliza para evaluar la capacidad de un prestatario potencial para pagar su préstamo.\n"
   ]
  },
  {
   "cell_type": "markdown",
   "metadata": {},
   "source": [
    "## Abre el archivo de datos y mira la información general. \n"
   ]
  },
  {
   "cell_type": "code",
   "execution_count": 1,
   "metadata": {},
   "outputs": [],
   "source": [
    "import pandas as pd\n",
    "import numpy as np\n"
   ]
  },
  {
   "cell_type": "code",
   "execution_count": 2,
   "metadata": {},
   "outputs": [
    {
     "data": {
      "text/html": [
       "<div>\n",
       "<style scoped>\n",
       "    .dataframe tbody tr th:only-of-type {\n",
       "        vertical-align: middle;\n",
       "    }\n",
       "\n",
       "    .dataframe tbody tr th {\n",
       "        vertical-align: top;\n",
       "    }\n",
       "\n",
       "    .dataframe thead th {\n",
       "        text-align: right;\n",
       "    }\n",
       "</style>\n",
       "<table border=\"1\" class=\"dataframe\">\n",
       "  <thead>\n",
       "    <tr style=\"text-align: right;\">\n",
       "      <th></th>\n",
       "      <th>children</th>\n",
       "      <th>days_employed</th>\n",
       "      <th>dob_years</th>\n",
       "      <th>education</th>\n",
       "      <th>education_id</th>\n",
       "      <th>family_status</th>\n",
       "      <th>family_status_id</th>\n",
       "      <th>gender</th>\n",
       "      <th>income_type</th>\n",
       "      <th>debt</th>\n",
       "      <th>total_income</th>\n",
       "      <th>purpose</th>\n",
       "    </tr>\n",
       "  </thead>\n",
       "  <tbody>\n",
       "    <tr>\n",
       "      <th>0</th>\n",
       "      <td>1</td>\n",
       "      <td>-8437.673028</td>\n",
       "      <td>42</td>\n",
       "      <td>bachelor's degree</td>\n",
       "      <td>0</td>\n",
       "      <td>married</td>\n",
       "      <td>0</td>\n",
       "      <td>F</td>\n",
       "      <td>employee</td>\n",
       "      <td>0</td>\n",
       "      <td>40620.102</td>\n",
       "      <td>purchase of the house</td>\n",
       "    </tr>\n",
       "    <tr>\n",
       "      <th>1</th>\n",
       "      <td>1</td>\n",
       "      <td>-4024.803754</td>\n",
       "      <td>36</td>\n",
       "      <td>secondary education</td>\n",
       "      <td>1</td>\n",
       "      <td>married</td>\n",
       "      <td>0</td>\n",
       "      <td>F</td>\n",
       "      <td>employee</td>\n",
       "      <td>0</td>\n",
       "      <td>17932.802</td>\n",
       "      <td>car purchase</td>\n",
       "    </tr>\n",
       "    <tr>\n",
       "      <th>2</th>\n",
       "      <td>0</td>\n",
       "      <td>-5623.422610</td>\n",
       "      <td>33</td>\n",
       "      <td>Secondary Education</td>\n",
       "      <td>1</td>\n",
       "      <td>married</td>\n",
       "      <td>0</td>\n",
       "      <td>M</td>\n",
       "      <td>employee</td>\n",
       "      <td>0</td>\n",
       "      <td>23341.752</td>\n",
       "      <td>purchase of the house</td>\n",
       "    </tr>\n",
       "    <tr>\n",
       "      <th>3</th>\n",
       "      <td>3</td>\n",
       "      <td>-4124.747207</td>\n",
       "      <td>32</td>\n",
       "      <td>secondary education</td>\n",
       "      <td>1</td>\n",
       "      <td>married</td>\n",
       "      <td>0</td>\n",
       "      <td>M</td>\n",
       "      <td>employee</td>\n",
       "      <td>0</td>\n",
       "      <td>42820.568</td>\n",
       "      <td>supplementary education</td>\n",
       "    </tr>\n",
       "    <tr>\n",
       "      <th>4</th>\n",
       "      <td>0</td>\n",
       "      <td>340266.072047</td>\n",
       "      <td>53</td>\n",
       "      <td>secondary education</td>\n",
       "      <td>1</td>\n",
       "      <td>civil partnership</td>\n",
       "      <td>1</td>\n",
       "      <td>F</td>\n",
       "      <td>retiree</td>\n",
       "      <td>0</td>\n",
       "      <td>25378.572</td>\n",
       "      <td>to have a wedding</td>\n",
       "    </tr>\n",
       "    <tr>\n",
       "      <th>...</th>\n",
       "      <td>...</td>\n",
       "      <td>...</td>\n",
       "      <td>...</td>\n",
       "      <td>...</td>\n",
       "      <td>...</td>\n",
       "      <td>...</td>\n",
       "      <td>...</td>\n",
       "      <td>...</td>\n",
       "      <td>...</td>\n",
       "      <td>...</td>\n",
       "      <td>...</td>\n",
       "      <td>...</td>\n",
       "    </tr>\n",
       "    <tr>\n",
       "      <th>21520</th>\n",
       "      <td>1</td>\n",
       "      <td>-4529.316663</td>\n",
       "      <td>43</td>\n",
       "      <td>secondary education</td>\n",
       "      <td>1</td>\n",
       "      <td>civil partnership</td>\n",
       "      <td>1</td>\n",
       "      <td>F</td>\n",
       "      <td>business</td>\n",
       "      <td>0</td>\n",
       "      <td>35966.698</td>\n",
       "      <td>housing transactions</td>\n",
       "    </tr>\n",
       "    <tr>\n",
       "      <th>21521</th>\n",
       "      <td>0</td>\n",
       "      <td>343937.404131</td>\n",
       "      <td>67</td>\n",
       "      <td>secondary education</td>\n",
       "      <td>1</td>\n",
       "      <td>married</td>\n",
       "      <td>0</td>\n",
       "      <td>F</td>\n",
       "      <td>retiree</td>\n",
       "      <td>0</td>\n",
       "      <td>24959.969</td>\n",
       "      <td>purchase of a car</td>\n",
       "    </tr>\n",
       "    <tr>\n",
       "      <th>21522</th>\n",
       "      <td>1</td>\n",
       "      <td>-2113.346888</td>\n",
       "      <td>38</td>\n",
       "      <td>secondary education</td>\n",
       "      <td>1</td>\n",
       "      <td>civil partnership</td>\n",
       "      <td>1</td>\n",
       "      <td>M</td>\n",
       "      <td>employee</td>\n",
       "      <td>1</td>\n",
       "      <td>14347.610</td>\n",
       "      <td>property</td>\n",
       "    </tr>\n",
       "    <tr>\n",
       "      <th>21523</th>\n",
       "      <td>3</td>\n",
       "      <td>-3112.481705</td>\n",
       "      <td>38</td>\n",
       "      <td>secondary education</td>\n",
       "      <td>1</td>\n",
       "      <td>married</td>\n",
       "      <td>0</td>\n",
       "      <td>M</td>\n",
       "      <td>employee</td>\n",
       "      <td>1</td>\n",
       "      <td>39054.888</td>\n",
       "      <td>buying my own car</td>\n",
       "    </tr>\n",
       "    <tr>\n",
       "      <th>21524</th>\n",
       "      <td>2</td>\n",
       "      <td>-1984.507589</td>\n",
       "      <td>40</td>\n",
       "      <td>secondary education</td>\n",
       "      <td>1</td>\n",
       "      <td>married</td>\n",
       "      <td>0</td>\n",
       "      <td>F</td>\n",
       "      <td>employee</td>\n",
       "      <td>0</td>\n",
       "      <td>13127.587</td>\n",
       "      <td>to buy a car</td>\n",
       "    </tr>\n",
       "  </tbody>\n",
       "</table>\n",
       "<p>21525 rows × 12 columns</p>\n",
       "</div>"
      ],
      "text/plain": [
       "       children  days_employed  dob_years            education  education_id  \\\n",
       "0             1   -8437.673028         42    bachelor's degree             0   \n",
       "1             1   -4024.803754         36  secondary education             1   \n",
       "2             0   -5623.422610         33  Secondary Education             1   \n",
       "3             3   -4124.747207         32  secondary education             1   \n",
       "4             0  340266.072047         53  secondary education             1   \n",
       "...         ...            ...        ...                  ...           ...   \n",
       "21520         1   -4529.316663         43  secondary education             1   \n",
       "21521         0  343937.404131         67  secondary education             1   \n",
       "21522         1   -2113.346888         38  secondary education             1   \n",
       "21523         3   -3112.481705         38  secondary education             1   \n",
       "21524         2   -1984.507589         40  secondary education             1   \n",
       "\n",
       "           family_status  family_status_id gender income_type  debt  \\\n",
       "0                married                 0      F    employee     0   \n",
       "1                married                 0      F    employee     0   \n",
       "2                married                 0      M    employee     0   \n",
       "3                married                 0      M    employee     0   \n",
       "4      civil partnership                 1      F     retiree     0   \n",
       "...                  ...               ...    ...         ...   ...   \n",
       "21520  civil partnership                 1      F    business     0   \n",
       "21521            married                 0      F     retiree     0   \n",
       "21522  civil partnership                 1      M    employee     1   \n",
       "21523            married                 0      M    employee     1   \n",
       "21524            married                 0      F    employee     0   \n",
       "\n",
       "       total_income                  purpose  \n",
       "0         40620.102    purchase of the house  \n",
       "1         17932.802             car purchase  \n",
       "2         23341.752    purchase of the house  \n",
       "3         42820.568  supplementary education  \n",
       "4         25378.572        to have a wedding  \n",
       "...             ...                      ...  \n",
       "21520     35966.698     housing transactions  \n",
       "21521     24959.969        purchase of a car  \n",
       "21522     14347.610                 property  \n",
       "21523     39054.888        buying my own car  \n",
       "21524     13127.587             to buy a car  \n",
       "\n",
       "[21525 rows x 12 columns]"
      ]
     },
     "execution_count": 2,
     "metadata": {},
     "output_type": "execute_result"
    }
   ],
   "source": [
    "data = pd.read_csv('credit_scoring_eng.csv')\n",
    "data\n"
   ]
  },
  {
   "cell_type": "markdown",
   "metadata": {},
   "source": [
    "## Ejercicio 1. Exploración de datos\n",
    "\n",
    "**Descripción de los datos**\n",
    "- `children` - el número de hijos en la familia\n",
    "- `days_employed` - experiencia laboral en días\n",
    "- `dob_years` - la edad del cliente en años\n",
    "- `education` - la educación del cliente\n",
    "- `education_id` - identificador de educación\n",
    "- `family_status` - estado civil\n",
    "- `family_status_id` - identificador de estado civil\n",
    "- `gender` - género del cliente\n",
    "- `income_type` - tipo de empleo\n",
    "- `debt` - ¿había alguna deuda en el pago de un préstamo?\n",
    "- `total_income` - ingreso mensual\n",
    "- `purpose` - el propósito de obtener un préstamo\n",
    "\n",
    "[Ahora vamos a explorar nuestros datos. Querrás ver cuántas columnas y filas hay, observa algunas filas para identificar posibles problemas con los datos.]"
   ]
  },
  {
   "cell_type": "code",
   "execution_count": 3,
   "metadata": {},
   "outputs": [
    {
     "name": "stdout",
     "output_type": "stream",
     "text": [
      "float64\n"
     ]
    }
   ],
   "source": [
    "print(data['total_income'].dtype)"
   ]
  },
  {
   "cell_type": "code",
   "execution_count": 4,
   "metadata": {},
   "outputs": [
    {
     "data": {
      "text/plain": [
       "(21525, 12)"
      ]
     },
     "execution_count": 4,
     "metadata": {},
     "output_type": "execute_result"
    }
   ],
   "source": [
    "# Vamos a ver cuántas filas y columnas tiene nuestro conjunto de datos\n",
    "data.shape\n"
   ]
  },
  {
   "cell_type": "code",
   "execution_count": 5,
   "metadata": {},
   "outputs": [
    {
     "data": {
      "text/plain": [
       "children              int64\n",
       "days_employed       float64\n",
       "dob_years             int64\n",
       "education            object\n",
       "education_id          int64\n",
       "family_status        object\n",
       "family_status_id      int64\n",
       "gender               object\n",
       "income_type          object\n",
       "debt                  int64\n",
       "total_income        float64\n",
       "purpose              object\n",
       "dtype: object"
      ]
     },
     "execution_count": 5,
     "metadata": {},
     "output_type": "execute_result"
    }
   ],
   "source": [
    "data.dtypes"
   ]
  },
  {
   "cell_type": "code",
   "execution_count": 6,
   "metadata": {},
   "outputs": [
    {
     "data": {
      "text/plain": [
       "Index(['children', 'days_employed', 'dob_years', 'education', 'education_id',\n",
       "       'family_status', 'family_status_id', 'gender', 'income_type', 'debt',\n",
       "       'total_income', 'purpose'],\n",
       "      dtype='object')"
      ]
     },
     "execution_count": 6,
     "metadata": {},
     "output_type": "execute_result"
    }
   ],
   "source": [
    "data.columns"
   ]
  },
  {
   "cell_type": "code",
   "execution_count": 7,
   "metadata": {
    "scrolled": true
   },
   "outputs": [
    {
     "data": {
      "text/html": [
       "<div>\n",
       "<style scoped>\n",
       "    .dataframe tbody tr th:only-of-type {\n",
       "        vertical-align: middle;\n",
       "    }\n",
       "\n",
       "    .dataframe tbody tr th {\n",
       "        vertical-align: top;\n",
       "    }\n",
       "\n",
       "    .dataframe thead th {\n",
       "        text-align: right;\n",
       "    }\n",
       "</style>\n",
       "<table border=\"1\" class=\"dataframe\">\n",
       "  <thead>\n",
       "    <tr style=\"text-align: right;\">\n",
       "      <th></th>\n",
       "      <th>children</th>\n",
       "      <th>days_employed</th>\n",
       "      <th>dob_years</th>\n",
       "      <th>education</th>\n",
       "      <th>education_id</th>\n",
       "      <th>family_status</th>\n",
       "      <th>family_status_id</th>\n",
       "      <th>gender</th>\n",
       "      <th>income_type</th>\n",
       "      <th>debt</th>\n",
       "      <th>total_income</th>\n",
       "      <th>purpose</th>\n",
       "    </tr>\n",
       "  </thead>\n",
       "  <tbody>\n",
       "    <tr>\n",
       "      <th>0</th>\n",
       "      <td>1</td>\n",
       "      <td>-8437.673028</td>\n",
       "      <td>42</td>\n",
       "      <td>bachelor's degree</td>\n",
       "      <td>0</td>\n",
       "      <td>married</td>\n",
       "      <td>0</td>\n",
       "      <td>F</td>\n",
       "      <td>employee</td>\n",
       "      <td>0</td>\n",
       "      <td>40620.102</td>\n",
       "      <td>purchase of the house</td>\n",
       "    </tr>\n",
       "    <tr>\n",
       "      <th>1</th>\n",
       "      <td>1</td>\n",
       "      <td>-4024.803754</td>\n",
       "      <td>36</td>\n",
       "      <td>secondary education</td>\n",
       "      <td>1</td>\n",
       "      <td>married</td>\n",
       "      <td>0</td>\n",
       "      <td>F</td>\n",
       "      <td>employee</td>\n",
       "      <td>0</td>\n",
       "      <td>17932.802</td>\n",
       "      <td>car purchase</td>\n",
       "    </tr>\n",
       "    <tr>\n",
       "      <th>2</th>\n",
       "      <td>0</td>\n",
       "      <td>-5623.422610</td>\n",
       "      <td>33</td>\n",
       "      <td>Secondary Education</td>\n",
       "      <td>1</td>\n",
       "      <td>married</td>\n",
       "      <td>0</td>\n",
       "      <td>M</td>\n",
       "      <td>employee</td>\n",
       "      <td>0</td>\n",
       "      <td>23341.752</td>\n",
       "      <td>purchase of the house</td>\n",
       "    </tr>\n",
       "    <tr>\n",
       "      <th>3</th>\n",
       "      <td>3</td>\n",
       "      <td>-4124.747207</td>\n",
       "      <td>32</td>\n",
       "      <td>secondary education</td>\n",
       "      <td>1</td>\n",
       "      <td>married</td>\n",
       "      <td>0</td>\n",
       "      <td>M</td>\n",
       "      <td>employee</td>\n",
       "      <td>0</td>\n",
       "      <td>42820.568</td>\n",
       "      <td>supplementary education</td>\n",
       "    </tr>\n",
       "    <tr>\n",
       "      <th>4</th>\n",
       "      <td>0</td>\n",
       "      <td>340266.072047</td>\n",
       "      <td>53</td>\n",
       "      <td>secondary education</td>\n",
       "      <td>1</td>\n",
       "      <td>civil partnership</td>\n",
       "      <td>1</td>\n",
       "      <td>F</td>\n",
       "      <td>retiree</td>\n",
       "      <td>0</td>\n",
       "      <td>25378.572</td>\n",
       "      <td>to have a wedding</td>\n",
       "    </tr>\n",
       "  </tbody>\n",
       "</table>\n",
       "</div>"
      ],
      "text/plain": [
       "   children  days_employed  dob_years            education  education_id  \\\n",
       "0         1   -8437.673028         42    bachelor's degree             0   \n",
       "1         1   -4024.803754         36  secondary education             1   \n",
       "2         0   -5623.422610         33  Secondary Education             1   \n",
       "3         3   -4124.747207         32  secondary education             1   \n",
       "4         0  340266.072047         53  secondary education             1   \n",
       "\n",
       "       family_status  family_status_id gender income_type  debt  total_income  \\\n",
       "0            married                 0      F    employee     0     40620.102   \n",
       "1            married                 0      F    employee     0     17932.802   \n",
       "2            married                 0      M    employee     0     23341.752   \n",
       "3            married                 0      M    employee     0     42820.568   \n",
       "4  civil partnership                 1      F     retiree     0     25378.572   \n",
       "\n",
       "                   purpose  \n",
       "0    purchase of the house  \n",
       "1             car purchase  \n",
       "2    purchase of the house  \n",
       "3  supplementary education  \n",
       "4        to have a wedding  "
      ]
     },
     "execution_count": 7,
     "metadata": {},
     "output_type": "execute_result"
    }
   ],
   "source": [
    "# vamos a mostrar las primeras filas N\n",
    "data.head()\n"
   ]
  },
  {
   "cell_type": "markdown",
   "metadata": {},
   "source": [
    "En total la base de datos tiene 12 columnas y 21525 filas. se destribuyen en formato float, int y object. \n",
    "a simple vista se puede detectar que en las columnas \"days_employed\"  y \"total_income \" tienen valores ausentes."
   ]
  },
  {
   "cell_type": "code",
   "execution_count": 8,
   "metadata": {},
   "outputs": [
    {
     "name": "stdout",
     "output_type": "stream",
     "text": [
      "<class 'pandas.core.frame.DataFrame'>\n",
      "RangeIndex: 21525 entries, 0 to 21524\n",
      "Data columns (total 12 columns):\n",
      " #   Column            Non-Null Count  Dtype  \n",
      "---  ------            --------------  -----  \n",
      " 0   children          21525 non-null  int64  \n",
      " 1   days_employed     19351 non-null  float64\n",
      " 2   dob_years         21525 non-null  int64  \n",
      " 3   education         21525 non-null  object \n",
      " 4   education_id      21525 non-null  int64  \n",
      " 5   family_status     21525 non-null  object \n",
      " 6   family_status_id  21525 non-null  int64  \n",
      " 7   gender            21525 non-null  object \n",
      " 8   income_type       21525 non-null  object \n",
      " 9   debt              21525 non-null  int64  \n",
      " 10  total_income      19351 non-null  float64\n",
      " 11  purpose           21525 non-null  object \n",
      "dtypes: float64(2), int64(5), object(5)\n",
      "memory usage: 2.0+ MB\n"
     ]
    }
   ],
   "source": [
    "# Obtener información sobre los datos\n",
    "data.info()"
   ]
  },
  {
   "cell_type": "code",
   "execution_count": 9,
   "metadata": {},
   "outputs": [
    {
     "data": {
      "text/html": [
       "<div>\n",
       "<style scoped>\n",
       "    .dataframe tbody tr th:only-of-type {\n",
       "        vertical-align: middle;\n",
       "    }\n",
       "\n",
       "    .dataframe tbody tr th {\n",
       "        vertical-align: top;\n",
       "    }\n",
       "\n",
       "    .dataframe thead th {\n",
       "        text-align: right;\n",
       "    }\n",
       "</style>\n",
       "<table border=\"1\" class=\"dataframe\">\n",
       "  <thead>\n",
       "    <tr style=\"text-align: right;\">\n",
       "      <th></th>\n",
       "      <th>0</th>\n",
       "      <th>1</th>\n",
       "      <th>2</th>\n",
       "      <th>3</th>\n",
       "      <th>4</th>\n",
       "      <th>5</th>\n",
       "      <th>6</th>\n",
       "      <th>7</th>\n",
       "      <th>8</th>\n",
       "      <th>9</th>\n",
       "      <th>10</th>\n",
       "      <th>11</th>\n",
       "    </tr>\n",
       "  </thead>\n",
       "  <tbody>\n",
       "    <tr>\n",
       "      <th>Variables</th>\n",
       "      <td>days_employed</td>\n",
       "      <td>total_income</td>\n",
       "      <td>children</td>\n",
       "      <td>dob_years</td>\n",
       "      <td>education</td>\n",
       "      <td>education_id</td>\n",
       "      <td>family_status</td>\n",
       "      <td>family_status_id</td>\n",
       "      <td>gender</td>\n",
       "      <td>income_type</td>\n",
       "      <td>debt</td>\n",
       "      <td>purpose</td>\n",
       "    </tr>\n",
       "    <tr>\n",
       "      <th>Missing</th>\n",
       "      <td>2174</td>\n",
       "      <td>2174</td>\n",
       "      <td>0</td>\n",
       "      <td>0</td>\n",
       "      <td>0</td>\n",
       "      <td>0</td>\n",
       "      <td>0</td>\n",
       "      <td>0</td>\n",
       "      <td>0</td>\n",
       "      <td>0</td>\n",
       "      <td>0</td>\n",
       "      <td>0</td>\n",
       "    </tr>\n",
       "  </tbody>\n",
       "</table>\n",
       "</div>"
      ],
      "text/plain": [
       "                      0             1         2          3          4   \\\n",
       "Variables  days_employed  total_income  children  dob_years  education   \n",
       "Missing             2174          2174         0          0          0   \n",
       "\n",
       "                     5              6                 7       8            9   \\\n",
       "Variables  education_id  family_status  family_status_id  gender  income_type   \n",
       "Missing               0              0                 0       0            0   \n",
       "\n",
       "             10       11  \n",
       "Variables  debt  purpose  \n",
       "Missing       0        0  "
      ]
     },
     "execution_count": 9,
     "metadata": {},
     "output_type": "execute_result"
    }
   ],
   "source": [
    "(data.isna()\n",
    " .sum()\n",
    " .sort_values(ascending=False)\n",
    " .reset_index()\n",
    " .rename(columns = {'index' : 'Variables', 0: 'Missing'})\n",
    ").T"
   ]
  },
  {
   "cell_type": "markdown",
   "metadata": {},
   "source": [
    "De la base de datos existen dos cateogiras con valores ausentes: \"days_employed\"  y \"total_income \""
   ]
  },
  {
   "cell_type": "code",
   "execution_count": 10,
   "metadata": {},
   "outputs": [
    {
     "data": {
      "text/html": [
       "<div>\n",
       "<style scoped>\n",
       "    .dataframe tbody tr th:only-of-type {\n",
       "        vertical-align: middle;\n",
       "    }\n",
       "\n",
       "    .dataframe tbody tr th {\n",
       "        vertical-align: top;\n",
       "    }\n",
       "\n",
       "    .dataframe thead th {\n",
       "        text-align: right;\n",
       "    }\n",
       "</style>\n",
       "<table border=\"1\" class=\"dataframe\">\n",
       "  <thead>\n",
       "    <tr style=\"text-align: right;\">\n",
       "      <th></th>\n",
       "      <th>children</th>\n",
       "      <th>days_employed</th>\n",
       "      <th>dob_years</th>\n",
       "      <th>education</th>\n",
       "      <th>education_id</th>\n",
       "      <th>family_status</th>\n",
       "      <th>family_status_id</th>\n",
       "      <th>gender</th>\n",
       "      <th>income_type</th>\n",
       "      <th>debt</th>\n",
       "      <th>total_income</th>\n",
       "      <th>purpose</th>\n",
       "    </tr>\n",
       "  </thead>\n",
       "  <tbody>\n",
       "    <tr>\n",
       "      <th>12</th>\n",
       "      <td>0</td>\n",
       "      <td>NaN</td>\n",
       "      <td>65</td>\n",
       "      <td>secondary education</td>\n",
       "      <td>1</td>\n",
       "      <td>civil partnership</td>\n",
       "      <td>1</td>\n",
       "      <td>M</td>\n",
       "      <td>retiree</td>\n",
       "      <td>0</td>\n",
       "      <td>NaN</td>\n",
       "      <td>to have a wedding</td>\n",
       "    </tr>\n",
       "    <tr>\n",
       "      <th>26</th>\n",
       "      <td>0</td>\n",
       "      <td>NaN</td>\n",
       "      <td>41</td>\n",
       "      <td>secondary education</td>\n",
       "      <td>1</td>\n",
       "      <td>married</td>\n",
       "      <td>0</td>\n",
       "      <td>M</td>\n",
       "      <td>civil servant</td>\n",
       "      <td>0</td>\n",
       "      <td>NaN</td>\n",
       "      <td>education</td>\n",
       "    </tr>\n",
       "    <tr>\n",
       "      <th>29</th>\n",
       "      <td>0</td>\n",
       "      <td>NaN</td>\n",
       "      <td>63</td>\n",
       "      <td>secondary education</td>\n",
       "      <td>1</td>\n",
       "      <td>unmarried</td>\n",
       "      <td>4</td>\n",
       "      <td>F</td>\n",
       "      <td>retiree</td>\n",
       "      <td>0</td>\n",
       "      <td>NaN</td>\n",
       "      <td>building a real estate</td>\n",
       "    </tr>\n",
       "    <tr>\n",
       "      <th>41</th>\n",
       "      <td>0</td>\n",
       "      <td>NaN</td>\n",
       "      <td>50</td>\n",
       "      <td>secondary education</td>\n",
       "      <td>1</td>\n",
       "      <td>married</td>\n",
       "      <td>0</td>\n",
       "      <td>F</td>\n",
       "      <td>civil servant</td>\n",
       "      <td>0</td>\n",
       "      <td>NaN</td>\n",
       "      <td>second-hand car purchase</td>\n",
       "    </tr>\n",
       "    <tr>\n",
       "      <th>55</th>\n",
       "      <td>0</td>\n",
       "      <td>NaN</td>\n",
       "      <td>54</td>\n",
       "      <td>secondary education</td>\n",
       "      <td>1</td>\n",
       "      <td>civil partnership</td>\n",
       "      <td>1</td>\n",
       "      <td>F</td>\n",
       "      <td>retiree</td>\n",
       "      <td>1</td>\n",
       "      <td>NaN</td>\n",
       "      <td>to have a wedding</td>\n",
       "    </tr>\n",
       "    <tr>\n",
       "      <th>...</th>\n",
       "      <td>...</td>\n",
       "      <td>...</td>\n",
       "      <td>...</td>\n",
       "      <td>...</td>\n",
       "      <td>...</td>\n",
       "      <td>...</td>\n",
       "      <td>...</td>\n",
       "      <td>...</td>\n",
       "      <td>...</td>\n",
       "      <td>...</td>\n",
       "      <td>...</td>\n",
       "      <td>...</td>\n",
       "    </tr>\n",
       "    <tr>\n",
       "      <th>21489</th>\n",
       "      <td>2</td>\n",
       "      <td>NaN</td>\n",
       "      <td>47</td>\n",
       "      <td>Secondary Education</td>\n",
       "      <td>1</td>\n",
       "      <td>married</td>\n",
       "      <td>0</td>\n",
       "      <td>M</td>\n",
       "      <td>business</td>\n",
       "      <td>0</td>\n",
       "      <td>NaN</td>\n",
       "      <td>purchase of a car</td>\n",
       "    </tr>\n",
       "    <tr>\n",
       "      <th>21495</th>\n",
       "      <td>1</td>\n",
       "      <td>NaN</td>\n",
       "      <td>50</td>\n",
       "      <td>secondary education</td>\n",
       "      <td>1</td>\n",
       "      <td>civil partnership</td>\n",
       "      <td>1</td>\n",
       "      <td>F</td>\n",
       "      <td>employee</td>\n",
       "      <td>0</td>\n",
       "      <td>NaN</td>\n",
       "      <td>wedding ceremony</td>\n",
       "    </tr>\n",
       "    <tr>\n",
       "      <th>21497</th>\n",
       "      <td>0</td>\n",
       "      <td>NaN</td>\n",
       "      <td>48</td>\n",
       "      <td>BACHELOR'S DEGREE</td>\n",
       "      <td>0</td>\n",
       "      <td>married</td>\n",
       "      <td>0</td>\n",
       "      <td>F</td>\n",
       "      <td>business</td>\n",
       "      <td>0</td>\n",
       "      <td>NaN</td>\n",
       "      <td>building a property</td>\n",
       "    </tr>\n",
       "    <tr>\n",
       "      <th>21502</th>\n",
       "      <td>1</td>\n",
       "      <td>NaN</td>\n",
       "      <td>42</td>\n",
       "      <td>secondary education</td>\n",
       "      <td>1</td>\n",
       "      <td>married</td>\n",
       "      <td>0</td>\n",
       "      <td>F</td>\n",
       "      <td>employee</td>\n",
       "      <td>0</td>\n",
       "      <td>NaN</td>\n",
       "      <td>building a real estate</td>\n",
       "    </tr>\n",
       "    <tr>\n",
       "      <th>21510</th>\n",
       "      <td>2</td>\n",
       "      <td>NaN</td>\n",
       "      <td>28</td>\n",
       "      <td>secondary education</td>\n",
       "      <td>1</td>\n",
       "      <td>married</td>\n",
       "      <td>0</td>\n",
       "      <td>F</td>\n",
       "      <td>employee</td>\n",
       "      <td>0</td>\n",
       "      <td>NaN</td>\n",
       "      <td>car purchase</td>\n",
       "    </tr>\n",
       "  </tbody>\n",
       "</table>\n",
       "<p>2174 rows × 12 columns</p>\n",
       "</div>"
      ],
      "text/plain": [
       "       children  days_employed  dob_years            education  education_id  \\\n",
       "12            0            NaN         65  secondary education             1   \n",
       "26            0            NaN         41  secondary education             1   \n",
       "29            0            NaN         63  secondary education             1   \n",
       "41            0            NaN         50  secondary education             1   \n",
       "55            0            NaN         54  secondary education             1   \n",
       "...         ...            ...        ...                  ...           ...   \n",
       "21489         2            NaN         47  Secondary Education             1   \n",
       "21495         1            NaN         50  secondary education             1   \n",
       "21497         0            NaN         48    BACHELOR'S DEGREE             0   \n",
       "21502         1            NaN         42  secondary education             1   \n",
       "21510         2            NaN         28  secondary education             1   \n",
       "\n",
       "           family_status  family_status_id gender    income_type  debt  \\\n",
       "12     civil partnership                 1      M        retiree     0   \n",
       "26               married                 0      M  civil servant     0   \n",
       "29             unmarried                 4      F        retiree     0   \n",
       "41               married                 0      F  civil servant     0   \n",
       "55     civil partnership                 1      F        retiree     1   \n",
       "...                  ...               ...    ...            ...   ...   \n",
       "21489            married                 0      M       business     0   \n",
       "21495  civil partnership                 1      F       employee     0   \n",
       "21497            married                 0      F       business     0   \n",
       "21502            married                 0      F       employee     0   \n",
       "21510            married                 0      F       employee     0   \n",
       "\n",
       "       total_income                   purpose  \n",
       "12              NaN         to have a wedding  \n",
       "26              NaN                 education  \n",
       "29              NaN    building a real estate  \n",
       "41              NaN  second-hand car purchase  \n",
       "55              NaN         to have a wedding  \n",
       "...             ...                       ...  \n",
       "21489           NaN         purchase of a car  \n",
       "21495           NaN          wedding ceremony  \n",
       "21497           NaN       building a property  \n",
       "21502           NaN    building a real estate  \n",
       "21510           NaN              car purchase  \n",
       "\n",
       "[2174 rows x 12 columns]"
      ]
     },
     "execution_count": 10,
     "metadata": {},
     "output_type": "execute_result"
    }
   ],
   "source": [
    "# Veamos la tabla filtrada con valores ausentes de la primera columna donde faltan datos\n",
    "\n",
    "data_filtrada=data[data['days_employed'].isnull()]\n",
    "data_filtrada"
   ]
  },
  {
   "cell_type": "code",
   "execution_count": 11,
   "metadata": {},
   "outputs": [
    {
     "data": {
      "text/plain": [
       "0"
      ]
     },
     "execution_count": 11,
     "metadata": {},
     "output_type": "execute_result"
    }
   ],
   "source": [
    "data_filtrada['total_income'].count()\n",
    "\n",
    "#al contar la columa en nuestra nueva variable no figuran datos, es decir todos estan vacios "
   ]
  },
  {
   "cell_type": "markdown",
   "metadata": {},
   "source": [
    "A simple vista  parecen simetrico ua que tienen el mismo numero e valores ausentes entre ambas "
   ]
  },
  {
   "cell_type": "code",
   "execution_count": 12,
   "metadata": {
    "scrolled": true
   },
   "outputs": [
    {
     "name": "stdout",
     "output_type": "stream",
     "text": [
      "tenemos un total de 2174 valores ausentes \n"
     ]
    }
   ],
   "source": [
    "# Apliquemos múltiples condiciones para filtrar datos y veamos el número de filas en la tabla filtrada.\n",
    "\n",
    "data_filtrada=data[(data['days_employed'].isnull())&(data['total_income'].isnull())]\n",
    "print(f'tenemos un total de {len(data_filtrada)} valores ausentes ')"
   ]
  },
  {
   "cell_type": "code",
   "execution_count": 13,
   "metadata": {},
   "outputs": [
    {
     "name": "stdout",
     "output_type": "stream",
     "text": [
      " El 10.1 % son valores ausentes \n"
     ]
    }
   ],
   "source": [
    "porcentaje_ausentes=round(len(data_filtrada)/len(data)* 100,1)\n",
    "print(f' El {(porcentaje_ausentes)} % son valores ausentes ')"
   ]
  },
  {
   "cell_type": "markdown",
   "metadata": {},
   "source": [
    "**Conclusión intermedia**\n",
    "\n",
    "El número de filas en la tabla filtrada coincide con el número de valores ausentes, de un total de  21525, 2174 son valores ausentes. los datos ausentes parecen simetricos, ya que los valores ausentes corresponden a los mismos usuario entre ambas columnas. se desconoce el motivo real de esto, puede ser debido a que los uuarios quisieron omitir esos campos o pudo haber sido una caida del sistema o carga.\n",
    "\n",
    "En total el 10,1% son valores ausentes y la magnitud de la proporcion lo definira el cliente, ese porcentaje puede ser tanto significativo como minimo para él. en caso que sea valiosa se debera completar los valores ausentes de acuerdo a su criterio. Pero en este caso, despues de haber notificado el problema, se tienen que identificar los valores ausentes, y de acuerdo al motivo, se rellenaran para no generar un problema al analisis final. \n"
   ]
  },
  {
   "cell_type": "code",
   "execution_count": 14,
   "metadata": {},
   "outputs": [
    {
     "data": {
      "text/html": [
       "<div>\n",
       "<style scoped>\n",
       "    .dataframe tbody tr th:only-of-type {\n",
       "        vertical-align: middle;\n",
       "    }\n",
       "\n",
       "    .dataframe tbody tr th {\n",
       "        vertical-align: top;\n",
       "    }\n",
       "\n",
       "    .dataframe thead th {\n",
       "        text-align: right;\n",
       "    }\n",
       "</style>\n",
       "<table border=\"1\" class=\"dataframe\">\n",
       "  <thead>\n",
       "    <tr style=\"text-align: right;\">\n",
       "      <th></th>\n",
       "      <th>children</th>\n",
       "      <th>days_employed</th>\n",
       "      <th>dob_years</th>\n",
       "      <th>education</th>\n",
       "      <th>education_id</th>\n",
       "      <th>family_status</th>\n",
       "      <th>family_status_id</th>\n",
       "      <th>gender</th>\n",
       "      <th>income_type</th>\n",
       "      <th>debt</th>\n",
       "      <th>total_income</th>\n",
       "      <th>purpose</th>\n",
       "    </tr>\n",
       "  </thead>\n",
       "  <tbody>\n",
       "    <tr>\n",
       "      <th>0</th>\n",
       "      <td>1</td>\n",
       "      <td>-8437.673028</td>\n",
       "      <td>42</td>\n",
       "      <td>bachelor's degree</td>\n",
       "      <td>0</td>\n",
       "      <td>married</td>\n",
       "      <td>0</td>\n",
       "      <td>F</td>\n",
       "      <td>employee</td>\n",
       "      <td>0</td>\n",
       "      <td>40620.102</td>\n",
       "      <td>purchase of the house</td>\n",
       "    </tr>\n",
       "    <tr>\n",
       "      <th>1</th>\n",
       "      <td>1</td>\n",
       "      <td>-4024.803754</td>\n",
       "      <td>36</td>\n",
       "      <td>secondary education</td>\n",
       "      <td>1</td>\n",
       "      <td>married</td>\n",
       "      <td>0</td>\n",
       "      <td>F</td>\n",
       "      <td>employee</td>\n",
       "      <td>0</td>\n",
       "      <td>17932.802</td>\n",
       "      <td>car purchase</td>\n",
       "    </tr>\n",
       "    <tr>\n",
       "      <th>2</th>\n",
       "      <td>0</td>\n",
       "      <td>-5623.422610</td>\n",
       "      <td>33</td>\n",
       "      <td>Secondary Education</td>\n",
       "      <td>1</td>\n",
       "      <td>married</td>\n",
       "      <td>0</td>\n",
       "      <td>M</td>\n",
       "      <td>employee</td>\n",
       "      <td>0</td>\n",
       "      <td>23341.752</td>\n",
       "      <td>purchase of the house</td>\n",
       "    </tr>\n",
       "    <tr>\n",
       "      <th>3</th>\n",
       "      <td>3</td>\n",
       "      <td>-4124.747207</td>\n",
       "      <td>32</td>\n",
       "      <td>secondary education</td>\n",
       "      <td>1</td>\n",
       "      <td>married</td>\n",
       "      <td>0</td>\n",
       "      <td>M</td>\n",
       "      <td>employee</td>\n",
       "      <td>0</td>\n",
       "      <td>42820.568</td>\n",
       "      <td>supplementary education</td>\n",
       "    </tr>\n",
       "    <tr>\n",
       "      <th>4</th>\n",
       "      <td>0</td>\n",
       "      <td>340266.072047</td>\n",
       "      <td>53</td>\n",
       "      <td>secondary education</td>\n",
       "      <td>1</td>\n",
       "      <td>civil partnership</td>\n",
       "      <td>1</td>\n",
       "      <td>F</td>\n",
       "      <td>retiree</td>\n",
       "      <td>0</td>\n",
       "      <td>25378.572</td>\n",
       "      <td>to have a wedding</td>\n",
       "    </tr>\n",
       "    <tr>\n",
       "      <th>...</th>\n",
       "      <td>...</td>\n",
       "      <td>...</td>\n",
       "      <td>...</td>\n",
       "      <td>...</td>\n",
       "      <td>...</td>\n",
       "      <td>...</td>\n",
       "      <td>...</td>\n",
       "      <td>...</td>\n",
       "      <td>...</td>\n",
       "      <td>...</td>\n",
       "      <td>...</td>\n",
       "      <td>...</td>\n",
       "    </tr>\n",
       "    <tr>\n",
       "      <th>21520</th>\n",
       "      <td>1</td>\n",
       "      <td>-4529.316663</td>\n",
       "      <td>43</td>\n",
       "      <td>secondary education</td>\n",
       "      <td>1</td>\n",
       "      <td>civil partnership</td>\n",
       "      <td>1</td>\n",
       "      <td>F</td>\n",
       "      <td>business</td>\n",
       "      <td>0</td>\n",
       "      <td>35966.698</td>\n",
       "      <td>housing transactions</td>\n",
       "    </tr>\n",
       "    <tr>\n",
       "      <th>21521</th>\n",
       "      <td>0</td>\n",
       "      <td>343937.404131</td>\n",
       "      <td>67</td>\n",
       "      <td>secondary education</td>\n",
       "      <td>1</td>\n",
       "      <td>married</td>\n",
       "      <td>0</td>\n",
       "      <td>F</td>\n",
       "      <td>retiree</td>\n",
       "      <td>0</td>\n",
       "      <td>24959.969</td>\n",
       "      <td>purchase of a car</td>\n",
       "    </tr>\n",
       "    <tr>\n",
       "      <th>21522</th>\n",
       "      <td>1</td>\n",
       "      <td>-2113.346888</td>\n",
       "      <td>38</td>\n",
       "      <td>secondary education</td>\n",
       "      <td>1</td>\n",
       "      <td>civil partnership</td>\n",
       "      <td>1</td>\n",
       "      <td>M</td>\n",
       "      <td>employee</td>\n",
       "      <td>1</td>\n",
       "      <td>14347.610</td>\n",
       "      <td>property</td>\n",
       "    </tr>\n",
       "    <tr>\n",
       "      <th>21523</th>\n",
       "      <td>3</td>\n",
       "      <td>-3112.481705</td>\n",
       "      <td>38</td>\n",
       "      <td>secondary education</td>\n",
       "      <td>1</td>\n",
       "      <td>married</td>\n",
       "      <td>0</td>\n",
       "      <td>M</td>\n",
       "      <td>employee</td>\n",
       "      <td>1</td>\n",
       "      <td>39054.888</td>\n",
       "      <td>buying my own car</td>\n",
       "    </tr>\n",
       "    <tr>\n",
       "      <th>21524</th>\n",
       "      <td>2</td>\n",
       "      <td>-1984.507589</td>\n",
       "      <td>40</td>\n",
       "      <td>secondary education</td>\n",
       "      <td>1</td>\n",
       "      <td>married</td>\n",
       "      <td>0</td>\n",
       "      <td>F</td>\n",
       "      <td>employee</td>\n",
       "      <td>0</td>\n",
       "      <td>13127.587</td>\n",
       "      <td>to buy a car</td>\n",
       "    </tr>\n",
       "  </tbody>\n",
       "</table>\n",
       "<p>19351 rows × 12 columns</p>\n",
       "</div>"
      ],
      "text/plain": [
       "       children  days_employed  dob_years            education  education_id  \\\n",
       "0             1   -8437.673028         42    bachelor's degree             0   \n",
       "1             1   -4024.803754         36  secondary education             1   \n",
       "2             0   -5623.422610         33  Secondary Education             1   \n",
       "3             3   -4124.747207         32  secondary education             1   \n",
       "4             0  340266.072047         53  secondary education             1   \n",
       "...         ...            ...        ...                  ...           ...   \n",
       "21520         1   -4529.316663         43  secondary education             1   \n",
       "21521         0  343937.404131         67  secondary education             1   \n",
       "21522         1   -2113.346888         38  secondary education             1   \n",
       "21523         3   -3112.481705         38  secondary education             1   \n",
       "21524         2   -1984.507589         40  secondary education             1   \n",
       "\n",
       "           family_status  family_status_id gender income_type  debt  \\\n",
       "0                married                 0      F    employee     0   \n",
       "1                married                 0      F    employee     0   \n",
       "2                married                 0      M    employee     0   \n",
       "3                married                 0      M    employee     0   \n",
       "4      civil partnership                 1      F     retiree     0   \n",
       "...                  ...               ...    ...         ...   ...   \n",
       "21520  civil partnership                 1      F    business     0   \n",
       "21521            married                 0      F     retiree     0   \n",
       "21522  civil partnership                 1      M    employee     1   \n",
       "21523            married                 0      M    employee     1   \n",
       "21524            married                 0      F    employee     0   \n",
       "\n",
       "       total_income                  purpose  \n",
       "0         40620.102    purchase of the house  \n",
       "1         17932.802             car purchase  \n",
       "2         23341.752    purchase of the house  \n",
       "3         42820.568  supplementary education  \n",
       "4         25378.572        to have a wedding  \n",
       "...             ...                      ...  \n",
       "21520     35966.698     housing transactions  \n",
       "21521     24959.969        purchase of a car  \n",
       "21522     14347.610                 property  \n",
       "21523     39054.888        buying my own car  \n",
       "21524     13127.587             to buy a car  \n",
       "\n",
       "[19351 rows x 12 columns]"
      ]
     },
     "execution_count": 14,
     "metadata": {},
     "output_type": "execute_result"
    }
   ],
   "source": [
    "data_limpia= data.dropna() #eliminacion de los datos nulos\n",
    "data_limpia"
   ]
  },
  {
   "cell_type": "code",
   "execution_count": 15,
   "metadata": {},
   "outputs": [
    {
     "name": "stdout",
     "output_type": "stream",
     "text": [
      "<class 'pandas.core.frame.DataFrame'>\n",
      "Int64Index: 19351 entries, 0 to 21524\n",
      "Data columns (total 12 columns):\n",
      " #   Column            Non-Null Count  Dtype  \n",
      "---  ------            --------------  -----  \n",
      " 0   children          19351 non-null  int64  \n",
      " 1   days_employed     19351 non-null  float64\n",
      " 2   dob_years         19351 non-null  int64  \n",
      " 3   education         19351 non-null  object \n",
      " 4   education_id      19351 non-null  int64  \n",
      " 5   family_status     19351 non-null  object \n",
      " 6   family_status_id  19351 non-null  int64  \n",
      " 7   gender            19351 non-null  object \n",
      " 8   income_type       19351 non-null  object \n",
      " 9   debt              19351 non-null  int64  \n",
      " 10  total_income      19351 non-null  float64\n",
      " 11  purpose           19351 non-null  object \n",
      "dtypes: float64(2), int64(5), object(5)\n",
      "memory usage: 1.9+ MB\n"
     ]
    }
   ],
   "source": [
    "data_limpia.info()"
   ]
  },
  {
   "cell_type": "code",
   "execution_count": 16,
   "metadata": {},
   "outputs": [
    {
     "name": "stdout",
     "output_type": "stream",
     "text": [
      "employee                       10014\n",
      "business                        4577\n",
      "retiree                         3443\n",
      "civil servant                   1312\n",
      "unemployed                         2\n",
      "student                            1\n",
      "entrepreneur                       1\n",
      "paternity / maternity leave        1\n",
      "Name: income_type, dtype: int64\n",
      "--------------------------------\n",
      "employee         1105\n",
      "business          508\n",
      "retiree           413\n",
      "civil servant     147\n",
      "entrepreneur        1\n",
      "Name: income_type, dtype: int64\n"
     ]
    }
   ],
   "source": [
    "# Vamos a investigar a los clientes que no tienen datos sobre la característica identificada y la columna con los valores ausentes\n",
    "\n",
    "\n",
    "variable = \"income_type\"\n",
    "\n",
    "serie_data= data_limpia[variable]\n",
    "serie_filtrada= data_filtrada[variable]\n",
    "\n",
    "print(serie_data.value_counts())\n",
    "print(\"--------------------------------\")\n",
    "print(serie_filtrada.value_counts())"
   ]
  },
  {
   "cell_type": "code",
   "execution_count": 17,
   "metadata": {},
   "outputs": [
    {
     "name": "stdout",
     "output_type": "stream",
     "text": [
      "Distribucion de serie completa:\n",
      "employee                       51.7\n",
      "business                       23.7\n",
      "retiree                        17.8\n",
      "civil servant                   6.8\n",
      "unemployed                      0.0\n",
      "student                         0.0\n",
      "entrepreneur                    0.0\n",
      "paternity / maternity leave     0.0\n",
      "Name: income_type, dtype: float64\n",
      "-----------------------\n",
      "Distribucion de serie valores ausentes\n",
      "employee         50.8\n",
      "business         23.4\n",
      "retiree          19.0\n",
      "civil servant     6.8\n",
      "entrepreneur      0.0\n",
      "Name: income_type, dtype: float64\n"
     ]
    }
   ],
   "source": [
    "# Comprobación de la distribución\n",
    "n_serie_data=len(serie_data)\n",
    "n_serie_filtrada=len(serie_filtrada)\n",
    "\n",
    "print('Distribucion de serie completa:')\n",
    "print(round(serie_data.value_counts()/ n_serie_data * 100,1))\n",
    "print('-----------------------')\n",
    "print('Distribucion de serie valores ausentes')\n",
    "print(round(serie_filtrada.value_counts()/ n_serie_filtrada * 100,1))\n"
   ]
  },
  {
   "cell_type": "markdown",
   "metadata": {},
   "source": [
    "No hay correlacion en los datos, los valores ausentes son al azar\n"
   ]
  },
  {
   "cell_type": "markdown",
   "metadata": {},
   "source": [
    "**Conclusión intermedia**\n",
    "\n",
    "Hasta ahora no se puede idntificar ningun patro, el porcentaje de numero ausentes no tiene una proporcion significativa entre  las distintas variables y la serie completa\n"
   ]
  },
  {
   "cell_type": "code",
   "execution_count": 18,
   "metadata": {},
   "outputs": [
    {
     "name": "stdout",
     "output_type": "stream",
     "text": [
      "Informacion de datos limpios;\n",
      "           children  days_employed     dob_years  education_id  \\\n",
      "count  21525.000000   19351.000000  21525.000000  21525.000000   \n",
      "mean       0.538908   63046.497661     43.293380      0.817236   \n",
      "std        1.381587  140827.311974     12.574584      0.548138   \n",
      "min       -1.000000  -18388.949901      0.000000      0.000000   \n",
      "25%        0.000000   -2747.423625     33.000000      1.000000   \n",
      "50%        0.000000   -1203.369529     42.000000      1.000000   \n",
      "75%        1.000000    -291.095954     53.000000      1.000000   \n",
      "max       20.000000  401755.400475     75.000000      4.000000   \n",
      "\n",
      "       family_status_id          debt   total_income  \n",
      "count      21525.000000  21525.000000   19351.000000  \n",
      "mean           0.972544      0.080883   26787.568355  \n",
      "std            1.420324      0.272661   16475.450632  \n",
      "min            0.000000      0.000000    3306.762000  \n",
      "25%            0.000000      0.000000   16488.504500  \n",
      "50%            0.000000      0.000000   23202.870000  \n",
      "75%            1.000000      0.000000   32549.611000  \n",
      "max            4.000000      1.000000  362496.645000  \n",
      "-------------------------\n",
      "Informacion de datos ausentes;\n",
      "          children  days_employed    dob_years  education_id  \\\n",
      "count  2174.000000            0.0  2174.000000   2174.000000   \n",
      "mean      0.552438            NaN    43.632015      0.800828   \n",
      "std       1.469356            NaN    12.531481      0.530157   \n",
      "min      -1.000000            NaN     0.000000      0.000000   \n",
      "25%       0.000000            NaN    34.000000      0.250000   \n",
      "50%       0.000000            NaN    43.000000      1.000000   \n",
      "75%       1.000000            NaN    54.000000      1.000000   \n",
      "max      20.000000            NaN    73.000000      3.000000   \n",
      "\n",
      "       family_status_id         debt  total_income  \n",
      "count       2174.000000  2174.000000           0.0  \n",
      "mean           0.975161     0.078197           NaN  \n",
      "std            1.418220     0.268543           NaN  \n",
      "min            0.000000     0.000000           NaN  \n",
      "25%            0.000000     0.000000           NaN  \n",
      "50%            0.000000     0.000000           NaN  \n",
      "75%            1.000000     0.000000           NaN  \n",
      "max            4.000000     1.000000           NaN  \n"
     ]
    }
   ],
   "source": [
    "# Comprueba otras razones y patrones que podrían llevar a valores ausentes\n",
    "print('Informacion de datos limpios;')\n",
    "print(data.describe())\n",
    "print('-------------------------')\n",
    "print('Informacion de datos ausentes;')\n",
    "print(data_filtrada.describe())\n",
    "\n"
   ]
  },
  {
   "cell_type": "markdown",
   "metadata": {},
   "source": [
    "**Conclusión intermedia**\n",
    "\n",
    "Con esto se puede detectar que los valores ausentes de total_income y days_employe no tienen una relacion con las otras variables, no hay un patron que determine el comportamiento de esto"
   ]
  },
  {
   "cell_type": "code",
   "execution_count": 19,
   "metadata": {},
   "outputs": [
    {
     "name": "stdout",
     "output_type": "stream",
     "text": [
      "1    13693\n",
      "0     4716\n",
      "2      675\n",
      "3      261\n",
      "4        6\n",
      "Name: education_id, dtype: int64\n",
      "--------------------------------\n",
      "1    1540\n",
      "0     544\n",
      "2      69\n",
      "3      21\n",
      "Name: education_id, dtype: int64\n"
     ]
    }
   ],
   "source": [
    "# Comprobación de otros patrones: explica cuáles\n",
    "variable = \"education_id\"\n",
    "\n",
    "serie_data= data_limpia[variable]\n",
    "serie_filtrada= data_filtrada[variable]\n",
    "\n",
    "print(serie_data.value_counts())\n",
    "print(\"--------------------------------\")\n",
    "print(serie_filtrada.value_counts())"
   ]
  },
  {
   "cell_type": "markdown",
   "metadata": {},
   "source": [
    "**Conclusiones**\n",
    "\n",
    "Las columnas days_employe y total_income presentar un porcentaje minimo de valores ausentes, el 1%, esto no genera un numero significativa alto. \n",
    "Al intentar detectar el motivo de esto o la deteccion de un patron entre las otras variables, no se logro identificar un patron en ello, por lo que se puede determinar que son aleatorios. y ninguna otra variable determina esto. \n",
    "al tener valores ausentes, primero que nada se debe dar aviso al superior o a los encargados de los datos, para luego poder aplicar las medidas necesarias, ya que se pueden eliminar, restaurar o reemplazar los valores"
   ]
  },
  {
   "cell_type": "markdown",
   "metadata": {},
   "source": [
    "## Ejercicio 2 Transformación de datos\n"
   ]
  },
  {
   "cell_type": "markdown",
   "metadata": {},
   "source": [
    "#### 1.2 Education "
   ]
  },
  {
   "cell_type": "code",
   "execution_count": 20,
   "metadata": {},
   "outputs": [
    {
     "name": "stdout",
     "output_type": "stream",
     "text": [
      "[\"bachelor's degree\" 'secondary education' 'Secondary Education'\n",
      " 'SECONDARY EDUCATION' \"BACHELOR'S DEGREE\" 'some college'\n",
      " 'primary education' \"Bachelor's Degree\" 'SOME COLLEGE' 'Some College'\n",
      " 'PRIMARY EDUCATION' 'Primary Education' 'Graduate Degree'\n",
      " 'GRADUATE DEGREE' 'graduate degree']\n"
     ]
    }
   ],
   "source": [
    "# Veamos todos los valores en la columna de educación para verificar si será necesario corregir la ortografía y qué habrá que corregir exactamente\n",
    "variable= 'education'\n",
    "print(data[variable].unique())\n"
   ]
  },
  {
   "cell_type": "code",
   "execution_count": 21,
   "metadata": {
    "scrolled": true
   },
   "outputs": [],
   "source": [
    "# Arregla los registros si es necesario, convertir lo mayuscula a minuscula\n",
    "data['education_lower'] = data['education'].str.lower()\n"
   ]
  },
  {
   "cell_type": "code",
   "execution_count": 22,
   "metadata": {
    "scrolled": true
   },
   "outputs": [
    {
     "name": "stdout",
     "output_type": "stream",
     "text": [
      "[\"bachelor's degree\" 'secondary education' 'some college'\n",
      " 'primary education' 'graduate degree']\n"
     ]
    }
   ],
   "source": [
    "# Comprobar todos los valores en la columna para asegurarnos de que los hayamos corregido\n",
    "variable= 'education_lower'\n",
    "\n",
    "print(data[variable].unique())"
   ]
  },
  {
   "cell_type": "markdown",
   "metadata": {},
   "source": [
    "#### 1.2 Children"
   ]
  },
  {
   "cell_type": "code",
   "execution_count": 23,
   "metadata": {},
   "outputs": [
    {
     "name": "stdout",
     "output_type": "stream",
     "text": [
      "[ 1  0  3  2 -1  4 20  5]\n"
     ]
    }
   ],
   "source": [
    "# Veamos la distribución de los valores en la columna `children`\n",
    "variable= 'children'\n",
    "print(data[variable].unique())"
   ]
  },
  {
   "cell_type": "markdown",
   "metadata": {},
   "source": [
    "Hay numeros negativos (-1)  Y 20 ,y en esta caso no se puede tener menos un hijo, para solucionar esto se reemplazara por 1 positivo Y 20 por 2 . ya que pudo haber sido un error de tipeo o sistema\n"
   ]
  },
  {
   "cell_type": "code",
   "execution_count": 24,
   "metadata": {
    "scrolled": true
   },
   "outputs": [
    {
     "name": "stdout",
     "output_type": "stream",
     "text": [
      "children\n",
      "-1        47\n",
      " 0     14149\n",
      " 1      4818\n",
      " 2      2055\n",
      " 3       330\n",
      " 4        41\n",
      " 5         9\n",
      " 20       76\n",
      "Name: education_id, dtype: int64\n"
     ]
    }
   ],
   "source": [
    "\n",
    "print(data.groupby('children')['education_id'].count())"
   ]
  },
  {
   "cell_type": "code",
   "execution_count": 25,
   "metadata": {},
   "outputs": [],
   "source": [
    "# [arregla los datos según tu decisión]\n",
    "# rememplazar 20 por 2 y -1 por 1\n",
    "\n",
    "data[\"children\"]= data[\"children\"].replace({20:2,-1:1})\n",
    "\n",
    "\n"
   ]
  },
  {
   "cell_type": "code",
   "execution_count": 26,
   "metadata": {},
   "outputs": [
    {
     "name": "stdout",
     "output_type": "stream",
     "text": [
      "[1 0 3 2 4 5]\n",
      "------------------------------------\n",
      "children\n",
      "0    14149\n",
      "1     4865\n",
      "2     2131\n",
      "3      330\n",
      "4       41\n",
      "5        9\n",
      "Name: dob_years, dtype: int64\n"
     ]
    }
   ],
   "source": [
    "# Comprobar la columna `children` de nuevo para asegurarnos de que todo está arreglado\n",
    "\n",
    "print(data[\"children\"].unique())\n",
    "\n",
    "print(\"------------------------------------\")\n",
    "print(data.groupby('children')['dob_years'].count())\n"
   ]
  },
  {
   "cell_type": "markdown",
   "metadata": {},
   "source": [
    "#### 1.3 days_employed "
   ]
  },
  {
   "cell_type": "code",
   "execution_count": 27,
   "metadata": {},
   "outputs": [
    {
     "name": "stdout",
     "output_type": "stream",
     "text": [
      "[-8437.67302776 -4024.80375385 -5623.42261023 ... -2113.3468877\n",
      " -3112.4817052  -1984.50758853]\n"
     ]
    }
   ],
   "source": [
    "print(data['days_employed'].unique())"
   ]
  },
  {
   "cell_type": "code",
   "execution_count": 28,
   "metadata": {},
   "outputs": [
    {
     "name": "stdout",
     "output_type": "stream",
     "text": [
      "73.89547038327527 1\n"
     ]
    }
   ],
   "source": [
    "# Encuentra datos problemáticos en `days_employed`, si existen, y calcula el porcentaje\n",
    "datos_negativos= len(data[data['days_employed'] < 0])\n",
    "datos_total=len(data['days_employed'])\n",
    "print(datos_negativos/datos_total *100,1)"
   ]
  },
  {
   "cell_type": "markdown",
   "metadata": {},
   "source": [
    "El porcentaje es alto de valores negativos"
   ]
  },
  {
   "cell_type": "code",
   "execution_count": 29,
   "metadata": {},
   "outputs": [],
   "source": [
    "# Aborda los valores problemáticos, si existen.\n",
    "data['days_employed']= data['days_employed'].abs()"
   ]
  },
  {
   "cell_type": "code",
   "execution_count": 30,
   "metadata": {},
   "outputs": [
    {
     "name": "stdout",
     "output_type": "stream",
     "text": [
      "0\n"
     ]
    }
   ],
   "source": [
    "# Comprueba el resultado - asegúrate de que esté arreglado\n",
    "datos_negativos= len(data[data['days_employed'] < 0])\n",
    "print(datos_negativos)"
   ]
  },
  {
   "cell_type": "code",
   "execution_count": 31,
   "metadata": {},
   "outputs": [
    {
     "data": {
      "text/plain": [
       "count     19351.000000\n",
       "mean      66914.728907\n",
       "std      139030.880527\n",
       "min          24.141633\n",
       "25%         927.009265\n",
       "50%        2194.220567\n",
       "75%        5537.882441\n",
       "max      401755.400475\n",
       "Name: days_employed, dtype: float64"
      ]
     },
     "execution_count": 31,
     "metadata": {},
     "output_type": "execute_result"
    }
   ],
   "source": [
    "data['days_employed'].describe()"
   ]
  },
  {
   "cell_type": "code",
   "execution_count": 32,
   "metadata": {},
   "outputs": [],
   "source": [
    "#Reemplazar los valores por el tercerr quintil\n",
    "\n",
    "data.loc[data['days_employed']>5537, 'days_employed'] =5537 "
   ]
  },
  {
   "cell_type": "code",
   "execution_count": 33,
   "metadata": {},
   "outputs": [
    {
     "data": {
      "text/plain": [
       "count    19351.000000\n",
       "mean      2733.737672\n",
       "std       2000.879779\n",
       "min         24.141633\n",
       "25%        927.009265\n",
       "50%       2194.220567\n",
       "75%       5536.900576\n",
       "max       5537.000000\n",
       "Name: days_employed, dtype: float64"
      ]
     },
     "execution_count": 33,
     "metadata": {},
     "output_type": "execute_result"
    }
   ],
   "source": [
    "data['days_employed'].describe()"
   ]
  },
  {
   "cell_type": "markdown",
   "metadata": {},
   "source": [
    "Se reemplazaron los valores negativos por positivos"
   ]
  },
  {
   "cell_type": "markdown",
   "metadata": {},
   "source": [
    "#### 1.4 Columna Dob_years"
   ]
  },
  {
   "cell_type": "code",
   "execution_count": 34,
   "metadata": {},
   "outputs": [
    {
     "name": "stdout",
     "output_type": "stream",
     "text": [
      "valores unicos:\n",
      "[42 36 33 32 53 27 43 50 35 41 40 65 54 56 26 48 24 21 57 67 28 63 62 47\n",
      " 34 68 25 31 30 20 49 37 45 61 64 44 52 46 23 38 39 51  0 59 29 60 55 58\n",
      " 71 22 73 66 69 19 72 70 74 75]\n",
      "----------------------------\n",
      "dsitribucion de los datos:\n",
      " El porcentaje es de 0.4719053398058252 % \n"
     ]
    }
   ],
   "source": [
    "# Revisa `dob_years` en busca de valores sospechosos y cuenta el porcentaje\n",
    "variable= 'dob_years'\n",
    "print(\"valores unicos:\")\n",
    "print(data[variable].unique())\n",
    "print(\"----------------------------\")\n",
    "print(\"dsitribucion de los datos:\")\n",
    "data_cero=len(data[data[\"dob_years\"] ==0])\n",
    "data_nocero=len(data[data[\"dob_years\"] !=0])\n",
    "print(f' El porcentaje es de { data_cero/data_nocero *100.1} % ')"
   ]
  },
  {
   "cell_type": "markdown",
   "metadata": {},
   "source": [
    "Al tener solo el 0,4 % de edad igual a cero hace que sea poco significativo, por ende, en esta este caso se reemplazaran los valores por la media "
   ]
  },
  {
   "cell_type": "code",
   "execution_count": 35,
   "metadata": {
    "scrolled": true
   },
   "outputs": [
    {
     "name": "stdout",
     "output_type": "stream",
     "text": [
      "children                0.479649\n",
      "days_employed        2734.055351\n",
      "dob_years              43.497479\n",
      "education_id            0.817914\n",
      "family_status_id        0.971294\n",
      "debt                    0.080891\n",
      "total_income        26794.435857\n",
      "dtype: float64\n"
     ]
    },
    {
     "name": "stderr",
     "output_type": "stream",
     "text": [
      "C:\\Users\\clara\\AppData\\Local\\Temp\\ipykernel_28448\\3498231075.py:3: FutureWarning: Dropping of nuisance columns in DataFrame reductions (with 'numeric_only=None') is deprecated; in a future version this will raise TypeError.  Select only valid columns before calling the reduction.\n",
      "  dato_nocero_med= data_nocero.mean()\n"
     ]
    }
   ],
   "source": [
    "# Resuelve los problemas en la columna `dob_years`, si existen\n",
    "data_nocero=data[data[\"dob_years\"] !=0]\n",
    "dato_nocero_med= data_nocero.mean()\n",
    "print(dato_nocero_med)\n"
   ]
  },
  {
   "cell_type": "code",
   "execution_count": 36,
   "metadata": {},
   "outputs": [
    {
     "name": "stdout",
     "output_type": "stream",
     "text": [
      "       children  days_employed  dob_years            education  education_id  \\\n",
      "0             1    5537.000000         42    bachelor's degree             0   \n",
      "1             1    4024.803754         36  secondary education             1   \n",
      "2             0    5537.000000         33  Secondary Education             1   \n",
      "3             3    4124.747207         32  secondary education             1   \n",
      "4             0    5537.000000         53  secondary education             1   \n",
      "...         ...            ...        ...                  ...           ...   \n",
      "21520         1    4529.316663         43  secondary education             1   \n",
      "21521         0    5537.000000         67  secondary education             1   \n",
      "21522         1    2113.346888         38  secondary education             1   \n",
      "21523         3    3112.481705         38  secondary education             1   \n",
      "21524         2    1984.507589         40  secondary education             1   \n",
      "\n",
      "           family_status  family_status_id gender income_type  debt  \\\n",
      "0                married                 0      F    employee     0   \n",
      "1                married                 0      F    employee     0   \n",
      "2                married                 0      M    employee     0   \n",
      "3                married                 0      M    employee     0   \n",
      "4      civil partnership                 1      F     retiree     0   \n",
      "...                  ...               ...    ...         ...   ...   \n",
      "21520  civil partnership                 1      F    business     0   \n",
      "21521            married                 0      F     retiree     0   \n",
      "21522  civil partnership                 1      M    employee     1   \n",
      "21523            married                 0      M    employee     1   \n",
      "21524            married                 0      F    employee     0   \n",
      "\n",
      "       total_income                  purpose      education_lower  \n",
      "0         40620.102    purchase of the house    bachelor's degree  \n",
      "1         17932.802             car purchase  secondary education  \n",
      "2         23341.752    purchase of the house  secondary education  \n",
      "3         42820.568  supplementary education  secondary education  \n",
      "4         25378.572        to have a wedding  secondary education  \n",
      "...             ...                      ...                  ...  \n",
      "21520     35966.698     housing transactions  secondary education  \n",
      "21521     24959.969        purchase of a car  secondary education  \n",
      "21522     14347.610                 property  secondary education  \n",
      "21523     39054.888        buying my own car  secondary education  \n",
      "21524     13127.587             to buy a car  secondary education  \n",
      "\n",
      "[21525 rows x 13 columns]\n"
     ]
    }
   ],
   "source": [
    "# Resuelve los problemas en la columna `dob_years`, si existen\n",
    "data[\"dob_years\"]=data[\"dob_years\"].replace({0:43})\n",
    "print(data)"
   ]
  },
  {
   "cell_type": "code",
   "execution_count": 37,
   "metadata": {},
   "outputs": [
    {
     "name": "stdout",
     "output_type": "stream",
     "text": [
      "0\n"
     ]
    }
   ],
   "source": [
    "# Comprueba el resultado - asegúrate de que esté arreglado\n",
    "\n",
    "print(len(data[data[\"dob_years\"] == 0]))"
   ]
  },
  {
   "cell_type": "markdown",
   "metadata": {},
   "source": [
    "#### 1.5 Family status"
   ]
  },
  {
   "cell_type": "code",
   "execution_count": 38,
   "metadata": {},
   "outputs": [
    {
     "name": "stdout",
     "output_type": "stream",
     "text": [
      "----------------------------\n",
      "informacion\n",
      "<class 'pandas.core.series.Series'>\n",
      "RangeIndex: 21525 entries, 0 to 21524\n",
      "Series name: family_status\n",
      "Non-Null Count  Dtype \n",
      "--------------  ----- \n",
      "21525 non-null  object\n",
      "dtypes: object(1)\n",
      "memory usage: 168.3+ KB\n",
      "None\n"
     ]
    }
   ],
   "source": [
    "data.groupby('family_status')['dob_years'].count()\n",
    "\n",
    "print(\"----------------------------\")\n",
    "print(\"informacion\")\n",
    "print(data.family_status.info())\n"
   ]
  },
  {
   "cell_type": "markdown",
   "metadata": {},
   "source": [
    "#### 1.6 Gender"
   ]
  },
  {
   "cell_type": "code",
   "execution_count": 39,
   "metadata": {},
   "outputs": [
    {
     "name": "stdout",
     "output_type": "stream",
     "text": [
      "valores unicos:\n",
      "['F' 'M' 'XNA']\n",
      "----------------------------\n",
      "ditribucion de los datos:\n",
      "gender\n",
      "F      14236\n",
      "M       7288\n",
      "XNA        1\n",
      "Name: dob_years, dtype: int64\n",
      "----------------------------\n",
      "informacion\n",
      "<class 'pandas.core.series.Series'>\n",
      "RangeIndex: 21525 entries, 0 to 21524\n",
      "Series name: gender\n",
      "Non-Null Count  Dtype \n",
      "--------------  ----- \n",
      "21525 non-null  object\n",
      "dtypes: object(1)\n",
      "memory usage: 168.3+ KB\n",
      "None\n"
     ]
    }
   ],
   "source": [
    "# Veamos los valores en la columna\n",
    "\n",
    "# Veamos los valores de la columna\n",
    "variable= 'gender'\n",
    "print(\"valores unicos:\")\n",
    "print(data[variable].unique())\n",
    "\n",
    "print(\"----------------------------\")\n",
    "print(\"ditribucion de los datos:\")\n",
    "print(data.groupby(variable)['dob_years'].count())\n",
    "\n",
    "print(\"----------------------------\")\n",
    "print(\"informacion\")\n",
    "print(data[variable].info())"
   ]
  },
  {
   "cell_type": "code",
   "execution_count": 40,
   "metadata": {},
   "outputs": [],
   "source": [
    "# Aborda los valores problemáticos, si existen\n",
    "data[data['gender'] == \"XNA\"]\n",
    "data[\"gender\"]=data[\"gender\"].replace({\"XNA\":\"F\"})"
   ]
  },
  {
   "cell_type": "code",
   "execution_count": 41,
   "metadata": {},
   "outputs": [
    {
     "name": "stdout",
     "output_type": "stream",
     "text": [
      "['F' 'M']\n"
     ]
    }
   ],
   "source": [
    "# Comprueba el resultado - asegúrate de que esté arreglado\n",
    "\n",
    "data[\"gender\"]=data[\"gender\"].replace({\"XNA\":\"F\"})\n",
    "print(data[\"gender\"].unique())"
   ]
  },
  {
   "cell_type": "markdown",
   "metadata": {},
   "source": [
    "#### 1.6  income_type"
   ]
  },
  {
   "cell_type": "code",
   "execution_count": 42,
   "metadata": {},
   "outputs": [
    {
     "name": "stdout",
     "output_type": "stream",
     "text": [
      "valores unicos:\n",
      "['employee' 'retiree' 'business' 'civil servant' 'unemployed'\n",
      " 'entrepreneur' 'student' 'paternity / maternity leave']\n",
      "----------------------------\n",
      "ditribucion de los datos:\n",
      "income_type\n",
      "business                        5085\n",
      "civil servant                   1459\n",
      "employee                       11119\n",
      "entrepreneur                       2\n",
      "paternity / maternity leave        1\n",
      "retiree                         3856\n",
      "student                            1\n",
      "unemployed                         2\n",
      "Name: dob_years, dtype: int64\n",
      "----------------------------\n",
      "informacion\n",
      "<class 'pandas.core.series.Series'>\n",
      "RangeIndex: 21525 entries, 0 to 21524\n",
      "Series name: income_type\n",
      "Non-Null Count  Dtype \n",
      "--------------  ----- \n",
      "21525 non-null  object\n",
      "dtypes: object(1)\n",
      "memory usage: 168.3+ KB\n",
      "None\n"
     ]
    }
   ],
   "source": [
    "# Veamos los valores en la columna\n",
    "\n",
    "variable= 'income_type'\n",
    "print(\"valores unicos:\")\n",
    "print(data[variable].unique())\n",
    "\n",
    "print(\"----------------------------\")\n",
    "print(\"ditribucion de los datos:\")\n",
    "print(data.groupby(variable)['dob_years'].count())\n",
    "\n",
    "print(\"----------------------------\")\n",
    "print(\"informacion\")\n",
    "print(data[variable].info())"
   ]
  },
  {
   "cell_type": "code",
   "execution_count": 43,
   "metadata": {},
   "outputs": [],
   "source": [
    "# Aborda los valores problemáticos, si existen\n",
    "data['income_type'] = np.where(data['income_type']=='entrepreneur','business', data['income_type'])\n",
    "\n",
    "# Excluir los valores que no representan un valor significativo \n",
    "data['income_type']=np.where(data['income_type']=='unemployed', np.nan, data['income_type'])\n",
    "data['income_type']=np.where(data['income_type']=='student', np.nan, data['income_type'])\n",
    "data['income_type']=np.where(data['income_type']=='paternity / maternity leave', np.nan, data['income_type'])\n",
    "data = data.dropna(subset=['income_type'])"
   ]
  },
  {
   "cell_type": "code",
   "execution_count": 44,
   "metadata": {},
   "outputs": [
    {
     "name": "stdout",
     "output_type": "stream",
     "text": [
      "valores unicos:\n",
      "['employee' 'retiree' 'business' 'civil servant']\n",
      "----------------------------\n",
      "ditribucion de los datos:\n",
      "income_type\n",
      "business          5087\n",
      "civil servant     1459\n",
      "employee         11119\n",
      "retiree           3856\n",
      "Name: dob_years, dtype: int64\n",
      "----------------------------\n",
      "informacion\n",
      "<class 'pandas.core.series.Series'>\n",
      "Int64Index: 21521 entries, 0 to 21524\n",
      "Series name: income_type\n",
      "Non-Null Count  Dtype \n",
      "--------------  ----- \n",
      "21521 non-null  object\n",
      "dtypes: object(1)\n",
      "memory usage: 336.3+ KB\n",
      "None\n"
     ]
    }
   ],
   "source": [
    "# Comprueba el resultado - asegúrate de que esté arreglado\n",
    "variable= 'income_type'\n",
    "print(\"valores unicos:\")\n",
    "print(data[variable].unique())\n",
    "\n",
    "print(\"----------------------------\")\n",
    "print(\"ditribucion de los datos:\")\n",
    "print(data.groupby(variable)['dob_years'].count())\n",
    "\n",
    "print(\"----------------------------\")\n",
    "print(\"informacion\")\n",
    "print(data[variable].info())\n"
   ]
  },
  {
   "cell_type": "markdown",
   "metadata": {},
   "source": [
    "#### 1.7  Revision de duplicados \n"
   ]
  },
  {
   "cell_type": "code",
   "execution_count": 45,
   "metadata": {},
   "outputs": [
    {
     "data": {
      "text/plain": [
       "54"
      ]
     },
     "execution_count": 45,
     "metadata": {},
     "output_type": "execute_result"
    }
   ],
   "source": [
    "# Comprobar los duplicados\n",
    "\n",
    "data.duplicated().sum()"
   ]
  },
  {
   "cell_type": "code",
   "execution_count": 46,
   "metadata": {},
   "outputs": [],
   "source": [
    "# Aborda los duplicados, si existen\n",
    "data=data.drop_duplicates().reset_index(drop=True)  #Hay que guardarla en otra variable"
   ]
  },
  {
   "cell_type": "code",
   "execution_count": 47,
   "metadata": {},
   "outputs": [
    {
     "data": {
      "text/plain": [
       "0"
      ]
     },
     "execution_count": 47,
     "metadata": {},
     "output_type": "execute_result"
    }
   ],
   "source": [
    "# Última comprobación para ver si tenemos duplicados\n",
    "data.duplicated().sum()"
   ]
  },
  {
   "cell_type": "code",
   "execution_count": 48,
   "metadata": {
    "scrolled": true
   },
   "outputs": [
    {
     "data": {
      "text/html": [
       "<div>\n",
       "<style scoped>\n",
       "    .dataframe tbody tr th:only-of-type {\n",
       "        vertical-align: middle;\n",
       "    }\n",
       "\n",
       "    .dataframe tbody tr th {\n",
       "        vertical-align: top;\n",
       "    }\n",
       "\n",
       "    .dataframe thead th {\n",
       "        text-align: right;\n",
       "    }\n",
       "</style>\n",
       "<table border=\"1\" class=\"dataframe\">\n",
       "  <thead>\n",
       "    <tr style=\"text-align: right;\">\n",
       "      <th></th>\n",
       "      <th>children</th>\n",
       "      <th>days_employed</th>\n",
       "      <th>dob_years</th>\n",
       "      <th>education_id</th>\n",
       "      <th>family_status_id</th>\n",
       "      <th>debt</th>\n",
       "      <th>total_income</th>\n",
       "    </tr>\n",
       "  </thead>\n",
       "  <tbody>\n",
       "    <tr>\n",
       "      <th>count</th>\n",
       "      <td>21467.000000</td>\n",
       "      <td>19347.000000</td>\n",
       "      <td>21467.000000</td>\n",
       "      <td>21467.000000</td>\n",
       "      <td>21467.000000</td>\n",
       "      <td>21467.000000</td>\n",
       "      <td>19347.000000</td>\n",
       "    </tr>\n",
       "    <tr>\n",
       "      <th>mean</th>\n",
       "      <td>0.480179</td>\n",
       "      <td>2733.530169</td>\n",
       "      <td>43.483067</td>\n",
       "      <td>0.817254</td>\n",
       "      <td>0.973634</td>\n",
       "      <td>0.081008</td>\n",
       "      <td>26789.677035</td>\n",
       "    </tr>\n",
       "    <tr>\n",
       "      <th>std</th>\n",
       "      <td>0.755868</td>\n",
       "      <td>2000.819531</td>\n",
       "      <td>12.217154</td>\n",
       "      <td>0.548500</td>\n",
       "      <td>1.421034</td>\n",
       "      <td>0.272854</td>\n",
       "      <td>16475.929295</td>\n",
       "    </tr>\n",
       "    <tr>\n",
       "      <th>min</th>\n",
       "      <td>0.000000</td>\n",
       "      <td>24.141633</td>\n",
       "      <td>19.000000</td>\n",
       "      <td>0.000000</td>\n",
       "      <td>0.000000</td>\n",
       "      <td>0.000000</td>\n",
       "      <td>3306.762000</td>\n",
       "    </tr>\n",
       "    <tr>\n",
       "      <th>25%</th>\n",
       "      <td>0.000000</td>\n",
       "      <td>927.009265</td>\n",
       "      <td>34.000000</td>\n",
       "      <td>1.000000</td>\n",
       "      <td>0.000000</td>\n",
       "      <td>0.000000</td>\n",
       "      <td>16494.016000</td>\n",
       "    </tr>\n",
       "    <tr>\n",
       "      <th>50%</th>\n",
       "      <td>0.000000</td>\n",
       "      <td>2194.216968</td>\n",
       "      <td>43.000000</td>\n",
       "      <td>1.000000</td>\n",
       "      <td>0.000000</td>\n",
       "      <td>0.000000</td>\n",
       "      <td>23203.786000</td>\n",
       "    </tr>\n",
       "    <tr>\n",
       "      <th>75%</th>\n",
       "      <td>1.000000</td>\n",
       "      <td>5535.883055</td>\n",
       "      <td>53.000000</td>\n",
       "      <td>1.000000</td>\n",
       "      <td>1.000000</td>\n",
       "      <td>0.000000</td>\n",
       "      <td>32551.225000</td>\n",
       "    </tr>\n",
       "    <tr>\n",
       "      <th>max</th>\n",
       "      <td>5.000000</td>\n",
       "      <td>5537.000000</td>\n",
       "      <td>75.000000</td>\n",
       "      <td>4.000000</td>\n",
       "      <td>4.000000</td>\n",
       "      <td>1.000000</td>\n",
       "      <td>362496.645000</td>\n",
       "    </tr>\n",
       "  </tbody>\n",
       "</table>\n",
       "</div>"
      ],
      "text/plain": [
       "           children  days_employed     dob_years  education_id  \\\n",
       "count  21467.000000   19347.000000  21467.000000  21467.000000   \n",
       "mean       0.480179    2733.530169     43.483067      0.817254   \n",
       "std        0.755868    2000.819531     12.217154      0.548500   \n",
       "min        0.000000      24.141633     19.000000      0.000000   \n",
       "25%        0.000000     927.009265     34.000000      1.000000   \n",
       "50%        0.000000    2194.216968     43.000000      1.000000   \n",
       "75%        1.000000    5535.883055     53.000000      1.000000   \n",
       "max        5.000000    5537.000000     75.000000      4.000000   \n",
       "\n",
       "       family_status_id          debt   total_income  \n",
       "count      21467.000000  21467.000000   19347.000000  \n",
       "mean           0.973634      0.081008   26789.677035  \n",
       "std            1.421034      0.272854   16475.929295  \n",
       "min            0.000000      0.000000    3306.762000  \n",
       "25%            0.000000      0.000000   16494.016000  \n",
       "50%            0.000000      0.000000   23203.786000  \n",
       "75%            1.000000      0.000000   32551.225000  \n",
       "max            4.000000      1.000000  362496.645000  "
      ]
     },
     "execution_count": 48,
     "metadata": {},
     "output_type": "execute_result"
    }
   ],
   "source": [
    "# Comprueba el tamaño del conjunto de datos que tienes ahora, después de haber ejecutado estas primeras manipulaciones\n",
    "\n",
    "data.describe()"
   ]
  },
  {
   "cell_type": "markdown",
   "metadata": {},
   "source": [
    "\n",
    "Se eliminaron 54 duplicados, que representan el 0.25% del total. al eliminarlos quedo un total de 21471 datos \n"
   ]
  },
  {
   "cell_type": "markdown",
   "metadata": {},
   "source": [
    "# Ejercicio 3 Trabajar con valores ausentes"
   ]
  },
  {
   "cell_type": "markdown",
   "metadata": {},
   "source": [
    "Al tener una simplicacion de datos analizare las columnas education_id y family_status_id"
   ]
  },
  {
   "cell_type": "code",
   "execution_count": 49,
   "metadata": {
    "scrolled": true
   },
   "outputs": [
    {
     "name": "stdout",
     "output_type": "stream",
     "text": [
      "                                  children\n",
      "education_id education_lower              \n",
      "0            bachelor's degree    0.524481\n",
      "1            secondary education  0.465363\n",
      "2            some college         0.467742\n",
      "3            primary education    0.482270\n",
      "4            graduate degree      0.666667\n"
     ]
    }
   ],
   "source": [
    "#Education_id\n",
    "\n",
    "\n",
    "data.pivot=data.pivot_table(index=[\"education_id\",\"education_lower\",],\n",
    "                           values=\"children\"\n",
    "                           )\n",
    "print(data.pivot)\n",
    "\n"
   ]
  },
  {
   "cell_type": "code",
   "execution_count": 50,
   "metadata": {},
   "outputs": [
    {
     "name": "stdout",
     "output_type": "stream",
     "text": [
      "                                    children\n",
      "family_status_id family_status              \n",
      "0                married            0.572274\n",
      "1                civil partnership  0.461557\n",
      "2                widow / widower    0.157456\n",
      "3                divorced           0.434310\n",
      "4                unmarried          0.232823\n"
     ]
    }
   ],
   "source": [
    "#Family status_id\n",
    "\n",
    "\n",
    "data.pivot=data.pivot_table(index=[\"family_status_id\",\"family_status\",],\n",
    "                           values=\"children\"\n",
    "                           )\n",
    "print(data.pivot)\n",
    "\n"
   ]
  },
  {
   "cell_type": "code",
   "execution_count": 51,
   "metadata": {},
   "outputs": [
    {
     "data": {
      "text/plain": [
       "{0: 1, 1: 0, 2: 4, 3: 1, 4: 3}"
      ]
     },
     "execution_count": 51,
     "metadata": {},
     "output_type": "execute_result"
    }
   ],
   "source": [
    "# Encuentra los diccionarios\n",
    "\n",
    "data.set_index('education_id')['family_status_id'].to_dict()"
   ]
  },
  {
   "cell_type": "markdown",
   "metadata": {},
   "source": [
    "### Restaurar valores ausentes en `total_income`"
   ]
  },
  {
   "cell_type": "markdown",
   "metadata": {},
   "source": [
    "Los valores ausentes se encuentran en las variables days_employed y total_income. hay que reemplazar los valores ausentes con el criterio que mas se adecue a ellos\n",
    "\n",
    "Para detectar los valores ausentes es necesario crear una caterogia de la edad de los clientes, para detectar el total \n",
    "\n",
    "Adultos: clientes de 0 -24 anos.\n",
    "\n",
    "Seniors: clientes de 25-64 anos.\n",
    "\n",
    "Retirados: clientes mayores de 65 anos.\n",
    "\n"
   ]
  },
  {
   "cell_type": "code",
   "execution_count": 52,
   "metadata": {},
   "outputs": [
    {
     "name": "stdout",
     "output_type": "stream",
     "text": [
      "float64\n"
     ]
    }
   ],
   "source": [
    "print(data['total_income'].dtype)"
   ]
  },
  {
   "cell_type": "code",
   "execution_count": 53,
   "metadata": {},
   "outputs": [],
   "source": [
    "# Vamos a escribir una función que calcule la categoría de edad\n",
    "def age_group(dob_years):\n",
    "    if dob_years <= 24:\n",
    "        return 'adulto joven'\n",
    "    elif (dob_years >= 25) and (dob_years < 65):\n",
    "        return 'adulto mayor'\n",
    "    else:\n",
    "        return 'retirado'\n",
    "    \n",
    "    \n",
    "data[\"age_group\"] = data['dob_years'].apply(age_group)\n",
    "\n",
    "\n"
   ]
  },
  {
   "cell_type": "code",
   "execution_count": 54,
   "metadata": {
    "scrolled": true
   },
   "outputs": [
    {
     "name": "stdout",
     "output_type": "stream",
     "text": [
      "                        children\n",
      "age_group    dob_years          \n",
      "adulto joven 19         0.000000\n",
      "             20         0.235294\n",
      "             21         0.189189\n",
      "             22         0.247253\n",
      "             23         0.324111\n",
      "             24         0.382576\n",
      "adulto mayor 25         0.408964\n",
      "             26         0.607843\n",
      "             27         0.640974\n",
      "             28         0.669980\n",
      "             29         0.724265\n",
      "             30         0.817844\n",
      "             31         0.903226\n",
      "             32         0.886051\n",
      "             33         0.912220\n",
      "             34         0.900166\n",
      "             35         0.887987\n",
      "             36         0.911552\n",
      "             37         1.000000\n",
      "             38         0.852596\n",
      "             39         0.774081\n",
      "             40         0.728171\n",
      "             41         0.632013\n",
      "             42         0.676174\n",
      "             43         0.548124\n",
      "             44         0.506422\n",
      "             45         0.457661\n",
      "             46         0.424947\n",
      "             47         0.360587\n",
      "             48         0.264432\n",
      "             49         0.250000\n",
      "             50         0.269006\n",
      "             51         0.238839\n",
      "             52         0.171488\n",
      "             53         0.145969\n",
      "             54         0.159664\n",
      "             55         0.103837\n",
      "             56         0.111570\n",
      "             57         0.096491\n",
      "             58         0.092105\n",
      "             59         0.112867\n",
      "             60         0.082888\n",
      "             61         0.096045\n",
      "             62         0.094556\n",
      "             63         0.074349\n",
      "             64         0.095420\n",
      "retirado     65         0.030928\n",
      "             66         0.043956\n",
      "             67         0.029940\n",
      "             68         0.060606\n",
      "             69         0.082353\n",
      "             70         0.076923\n",
      "             71         0.017241\n",
      "             72         0.090909\n",
      "             73         0.125000\n",
      "             74         0.000000\n",
      "             75         0.000000\n"
     ]
    }
   ],
   "source": [
    "# Prueba si la función funciona bien\n",
    "data.pivot=data.pivot_table(index=['age_group',\"dob_years\"],\n",
    "                           values=\"children\"\n",
    "                           )\n",
    "print(data.pivot)\n"
   ]
  },
  {
   "cell_type": "code",
   "execution_count": 55,
   "metadata": {},
   "outputs": [
    {
     "name": "stdout",
     "output_type": "stream",
     "text": [
      "adulto joven\n",
      "adulto joven\n",
      "adulto mayor\n",
      "retirado\n"
     ]
    }
   ],
   "source": [
    "print(age_group(10))\n",
    "print(age_group(17))\n",
    "print(age_group(60))\n",
    "print(age_group(73))"
   ]
  },
  {
   "cell_type": "code",
   "execution_count": 56,
   "metadata": {},
   "outputs": [
    {
     "data": {
      "text/html": [
       "<div>\n",
       "<style scoped>\n",
       "    .dataframe tbody tr th:only-of-type {\n",
       "        vertical-align: middle;\n",
       "    }\n",
       "\n",
       "    .dataframe tbody tr th {\n",
       "        vertical-align: top;\n",
       "    }\n",
       "\n",
       "    .dataframe thead th {\n",
       "        text-align: right;\n",
       "    }\n",
       "</style>\n",
       "<table border=\"1\" class=\"dataframe\">\n",
       "  <thead>\n",
       "    <tr style=\"text-align: right;\">\n",
       "      <th></th>\n",
       "      <th>children</th>\n",
       "      <th>days_employed</th>\n",
       "      <th>dob_years</th>\n",
       "      <th>education</th>\n",
       "      <th>education_id</th>\n",
       "      <th>family_status</th>\n",
       "      <th>family_status_id</th>\n",
       "      <th>gender</th>\n",
       "      <th>income_type</th>\n",
       "      <th>debt</th>\n",
       "      <th>total_income</th>\n",
       "      <th>purpose</th>\n",
       "      <th>education_lower</th>\n",
       "      <th>age_group</th>\n",
       "    </tr>\n",
       "  </thead>\n",
       "  <tbody>\n",
       "    <tr>\n",
       "      <th>0</th>\n",
       "      <td>1</td>\n",
       "      <td>5537.000000</td>\n",
       "      <td>42</td>\n",
       "      <td>bachelor's degree</td>\n",
       "      <td>0</td>\n",
       "      <td>married</td>\n",
       "      <td>0</td>\n",
       "      <td>F</td>\n",
       "      <td>employee</td>\n",
       "      <td>0</td>\n",
       "      <td>40620.102</td>\n",
       "      <td>purchase of the house</td>\n",
       "      <td>bachelor's degree</td>\n",
       "      <td>adulto mayor</td>\n",
       "    </tr>\n",
       "    <tr>\n",
       "      <th>1</th>\n",
       "      <td>1</td>\n",
       "      <td>4024.803754</td>\n",
       "      <td>36</td>\n",
       "      <td>secondary education</td>\n",
       "      <td>1</td>\n",
       "      <td>married</td>\n",
       "      <td>0</td>\n",
       "      <td>F</td>\n",
       "      <td>employee</td>\n",
       "      <td>0</td>\n",
       "      <td>17932.802</td>\n",
       "      <td>car purchase</td>\n",
       "      <td>secondary education</td>\n",
       "      <td>adulto mayor</td>\n",
       "    </tr>\n",
       "    <tr>\n",
       "      <th>2</th>\n",
       "      <td>0</td>\n",
       "      <td>5537.000000</td>\n",
       "      <td>33</td>\n",
       "      <td>Secondary Education</td>\n",
       "      <td>1</td>\n",
       "      <td>married</td>\n",
       "      <td>0</td>\n",
       "      <td>M</td>\n",
       "      <td>employee</td>\n",
       "      <td>0</td>\n",
       "      <td>23341.752</td>\n",
       "      <td>purchase of the house</td>\n",
       "      <td>secondary education</td>\n",
       "      <td>adulto mayor</td>\n",
       "    </tr>\n",
       "    <tr>\n",
       "      <th>3</th>\n",
       "      <td>3</td>\n",
       "      <td>4124.747207</td>\n",
       "      <td>32</td>\n",
       "      <td>secondary education</td>\n",
       "      <td>1</td>\n",
       "      <td>married</td>\n",
       "      <td>0</td>\n",
       "      <td>M</td>\n",
       "      <td>employee</td>\n",
       "      <td>0</td>\n",
       "      <td>42820.568</td>\n",
       "      <td>supplementary education</td>\n",
       "      <td>secondary education</td>\n",
       "      <td>adulto mayor</td>\n",
       "    </tr>\n",
       "    <tr>\n",
       "      <th>4</th>\n",
       "      <td>0</td>\n",
       "      <td>5537.000000</td>\n",
       "      <td>53</td>\n",
       "      <td>secondary education</td>\n",
       "      <td>1</td>\n",
       "      <td>civil partnership</td>\n",
       "      <td>1</td>\n",
       "      <td>F</td>\n",
       "      <td>retiree</td>\n",
       "      <td>0</td>\n",
       "      <td>25378.572</td>\n",
       "      <td>to have a wedding</td>\n",
       "      <td>secondary education</td>\n",
       "      <td>adulto mayor</td>\n",
       "    </tr>\n",
       "  </tbody>\n",
       "</table>\n",
       "</div>"
      ],
      "text/plain": [
       "   children  days_employed  dob_years            education  education_id  \\\n",
       "0         1    5537.000000         42    bachelor's degree             0   \n",
       "1         1    4024.803754         36  secondary education             1   \n",
       "2         0    5537.000000         33  Secondary Education             1   \n",
       "3         3    4124.747207         32  secondary education             1   \n",
       "4         0    5537.000000         53  secondary education             1   \n",
       "\n",
       "       family_status  family_status_id gender income_type  debt  total_income  \\\n",
       "0            married                 0      F    employee     0     40620.102   \n",
       "1            married                 0      F    employee     0     17932.802   \n",
       "2            married                 0      M    employee     0     23341.752   \n",
       "3            married                 0      M    employee     0     42820.568   \n",
       "4  civil partnership                 1      F     retiree     0     25378.572   \n",
       "\n",
       "                   purpose      education_lower     age_group  \n",
       "0    purchase of the house    bachelor's degree  adulto mayor  \n",
       "1             car purchase  secondary education  adulto mayor  \n",
       "2    purchase of the house  secondary education  adulto mayor  \n",
       "3  supplementary education  secondary education  adulto mayor  \n",
       "4        to have a wedding  secondary education  adulto mayor  "
      ]
     },
     "execution_count": 56,
     "metadata": {},
     "output_type": "execute_result"
    }
   ],
   "source": [
    "# Crea una tabla sin valores ausentes y muestra algunas de sus filas para asegurarte de que se ve bien\n",
    "data_not_nan = data[data['total_income'].isnull()==False]\n",
    "data_not_nan.head()\n"
   ]
  },
  {
   "cell_type": "code",
   "execution_count": 57,
   "metadata": {},
   "outputs": [
    {
     "name": "stdout",
     "output_type": "stream",
     "text": [
      "float64\n"
     ]
    }
   ],
   "source": [
    "print(data['total_income'].dtype)"
   ]
  },
  {
   "cell_type": "code",
   "execution_count": 58,
   "metadata": {
    "scrolled": true
   },
   "outputs": [
    {
     "data": {
      "text/html": [
       "<div>\n",
       "<style scoped>\n",
       "    .dataframe tbody tr th:only-of-type {\n",
       "        vertical-align: middle;\n",
       "    }\n",
       "\n",
       "    .dataframe tbody tr th {\n",
       "        vertical-align: top;\n",
       "    }\n",
       "\n",
       "    .dataframe thead th {\n",
       "        text-align: right;\n",
       "    }\n",
       "</style>\n",
       "<table border=\"1\" class=\"dataframe\">\n",
       "  <thead>\n",
       "    <tr style=\"text-align: right;\">\n",
       "      <th></th>\n",
       "      <th>children</th>\n",
       "      <th>days_employed</th>\n",
       "      <th>dob_years</th>\n",
       "      <th>education_id</th>\n",
       "      <th>family_status_id</th>\n",
       "      <th>debt</th>\n",
       "      <th>total_income</th>\n",
       "    </tr>\n",
       "  </thead>\n",
       "  <tbody>\n",
       "    <tr>\n",
       "      <th>children</th>\n",
       "      <td>1.000000</td>\n",
       "      <td>-0.180776</td>\n",
       "      <td>-0.318074</td>\n",
       "      <td>-0.025805</td>\n",
       "      <td>-0.159767</td>\n",
       "      <td>0.025512</td>\n",
       "      <td>0.031455</td>\n",
       "    </tr>\n",
       "    <tr>\n",
       "      <th>days_employed</th>\n",
       "      <td>-0.180776</td>\n",
       "      <td>1.000000</td>\n",
       "      <td>0.570387</td>\n",
       "      <td>0.038294</td>\n",
       "      <td>-0.058406</td>\n",
       "      <td>-0.083757</td>\n",
       "      <td>-0.057476</td>\n",
       "    </tr>\n",
       "    <tr>\n",
       "      <th>dob_years</th>\n",
       "      <td>-0.318074</td>\n",
       "      <td>0.570387</td>\n",
       "      <td>1.000000</td>\n",
       "      <td>0.062315</td>\n",
       "      <td>-0.069160</td>\n",
       "      <td>-0.072963</td>\n",
       "      <td>-0.056063</td>\n",
       "    </tr>\n",
       "    <tr>\n",
       "      <th>education_id</th>\n",
       "      <td>-0.025805</td>\n",
       "      <td>0.038294</td>\n",
       "      <td>0.062315</td>\n",
       "      <td>1.000000</td>\n",
       "      <td>0.010696</td>\n",
       "      <td>0.052582</td>\n",
       "      <td>-0.178908</td>\n",
       "    </tr>\n",
       "    <tr>\n",
       "      <th>family_status_id</th>\n",
       "      <td>-0.159767</td>\n",
       "      <td>-0.058406</td>\n",
       "      <td>-0.069160</td>\n",
       "      <td>0.010696</td>\n",
       "      <td>1.000000</td>\n",
       "      <td>0.022610</td>\n",
       "      <td>-0.009151</td>\n",
       "    </tr>\n",
       "    <tr>\n",
       "      <th>debt</th>\n",
       "      <td>0.025512</td>\n",
       "      <td>-0.083757</td>\n",
       "      <td>-0.072963</td>\n",
       "      <td>0.052582</td>\n",
       "      <td>0.022610</td>\n",
       "      <td>1.000000</td>\n",
       "      <td>-0.012115</td>\n",
       "    </tr>\n",
       "    <tr>\n",
       "      <th>total_income</th>\n",
       "      <td>0.031455</td>\n",
       "      <td>-0.057476</td>\n",
       "      <td>-0.056063</td>\n",
       "      <td>-0.178908</td>\n",
       "      <td>-0.009151</td>\n",
       "      <td>-0.012115</td>\n",
       "      <td>1.000000</td>\n",
       "    </tr>\n",
       "  </tbody>\n",
       "</table>\n",
       "</div>"
      ],
      "text/plain": [
       "                  children  days_employed  dob_years  education_id  \\\n",
       "children          1.000000      -0.180776  -0.318074     -0.025805   \n",
       "days_employed    -0.180776       1.000000   0.570387      0.038294   \n",
       "dob_years        -0.318074       0.570387   1.000000      0.062315   \n",
       "education_id     -0.025805       0.038294   0.062315      1.000000   \n",
       "family_status_id -0.159767      -0.058406  -0.069160      0.010696   \n",
       "debt              0.025512      -0.083757  -0.072963      0.052582   \n",
       "total_income      0.031455      -0.057476  -0.056063     -0.178908   \n",
       "\n",
       "                  family_status_id      debt  total_income  \n",
       "children                 -0.159767  0.025512      0.031455  \n",
       "days_employed            -0.058406 -0.083757     -0.057476  \n",
       "dob_years                -0.069160 -0.072963     -0.056063  \n",
       "education_id              0.010696  0.052582     -0.178908  \n",
       "family_status_id          1.000000  0.022610     -0.009151  \n",
       "debt                      0.022610  1.000000     -0.012115  \n",
       "total_income             -0.009151 -0.012115      1.000000  "
      ]
     },
     "metadata": {},
     "output_type": "display_data"
    }
   ],
   "source": [
    "display(data_not_nan.corr())"
   ]
  },
  {
   "cell_type": "code",
   "execution_count": 59,
   "metadata": {},
   "outputs": [
    {
     "data": {
      "text/plain": [
       "children            0\n",
       "days_employed       0\n",
       "dob_years           0\n",
       "education           0\n",
       "education_id        0\n",
       "family_status       0\n",
       "family_status_id    0\n",
       "gender              0\n",
       "income_type         0\n",
       "debt                0\n",
       "total_income        0\n",
       "purpose             0\n",
       "education_lower     0\n",
       "age_group           0\n",
       "dtype: int64"
      ]
     },
     "execution_count": 59,
     "metadata": {},
     "output_type": "execute_result"
    }
   ],
   "source": [
    "data_not_nan.isna().sum()"
   ]
  },
  {
   "cell_type": "code",
   "execution_count": 60,
   "metadata": {},
   "outputs": [
    {
     "name": "stdout",
     "output_type": "stream",
     "text": [
      "education_id  education_lower    \n",
      "0             bachelor's degree      33146.650067\n",
      "1             secondary education    24596.766073\n",
      "2             some college           29045.443644\n",
      "3             primary education      21144.882211\n",
      "4             graduate degree        27960.024667\n",
      "Name: total_income, dtype: float64\n",
      "**************************************************\n",
      "education_id  education_lower    \n",
      "0             bachelor's degree      28054.5310\n",
      "1             secondary education    21837.9890\n",
      "2             some college           25618.4640\n",
      "3             primary education      18741.9760\n",
      "4             graduate degree        25161.5835\n",
      "Name: total_income, dtype: float64\n"
     ]
    }
   ],
   "source": [
    "# Examina los valores medios de los ingresos en función de los factores que identificaste\n",
    "print(data_not_nan.groupby(['education_id','education_lower'])['total_income'].mean())\n",
    "print('*'*50)\n",
    "print(data_not_nan.groupby(['education_id','education_lower'])['total_income'].median())"
   ]
  },
  {
   "cell_type": "code",
   "execution_count": 61,
   "metadata": {},
   "outputs": [
    {
     "name": "stdout",
     "output_type": "stream",
     "text": [
      "float64\n"
     ]
    }
   ],
   "source": [
    "print(data['total_income'].dtype)"
   ]
  },
  {
   "cell_type": "code",
   "execution_count": 62,
   "metadata": {},
   "outputs": [
    {
     "name": "stdout",
     "output_type": "stream",
     "text": [
      "family_status_id  family_status    \n",
      "0                 married              27045.005027\n",
      "1                 civil partnership    26692.891057\n",
      "2                 widow / widower      22984.208556\n",
      "3                 divorced             27189.354550\n",
      "4                 unmarried            26938.515847\n",
      "Name: total_income, dtype: float64\n",
      "**************************************************\n",
      "family_status_id  family_status    \n",
      "0                 married              23390.0570\n",
      "1                 civil partnership    23185.4770\n",
      "2                 widow / widower      20514.1900\n",
      "3                 divorced             23515.0960\n",
      "4                 unmarried            23149.1755\n",
      "Name: total_income, dtype: float64\n"
     ]
    }
   ],
   "source": [
    "print(data_not_nan.groupby([\"family_status_id\",\"family_status\"])['total_income'].mean())\n",
    "print('*'*50)\n",
    "print(data_not_nan.groupby([\"family_status_id\",\"family_status\"])['total_income'].median())"
   ]
  },
  {
   "cell_type": "code",
   "execution_count": 63,
   "metadata": {
    "scrolled": true
   },
   "outputs": [
    {
     "name": "stdout",
     "output_type": "stream",
     "text": [
      "age_group\n",
      "adulto joven    22712.337081\n",
      "adulto mayor    27210.173808\n",
      "retirado        21542.650450\n",
      "Name: total_income, dtype: float64\n",
      "age_group\n",
      "adulto joven    20574.8955\n",
      "adulto mayor    23540.3150\n",
      "retirado        18471.3910\n",
      "Name: total_income, dtype: float64\n"
     ]
    }
   ],
   "source": [
    "\n",
    "print(data_not_nan.groupby(\"age_group\")['total_income'].mean())\n",
    "print(data_not_nan.groupby(\"age_group\")['total_income'].median())"
   ]
  },
  {
   "cell_type": "code",
   "execution_count": 64,
   "metadata": {
    "scrolled": true
   },
   "outputs": [
    {
     "name": "stdout",
     "output_type": "stream",
     "text": [
      "gender\n",
      "F    24656.877768\n",
      "M    30912.679377\n",
      "Name: total_income, dtype: float64\n",
      "gender\n",
      "F    21465.165\n",
      "M    26840.997\n",
      "Name: total_income, dtype: float64\n"
     ]
    }
   ],
   "source": [
    "variable=\"gender\"\n",
    "print(data_not_nan.groupby(variable)['total_income'].mean())\n",
    "print(data_not_nan.groupby(variable)['total_income'].median())"
   ]
  },
  {
   "cell_type": "code",
   "execution_count": 65,
   "metadata": {},
   "outputs": [
    {
     "name": "stdout",
     "output_type": "stream",
     "text": [
      "income_type\n",
      "business         32397.165026\n",
      "civil servant    27343.729582\n",
      "employee         25820.841683\n",
      "retiree          21940.394503\n",
      "Name: total_income, dtype: float64\n",
      "income_type\n",
      "business         27583.3600\n",
      "civil servant    24071.6695\n",
      "employee         22815.1035\n",
      "retiree          18962.3180\n",
      "Name: total_income, dtype: float64\n"
     ]
    }
   ],
   "source": [
    "print(data_not_nan.groupby(\"income_type\")['total_income'].mean())\n",
    "print(data_not_nan.groupby(\"income_type\")['total_income'].median())"
   ]
  },
  {
   "cell_type": "markdown",
   "metadata": {},
   "source": [
    "Las variables 'gender','education_id'e 'income_type' son las que más se adaptan a la identificacion del calculo de los ingresos"
   ]
  },
  {
   "cell_type": "code",
   "execution_count": 66,
   "metadata": {
    "scrolled": true
   },
   "outputs": [
    {
     "data": {
      "text/plain": [
       "0        24590.6965\n",
       "1        19860.3340\n",
       "2        25005.8240\n",
       "3        25005.8240\n",
       "4        18046.5560\n",
       "            ...    \n",
       "21462    23181.0850\n",
       "21463    18046.5560\n",
       "21464    25005.8240\n",
       "21465    25005.8240\n",
       "21466    19860.3340\n",
       "Name: total_income, Length: 19347, dtype: float64"
      ]
     },
     "execution_count": 66,
     "metadata": {},
     "output_type": "execute_result"
    }
   ],
   "source": [
    "#  Escribe una función que usaremos para completar los valores ausentes\n",
    "data_not_nan_avg=data_not_nan.groupby(['gender','education_id','income_type'])['total_income'].transform(\"median\")\n",
    "data_not_nan_avg"
   ]
  },
  {
   "cell_type": "code",
   "execution_count": 67,
   "metadata": {},
   "outputs": [
    {
     "name": "stdout",
     "output_type": "stream",
     "text": [
      "float64\n"
     ]
    }
   ],
   "source": [
    "print(data['total_income'].dtype)"
   ]
  },
  {
   "cell_type": "code",
   "execution_count": 68,
   "metadata": {},
   "outputs": [
    {
     "data": {
      "text/plain": [
       "0        24590.6965\n",
       "1        19860.3340\n",
       "2        25005.8240\n",
       "3        25005.8240\n",
       "4        18046.5560\n",
       "            ...    \n",
       "21462    23181.0850\n",
       "21463    18046.5560\n",
       "21464    25005.8240\n",
       "21465    25005.8240\n",
       "21466    19860.3340\n",
       "Name: total_income, Length: 19347, dtype: float64"
      ]
     },
     "execution_count": 68,
     "metadata": {},
     "output_type": "execute_result"
    }
   ],
   "source": [
    "# Comprueba si funciona\n",
    "data_not_nan_avg"
   ]
  },
  {
   "cell_type": "code",
   "execution_count": 69,
   "metadata": {},
   "outputs": [
    {
     "data": {
      "text/plain": [
       "0        40620.102\n",
       "1        17932.802\n",
       "2        23341.752\n",
       "3        42820.568\n",
       "4        25378.572\n",
       "           ...    \n",
       "21462    35966.698\n",
       "21463    24959.969\n",
       "21464    14347.610\n",
       "21465    39054.888\n",
       "21466    13127.587\n",
       "Name: total_income, Length: 21467, dtype: float64"
      ]
     },
     "execution_count": 69,
     "metadata": {},
     "output_type": "execute_result"
    }
   ],
   "source": [
    "# Aplícalo a cada fila\n",
    "data['total_income'].fillna(data_not_nan_avg, inplace = False)"
   ]
  },
  {
   "cell_type": "code",
   "execution_count": 70,
   "metadata": {},
   "outputs": [
    {
     "name": "stdout",
     "output_type": "stream",
     "text": [
      "float64\n"
     ]
    }
   ],
   "source": [
    "print(data['total_income'].dtype)"
   ]
  },
  {
   "cell_type": "code",
   "execution_count": 71,
   "metadata": {},
   "outputs": [
    {
     "data": {
      "text/plain": [
       "2120"
      ]
     },
     "execution_count": 71,
     "metadata": {},
     "output_type": "execute_result"
    }
   ],
   "source": [
    "# Comprueba si tenemos algún error\n",
    "data['total_income'].isnull().sum()"
   ]
  },
  {
   "cell_type": "code",
   "execution_count": 72,
   "metadata": {
    "scrolled": true
   },
   "outputs": [],
   "source": [
    "# Reemplazar los valores ausentes si hay algún error\n",
    "#No hay ningun error\n"
   ]
  },
  {
   "cell_type": "code",
   "execution_count": 73,
   "metadata": {},
   "outputs": [
    {
     "name": "stdout",
     "output_type": "stream",
     "text": [
      "<class 'pandas.core.frame.DataFrame'>\n",
      "RangeIndex: 21467 entries, 0 to 21466\n",
      "Data columns (total 14 columns):\n",
      " #   Column            Non-Null Count  Dtype  \n",
      "---  ------            --------------  -----  \n",
      " 0   children          21467 non-null  int64  \n",
      " 1   days_employed     19347 non-null  float64\n",
      " 2   dob_years         21467 non-null  int64  \n",
      " 3   education         21467 non-null  object \n",
      " 4   education_id      21467 non-null  int64  \n",
      " 5   family_status     21467 non-null  object \n",
      " 6   family_status_id  21467 non-null  int64  \n",
      " 7   gender            21467 non-null  object \n",
      " 8   income_type       21467 non-null  object \n",
      " 9   debt              21467 non-null  int64  \n",
      " 10  total_income      19347 non-null  float64\n",
      " 11  purpose           21467 non-null  object \n",
      " 12  education_lower   21467 non-null  object \n",
      " 13  age_group         21467 non-null  object \n",
      "dtypes: float64(2), int64(5), object(7)\n",
      "memory usage: 2.3+ MB\n"
     ]
    }
   ],
   "source": [
    "# Comprobar el número de entradas en las columnas\n",
    "data.info()\n"
   ]
  },
  {
   "cell_type": "markdown",
   "metadata": {},
   "source": [
    "###  Restaurar valores en `days_employed`"
   ]
  },
  {
   "cell_type": "code",
   "execution_count": 74,
   "metadata": {
    "pycharm": {
     "name": "#%%\n"
    }
   },
   "outputs": [
    {
     "data": {
      "text/plain": [
       "2120"
      ]
     },
     "execution_count": 74,
     "metadata": {},
     "output_type": "execute_result"
    }
   ],
   "source": [
    "# Distribución de las medianas de `days_employed` en función de los parámetros identificados\n",
    "data['days_employed'].isna().sum()\n"
   ]
  },
  {
   "cell_type": "code",
   "execution_count": 75,
   "metadata": {},
   "outputs": [
    {
     "data": {
      "text/html": [
       "<div>\n",
       "<style scoped>\n",
       "    .dataframe tbody tr th:only-of-type {\n",
       "        vertical-align: middle;\n",
       "    }\n",
       "\n",
       "    .dataframe tbody tr th {\n",
       "        vertical-align: top;\n",
       "    }\n",
       "\n",
       "    .dataframe thead th {\n",
       "        text-align: right;\n",
       "    }\n",
       "</style>\n",
       "<table border=\"1\" class=\"dataframe\">\n",
       "  <thead>\n",
       "    <tr style=\"text-align: right;\">\n",
       "      <th></th>\n",
       "      <th>children</th>\n",
       "      <th>days_employed</th>\n",
       "      <th>dob_years</th>\n",
       "      <th>education_id</th>\n",
       "      <th>family_status_id</th>\n",
       "      <th>debt</th>\n",
       "      <th>total_income</th>\n",
       "    </tr>\n",
       "  </thead>\n",
       "  <tbody>\n",
       "    <tr>\n",
       "      <th>children</th>\n",
       "      <td>1.000000</td>\n",
       "      <td>-0.180776</td>\n",
       "      <td>-0.317403</td>\n",
       "      <td>-0.026659</td>\n",
       "      <td>-0.157880</td>\n",
       "      <td>0.024388</td>\n",
       "      <td>0.031455</td>\n",
       "    </tr>\n",
       "    <tr>\n",
       "      <th>days_employed</th>\n",
       "      <td>-0.180776</td>\n",
       "      <td>1.000000</td>\n",
       "      <td>0.570387</td>\n",
       "      <td>0.038294</td>\n",
       "      <td>-0.058406</td>\n",
       "      <td>-0.083757</td>\n",
       "      <td>-0.057476</td>\n",
       "    </tr>\n",
       "    <tr>\n",
       "      <th>dob_years</th>\n",
       "      <td>-0.317403</td>\n",
       "      <td>0.570387</td>\n",
       "      <td>1.000000</td>\n",
       "      <td>0.064417</td>\n",
       "      <td>-0.068531</td>\n",
       "      <td>-0.071371</td>\n",
       "      <td>-0.056063</td>\n",
       "    </tr>\n",
       "    <tr>\n",
       "      <th>education_id</th>\n",
       "      <td>-0.026659</td>\n",
       "      <td>0.038294</td>\n",
       "      <td>0.064417</td>\n",
       "      <td>1.000000</td>\n",
       "      <td>0.008162</td>\n",
       "      <td>0.052853</td>\n",
       "      <td>-0.178908</td>\n",
       "    </tr>\n",
       "    <tr>\n",
       "      <th>family_status_id</th>\n",
       "      <td>-0.157880</td>\n",
       "      <td>-0.058406</td>\n",
       "      <td>-0.068531</td>\n",
       "      <td>0.008162</td>\n",
       "      <td>1.000000</td>\n",
       "      <td>0.020647</td>\n",
       "      <td>-0.009151</td>\n",
       "    </tr>\n",
       "    <tr>\n",
       "      <th>debt</th>\n",
       "      <td>0.024388</td>\n",
       "      <td>-0.083757</td>\n",
       "      <td>-0.071371</td>\n",
       "      <td>0.052853</td>\n",
       "      <td>0.020647</td>\n",
       "      <td>1.000000</td>\n",
       "      <td>-0.012115</td>\n",
       "    </tr>\n",
       "    <tr>\n",
       "      <th>total_income</th>\n",
       "      <td>0.031455</td>\n",
       "      <td>-0.057476</td>\n",
       "      <td>-0.056063</td>\n",
       "      <td>-0.178908</td>\n",
       "      <td>-0.009151</td>\n",
       "      <td>-0.012115</td>\n",
       "      <td>1.000000</td>\n",
       "    </tr>\n",
       "  </tbody>\n",
       "</table>\n",
       "</div>"
      ],
      "text/plain": [
       "                  children  days_employed  dob_years  education_id  \\\n",
       "children          1.000000      -0.180776  -0.317403     -0.026659   \n",
       "days_employed    -0.180776       1.000000   0.570387      0.038294   \n",
       "dob_years        -0.317403       0.570387   1.000000      0.064417   \n",
       "education_id     -0.026659       0.038294   0.064417      1.000000   \n",
       "family_status_id -0.157880      -0.058406  -0.068531      0.008162   \n",
       "debt              0.024388      -0.083757  -0.071371      0.052853   \n",
       "total_income      0.031455      -0.057476  -0.056063     -0.178908   \n",
       "\n",
       "                  family_status_id      debt  total_income  \n",
       "children                 -0.157880  0.024388      0.031455  \n",
       "days_employed            -0.058406 -0.083757     -0.057476  \n",
       "dob_years                -0.068531 -0.071371     -0.056063  \n",
       "education_id              0.008162  0.052853     -0.178908  \n",
       "family_status_id          1.000000  0.020647     -0.009151  \n",
       "debt                      0.020647  1.000000     -0.012115  \n",
       "total_income             -0.009151 -0.012115      1.000000  "
      ]
     },
     "metadata": {},
     "output_type": "display_data"
    }
   ],
   "source": [
    "display(data.corr())"
   ]
  },
  {
   "cell_type": "code",
   "execution_count": 76,
   "metadata": {},
   "outputs": [
    {
     "name": "stdout",
     "output_type": "stream",
     "text": [
      "dob_years\n",
      "19     724.492610\n",
      "20     674.838979\n",
      "21     618.733817\n",
      "22     707.558942\n",
      "23     690.204208\n",
      "24     947.731043\n",
      "25     919.199388\n",
      "26    1083.658132\n",
      "27    1166.212160\n",
      "28    1141.705450\n",
      "29    1315.453550\n",
      "30    1420.586863\n",
      "31    1302.524255\n",
      "32    1446.622542\n",
      "33    1426.415003\n",
      "34    1615.910188\n",
      "35    1613.494818\n",
      "36    1799.520465\n",
      "37    1816.713382\n",
      "38    1817.194286\n",
      "39    1872.259302\n",
      "40    1728.936706\n",
      "41    1864.657692\n",
      "42    2253.981630\n",
      "43    1855.522708\n",
      "44    2084.330015\n",
      "45    2250.937133\n",
      "46    2100.473217\n",
      "47    2203.078545\n",
      "48    2429.674518\n",
      "49    2560.317106\n",
      "50    2626.986257\n",
      "51    2846.080700\n",
      "52    3395.639568\n",
      "53    3650.007523\n",
      "54    4026.541145\n",
      "55    5537.000000\n",
      "56    5537.000000\n",
      "57    5537.000000\n",
      "58    5537.000000\n",
      "59    5537.000000\n",
      "60    5537.000000\n",
      "61    5537.000000\n",
      "62    5537.000000\n",
      "63    5537.000000\n",
      "64    5537.000000\n",
      "65    5537.000000\n",
      "66    5537.000000\n",
      "67    5537.000000\n",
      "68    5537.000000\n",
      "69    5537.000000\n",
      "70    5537.000000\n",
      "71    5537.000000\n",
      "72    5537.000000\n",
      "73    5537.000000\n",
      "74    5537.000000\n",
      "75    1678.969771\n",
      "Name: days_employed, dtype: float64\n"
     ]
    }
   ],
   "source": [
    "# Distribución de las medias de `days_employed` en función de los parámetros identificados\n",
    "print(data_not_nan.groupby('dob_years')['days_employed'].median())"
   ]
  },
  {
   "cell_type": "code",
   "execution_count": 77,
   "metadata": {},
   "outputs": [
    {
     "name": "stdout",
     "output_type": "stream",
     "text": [
      "income_type\n",
      "business         1546.333214\n",
      "civil servant    2689.368353\n",
      "employee         1574.202821\n",
      "retiree          5537.000000\n",
      "Name: days_employed, dtype: float64\n"
     ]
    }
   ],
   "source": [
    "print(data_not_nan.groupby('income_type')['days_employed'].median())"
   ]
  },
  {
   "cell_type": "code",
   "execution_count": 78,
   "metadata": {
    "scrolled": true
   },
   "outputs": [
    {
     "name": "stdout",
     "output_type": "stream",
     "text": [
      "gender\n",
      "F    2539.726923\n",
      "M    1662.370103\n",
      "Name: days_employed, dtype: float64\n"
     ]
    }
   ],
   "source": [
    "print(data_not_nan.groupby('gender')['days_employed'].median())"
   ]
  },
  {
   "cell_type": "markdown",
   "metadata": {},
   "source": [
    "La mediana porque el valor no es muy significativa en days_employed"
   ]
  },
  {
   "cell_type": "code",
   "execution_count": 79,
   "metadata": {},
   "outputs": [
    {
     "data": {
      "text/plain": [
       "income_type    age_group     gender\n",
       "business       adulto joven  F          691.238794\n",
       "                             M          716.180179\n",
       "               adulto mayor  F         1673.323646\n",
       "                             M         1556.595932\n",
       "               retirado      F         2598.981129\n",
       "                             M         1913.690402\n",
       "civil servant  adulto joven  F         1024.299332\n",
       "                             M          842.682119\n",
       "               adulto mayor  F         2746.045213\n",
       "                             M         2802.226671\n",
       "               retirado      F         3339.663548\n",
       "                             M         3506.776656\n",
       "employee       adulto joven  F          763.631105\n",
       "                             M          772.799568\n",
       "               adulto mayor  F         1798.951596\n",
       "                             M         1425.031883\n",
       "               retirado      F         3236.712208\n",
       "                             M         3511.294028\n",
       "retiree        adulto joven  F         5537.000000\n",
       "               adulto mayor  F         5537.000000\n",
       "                             M         5537.000000\n",
       "               retirado      F         5537.000000\n",
       "                             M         5537.000000\n",
       "Name: days_employed, dtype: float64"
      ]
     },
     "execution_count": 79,
     "metadata": {},
     "output_type": "execute_result"
    }
   ],
   "source": [
    "# Escribamos una función que calcule medias o medianas (dependiendo de tu decisión) según el parámetro identificado\n",
    "data.groupby(['income_type','age_group','gender'])['days_employed'].median()"
   ]
  },
  {
   "cell_type": "code",
   "execution_count": 80,
   "metadata": {},
   "outputs": [
    {
     "data": {
      "text/plain": [
       "income_type    age_group     gender\n",
       "business       adulto joven  F          691.238794\n",
       "                             M          716.180179\n",
       "               adulto mayor  F         1673.323646\n",
       "                             M         1556.595932\n",
       "               retirado      F         2598.981129\n",
       "                             M         1913.690402\n",
       "civil servant  adulto joven  F         1024.299332\n",
       "                             M          842.682119\n",
       "               adulto mayor  F         2746.045213\n",
       "                             M         2802.226671\n",
       "               retirado      F         3339.663548\n",
       "                             M         3506.776656\n",
       "employee       adulto joven  F          763.631105\n",
       "                             M          772.799568\n",
       "               adulto mayor  F         1798.951596\n",
       "                             M         1425.031883\n",
       "               retirado      F         3236.712208\n",
       "                             M         3511.294028\n",
       "retiree        adulto joven  F         5537.000000\n",
       "               adulto mayor  F         5537.000000\n",
       "                             M         5537.000000\n",
       "               retirado      F         5537.000000\n",
       "                             M         5537.000000\n",
       "Name: days_employed, dtype: float64"
      ]
     },
     "execution_count": 80,
     "metadata": {},
     "output_type": "execute_result"
    }
   ],
   "source": [
    "# Comprueba que la función funciona\n",
    "data_not_nan_days_avg=data_not_nan.groupby(['income_type','age_group','gender'])['days_employed'].median()\n",
    "data_not_nan_days_avg"
   ]
  },
  {
   "cell_type": "code",
   "execution_count": 81,
   "metadata": {},
   "outputs": [],
   "source": [
    "# Aplicar la función al income_type\n",
    "\n",
    "data['days_employed'].fillna('data_not_nan_days_avg', inplace = True)\n"
   ]
  },
  {
   "cell_type": "code",
   "execution_count": 82,
   "metadata": {},
   "outputs": [
    {
     "data": {
      "text/plain": [
       "0"
      ]
     },
     "execution_count": 82,
     "metadata": {},
     "output_type": "execute_result"
    }
   ],
   "source": [
    "# Comprueba si la función funcionó\n",
    "data['days_employed'].isna().sum()"
   ]
  },
  {
   "cell_type": "code",
   "execution_count": 83,
   "metadata": {},
   "outputs": [],
   "source": [
    "# Reemplazar valores ausentes\n",
    "\n",
    "#La funcion funciono"
   ]
  },
  {
   "cell_type": "code",
   "execution_count": 84,
   "metadata": {},
   "outputs": [
    {
     "name": "stdout",
     "output_type": "stream",
     "text": [
      "<class 'pandas.core.frame.DataFrame'>\n",
      "RangeIndex: 21467 entries, 0 to 21466\n",
      "Data columns (total 14 columns):\n",
      " #   Column            Non-Null Count  Dtype  \n",
      "---  ------            --------------  -----  \n",
      " 0   children          21467 non-null  int64  \n",
      " 1   days_employed     21467 non-null  object \n",
      " 2   dob_years         21467 non-null  int64  \n",
      " 3   education         21467 non-null  object \n",
      " 4   education_id      21467 non-null  int64  \n",
      " 5   family_status     21467 non-null  object \n",
      " 6   family_status_id  21467 non-null  int64  \n",
      " 7   gender            21467 non-null  object \n",
      " 8   income_type       21467 non-null  object \n",
      " 9   debt              21467 non-null  int64  \n",
      " 10  total_income      19347 non-null  float64\n",
      " 11  purpose           21467 non-null  object \n",
      " 12  education_lower   21467 non-null  object \n",
      " 13  age_group         21467 non-null  object \n",
      "dtypes: float64(1), int64(5), object(8)\n",
      "memory usage: 2.3+ MB\n"
     ]
    }
   ],
   "source": [
    "# Comprueba las entradas en todas las columnas: asegúrate de que hayamos corregido todos los valores ausentes\n",
    "\n",
    "data.info()"
   ]
  },
  {
   "cell_type": "markdown",
   "metadata": {},
   "source": [
    "## Ejercicio 4 Clasificación de datos\n",
    "\n"
   ]
  },
  {
   "cell_type": "code",
   "execution_count": 85,
   "metadata": {
    "scrolled": true
   },
   "outputs": [
    {
     "data": {
      "text/plain": [
       "array([<class 'float'>], dtype=object)"
      ]
     },
     "execution_count": 85,
     "metadata": {},
     "output_type": "execute_result"
    }
   ],
   "source": [
    "data['total_income'].apply(type).unique()"
   ]
  },
  {
   "cell_type": "code",
   "execution_count": 86,
   "metadata": {},
   "outputs": [],
   "source": [
    "filtro=data['total_income'].apply(lambda x: type(x) == 'str')"
   ]
  },
  {
   "cell_type": "code",
   "execution_count": 87,
   "metadata": {},
   "outputs": [
    {
     "data": {
      "text/plain": [
       "Series([], Name: total_income, dtype: float64)"
      ]
     },
     "execution_count": 87,
     "metadata": {},
     "output_type": "execute_result"
    }
   ],
   "source": [
    "data.loc[filtro, 'total_income']"
   ]
  },
  {
   "cell_type": "code",
   "execution_count": 88,
   "metadata": {
    "scrolled": true
   },
   "outputs": [
    {
     "data": {
      "text/plain": [
       "wedding ceremony                            793\n",
       "having a wedding                            773\n",
       "to have a wedding                           769\n",
       "real estate transactions                    675\n",
       "buy commercial real estate                  662\n",
       "housing transactions                        652\n",
       "buying property for renting out             651\n",
       "transactions with commercial real estate    650\n",
       "purchase of the house                       646\n",
       "housing                                     646\n",
       "purchase of the house for my family         638\n",
       "construction of own property                634\n",
       "property                                    633\n",
       "transactions with my real estate            627\n",
       "building a real estate                      625\n",
       "buy real estate                             621\n",
       "purchase of my own house                    620\n",
       "building a property                         619\n",
       "buy residential real estate                 606\n",
       "housing renovation                          606\n",
       "buying my own car                           505\n",
       "going to university                         496\n",
       "car                                         493\n",
       "second-hand car purchase                    486\n",
       "to own a car                                479\n",
       "buying a second-hand car                    478\n",
       "cars                                        478\n",
       "to buy a car                                472\n",
       "car purchase                                461\n",
       "supplementary education                     460\n",
       "purchase of a car                           455\n",
       "university education                        452\n",
       "education                                   447\n",
       "to get a supplementary education            447\n",
       "getting an education                        442\n",
       "profile education                           436\n",
       "getting higher education                    426\n",
       "to become educated                          408\n",
       "Name: purpose, dtype: int64"
      ]
     },
     "execution_count": 88,
     "metadata": {},
     "output_type": "execute_result"
    }
   ],
   "source": [
    "# Muestra los valores de los datos seleccionados para la clasificación\n",
    "\n",
    "data['purpose'].value_counts()"
   ]
  },
  {
   "cell_type": "markdown",
   "metadata": {},
   "source": [
    "[Vamos a comprobar los valores únicos]"
   ]
  },
  {
   "cell_type": "code",
   "execution_count": 89,
   "metadata": {},
   "outputs": [
    {
     "data": {
      "text/plain": [
       "array(['purchase of the house', 'car purchase', 'supplementary education',\n",
       "       'to have a wedding', 'housing transactions', 'education',\n",
       "       'having a wedding', 'purchase of the house for my family',\n",
       "       'buy real estate', 'buy commercial real estate',\n",
       "       'buy residential real estate', 'construction of own property',\n",
       "       'property', 'building a property', 'buying a second-hand car',\n",
       "       'buying my own car', 'transactions with commercial real estate',\n",
       "       'building a real estate', 'housing',\n",
       "       'transactions with my real estate', 'cars', 'to become educated',\n",
       "       'second-hand car purchase', 'getting an education', 'car',\n",
       "       'wedding ceremony', 'to get a supplementary education',\n",
       "       'purchase of my own house', 'real estate transactions',\n",
       "       'getting higher education', 'to own a car', 'purchase of a car',\n",
       "       'profile education', 'university education',\n",
       "       'buying property for renting out', 'to buy a car',\n",
       "       'housing renovation', 'going to university'], dtype=object)"
      ]
     },
     "execution_count": 89,
     "metadata": {},
     "output_type": "execute_result"
    }
   ],
   "source": [
    "# Comprobar los valores únicos\n",
    "data['purpose'].unique()"
   ]
  },
  {
   "cell_type": "markdown",
   "metadata": {},
   "source": [
    "Los agrupamientos que se van a  realizar de acuerdo al propisto del prestamo, son los siguientes;\n",
    "\n",
    "1. Auto\n",
    "2. Casa\n",
    "3. boda\n",
    "4. educacion \n"
   ]
  },
  {
   "cell_type": "code",
   "execution_count": 90,
   "metadata": {},
   "outputs": [],
   "source": [
    "# Escribamos una función para clasificar los datos en función de temas comunes\n",
    "\n",
    "def purpose_groups (row):\n",
    "    if 'car' in row['purpose']:\n",
    "        return 'car'\n",
    "    if 'hous' in row['purpose'] or 'prop' in row['purpose'] or 'real est' in row['purpose']:\n",
    "        return 'house'\n",
    "    if 'wedd' in row['purpose']:\n",
    "        return 'wedding'\n",
    "    if 'educ' in row['purpose'] or 'uni' in row['purpose']:\n",
    "        return 'education'\n"
   ]
  },
  {
   "cell_type": "code",
   "execution_count": 91,
   "metadata": {},
   "outputs": [],
   "source": [
    "# Crea una columna con las categorías y cuenta los valores en ellas\n",
    "\n",
    "data['purpose_groups']= data.apply(purpose_groups ,axis=1)"
   ]
  },
  {
   "cell_type": "code",
   "execution_count": 92,
   "metadata": {},
   "outputs": [
    {
     "data": {
      "text/plain": [
       "house        10811\n",
       "car           4307\n",
       "education     4014\n",
       "wedding       2335\n",
       "Name: purpose_groups, dtype: int64"
      ]
     },
     "execution_count": 92,
     "metadata": {},
     "output_type": "execute_result"
    }
   ],
   "source": [
    "# Revisar todos los datos numéricos en la columna seleccionada para la clasificación\n",
    "data['purpose_groups'].value_counts()\n"
   ]
  },
  {
   "cell_type": "code",
   "execution_count": 93,
   "metadata": {
    "scrolled": true
   },
   "outputs": [
    {
     "data": {
      "text/plain": [
       "count     21467\n",
       "unique        4\n",
       "top       house\n",
       "freq      10811\n",
       "Name: purpose_groups, dtype: object"
      ]
     },
     "execution_count": 93,
     "metadata": {},
     "output_type": "execute_result"
    }
   ],
   "source": [
    "# Obtener estadísticas resumidas para la columna\n",
    "data['purpose_groups'].describe()"
   ]
  },
  {
   "cell_type": "markdown",
   "metadata": {},
   "source": [
    "La columna \"total_income\"  sera nuesta base para crear el rango numerico, la variable es la que más determina si la persona podra pagar o no, de acuerdo a sus ingresos. para eso se identificara primero el Quartil al que pertenece y luego se determinara las categorias"
   ]
  },
  {
   "cell_type": "code",
   "execution_count": 94,
   "metadata": {},
   "outputs": [
    {
     "name": "stdout",
     "output_type": "stream",
     "text": [
      "0.10    12177.58900\n",
      "0.25    16494.01600\n",
      "0.50    23203.78600\n",
      "0.60    26346.11480\n",
      "0.85    39508.25340\n",
      "0.99    82767.73494\n",
      "Name: total_income, dtype: float64\n",
      "\n"
     ]
    }
   ],
   "source": [
    "# Crear una función para clasificar en diferentes grupos numéricos basándose en rangos\n",
    "\n",
    "print(data['total_income'].quantile([0.1,0.25,0.5,0.6, 0.85,0.99]))\n",
    "print()"
   ]
  },
  {
   "cell_type": "code",
   "execution_count": 95,
   "metadata": {
    "scrolled": true
   },
   "outputs": [
    {
     "name": "stdout",
     "output_type": "stream",
     "text": [
      "<class 'pandas.core.frame.DataFrame'>\n",
      "RangeIndex: 21467 entries, 0 to 21466\n",
      "Data columns (total 15 columns):\n",
      " #   Column            Non-Null Count  Dtype  \n",
      "---  ------            --------------  -----  \n",
      " 0   children          21467 non-null  int64  \n",
      " 1   days_employed     21467 non-null  object \n",
      " 2   dob_years         21467 non-null  int64  \n",
      " 3   education         21467 non-null  object \n",
      " 4   education_id      21467 non-null  int64  \n",
      " 5   family_status     21467 non-null  object \n",
      " 6   family_status_id  21467 non-null  int64  \n",
      " 7   gender            21467 non-null  object \n",
      " 8   income_type       21467 non-null  object \n",
      " 9   debt              21467 non-null  int64  \n",
      " 10  total_income      19347 non-null  float64\n",
      " 11  purpose           21467 non-null  object \n",
      " 12  education_lower   21467 non-null  object \n",
      " 13  age_group         21467 non-null  object \n",
      " 14  purpose_groups    21467 non-null  object \n",
      "dtypes: float64(1), int64(5), object(9)\n",
      "memory usage: 2.5+ MB\n"
     ]
    }
   ],
   "source": [
    "data.info()"
   ]
  },
  {
   "cell_type": "code",
   "execution_count": 96,
   "metadata": {},
   "outputs": [],
   "source": [
    "# Crear una columna con categorías\n",
    "def income_class(income):\n",
    "    q_rico = data['total_income'].quantile(0.99)\n",
    "    q_alto = data['total_income'].quantile(0.85)\n",
    "    q_medio = data['total_income'].quantile(0.6)\n",
    "    q_bajo = data['total_income'].quantile(0.25)\n",
    "    if income < q_bajo:\n",
    "        return 'pobre'\n",
    "    if (income >= q_bajo) and (income < q_medio):\n",
    "        return 'clase media baja'\n",
    "    if (income >= q_medio) and (income < q_alto):\n",
    "        return 'clase media'\n",
    "    if (income >= q_alto) and (income < q_rico):\n",
    "        return 'clase media alta'\n",
    "    if (income >= q_rico):\n",
    "        return 'rico'"
   ]
  },
  {
   "cell_type": "code",
   "execution_count": null,
   "metadata": {},
   "outputs": [],
   "source": [
    "data['income_class'] = data['total_income'].apply(income_class)"
   ]
  },
  {
   "cell_type": "code",
   "execution_count": null,
   "metadata": {},
   "outputs": [],
   "source": [
    "data['income_class'].value_counts()"
   ]
  },
  {
   "cell_type": "markdown",
   "metadata": {},
   "source": [
    "## Ejercicio 5 Comprobación de las hipótesis\n"
   ]
  },
  {
   "cell_type": "markdown",
   "metadata": {},
   "source": [
    "**¿Existe una correlación entre tener hijos y pagar a tiempo?**"
   ]
  },
  {
   "cell_type": "code",
   "execution_count": null,
   "metadata": {},
   "outputs": [],
   "source": [
    "# Comprueba los datos sobre los hijos y los pagos puntuales\n",
    "\n",
    "\n",
    "# Calcular la tasa de incumplimiento en función del número de hijos\n",
    "\n",
    "pivot_children = data.pivot_table(index='children', columns='debt', values='days_employed', aggfunc='count')\n",
    "pivot_children['defaulter_percent'] = pivot_children[1] / (pivot_children[1] + pivot_children[0])*100\n",
    "pivot_children.sort_values(by='defaulter_percent')"
   ]
  },
  {
   "cell_type": "markdown",
   "metadata": {},
   "source": [
    "**Conclusión**\n",
    "\n",
    "De  acuerdo al analisis entre deuda y niños, los clientes que no tienen hijos son mas propensos a solicitar prestamos y son los menos porcentajes de morosidad tienen . y a medida que van teniando mas hijos, menos prestamos solicitan y la mororidad aumenta. no existe una diferencia grande entre incumplimiento de parte de las personas que tienen hijos.\n"
   ]
  },
  {
   "cell_type": "markdown",
   "metadata": {},
   "source": [
    "**¿Existe una correlación entre la situación familiar y el pago a tiempo?**"
   ]
  },
  {
   "cell_type": "code",
   "execution_count": null,
   "metadata": {},
   "outputs": [],
   "source": [
    "# Comprueba los datos del estado familiar y los pagos a tiempo\n",
    "\n",
    "print(data.groupby('family_status')['debt'].sum())\n",
    "print('*'*35)\n",
    "print(data.groupby('family_status')['debt'].count())\n",
    "\n",
    "# Calcular la tasa de incumplimiento basada en el estado familiar\n",
    "\n",
    "pivot_status = data.pivot_table(index='family_status', columns='debt', values='days_employed', aggfunc='count')\n",
    "pivot_status['defaulter_percent'] = pivot_status[1] / (pivot_status[1] + pivot_status[0])*100\n",
    "pivot_status.sort_values(by='defaulter_percent')"
   ]
  },
  {
   "cell_type": "markdown",
   "metadata": {},
   "source": [
    "**Conclusión**\n",
    "\n",
    "los solteros tienen el porcentaje más alto de morosidad en comparación de los demas. y los viudos el porcentaje menor de morosidad, y a la vez, solocitan menos prestamos. \n",
    "Los casados tienen el numero mas alto de prestamos, pero comparandolo con los solteros, el porcentaje de morosidad es medio. "
   ]
  },
  {
   "cell_type": "markdown",
   "metadata": {},
   "source": [
    "**¿Existe una correlación entre el nivel de ingresos y el pago a tiempo?**"
   ]
  },
  {
   "cell_type": "code",
   "execution_count": null,
   "metadata": {},
   "outputs": [],
   "source": [
    "# Comprueba los datos del nivel de ingresos y los pagos a tiempo\n",
    "print(data.groupby('income_class')['debt'].sum())\n",
    "print('*'*35)\n",
    "print(data.groupby('income_class')['debt'].count())\n",
    "\n",
    "\n",
    "\n",
    "# Calcular la tasa de incumplimiento basada en el nivel de ingresos\n",
    "\n",
    "pivot_purpose = data.pivot_table(index='income_class', columns='debt', values='days_employed', aggfunc='count')\n",
    "pivot_purpose['defaulter_percent'] = pivot_purpose[1] / (pivot_purpose[1] + pivot_purpose[0])*100\n",
    "pivot_purpose.sort_values(by='defaulter_percent')\n"
   ]
  },
  {
   "cell_type": "markdown",
   "metadata": {},
   "source": [
    "**Conclusión**\n",
    "\n",
    "Los ricos son los que menos prestamos pide, y al pedirlo, tienen el menor porcentaje de morosidad en comparacion de los demas. los que piden mas pestamos es la clase media baja y es la que tiene el porcentaje de morosidad mas alto. pero comparando la diferencia entre todos los porcentajes, no existe  una diferencia muy alta entre todos. "
   ]
  },
  {
   "cell_type": "markdown",
   "metadata": {},
   "source": [
    "**¿Cómo afecta el propósito del crédito a la tasa de incumplimiento?**"
   ]
  },
  {
   "cell_type": "code",
   "execution_count": null,
   "metadata": {},
   "outputs": [],
   "source": [
    "# Consulta los porcentajes de tasa de incumplimiento para cada propósito del crédito y analízalos\n",
    "print(data.groupby('purpose_groups')['debt'].sum())\n",
    "print('*'*35)\n",
    "print(data.groupby('purpose_groups')['debt'].count())\n",
    "\n",
    "\n",
    "\n",
    "# Calcular la tasa de incumplimiento basada en el nivel de ingresos\n",
    "\n",
    "pivot_purpose = data.pivot_table(index='purpose_groups', columns='debt', values='days_employed', aggfunc='count')\n",
    "pivot_purpose['defaulter_percent'] = pivot_purpose[1] / (pivot_purpose[1] + pivot_purpose[0])*100\n",
    "pivot_purpose.sort_values(by='defaulter_percent')\n"
   ]
  },
  {
   "cell_type": "markdown",
   "metadata": {},
   "source": [
    "**Conclusión**\n",
    "\n",
    "Los creditos más solicitados son para comprar una casa, y son los que tienen el porcentaje de morosidad mas alta. luego le sigue un credito para boda, teniendo al igual que el anterior, un porcenjta de morosidad alto. los que son más propensos a pagar, son lo que solicitan un credito para comprar un auto.\n"
   ]
  },
  {
   "cell_type": "markdown",
   "metadata": {},
   "source": [
    "# Conclusión general \n",
    "\n",
    "las etapas que se siguio en este analisis crediticio fue el siguiente;\n",
    "1. exploracion de datos: se revisaron los datos para conocer a fondo el tipo de datos que nos han otorgado, con esto se identifico que habia un total 21525. y dos columnas presentaban valores ausentes; days_employed y total_income y el porcentaje  era del 10 %.\n",
    "\n",
    "\n",
    "2. Transformacion de datos: se corrigieron las columnas que tenian errores de formato, carga o tipeo erroneo ( que puede ser un error de usario o sistema), la correcion de las columnas fueron las siguientes;\n",
    "a. 'education': se corrigio el formato de las columnas, convirtiendolas todas en minusyla para que no las tomen como diferentes\n",
    "b. 'children' : Los numeros negativos se convirtieron en  positivos y los muy altos se redujo \n",
    "c. 'dob_years': se presentaba el 0,4 % de valores que contenian cero, al ser poco significativo, se reemplazo por la mediana.\n",
    "d. 'family_status': No se realizo ninguna modificacion porque los datos estaban correctos. y tampoco se hizo una agrupacion de datos, porque a veces es necesario conocer el detalle.\n",
    "e.1.6 Gender: se identifico una variable \"xna\" que no tenia ninguna relacion con los datos, se reemplazo por el genero Femenino\n",
    "f. ' income_type' : los tipos de trabajos que no tenian un numero significativo, se incorporaron en otros empleo, a los que más se adaptan \n",
    "\n",
    "Duplicados: se identificaron 54 datos duplicados, y se procedio a eliminarlos \n",
    "\n",
    "3. Correccion de los valores ausentes: las columnas que tenian valores ausentes eran days_employed y total_income y el porcentaje  correspondia al  10 %, al ser un valor poco significativo, se reemplazo por la mediana. en cado de total income, se uso la media de las variables que más influyen en el sueldo ('gender','education_id','income_type'). \n",
    "y con respecto a la variable \" days_employee\" se realizo lo mismo pero se calculo mediana de  (income_type','age_group','gender')\n",
    "\n",
    "4. Categorizacion de datos: se categorizo el proposito del prestamo en la siguientes categorias [ car, weeding, house y education] y los ingresos de acuerdo al percentil que corresponde generando las siguientes categorias [pobre, clase media baja, clase media alta, rico]. esto permite el analisis del porcentaje de morosidad de acuerdo a los grupos creados\n",
    "\n",
    "Conclusion de los creditos \n",
    "\n",
    "revisando las hipotesis y la correlacion entre las variables children, family status, grupo de ingresos y proposito del prestamo con el  porcentaje de morosidad. \n",
    "\n",
    "a. los clientes que no tienen hijos son mas propensos a solicitar prestamos y son los que tienen menos porcentajes de morosidad. y a medida que van teniando mas hijos, menos prestamos solicitan y la mororidad aumenta. no existe una diferencia grande entre incumplimiento de parte de las personas que tienen hijos.\n",
    "B. los solteros tienen el porcentaje más alto de morosidad en comparación de los demas. y los viudos el porcentaje menor,y a la vez, solocitan menos prestamos. \n",
    "Los casados tienen el numero mas alto de prestamos, pero comparandolo con los solteros, el porcentaje de morosidad es medio.\n",
    "C.Los ricos son los que menos prestamos pide, y al pedirlo, tienen el menor porcentaje de morosidad en comparacion de los demas. los que piden mas pestamos es la clase media baja y es la que tiene el porcentaje de morosidad mas alto. pero comparando la diferencia entre todos los porcentajes, no existe  una diferencia muy alta entre todos. \n",
    "D. Los creditos más solicitados son para comprar una casa, y son los que tienen el porcentaje de morosidad mas alta. luego le sigue un credito para boda, teniendo al igual que el anterior, un porcenjta de morosidad alto. los que son más propensos a pagar, son lo que solicitan un credito para comprar un auto.\n",
    "\n",
    "\n",
    "En conslusion, a pesar de lo anterior,no existe un porcentaje tan diferencial entre cada categoria. pero si se quiere otorgar un prestamo, es recomedable otorgarlo un credito hipotecario a personas que no tienen hijos correspondiente a la clase media alta, ya que son los más propensos  a pagar  \n"
   ]
  }
 ],
 "metadata": {
  "ExecuteTimeLog": [
   {
    "duration": 2741,
    "start_time": "2021-10-21T01:08:49.480Z"
   },
   {
    "duration": 52,
    "start_time": "2021-10-21T01:08:53.315Z"
   },
   {
    "duration": 49,
    "start_time": "2021-10-21T01:08:57.432Z"
   },
   {
    "duration": 70,
    "start_time": "2021-10-21T01:09:07.706Z"
   }
  ],
  "kernelspec": {
   "display_name": "Python 3 (ipykernel)",
   "language": "python",
   "name": "python3"
  },
  "language_info": {
   "codemirror_mode": {
    "name": "ipython",
    "version": 3
   },
   "file_extension": ".py",
   "mimetype": "text/x-python",
   "name": "python",
   "nbconvert_exporter": "python",
   "pygments_lexer": "ipython3",
   "version": "3.9.12"
  },
  "toc": {
   "base_numbering": 1,
   "nav_menu": {},
   "number_sections": true,
   "sideBar": true,
   "skip_h1_title": true,
   "title_cell": "Table of Contents",
   "title_sidebar": "Contents",
   "toc_cell": false,
   "toc_position": {},
   "toc_section_display": true,
   "toc_window_display": false
  }
 },
 "nbformat": 4,
 "nbformat_minor": 4
}
