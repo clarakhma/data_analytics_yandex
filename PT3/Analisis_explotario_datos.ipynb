{
 "cells": [
  {
   "cell_type": "markdown",
   "metadata": {
    "tags": []
   },
   "source": [
    "# ¿Qué vende un coche?\n",
    "\n",
    "Eres un analista en Crankshaft List. Cientos de anuncios gratuitos de vehículos se publican en tu sitio web cada día. Necesitas estudiar los datos recopilados durante los últimos años y determinar qué factores influyen en el precio de un vehículo.\n",
    "\n",
    "El objetivo de este proyecto en determinar que factores influyen en el precio de un vehiculo. para determinar el resultado se tiene que hacer los siguientes pasos para tener una base confiable;\n",
    "\n",
    "1. Analisar la informacion otorgada\n",
    "2. Preprocesamiento de dato\n",
    "3. Moldeamiento de los datos de acuerdo a las necesidades de estudio\n",
    "4. Analisis exploratorio \n",
    "\n",
    "\n"
   ]
  },
  {
   "cell_type": "markdown",
   "metadata": {},
   "source": [
    "### Introduccion"
   ]
  },
  {
   "cell_type": "markdown",
   "metadata": {},
   "source": [
    "Para poder estudiar los datos otorgados y descubrir el objetivo de esto, primero que nada se debe visualizar toda la informacion otorgada para determinar si los datos son confiables. Segundo, en caso que los datos esten incompletos se deberan corregir y eliminar los datos que no agregar valor.\n",
    "Por ultimo, cuando tengamos una base confiable , analizaremos todos los factores presentes y mediante un analisis exploratorio determinaremos que factores influyen en el precio\n"
   ]
  },
  {
   "cell_type": "markdown",
   "metadata": {
    "tags": []
   },
   "source": [
    "## Inicialización"
   ]
  },
  {
   "cell_type": "code",
   "execution_count": 1,
   "metadata": {},
   "outputs": [
    {
     "name": "stdout",
     "output_type": "stream",
     "text": [
      "Setup Complete\n"
     ]
    }
   ],
   "source": [
    "# Cargar todas las librerías\n",
    "import pandas as pd\n",
    "import numpy as np\n",
    "\n",
    "import matplotlib.pyplot as plt\n",
    "%matplotlib inline\n",
    "\n",
    "import sys\n",
    "import warnings\n",
    "if not sys.warnoptions:\n",
    "       warnings.simplefilter(\"ignore\")\n",
    "\n",
    "\n",
    "print(\"Setup Complete\")\n"
   ]
  },
  {
   "cell_type": "markdown",
   "metadata": {},
   "source": [
    "### Cargar datos"
   ]
  },
  {
   "cell_type": "markdown",
   "metadata": {},
   "source": [
    "Importar datos y que se pueda visualizar en diferentes plataformas"
   ]
  },
  {
   "cell_type": "code",
   "execution_count": 2,
   "metadata": {},
   "outputs": [],
   "source": [
    "# Carga el archivo de datos en un DataFrame\n",
    "try: #anaconda\n",
    "    df = pd.read_csv('moved_vehicles_us.csv')\n",
    "except: #jupyter\n",
    "    df = pd.read_csv('/datasets/vehicles_us.csv')\n",
    "\n"
   ]
  },
  {
   "cell_type": "code",
   "execution_count": 3,
   "metadata": {},
   "outputs": [
    {
     "data": {
      "text/html": [
       "<div>\n",
       "<style scoped>\n",
       "    .dataframe tbody tr th:only-of-type {\n",
       "        vertical-align: middle;\n",
       "    }\n",
       "\n",
       "    .dataframe tbody tr th {\n",
       "        vertical-align: top;\n",
       "    }\n",
       "\n",
       "    .dataframe thead th {\n",
       "        text-align: right;\n",
       "    }\n",
       "</style>\n",
       "<table border=\"1\" class=\"dataframe\">\n",
       "  <thead>\n",
       "    <tr style=\"text-align: right;\">\n",
       "      <th></th>\n",
       "      <th>price</th>\n",
       "      <th>model_year</th>\n",
       "      <th>model</th>\n",
       "      <th>condition</th>\n",
       "      <th>cylinders</th>\n",
       "      <th>fuel</th>\n",
       "      <th>odometer</th>\n",
       "      <th>transmission</th>\n",
       "      <th>type</th>\n",
       "      <th>paint_color</th>\n",
       "      <th>is_4wd</th>\n",
       "      <th>date_posted</th>\n",
       "      <th>days_listed</th>\n",
       "    </tr>\n",
       "  </thead>\n",
       "  <tbody>\n",
       "    <tr>\n",
       "      <th>0</th>\n",
       "      <td>9400</td>\n",
       "      <td>2011.0</td>\n",
       "      <td>bmw x5</td>\n",
       "      <td>good</td>\n",
       "      <td>6.0</td>\n",
       "      <td>gas</td>\n",
       "      <td>145000.0</td>\n",
       "      <td>automatic</td>\n",
       "      <td>SUV</td>\n",
       "      <td>NaN</td>\n",
       "      <td>1.0</td>\n",
       "      <td>2018-06-23</td>\n",
       "      <td>19</td>\n",
       "    </tr>\n",
       "    <tr>\n",
       "      <th>1</th>\n",
       "      <td>25500</td>\n",
       "      <td>NaN</td>\n",
       "      <td>ford f-150</td>\n",
       "      <td>good</td>\n",
       "      <td>6.0</td>\n",
       "      <td>gas</td>\n",
       "      <td>88705.0</td>\n",
       "      <td>automatic</td>\n",
       "      <td>pickup</td>\n",
       "      <td>white</td>\n",
       "      <td>1.0</td>\n",
       "      <td>2018-10-19</td>\n",
       "      <td>50</td>\n",
       "    </tr>\n",
       "    <tr>\n",
       "      <th>2</th>\n",
       "      <td>5500</td>\n",
       "      <td>2013.0</td>\n",
       "      <td>hyundai sonata</td>\n",
       "      <td>like new</td>\n",
       "      <td>4.0</td>\n",
       "      <td>gas</td>\n",
       "      <td>110000.0</td>\n",
       "      <td>automatic</td>\n",
       "      <td>sedan</td>\n",
       "      <td>red</td>\n",
       "      <td>NaN</td>\n",
       "      <td>2019-02-07</td>\n",
       "      <td>79</td>\n",
       "    </tr>\n",
       "    <tr>\n",
       "      <th>3</th>\n",
       "      <td>1500</td>\n",
       "      <td>2003.0</td>\n",
       "      <td>ford f-150</td>\n",
       "      <td>fair</td>\n",
       "      <td>8.0</td>\n",
       "      <td>gas</td>\n",
       "      <td>NaN</td>\n",
       "      <td>automatic</td>\n",
       "      <td>pickup</td>\n",
       "      <td>NaN</td>\n",
       "      <td>NaN</td>\n",
       "      <td>2019-03-22</td>\n",
       "      <td>9</td>\n",
       "    </tr>\n",
       "    <tr>\n",
       "      <th>4</th>\n",
       "      <td>14900</td>\n",
       "      <td>2017.0</td>\n",
       "      <td>chrysler 200</td>\n",
       "      <td>excellent</td>\n",
       "      <td>4.0</td>\n",
       "      <td>gas</td>\n",
       "      <td>80903.0</td>\n",
       "      <td>automatic</td>\n",
       "      <td>sedan</td>\n",
       "      <td>black</td>\n",
       "      <td>NaN</td>\n",
       "      <td>2019-04-02</td>\n",
       "      <td>28</td>\n",
       "    </tr>\n",
       "  </tbody>\n",
       "</table>\n",
       "</div>"
      ],
      "text/plain": [
       "   price  model_year           model  condition  cylinders fuel  odometer  \\\n",
       "0   9400      2011.0          bmw x5       good        6.0  gas  145000.0   \n",
       "1  25500         NaN      ford f-150       good        6.0  gas   88705.0   \n",
       "2   5500      2013.0  hyundai sonata   like new        4.0  gas  110000.0   \n",
       "3   1500      2003.0      ford f-150       fair        8.0  gas       NaN   \n",
       "4  14900      2017.0    chrysler 200  excellent        4.0  gas   80903.0   \n",
       "\n",
       "  transmission    type paint_color  is_4wd date_posted  days_listed  \n",
       "0    automatic     SUV         NaN     1.0  2018-06-23           19  \n",
       "1    automatic  pickup       white     1.0  2018-10-19           50  \n",
       "2    automatic   sedan         red     NaN  2019-02-07           79  \n",
       "3    automatic  pickup         NaN     NaN  2019-03-22            9  \n",
       "4    automatic   sedan       black     NaN  2019-04-02           28  "
      ]
     },
     "execution_count": 3,
     "metadata": {},
     "output_type": "execute_result"
    }
   ],
   "source": [
    "df.head()"
   ]
  },
  {
   "cell_type": "markdown",
   "metadata": {},
   "source": [
    "### Explorar datos iniciales"
   ]
  },
  {
   "cell_type": "markdown",
   "metadata": {},
   "source": [
    "El dataset contiene los siguientes campos:\n",
    "- `price`\n",
    "- `model_year`\n",
    "- `model`\n",
    "- `condition`\n",
    "- `cylinders`\n",
    "- `fuel` — gasolina, diesel, etc.\n",
    "- `odometer` — el millaje del vehículo cuando el anuncio fue publicado\n",
    "- `transmission`\n",
    "- `paint_color`\n",
    "- `is_4wd` — si el vehículo tiene tracción a las 4 ruedas (tipo Booleano)\n",
    "- `date_posted` — la fecha en la que el anuncio fue publicado\n",
    "- `days_listed` — desde la publicación hasta que se elimina\n"
   ]
  },
  {
   "cell_type": "code",
   "execution_count": 4,
   "metadata": {},
   "outputs": [
    {
     "name": "stdout",
     "output_type": "stream",
     "text": [
      "<class 'pandas.core.frame.DataFrame'>\n",
      "RangeIndex: 51525 entries, 0 to 51524\n",
      "Data columns (total 13 columns):\n",
      " #   Column        Non-Null Count  Dtype  \n",
      "---  ------        --------------  -----  \n",
      " 0   price         51525 non-null  int64  \n",
      " 1   model_year    47906 non-null  float64\n",
      " 2   model         51525 non-null  object \n",
      " 3   condition     51525 non-null  object \n",
      " 4   cylinders     46265 non-null  float64\n",
      " 5   fuel          51525 non-null  object \n",
      " 6   odometer      43633 non-null  float64\n",
      " 7   transmission  51525 non-null  object \n",
      " 8   type          51525 non-null  object \n",
      " 9   paint_color   42258 non-null  object \n",
      " 10  is_4wd        25572 non-null  float64\n",
      " 11  date_posted   51525 non-null  object \n",
      " 12  days_listed   51525 non-null  int64  \n",
      "dtypes: float64(4), int64(2), object(7)\n",
      "memory usage: 5.1+ MB\n"
     ]
    }
   ],
   "source": [
    "# imprime la información general/resumida sobre el DataFrame\n",
    "\n",
    "df.info()"
   ]
  },
  {
   "cell_type": "markdown",
   "metadata": {},
   "source": [
    "Del la base de datos podemos concluir lo siguiente;\n",
    "1. En general existen 51525 observaciones \n",
    "2. los tipos de datos son:  4 reales , 2 enteros y 7 objetos\n",
    "3. is_4wd figura como decimal pero deberia ser booleano (0 o 1)\n",
    "4. date_posted se debe convertir a formato fecha\n",
    "5. Hay datos ausentes en model_year, cylinders, odomoter, paint_color, is_4wd"
   ]
  },
  {
   "cell_type": "code",
   "execution_count": 5,
   "metadata": {},
   "outputs": [
    {
     "data": {
      "text/html": [
       "<div>\n",
       "<style scoped>\n",
       "    .dataframe tbody tr th:only-of-type {\n",
       "        vertical-align: middle;\n",
       "    }\n",
       "\n",
       "    .dataframe tbody tr th {\n",
       "        vertical-align: top;\n",
       "    }\n",
       "\n",
       "    .dataframe thead th {\n",
       "        text-align: right;\n",
       "    }\n",
       "</style>\n",
       "<table border=\"1\" class=\"dataframe\">\n",
       "  <thead>\n",
       "    <tr style=\"text-align: right;\">\n",
       "      <th></th>\n",
       "      <th>price</th>\n",
       "      <th>model_year</th>\n",
       "      <th>cylinders</th>\n",
       "      <th>odometer</th>\n",
       "      <th>is_4wd</th>\n",
       "      <th>days_listed</th>\n",
       "    </tr>\n",
       "  </thead>\n",
       "  <tbody>\n",
       "    <tr>\n",
       "      <th>count</th>\n",
       "      <td>51525.000000</td>\n",
       "      <td>47906.000000</td>\n",
       "      <td>46265.000000</td>\n",
       "      <td>43633.000000</td>\n",
       "      <td>25572.0</td>\n",
       "      <td>51525.00000</td>\n",
       "    </tr>\n",
       "    <tr>\n",
       "      <th>mean</th>\n",
       "      <td>12132.464920</td>\n",
       "      <td>2009.750470</td>\n",
       "      <td>6.125235</td>\n",
       "      <td>115553.461738</td>\n",
       "      <td>1.0</td>\n",
       "      <td>39.55476</td>\n",
       "    </tr>\n",
       "    <tr>\n",
       "      <th>std</th>\n",
       "      <td>10040.803015</td>\n",
       "      <td>6.282065</td>\n",
       "      <td>1.660360</td>\n",
       "      <td>65094.611341</td>\n",
       "      <td>0.0</td>\n",
       "      <td>28.20427</td>\n",
       "    </tr>\n",
       "    <tr>\n",
       "      <th>min</th>\n",
       "      <td>1.000000</td>\n",
       "      <td>1908.000000</td>\n",
       "      <td>3.000000</td>\n",
       "      <td>0.000000</td>\n",
       "      <td>1.0</td>\n",
       "      <td>0.00000</td>\n",
       "    </tr>\n",
       "    <tr>\n",
       "      <th>25%</th>\n",
       "      <td>5000.000000</td>\n",
       "      <td>2006.000000</td>\n",
       "      <td>4.000000</td>\n",
       "      <td>70000.000000</td>\n",
       "      <td>1.0</td>\n",
       "      <td>19.00000</td>\n",
       "    </tr>\n",
       "    <tr>\n",
       "      <th>50%</th>\n",
       "      <td>9000.000000</td>\n",
       "      <td>2011.000000</td>\n",
       "      <td>6.000000</td>\n",
       "      <td>113000.000000</td>\n",
       "      <td>1.0</td>\n",
       "      <td>33.00000</td>\n",
       "    </tr>\n",
       "    <tr>\n",
       "      <th>75%</th>\n",
       "      <td>16839.000000</td>\n",
       "      <td>2014.000000</td>\n",
       "      <td>8.000000</td>\n",
       "      <td>155000.000000</td>\n",
       "      <td>1.0</td>\n",
       "      <td>53.00000</td>\n",
       "    </tr>\n",
       "    <tr>\n",
       "      <th>max</th>\n",
       "      <td>375000.000000</td>\n",
       "      <td>2019.000000</td>\n",
       "      <td>12.000000</td>\n",
       "      <td>990000.000000</td>\n",
       "      <td>1.0</td>\n",
       "      <td>271.00000</td>\n",
       "    </tr>\n",
       "  </tbody>\n",
       "</table>\n",
       "</div>"
      ],
      "text/plain": [
       "               price    model_year     cylinders       odometer   is_4wd  \\\n",
       "count   51525.000000  47906.000000  46265.000000   43633.000000  25572.0   \n",
       "mean    12132.464920   2009.750470      6.125235  115553.461738      1.0   \n",
       "std     10040.803015      6.282065      1.660360   65094.611341      0.0   \n",
       "min         1.000000   1908.000000      3.000000       0.000000      1.0   \n",
       "25%      5000.000000   2006.000000      4.000000   70000.000000      1.0   \n",
       "50%      9000.000000   2011.000000      6.000000  113000.000000      1.0   \n",
       "75%     16839.000000   2014.000000      8.000000  155000.000000      1.0   \n",
       "max    375000.000000   2019.000000     12.000000  990000.000000      1.0   \n",
       "\n",
       "       days_listed  \n",
       "count  51525.00000  \n",
       "mean      39.55476  \n",
       "std       28.20427  \n",
       "min        0.00000  \n",
       "25%       19.00000  \n",
       "50%       33.00000  \n",
       "75%       53.00000  \n",
       "max      271.00000  "
      ]
     },
     "execution_count": 5,
     "metadata": {},
     "output_type": "execute_result"
    }
   ],
   "source": [
    "df.describe()"
   ]
  },
  {
   "cell_type": "markdown",
   "metadata": {},
   "source": [
    "1. En la columna de precio, el minimo es 1 dolar, este dato efectivamente es un error que debe ser corregido.\n",
    "2. en la columna `id_4wd` contiene solo dos categorias, 1 y 0"
   ]
  },
  {
   "cell_type": "markdown",
   "metadata": {},
   "source": [
    "### Conclusiones y siguientes pasos\n",
    "\n",
    "Las columnas Model_Year, Cylinders, odomoter y paint color tienen valores ausentes, para solucionar esto se deberan eliminar los datos que no dan mucho valor y completar los campos vacios con el valor que más se adecua, pudiendo ser la mediana o un texto determinado.\n",
    "ademas de lo expuesto anteriormente, ademas, existen valores atipicos, que influyen en las variables.  para esto, se deberá revisar los valores aticpicos y determinar la manera en qué seran  trabajados.\n",
    "\n"
   ]
  },
  {
   "cell_type": "markdown",
   "metadata": {
    "tags": []
   },
   "source": [
    "# Paso 2. Preprocesamiento de datos"
   ]
  },
  {
   "cell_type": "markdown",
   "metadata": {
    "tags": []
   },
   "source": [
    "## Tratar los valores ausentes (si hay)"
   ]
  },
  {
   "cell_type": "markdown",
   "metadata": {},
   "source": [
    "Las columnas que tienen valores ausentes son las siguientes;\n",
    "- is_4wd\n",
    "- paint_color\n",
    "- odometer\n",
    "- cylinders\n",
    "- model_year"
   ]
  },
  {
   "cell_type": "code",
   "execution_count": 6,
   "metadata": {},
   "outputs": [
    {
     "data": {
      "text/html": [
       "<div>\n",
       "<style scoped>\n",
       "    .dataframe tbody tr th:only-of-type {\n",
       "        vertical-align: middle;\n",
       "    }\n",
       "\n",
       "    .dataframe tbody tr th {\n",
       "        vertical-align: top;\n",
       "    }\n",
       "\n",
       "    .dataframe thead th {\n",
       "        text-align: right;\n",
       "    }\n",
       "</style>\n",
       "<table border=\"1\" class=\"dataframe\">\n",
       "  <thead>\n",
       "    <tr style=\"text-align: right;\">\n",
       "      <th></th>\n",
       "      <th>0</th>\n",
       "      <th>1</th>\n",
       "      <th>2</th>\n",
       "      <th>3</th>\n",
       "      <th>4</th>\n",
       "      <th>5</th>\n",
       "      <th>6</th>\n",
       "      <th>7</th>\n",
       "      <th>8</th>\n",
       "      <th>9</th>\n",
       "      <th>10</th>\n",
       "      <th>11</th>\n",
       "      <th>12</th>\n",
       "    </tr>\n",
       "  </thead>\n",
       "  <tbody>\n",
       "    <tr>\n",
       "      <th>Variables</th>\n",
       "      <td>is_4wd</td>\n",
       "      <td>paint_color</td>\n",
       "      <td>odometer</td>\n",
       "      <td>cylinders</td>\n",
       "      <td>model_year</td>\n",
       "      <td>price</td>\n",
       "      <td>model</td>\n",
       "      <td>condition</td>\n",
       "      <td>fuel</td>\n",
       "      <td>transmission</td>\n",
       "      <td>type</td>\n",
       "      <td>date_posted</td>\n",
       "      <td>days_listed</td>\n",
       "    </tr>\n",
       "    <tr>\n",
       "      <th>Missing</th>\n",
       "      <td>25953</td>\n",
       "      <td>9267</td>\n",
       "      <td>7892</td>\n",
       "      <td>5260</td>\n",
       "      <td>3619</td>\n",
       "      <td>0</td>\n",
       "      <td>0</td>\n",
       "      <td>0</td>\n",
       "      <td>0</td>\n",
       "      <td>0</td>\n",
       "      <td>0</td>\n",
       "      <td>0</td>\n",
       "      <td>0</td>\n",
       "    </tr>\n",
       "  </tbody>\n",
       "</table>\n",
       "</div>"
      ],
      "text/plain": [
       "               0            1         2          3           4      5      6   \\\n",
       "Variables  is_4wd  paint_color  odometer  cylinders  model_year  price  model   \n",
       "Missing     25953         9267      7892       5260        3619      0      0   \n",
       "\n",
       "                  7     8             9     10           11           12  \n",
       "Variables  condition  fuel  transmission  type  date_posted  days_listed  \n",
       "Missing            0     0             0     0            0            0  "
      ]
     },
     "execution_count": 6,
     "metadata": {},
     "output_type": "execute_result"
    }
   ],
   "source": [
    "(df.isna()\n",
    " .sum()\n",
    " .sort_values(ascending=False)\n",
    " .reset_index()\n",
    " .rename(columns = {'index' : 'Variables', 0: 'Missing'})\n",
    ").T"
   ]
  },
  {
   "cell_type": "markdown",
   "metadata": {
    "tags": []
   },
   "source": [
    "#### is_4wd: Como es un valor booleano, se reemplazará los valores vacios por 0"
   ]
  },
  {
   "cell_type": "code",
   "execution_count": 7,
   "metadata": {},
   "outputs": [],
   "source": [
    "df['is_4wd']= df['is_4wd'].fillna(0)"
   ]
  },
  {
   "cell_type": "code",
   "execution_count": 8,
   "metadata": {},
   "outputs": [
    {
     "data": {
      "text/plain": [
       "51525"
      ]
     },
     "execution_count": 8,
     "metadata": {},
     "output_type": "execute_result"
    }
   ],
   "source": [
    "df['is_4wd'].isnull().count()"
   ]
  },
  {
   "cell_type": "markdown",
   "metadata": {
    "tags": []
   },
   "source": [
    "#### Paint_color:"
   ]
  },
  {
   "cell_type": "code",
   "execution_count": 9,
   "metadata": {},
   "outputs": [
    {
     "data": {
      "text/plain": [
       "white     10029\n",
       "black      7692\n",
       "silver     6244\n",
       "grey       5037\n",
       "blue       4475\n",
       "red        4421\n",
       "green      1396\n",
       "brown      1223\n",
       "custom     1153\n",
       "yellow      255\n",
       "orange      231\n",
       "purple      102\n",
       "Name: paint_color, dtype: int64"
      ]
     },
     "execution_count": 9,
     "metadata": {},
     "output_type": "execute_result"
    }
   ],
   "source": [
    "df['paint_color'].value_counts()\n"
   ]
  },
  {
   "cell_type": "code",
   "execution_count": 10,
   "metadata": {},
   "outputs": [],
   "source": [
    "df['paint_color']=df['paint_color'].fillna('missing')"
   ]
  },
  {
   "cell_type": "code",
   "execution_count": 11,
   "metadata": {},
   "outputs": [
    {
     "data": {
      "text/plain": [
       "51525"
      ]
     },
     "execution_count": 11,
     "metadata": {},
     "output_type": "execute_result"
    }
   ],
   "source": [
    "df['paint_color'].isnull().count()"
   ]
  },
  {
   "cell_type": "markdown",
   "metadata": {
    "tags": []
   },
   "source": [
    "#### odometer"
   ]
  },
  {
   "cell_type": "code",
   "execution_count": 12,
   "metadata": {},
   "outputs": [
    {
     "data": {
      "image/png": "[encoded data removed]",
      "text/plain": [
       "<Figure size 432x288 with 1 Axes>"
      ]
     },
     "metadata": {
      "needs_background": "light"
     },
     "output_type": "display_data"
    }
   ],
   "source": [
    "df['odometer'].dropna().astype('int').hist(bins=100)\n",
    "plt.xlim(0,500000)\n",
    "plt.title(\"Kilometraje \")\n",
    "plt.xlabel('valor odometer')\n",
    "plt.ylabel('frequencia');"
   ]
  },
  {
   "cell_type": "code",
   "execution_count": 13,
   "metadata": {},
   "outputs": [
    {
     "data": {
      "text/plain": [
       "count     43633.000000\n",
       "mean     115553.461738\n",
       "std       65094.611341\n",
       "min           0.000000\n",
       "25%       70000.000000\n",
       "50%      113000.000000\n",
       "75%      155000.000000\n",
       "max      990000.000000\n",
       "Name: odometer, dtype: float64"
      ]
     },
     "execution_count": 13,
     "metadata": {},
     "output_type": "execute_result"
    }
   ],
   "source": [
    "df['odometer'].describe()"
   ]
  },
  {
   "cell_type": "code",
   "execution_count": 14,
   "metadata": {},
   "outputs": [
    {
     "data": {
      "text/plain": [
       "price           185\n",
       "model_year      172\n",
       "model           185\n",
       "condition       185\n",
       "cylinders       166\n",
       "fuel            185\n",
       "odometer        185\n",
       "transmission    185\n",
       "type            185\n",
       "paint_color     185\n",
       "is_4wd          185\n",
       "date_posted     185\n",
       "days_listed     185\n",
       "dtype: int64"
      ]
     },
     "execution_count": 14,
     "metadata": {},
     "output_type": "execute_result"
    }
   ],
   "source": [
    "df[df['odometer']==0].count()"
   ]
  },
  {
   "cell_type": "code",
   "execution_count": 15,
   "metadata": {},
   "outputs": [
    {
     "data": {
      "text/html": [
       "<div>\n",
       "<style scoped>\n",
       "    .dataframe tbody tr th:only-of-type {\n",
       "        vertical-align: middle;\n",
       "    }\n",
       "\n",
       "    .dataframe tbody tr th {\n",
       "        vertical-align: top;\n",
       "    }\n",
       "\n",
       "    .dataframe thead th {\n",
       "        text-align: right;\n",
       "    }\n",
       "</style>\n",
       "<table border=\"1\" class=\"dataframe\">\n",
       "  <thead>\n",
       "    <tr style=\"text-align: right;\">\n",
       "      <th></th>\n",
       "      <th>price</th>\n",
       "      <th>model_year</th>\n",
       "      <th>model</th>\n",
       "      <th>condition</th>\n",
       "      <th>cylinders</th>\n",
       "      <th>fuel</th>\n",
       "      <th>odometer</th>\n",
       "      <th>transmission</th>\n",
       "      <th>type</th>\n",
       "      <th>paint_color</th>\n",
       "      <th>is_4wd</th>\n",
       "      <th>date_posted</th>\n",
       "      <th>days_listed</th>\n",
       "    </tr>\n",
       "  </thead>\n",
       "  <tbody>\n",
       "    <tr>\n",
       "      <th>352</th>\n",
       "      <td>7997</td>\n",
       "      <td>2009.0</td>\n",
       "      <td>gmc yukon</td>\n",
       "      <td>excellent</td>\n",
       "      <td>8.0</td>\n",
       "      <td>gas</td>\n",
       "      <td>0.0</td>\n",
       "      <td>automatic</td>\n",
       "      <td>SUV</td>\n",
       "      <td>white</td>\n",
       "      <td>1.0</td>\n",
       "      <td>2019-03-16</td>\n",
       "      <td>88</td>\n",
       "    </tr>\n",
       "    <tr>\n",
       "      <th>814</th>\n",
       "      <td>2995</td>\n",
       "      <td>1999.0</td>\n",
       "      <td>ford f-150</td>\n",
       "      <td>good</td>\n",
       "      <td>6.0</td>\n",
       "      <td>gas</td>\n",
       "      <td>0.0</td>\n",
       "      <td>manual</td>\n",
       "      <td>truck</td>\n",
       "      <td>missing</td>\n",
       "      <td>0.0</td>\n",
       "      <td>2019-03-14</td>\n",
       "      <td>16</td>\n",
       "    </tr>\n",
       "    <tr>\n",
       "      <th>1375</th>\n",
       "      <td>5888</td>\n",
       "      <td>NaN</td>\n",
       "      <td>toyota 4runner</td>\n",
       "      <td>good</td>\n",
       "      <td>6.0</td>\n",
       "      <td>gas</td>\n",
       "      <td>0.0</td>\n",
       "      <td>automatic</td>\n",
       "      <td>SUV</td>\n",
       "      <td>black</td>\n",
       "      <td>0.0</td>\n",
       "      <td>2019-02-22</td>\n",
       "      <td>36</td>\n",
       "    </tr>\n",
       "    <tr>\n",
       "      <th>1461</th>\n",
       "      <td>1000</td>\n",
       "      <td>1992.0</td>\n",
       "      <td>gmc sierra 1500</td>\n",
       "      <td>good</td>\n",
       "      <td>8.0</td>\n",
       "      <td>gas</td>\n",
       "      <td>0.0</td>\n",
       "      <td>automatic</td>\n",
       "      <td>truck</td>\n",
       "      <td>missing</td>\n",
       "      <td>0.0</td>\n",
       "      <td>2018-09-28</td>\n",
       "      <td>47</td>\n",
       "    </tr>\n",
       "    <tr>\n",
       "      <th>1970</th>\n",
       "      <td>10988</td>\n",
       "      <td>2000.0</td>\n",
       "      <td>ford f-250 sd</td>\n",
       "      <td>good</td>\n",
       "      <td>8.0</td>\n",
       "      <td>diesel</td>\n",
       "      <td>0.0</td>\n",
       "      <td>automatic</td>\n",
       "      <td>truck</td>\n",
       "      <td>white</td>\n",
       "      <td>1.0</td>\n",
       "      <td>2018-11-21</td>\n",
       "      <td>39</td>\n",
       "    </tr>\n",
       "  </tbody>\n",
       "</table>\n",
       "</div>"
      ],
      "text/plain": [
       "      price  model_year            model  condition  cylinders    fuel  \\\n",
       "352    7997      2009.0        gmc yukon  excellent        8.0     gas   \n",
       "814    2995      1999.0       ford f-150       good        6.0     gas   \n",
       "1375   5888         NaN   toyota 4runner       good        6.0     gas   \n",
       "1461   1000      1992.0  gmc sierra 1500       good        8.0     gas   \n",
       "1970  10988      2000.0    ford f-250 sd       good        8.0  diesel   \n",
       "\n",
       "      odometer transmission   type paint_color  is_4wd date_posted  \\\n",
       "352        0.0    automatic    SUV       white     1.0  2019-03-16   \n",
       "814        0.0       manual  truck     missing     0.0  2019-03-14   \n",
       "1375       0.0    automatic    SUV       black     0.0  2019-02-22   \n",
       "1461       0.0    automatic  truck     missing     0.0  2018-09-28   \n",
       "1970       0.0    automatic  truck       white     1.0  2018-11-21   \n",
       "\n",
       "      days_listed  \n",
       "352            88  \n",
       "814            16  \n",
       "1375           36  \n",
       "1461           47  \n",
       "1970           39  "
      ]
     },
     "execution_count": 15,
     "metadata": {},
     "output_type": "execute_result"
    }
   ],
   "source": [
    "df[df['odometer']== 0].head()"
   ]
  },
  {
   "cell_type": "code",
   "execution_count": 16,
   "metadata": {},
   "outputs": [
    {
     "data": {
      "text/html": [
       "<div>\n",
       "<style scoped>\n",
       "    .dataframe tbody tr th:only-of-type {\n",
       "        vertical-align: middle;\n",
       "    }\n",
       "\n",
       "    .dataframe tbody tr th {\n",
       "        vertical-align: top;\n",
       "    }\n",
       "\n",
       "    .dataframe thead th {\n",
       "        text-align: right;\n",
       "    }\n",
       "</style>\n",
       "<table border=\"1\" class=\"dataframe\">\n",
       "  <thead>\n",
       "    <tr style=\"text-align: right;\">\n",
       "      <th></th>\n",
       "      <th>price</th>\n",
       "      <th>model_year</th>\n",
       "      <th>model</th>\n",
       "      <th>condition</th>\n",
       "      <th>cylinders</th>\n",
       "      <th>fuel</th>\n",
       "      <th>odometer</th>\n",
       "      <th>transmission</th>\n",
       "      <th>type</th>\n",
       "      <th>paint_color</th>\n",
       "      <th>is_4wd</th>\n",
       "      <th>date_posted</th>\n",
       "      <th>days_listed</th>\n",
       "    </tr>\n",
       "  </thead>\n",
       "  <tbody>\n",
       "    <tr>\n",
       "      <th>352</th>\n",
       "      <td>7997</td>\n",
       "      <td>2009.0</td>\n",
       "      <td>gmc yukon</td>\n",
       "      <td>excellent</td>\n",
       "      <td>8.0</td>\n",
       "      <td>gas</td>\n",
       "      <td>0.0</td>\n",
       "      <td>automatic</td>\n",
       "      <td>SUV</td>\n",
       "      <td>white</td>\n",
       "      <td>1.0</td>\n",
       "      <td>2019-03-16</td>\n",
       "      <td>88</td>\n",
       "    </tr>\n",
       "    <tr>\n",
       "      <th>814</th>\n",
       "      <td>2995</td>\n",
       "      <td>1999.0</td>\n",
       "      <td>ford f-150</td>\n",
       "      <td>good</td>\n",
       "      <td>6.0</td>\n",
       "      <td>gas</td>\n",
       "      <td>0.0</td>\n",
       "      <td>manual</td>\n",
       "      <td>truck</td>\n",
       "      <td>missing</td>\n",
       "      <td>0.0</td>\n",
       "      <td>2019-03-14</td>\n",
       "      <td>16</td>\n",
       "    </tr>\n",
       "    <tr>\n",
       "      <th>1375</th>\n",
       "      <td>5888</td>\n",
       "      <td>NaN</td>\n",
       "      <td>toyota 4runner</td>\n",
       "      <td>good</td>\n",
       "      <td>6.0</td>\n",
       "      <td>gas</td>\n",
       "      <td>0.0</td>\n",
       "      <td>automatic</td>\n",
       "      <td>SUV</td>\n",
       "      <td>black</td>\n",
       "      <td>0.0</td>\n",
       "      <td>2019-02-22</td>\n",
       "      <td>36</td>\n",
       "    </tr>\n",
       "    <tr>\n",
       "      <th>1461</th>\n",
       "      <td>1000</td>\n",
       "      <td>1992.0</td>\n",
       "      <td>gmc sierra 1500</td>\n",
       "      <td>good</td>\n",
       "      <td>8.0</td>\n",
       "      <td>gas</td>\n",
       "      <td>0.0</td>\n",
       "      <td>automatic</td>\n",
       "      <td>truck</td>\n",
       "      <td>missing</td>\n",
       "      <td>0.0</td>\n",
       "      <td>2018-09-28</td>\n",
       "      <td>47</td>\n",
       "    </tr>\n",
       "    <tr>\n",
       "      <th>1970</th>\n",
       "      <td>10988</td>\n",
       "      <td>2000.0</td>\n",
       "      <td>ford f-250 sd</td>\n",
       "      <td>good</td>\n",
       "      <td>8.0</td>\n",
       "      <td>diesel</td>\n",
       "      <td>0.0</td>\n",
       "      <td>automatic</td>\n",
       "      <td>truck</td>\n",
       "      <td>white</td>\n",
       "      <td>1.0</td>\n",
       "      <td>2018-11-21</td>\n",
       "      <td>39</td>\n",
       "    </tr>\n",
       "    <tr>\n",
       "      <th>2049</th>\n",
       "      <td>30000</td>\n",
       "      <td>1969.0</td>\n",
       "      <td>chevrolet corvette</td>\n",
       "      <td>excellent</td>\n",
       "      <td>8.0</td>\n",
       "      <td>other</td>\n",
       "      <td>0.0</td>\n",
       "      <td>automatic</td>\n",
       "      <td>convertible</td>\n",
       "      <td>white</td>\n",
       "      <td>0.0</td>\n",
       "      <td>2018-08-01</td>\n",
       "      <td>20</td>\n",
       "    </tr>\n",
       "    <tr>\n",
       "      <th>2077</th>\n",
       "      <td>11888</td>\n",
       "      <td>2010.0</td>\n",
       "      <td>chevrolet silverado 1500</td>\n",
       "      <td>good</td>\n",
       "      <td>8.0</td>\n",
       "      <td>gas</td>\n",
       "      <td>0.0</td>\n",
       "      <td>automatic</td>\n",
       "      <td>truck</td>\n",
       "      <td>white</td>\n",
       "      <td>0.0</td>\n",
       "      <td>2018-07-02</td>\n",
       "      <td>24</td>\n",
       "    </tr>\n",
       "    <tr>\n",
       "      <th>2506</th>\n",
       "      <td>3000</td>\n",
       "      <td>2006.0</td>\n",
       "      <td>honda civic</td>\n",
       "      <td>good</td>\n",
       "      <td>NaN</td>\n",
       "      <td>gas</td>\n",
       "      <td>0.0</td>\n",
       "      <td>automatic</td>\n",
       "      <td>sedan</td>\n",
       "      <td>silver</td>\n",
       "      <td>0.0</td>\n",
       "      <td>2018-06-02</td>\n",
       "      <td>37</td>\n",
       "    </tr>\n",
       "    <tr>\n",
       "      <th>3640</th>\n",
       "      <td>4200</td>\n",
       "      <td>NaN</td>\n",
       "      <td>nissan murano</td>\n",
       "      <td>good</td>\n",
       "      <td>6.0</td>\n",
       "      <td>gas</td>\n",
       "      <td>0.0</td>\n",
       "      <td>automatic</td>\n",
       "      <td>SUV</td>\n",
       "      <td>red</td>\n",
       "      <td>1.0</td>\n",
       "      <td>2018-08-24</td>\n",
       "      <td>21</td>\n",
       "    </tr>\n",
       "    <tr>\n",
       "      <th>4186</th>\n",
       "      <td>11888</td>\n",
       "      <td>2010.0</td>\n",
       "      <td>chevrolet silverado 1500</td>\n",
       "      <td>good</td>\n",
       "      <td>8.0</td>\n",
       "      <td>gas</td>\n",
       "      <td>0.0</td>\n",
       "      <td>automatic</td>\n",
       "      <td>truck</td>\n",
       "      <td>white</td>\n",
       "      <td>0.0</td>\n",
       "      <td>2018-12-06</td>\n",
       "      <td>71</td>\n",
       "    </tr>\n",
       "    <tr>\n",
       "      <th>4189</th>\n",
       "      <td>10988</td>\n",
       "      <td>2000.0</td>\n",
       "      <td>ford f-250 sd</td>\n",
       "      <td>good</td>\n",
       "      <td>8.0</td>\n",
       "      <td>diesel</td>\n",
       "      <td>0.0</td>\n",
       "      <td>automatic</td>\n",
       "      <td>truck</td>\n",
       "      <td>white</td>\n",
       "      <td>1.0</td>\n",
       "      <td>2018-11-21</td>\n",
       "      <td>14</td>\n",
       "    </tr>\n",
       "    <tr>\n",
       "      <th>6321</th>\n",
       "      <td>750</td>\n",
       "      <td>2010.0</td>\n",
       "      <td>ford fusion</td>\n",
       "      <td>excellent</td>\n",
       "      <td>4.0</td>\n",
       "      <td>gas</td>\n",
       "      <td>0.0</td>\n",
       "      <td>automatic</td>\n",
       "      <td>sedan</td>\n",
       "      <td>silver</td>\n",
       "      <td>0.0</td>\n",
       "      <td>2018-11-29</td>\n",
       "      <td>32</td>\n",
       "    </tr>\n",
       "    <tr>\n",
       "      <th>7124</th>\n",
       "      <td>800</td>\n",
       "      <td>1995.0</td>\n",
       "      <td>chevrolet tahoe</td>\n",
       "      <td>fair</td>\n",
       "      <td>8.0</td>\n",
       "      <td>gas</td>\n",
       "      <td>0.0</td>\n",
       "      <td>automatic</td>\n",
       "      <td>SUV</td>\n",
       "      <td>brown</td>\n",
       "      <td>1.0</td>\n",
       "      <td>2019-03-09</td>\n",
       "      <td>26</td>\n",
       "    </tr>\n",
       "    <tr>\n",
       "      <th>7517</th>\n",
       "      <td>10500</td>\n",
       "      <td>1966.0</td>\n",
       "      <td>chevrolet impala</td>\n",
       "      <td>fair</td>\n",
       "      <td>8.0</td>\n",
       "      <td>gas</td>\n",
       "      <td>0.0</td>\n",
       "      <td>automatic</td>\n",
       "      <td>convertible</td>\n",
       "      <td>yellow</td>\n",
       "      <td>0.0</td>\n",
       "      <td>2019-03-16</td>\n",
       "      <td>27</td>\n",
       "    </tr>\n",
       "    <tr>\n",
       "      <th>8266</th>\n",
       "      <td>1478</td>\n",
       "      <td>2011.0</td>\n",
       "      <td>ford f-150</td>\n",
       "      <td>excellent</td>\n",
       "      <td>8.0</td>\n",
       "      <td>gas</td>\n",
       "      <td>0.0</td>\n",
       "      <td>automatic</td>\n",
       "      <td>truck</td>\n",
       "      <td>red</td>\n",
       "      <td>0.0</td>\n",
       "      <td>2019-01-02</td>\n",
       "      <td>13</td>\n",
       "    </tr>\n",
       "  </tbody>\n",
       "</table>\n",
       "</div>"
      ],
      "text/plain": [
       "      price  model_year                     model  condition  cylinders  \\\n",
       "352    7997      2009.0                 gmc yukon  excellent        8.0   \n",
       "814    2995      1999.0                ford f-150       good        6.0   \n",
       "1375   5888         NaN            toyota 4runner       good        6.0   \n",
       "1461   1000      1992.0           gmc sierra 1500       good        8.0   \n",
       "1970  10988      2000.0             ford f-250 sd       good        8.0   \n",
       "2049  30000      1969.0        chevrolet corvette  excellent        8.0   \n",
       "2077  11888      2010.0  chevrolet silverado 1500       good        8.0   \n",
       "2506   3000      2006.0               honda civic       good        NaN   \n",
       "3640   4200         NaN             nissan murano       good        6.0   \n",
       "4186  11888      2010.0  chevrolet silverado 1500       good        8.0   \n",
       "4189  10988      2000.0             ford f-250 sd       good        8.0   \n",
       "6321    750      2010.0               ford fusion  excellent        4.0   \n",
       "7124    800      1995.0           chevrolet tahoe       fair        8.0   \n",
       "7517  10500      1966.0          chevrolet impala       fair        8.0   \n",
       "8266   1478      2011.0                ford f-150  excellent        8.0   \n",
       "\n",
       "        fuel  odometer transmission         type paint_color  is_4wd  \\\n",
       "352      gas       0.0    automatic          SUV       white     1.0   \n",
       "814      gas       0.0       manual        truck     missing     0.0   \n",
       "1375     gas       0.0    automatic          SUV       black     0.0   \n",
       "1461     gas       0.0    automatic        truck     missing     0.0   \n",
       "1970  diesel       0.0    automatic        truck       white     1.0   \n",
       "2049   other       0.0    automatic  convertible       white     0.0   \n",
       "2077     gas       0.0    automatic        truck       white     0.0   \n",
       "2506     gas       0.0    automatic        sedan      silver     0.0   \n",
       "3640     gas       0.0    automatic          SUV         red     1.0   \n",
       "4186     gas       0.0    automatic        truck       white     0.0   \n",
       "4189  diesel       0.0    automatic        truck       white     1.0   \n",
       "6321     gas       0.0    automatic        sedan      silver     0.0   \n",
       "7124     gas       0.0    automatic          SUV       brown     1.0   \n",
       "7517     gas       0.0    automatic  convertible      yellow     0.0   \n",
       "8266     gas       0.0    automatic        truck         red     0.0   \n",
       "\n",
       "     date_posted  days_listed  \n",
       "352   2019-03-16           88  \n",
       "814   2019-03-14           16  \n",
       "1375  2019-02-22           36  \n",
       "1461  2018-09-28           47  \n",
       "1970  2018-11-21           39  \n",
       "2049  2018-08-01           20  \n",
       "2077  2018-07-02           24  \n",
       "2506  2018-06-02           37  \n",
       "3640  2018-08-24           21  \n",
       "4186  2018-12-06           71  \n",
       "4189  2018-11-21           14  \n",
       "6321  2018-11-29           32  \n",
       "7124  2019-03-09           26  \n",
       "7517  2019-03-16           27  \n",
       "8266  2019-01-02           13  "
      ]
     },
     "execution_count": 16,
     "metadata": {},
     "output_type": "execute_result"
    }
   ],
   "source": [
    "odo_o=df[df['odometer']== 0]\n",
    "odo_o.head(15)"
   ]
  },
  {
   "cell_type": "code",
   "execution_count": 17,
   "metadata": {},
   "outputs": [
    {
     "data": {
      "text/plain": [
       "model_year\n",
       "1962.0     1\n",
       "1966.0     2\n",
       "1968.0     1\n",
       "1969.0     2\n",
       "1970.0     1\n",
       "1971.0     1\n",
       "1984.0     1\n",
       "1988.0     2\n",
       "1991.0     1\n",
       "1992.0     1\n",
       "1994.0     2\n",
       "1995.0     1\n",
       "1996.0     1\n",
       "1999.0     3\n",
       "2000.0     4\n",
       "2001.0     2\n",
       "2002.0    16\n",
       "2003.0     9\n",
       "2004.0     4\n",
       "2005.0     9\n",
       "2006.0     6\n",
       "2007.0     1\n",
       "2008.0    10\n",
       "2009.0     6\n",
       "2010.0    15\n",
       "2011.0    14\n",
       "2012.0     3\n",
       "2013.0     4\n",
       "2014.0    11\n",
       "2015.0    16\n",
       "2016.0     7\n",
       "2017.0    12\n",
       "2018.0     3\n",
       "Name: odometer, dtype: int64"
      ]
     },
     "execution_count": 17,
     "metadata": {},
     "output_type": "execute_result"
    }
   ],
   "source": [
    "odo_o.groupby('model_year')['odometer'].size()"
   ]
  },
  {
   "cell_type": "markdown",
   "metadata": {},
   "source": [
    "En total hay 185 autos con 0 kilometros, pero eso no quiere decir que sean nuevos autos debido al año del modelo. los remplazaremos por NAN y luego calcularemos la mediana segun la agrupacion por modelo y año"
   ]
  },
  {
   "cell_type": "code",
   "execution_count": 18,
   "metadata": {},
   "outputs": [],
   "source": [
    "df.loc[df['odometer'] == 0, 'odometer'] = np.nan"
   ]
  },
  {
   "cell_type": "code",
   "execution_count": 19,
   "metadata": {},
   "outputs": [],
   "source": [
    "df['odometer'] = df.groupby(['model','type'])['odometer'].apply(lambda x: x.fillna(x.median()))"
   ]
  },
  {
   "cell_type": "code",
   "execution_count": 20,
   "metadata": {},
   "outputs": [
    {
     "data": {
      "text/plain": [
       "57"
      ]
     },
     "execution_count": 20,
     "metadata": {},
     "output_type": "execute_result"
    }
   ],
   "source": [
    "df['odometer'].isnull().sum()"
   ]
  },
  {
   "cell_type": "markdown",
   "metadata": {},
   "source": [
    "los 57 restantes no se encuentran en nuestro modelo utlizado para el calculo de la mediana. ante esto los excluiremos de nuestra base "
   ]
  },
  {
   "cell_type": "code",
   "execution_count": 21,
   "metadata": {},
   "outputs": [],
   "source": [
    "df = df.dropna(subset=['odometer'], axis=0)\n",
    "df.reset_index(drop=True, inplace=True)"
   ]
  },
  {
   "cell_type": "code",
   "execution_count": 22,
   "metadata": {},
   "outputs": [],
   "source": [
    "df['odometer'] = df.groupby('model')['odometer'].apply(lambda x: x.fillna(x.median()))"
   ]
  },
  {
   "cell_type": "code",
   "execution_count": 23,
   "metadata": {},
   "outputs": [
    {
     "data": {
      "text/plain": [
       "0"
      ]
     },
     "execution_count": 23,
     "metadata": {},
     "output_type": "execute_result"
    }
   ],
   "source": [
    "df['odometer'].isnull().sum()"
   ]
  },
  {
   "cell_type": "code",
   "execution_count": 24,
   "metadata": {},
   "outputs": [
    {
     "data": {
      "text/plain": [
       "0"
      ]
     },
     "execution_count": 24,
     "metadata": {},
     "output_type": "execute_result"
    }
   ],
   "source": [
    "df['odometer'].isnull().sum()"
   ]
  },
  {
   "cell_type": "code",
   "execution_count": 25,
   "metadata": {},
   "outputs": [
    {
     "data": {
      "text/html": [
       "<div>\n",
       "<style scoped>\n",
       "    .dataframe tbody tr th:only-of-type {\n",
       "        vertical-align: middle;\n",
       "    }\n",
       "\n",
       "    .dataframe tbody tr th {\n",
       "        vertical-align: top;\n",
       "    }\n",
       "\n",
       "    .dataframe thead th {\n",
       "        text-align: right;\n",
       "    }\n",
       "</style>\n",
       "<table border=\"1\" class=\"dataframe\">\n",
       "  <thead>\n",
       "    <tr style=\"text-align: right;\">\n",
       "      <th></th>\n",
       "      <th>price</th>\n",
       "      <th>model_year</th>\n",
       "      <th>cylinders</th>\n",
       "      <th>odometer</th>\n",
       "      <th>is_4wd</th>\n",
       "      <th>days_listed</th>\n",
       "    </tr>\n",
       "  </thead>\n",
       "  <tbody>\n",
       "    <tr>\n",
       "      <th>price</th>\n",
       "      <td>1.000000</td>\n",
       "      <td>0.429756</td>\n",
       "      <td>0.297270</td>\n",
       "      <td>-0.391954</td>\n",
       "      <td>0.317716</td>\n",
       "      <td>-0.000555</td>\n",
       "    </tr>\n",
       "    <tr>\n",
       "      <th>model_year</th>\n",
       "      <td>0.429756</td>\n",
       "      <td>1.000000</td>\n",
       "      <td>-0.147865</td>\n",
       "      <td>-0.453677</td>\n",
       "      <td>0.043504</td>\n",
       "      <td>-0.005558</td>\n",
       "    </tr>\n",
       "    <tr>\n",
       "      <th>cylinders</th>\n",
       "      <td>0.297270</td>\n",
       "      <td>-0.147865</td>\n",
       "      <td>1.000000</td>\n",
       "      <td>0.094929</td>\n",
       "      <td>0.405921</td>\n",
       "      <td>0.005608</td>\n",
       "    </tr>\n",
       "    <tr>\n",
       "      <th>odometer</th>\n",
       "      <td>-0.391954</td>\n",
       "      <td>-0.453677</td>\n",
       "      <td>0.094929</td>\n",
       "      <td>1.000000</td>\n",
       "      <td>0.042043</td>\n",
       "      <td>0.002045</td>\n",
       "    </tr>\n",
       "    <tr>\n",
       "      <th>is_4wd</th>\n",
       "      <td>0.317716</td>\n",
       "      <td>0.043504</td>\n",
       "      <td>0.405921</td>\n",
       "      <td>0.042043</td>\n",
       "      <td>1.000000</td>\n",
       "      <td>0.002092</td>\n",
       "    </tr>\n",
       "    <tr>\n",
       "      <th>days_listed</th>\n",
       "      <td>-0.000555</td>\n",
       "      <td>-0.005558</td>\n",
       "      <td>0.005608</td>\n",
       "      <td>0.002045</td>\n",
       "      <td>0.002092</td>\n",
       "      <td>1.000000</td>\n",
       "    </tr>\n",
       "  </tbody>\n",
       "</table>\n",
       "</div>"
      ],
      "text/plain": [
       "                price  model_year  cylinders  odometer    is_4wd  days_listed\n",
       "price        1.000000    0.429756   0.297270 -0.391954  0.317716    -0.000555\n",
       "model_year   0.429756    1.000000  -0.147865 -0.453677  0.043504    -0.005558\n",
       "cylinders    0.297270   -0.147865   1.000000  0.094929  0.405921     0.005608\n",
       "odometer    -0.391954   -0.453677   0.094929  1.000000  0.042043     0.002045\n",
       "is_4wd       0.317716    0.043504   0.405921  0.042043  1.000000     0.002092\n",
       "days_listed -0.000555   -0.005558   0.005608  0.002045  0.002092     1.000000"
      ]
     },
     "metadata": {},
     "output_type": "display_data"
    }
   ],
   "source": [
    "display(df.corr())"
   ]
  },
  {
   "cell_type": "markdown",
   "metadata": {},
   "source": [
    "##### cylinders"
   ]
  },
  {
   "cell_type": "code",
   "execution_count": 26,
   "metadata": {},
   "outputs": [],
   "source": [
    "df['cylinders']= df.groupby(['model','type'])['cylinders'].apply(lambda x: x.fillna(x.median()))"
   ]
  },
  {
   "cell_type": "code",
   "execution_count": 27,
   "metadata": {
    "scrolled": true
   },
   "outputs": [
    {
     "data": {
      "text/plain": [
       "13"
      ]
     },
     "execution_count": 27,
     "metadata": {},
     "output_type": "execute_result"
    }
   ],
   "source": [
    "df['cylinders'].isnull().sum()"
   ]
  },
  {
   "cell_type": "code",
   "execution_count": 28,
   "metadata": {},
   "outputs": [],
   "source": [
    "df = df.dropna(subset=['cylinders'], axis=0)\n",
    "df.reset_index(drop=True, inplace=True)"
   ]
  },
  {
   "cell_type": "code",
   "execution_count": 29,
   "metadata": {},
   "outputs": [
    {
     "data": {
      "text/plain": [
       "0"
      ]
     },
     "execution_count": 29,
     "metadata": {},
     "output_type": "execute_result"
    }
   ],
   "source": [
    "df['cylinders'].isnull().sum()"
   ]
  },
  {
   "cell_type": "markdown",
   "metadata": {},
   "source": [
    "#### Model_year"
   ]
  },
  {
   "cell_type": "code",
   "execution_count": 30,
   "metadata": {},
   "outputs": [
    {
     "data": {
      "text/plain": [
       "2013.0    3515\n",
       "2012.0    3467\n",
       "2014.0    3446\n",
       "2011.0    3373\n",
       "2015.0    3321\n",
       "          ... \n",
       "1948.0       1\n",
       "1949.0       1\n",
       "1954.0       1\n",
       "1936.0       1\n",
       "1961.0       1\n",
       "Name: model_year, Length: 67, dtype: int64"
      ]
     },
     "execution_count": 30,
     "metadata": {},
     "output_type": "execute_result"
    }
   ],
   "source": [
    "df['model_year'].value_counts()"
   ]
  },
  {
   "cell_type": "markdown",
   "metadata": {},
   "source": [
    "Creamos una columna con el año y la convertimos a formato fecha"
   ]
  },
  {
   "cell_type": "code",
   "execution_count": 31,
   "metadata": {},
   "outputs": [],
   "source": [
    "df['date_posted']= pd.to_datetime(df['date_posted']) # convertir formato fecha\n",
    "df['year_posted'] = df['date_posted'].dt.year    #crear una columna con solo el año"
   ]
  },
  {
   "cell_type": "markdown",
   "metadata": {},
   "source": [
    "Calcular la diferencia de años entre el anuncio y el modelo del auto, y guardandola en una nueva columna"
   ]
  },
  {
   "cell_type": "code",
   "execution_count": 32,
   "metadata": {},
   "outputs": [],
   "source": [
    "df['dif_years'] = df['year_posted'] - df['model_year']"
   ]
  },
  {
   "cell_type": "markdown",
   "metadata": {},
   "source": [
    "Calculamos el uso de kilometraje por año, es la division de odometer con la diferencia de años sacado anteriormente"
   ]
  },
  {
   "cell_type": "code",
   "execution_count": 33,
   "metadata": {},
   "outputs": [],
   "source": [
    "df['odometer_per_year'] = df['odometer'] / df['dif_years']"
   ]
  },
  {
   "cell_type": "markdown",
   "metadata": {},
   "source": [
    "Calculamos le media de odometer_per_years por modelo y tipo de auto"
   ]
  },
  {
   "cell_type": "code",
   "execution_count": 34,
   "metadata": {},
   "outputs": [],
   "source": [
    "odometer_per_year_dict = df.groupby(['model','type'])['odometer_per_year'].median().to_dict()"
   ]
  },
  {
   "cell_type": "code",
   "execution_count": 35,
   "metadata": {},
   "outputs": [],
   "source": [
    "def fill_in_model_year(row):\n",
    "    \n",
    "    if np.isnan(row['model_year']):\n",
    "        row['dif_years'] = row['odometer'] / odometer_per_year_dict[(row['model'], row['type'])]\n",
    "        row['model_year'] = row['year_posted'] - row['dif_years']\n",
    "    return row"
   ]
  },
  {
   "cell_type": "code",
   "execution_count": 36,
   "metadata": {},
   "outputs": [],
   "source": [
    "df = df.apply(fill_in_model_year, axis=1)"
   ]
  },
  {
   "cell_type": "code",
   "execution_count": 37,
   "metadata": {},
   "outputs": [
    {
     "data": {
      "text/plain": [
       "9"
      ]
     },
     "execution_count": 37,
     "metadata": {},
     "output_type": "execute_result"
    }
   ],
   "source": [
    "df['model_year'].isnull().sum()"
   ]
  },
  {
   "cell_type": "markdown",
   "metadata": {},
   "source": [
    "Esas 9 observaciones son unicas en la columna, y no pertenecen a la relacion creada. por eso es mejor excluirlas de nuestros datos"
   ]
  },
  {
   "cell_type": "code",
   "execution_count": 38,
   "metadata": {},
   "outputs": [
    {
     "data": {
      "text/plain": [
       "(51446, 16)"
      ]
     },
     "execution_count": 38,
     "metadata": {},
     "output_type": "execute_result"
    }
   ],
   "source": [
    "df = df.dropna(subset=['model_year'], axis=0)\n",
    "df.reset_index(drop=True, inplace=True)\n",
    "\n",
    "df.shape"
   ]
  },
  {
   "cell_type": "code",
   "execution_count": 39,
   "metadata": {},
   "outputs": [
    {
     "data": {
      "text/plain": [
       "0"
      ]
     },
     "execution_count": 39,
     "metadata": {},
     "output_type": "execute_result"
    }
   ],
   "source": [
    "df['model_year'].isnull().sum()"
   ]
  },
  {
   "cell_type": "code",
   "execution_count": 40,
   "metadata": {},
   "outputs": [
    {
     "data": {
      "text/plain": [
       "(51446, 16)"
      ]
     },
     "execution_count": 40,
     "metadata": {},
     "output_type": "execute_result"
    }
   ],
   "source": [
    "df.shape"
   ]
  },
  {
   "cell_type": "markdown",
   "metadata": {},
   "source": [
    "Cambiar los tipos de datos"
   ]
  },
  {
   "cell_type": "code",
   "execution_count": 41,
   "metadata": {},
   "outputs": [],
   "source": [
    "df['model_year'] = df['model_year'].astype('int')"
   ]
  },
  {
   "cell_type": "markdown",
   "metadata": {},
   "source": [
    "Como ya usamos las columnas odometer_per_year  y dif_years y no las necesitaremos más, podemos eliminarlas"
   ]
  },
  {
   "cell_type": "code",
   "execution_count": 42,
   "metadata": {},
   "outputs": [
    {
     "data": {
      "text/plain": [
       "(51446, 14)"
      ]
     },
     "execution_count": 42,
     "metadata": {},
     "output_type": "execute_result"
    }
   ],
   "source": [
    "df = df.drop((['odometer_per_year','dif_years']), axis=1)\n",
    "df.reset_index(drop=True, inplace=True)\n",
    "\n",
    "df.shape"
   ]
  },
  {
   "cell_type": "code",
   "execution_count": 43,
   "metadata": {},
   "outputs": [
    {
     "name": "stdout",
     "output_type": "stream",
     "text": [
      "<class 'pandas.core.frame.DataFrame'>\n",
      "RangeIndex: 51446 entries, 0 to 51445\n",
      "Data columns (total 14 columns):\n",
      " #   Column        Non-Null Count  Dtype         \n",
      "---  ------        --------------  -----         \n",
      " 0   price         51446 non-null  int64         \n",
      " 1   model_year    51446 non-null  int64         \n",
      " 2   model         51446 non-null  object        \n",
      " 3   condition     51446 non-null  object        \n",
      " 4   cylinders     51446 non-null  float64       \n",
      " 5   fuel          51446 non-null  object        \n",
      " 6   odometer      51446 non-null  float64       \n",
      " 7   transmission  51446 non-null  object        \n",
      " 8   type          51446 non-null  object        \n",
      " 9   paint_color   51446 non-null  object        \n",
      " 10  is_4wd        51446 non-null  float64       \n",
      " 11  date_posted   51446 non-null  datetime64[ns]\n",
      " 12  days_listed   51446 non-null  int64         \n",
      " 13  year_posted   51446 non-null  int64         \n",
      "dtypes: datetime64[ns](1), float64(3), int64(4), object(6)\n",
      "memory usage: 5.5+ MB\n"
     ]
    }
   ],
   "source": [
    "df.info()"
   ]
  },
  {
   "cell_type": "code",
   "execution_count": 44,
   "metadata": {},
   "outputs": [
    {
     "data": {
      "text/html": [
       "<div>\n",
       "<style scoped>\n",
       "    .dataframe tbody tr th:only-of-type {\n",
       "        vertical-align: middle;\n",
       "    }\n",
       "\n",
       "    .dataframe tbody tr th {\n",
       "        vertical-align: top;\n",
       "    }\n",
       "\n",
       "    .dataframe thead th {\n",
       "        text-align: right;\n",
       "    }\n",
       "</style>\n",
       "<table border=\"1\" class=\"dataframe\">\n",
       "  <thead>\n",
       "    <tr style=\"text-align: right;\">\n",
       "      <th></th>\n",
       "      <th>0</th>\n",
       "      <th>1</th>\n",
       "      <th>2</th>\n",
       "      <th>3</th>\n",
       "      <th>4</th>\n",
       "      <th>5</th>\n",
       "      <th>6</th>\n",
       "      <th>7</th>\n",
       "      <th>8</th>\n",
       "      <th>9</th>\n",
       "      <th>10</th>\n",
       "      <th>11</th>\n",
       "      <th>12</th>\n",
       "      <th>13</th>\n",
       "    </tr>\n",
       "  </thead>\n",
       "  <tbody>\n",
       "    <tr>\n",
       "      <th>Variables</th>\n",
       "      <td>price</td>\n",
       "      <td>model_year</td>\n",
       "      <td>model</td>\n",
       "      <td>condition</td>\n",
       "      <td>cylinders</td>\n",
       "      <td>fuel</td>\n",
       "      <td>odometer</td>\n",
       "      <td>transmission</td>\n",
       "      <td>type</td>\n",
       "      <td>paint_color</td>\n",
       "      <td>is_4wd</td>\n",
       "      <td>date_posted</td>\n",
       "      <td>days_listed</td>\n",
       "      <td>year_posted</td>\n",
       "    </tr>\n",
       "    <tr>\n",
       "      <th>Missing</th>\n",
       "      <td>0</td>\n",
       "      <td>0</td>\n",
       "      <td>0</td>\n",
       "      <td>0</td>\n",
       "      <td>0</td>\n",
       "      <td>0</td>\n",
       "      <td>0</td>\n",
       "      <td>0</td>\n",
       "      <td>0</td>\n",
       "      <td>0</td>\n",
       "      <td>0</td>\n",
       "      <td>0</td>\n",
       "      <td>0</td>\n",
       "      <td>0</td>\n",
       "    </tr>\n",
       "  </tbody>\n",
       "</table>\n",
       "</div>"
      ],
      "text/plain": [
       "              0           1      2          3          4     5         6   \\\n",
       "Variables  price  model_year  model  condition  cylinders  fuel  odometer   \n",
       "Missing        0           0      0          0          0     0         0   \n",
       "\n",
       "                     7     8            9       10           11           12  \\\n",
       "Variables  transmission  type  paint_color  is_4wd  date_posted  days_listed   \n",
       "Missing               0     0            0       0            0            0   \n",
       "\n",
       "                    13  \n",
       "Variables  year_posted  \n",
       "Missing              0  "
      ]
     },
     "execution_count": 44,
     "metadata": {},
     "output_type": "execute_result"
    }
   ],
   "source": [
    "(df.isna()\n",
    " .sum()\n",
    " .sort_values(ascending=False)\n",
    " .reset_index()\n",
    " .rename(columns = {'index' : 'Variables', 0: 'Missing'})\n",
    ").T"
   ]
  },
  {
   "cell_type": "markdown",
   "metadata": {
    "tags": []
   },
   "source": [
    "## Corregir los tipos de datos"
   ]
  },
  {
   "cell_type": "markdown",
   "metadata": {},
   "source": [
    "Vamos a reemplazar todos los tipos de datos que contienen float por int"
   ]
  },
  {
   "cell_type": "code",
   "execution_count": 45,
   "metadata": {},
   "outputs": [
    {
     "data": {
      "text/plain": [
       "price                    int64\n",
       "model_year               int64\n",
       "model                   object\n",
       "condition               object\n",
       "cylinders              float64\n",
       "fuel                    object\n",
       "odometer               float64\n",
       "transmission            object\n",
       "type                    object\n",
       "paint_color             object\n",
       "is_4wd                 float64\n",
       "date_posted     datetime64[ns]\n",
       "days_listed              int64\n",
       "year_posted              int64\n",
       "dtype: object"
      ]
     },
     "execution_count": 45,
     "metadata": {},
     "output_type": "execute_result"
    }
   ],
   "source": [
    "df.dtypes"
   ]
  },
  {
   "cell_type": "code",
   "execution_count": 46,
   "metadata": {},
   "outputs": [],
   "source": [
    "for column in ['price','odometer','cylinders','is_4wd','days_listed']:\n",
    "    df[column] = df[column].astype('int')"
   ]
  },
  {
   "cell_type": "code",
   "execution_count": 47,
   "metadata": {},
   "outputs": [],
   "source": [
    "df['is_4wd'] = df['is_4wd'].astype('bool')"
   ]
  },
  {
   "cell_type": "code",
   "execution_count": 48,
   "metadata": {
    "scrolled": true
   },
   "outputs": [
    {
     "data": {
      "text/plain": [
       "price                    int64\n",
       "model_year               int64\n",
       "model                   object\n",
       "condition               object\n",
       "cylinders                int64\n",
       "fuel                    object\n",
       "odometer                 int64\n",
       "transmission            object\n",
       "type                    object\n",
       "paint_color             object\n",
       "is_4wd                    bool\n",
       "date_posted     datetime64[ns]\n",
       "days_listed              int64\n",
       "year_posted              int64\n",
       "dtype: object"
      ]
     },
     "execution_count": 48,
     "metadata": {},
     "output_type": "execute_result"
    }
   ],
   "source": [
    "df.dtypes"
   ]
  },
  {
   "cell_type": "code",
   "execution_count": 49,
   "metadata": {},
   "outputs": [
    {
     "data": {
      "text/html": [
       "<div>\n",
       "<style scoped>\n",
       "    .dataframe tbody tr th:only-of-type {\n",
       "        vertical-align: middle;\n",
       "    }\n",
       "\n",
       "    .dataframe tbody tr th {\n",
       "        vertical-align: top;\n",
       "    }\n",
       "\n",
       "    .dataframe thead th {\n",
       "        text-align: right;\n",
       "    }\n",
       "</style>\n",
       "<table border=\"1\" class=\"dataframe\">\n",
       "  <thead>\n",
       "    <tr style=\"text-align: right;\">\n",
       "      <th></th>\n",
       "      <th>price</th>\n",
       "      <th>model_year</th>\n",
       "      <th>model</th>\n",
       "      <th>condition</th>\n",
       "      <th>cylinders</th>\n",
       "      <th>fuel</th>\n",
       "      <th>odometer</th>\n",
       "      <th>transmission</th>\n",
       "      <th>type</th>\n",
       "      <th>paint_color</th>\n",
       "      <th>is_4wd</th>\n",
       "      <th>date_posted</th>\n",
       "      <th>days_listed</th>\n",
       "      <th>year_posted</th>\n",
       "    </tr>\n",
       "  </thead>\n",
       "  <tbody>\n",
       "    <tr>\n",
       "      <th>0</th>\n",
       "      <td>9400</td>\n",
       "      <td>2011</td>\n",
       "      <td>bmw x5</td>\n",
       "      <td>good</td>\n",
       "      <td>6</td>\n",
       "      <td>gas</td>\n",
       "      <td>145000</td>\n",
       "      <td>automatic</td>\n",
       "      <td>SUV</td>\n",
       "      <td>missing</td>\n",
       "      <td>True</td>\n",
       "      <td>2018-06-23</td>\n",
       "      <td>19</td>\n",
       "      <td>2018</td>\n",
       "    </tr>\n",
       "    <tr>\n",
       "      <th>1</th>\n",
       "      <td>25500</td>\n",
       "      <td>2012</td>\n",
       "      <td>ford f-150</td>\n",
       "      <td>good</td>\n",
       "      <td>6</td>\n",
       "      <td>gas</td>\n",
       "      <td>88705</td>\n",
       "      <td>automatic</td>\n",
       "      <td>pickup</td>\n",
       "      <td>white</td>\n",
       "      <td>True</td>\n",
       "      <td>2018-10-19</td>\n",
       "      <td>50</td>\n",
       "      <td>2018</td>\n",
       "    </tr>\n",
       "    <tr>\n",
       "      <th>2</th>\n",
       "      <td>5500</td>\n",
       "      <td>2013</td>\n",
       "      <td>hyundai sonata</td>\n",
       "      <td>like new</td>\n",
       "      <td>4</td>\n",
       "      <td>gas</td>\n",
       "      <td>110000</td>\n",
       "      <td>automatic</td>\n",
       "      <td>sedan</td>\n",
       "      <td>red</td>\n",
       "      <td>False</td>\n",
       "      <td>2019-02-07</td>\n",
       "      <td>79</td>\n",
       "      <td>2019</td>\n",
       "    </tr>\n",
       "    <tr>\n",
       "      <th>3</th>\n",
       "      <td>1500</td>\n",
       "      <td>2003</td>\n",
       "      <td>ford f-150</td>\n",
       "      <td>fair</td>\n",
       "      <td>8</td>\n",
       "      <td>gas</td>\n",
       "      <td>126000</td>\n",
       "      <td>automatic</td>\n",
       "      <td>pickup</td>\n",
       "      <td>missing</td>\n",
       "      <td>False</td>\n",
       "      <td>2019-03-22</td>\n",
       "      <td>9</td>\n",
       "      <td>2019</td>\n",
       "    </tr>\n",
       "    <tr>\n",
       "      <th>4</th>\n",
       "      <td>14900</td>\n",
       "      <td>2017</td>\n",
       "      <td>chrysler 200</td>\n",
       "      <td>excellent</td>\n",
       "      <td>4</td>\n",
       "      <td>gas</td>\n",
       "      <td>80903</td>\n",
       "      <td>automatic</td>\n",
       "      <td>sedan</td>\n",
       "      <td>black</td>\n",
       "      <td>False</td>\n",
       "      <td>2019-04-02</td>\n",
       "      <td>28</td>\n",
       "      <td>2019</td>\n",
       "    </tr>\n",
       "  </tbody>\n",
       "</table>\n",
       "</div>"
      ],
      "text/plain": [
       "   price  model_year           model  condition  cylinders fuel  odometer  \\\n",
       "0   9400        2011          bmw x5       good          6  gas    145000   \n",
       "1  25500        2012      ford f-150       good          6  gas     88705   \n",
       "2   5500        2013  hyundai sonata   like new          4  gas    110000   \n",
       "3   1500        2003      ford f-150       fair          8  gas    126000   \n",
       "4  14900        2017    chrysler 200  excellent          4  gas     80903   \n",
       "\n",
       "  transmission    type paint_color  is_4wd date_posted  days_listed  \\\n",
       "0    automatic     SUV     missing    True  2018-06-23           19   \n",
       "1    automatic  pickup       white    True  2018-10-19           50   \n",
       "2    automatic   sedan         red   False  2019-02-07           79   \n",
       "3    automatic  pickup     missing   False  2019-03-22            9   \n",
       "4    automatic   sedan       black   False  2019-04-02           28   \n",
       "\n",
       "   year_posted  \n",
       "0         2018  \n",
       "1         2018  \n",
       "2         2019  \n",
       "3         2019  \n",
       "4         2019  "
      ]
     },
     "execution_count": 49,
     "metadata": {},
     "output_type": "execute_result"
    }
   ],
   "source": [
    "df.head()"
   ]
  },
  {
   "cell_type": "markdown",
   "metadata": {},
   "source": [
    "##### Revisar todas las columnas "
   ]
  },
  {
   "cell_type": "code",
   "execution_count": 50,
   "metadata": {},
   "outputs": [
    {
     "name": "stdout",
     "output_type": "stream",
     "text": [
      "[1908 1936 1948 1949 1950 1954 1955 1958 1960 1961 1962 1963 1964 1965\n",
      " 1966 1967 1968 1969 1970 1971 1972 1973 1974 1975 1976 1977 1978 1979\n",
      " 1980 1981 1982 1983 1984 1985 1986 1987 1988 1989 1990 1991 1992 1993\n",
      " 1994 1995 1996 1997 1998 1999 2000 2001 2002 2003 2004 2005 2006 2007\n",
      " 2008 2009 2010 2011 2012 2013 2014 2015 2016 2017 2018 2019]\n"
     ]
    }
   ],
   "source": [
    "variable= \"model_year\"\n",
    "print(df[variable].sort_values().unique())"
   ]
  },
  {
   "cell_type": "markdown",
   "metadata": {},
   "source": [
    "No hay errores en la columna, la unica observacion que genera inquietud es el año 1908."
   ]
  },
  {
   "cell_type": "code",
   "execution_count": 51,
   "metadata": {},
   "outputs": [
    {
     "name": "stdout",
     "output_type": "stream",
     "text": [
      "['excellent' 'fair' 'good' 'like new' 'new' 'salvage']\n"
     ]
    }
   ],
   "source": [
    "variable= \"condition\"\n",
    "print(df[variable].sort_values().unique())"
   ]
  },
  {
   "cell_type": "code",
   "execution_count": 52,
   "metadata": {},
   "outputs": [
    {
     "name": "stdout",
     "output_type": "stream",
     "text": [
      "[ 3  4  5  6  7  8 10 12]\n"
     ]
    }
   ],
   "source": [
    "variable= \"cylinders\"\n",
    "print(df[variable].sort_values().unique())"
   ]
  },
  {
   "cell_type": "code",
   "execution_count": 53,
   "metadata": {},
   "outputs": [
    {
     "name": "stdout",
     "output_type": "stream",
     "text": [
      "['diesel' 'electric' 'gas' 'hybrid' 'other']\n",
      "-------------------------------------------------\n",
      "gas         47255\n",
      "diesel       3669\n",
      "hybrid        408\n",
      "other         108\n",
      "electric        6\n",
      "Name: fuel, dtype: int64\n"
     ]
    }
   ],
   "source": [
    "variable= \"fuel\"\n",
    "print(df[variable].sort_values().unique())\n",
    "print('-------------------------------------------------')\n",
    "print(df[variable].value_counts())"
   ]
  },
  {
   "cell_type": "code",
   "execution_count": 54,
   "metadata": {},
   "outputs": [
    {
     "name": "stdout",
     "output_type": "stream",
     "text": [
      "[     1      2      3 ... 920000 980000 990000]\n"
     ]
    }
   ],
   "source": [
    "variable= \"odometer\"\n",
    "print(df[variable].sort_values().unique())"
   ]
  },
  {
   "cell_type": "markdown",
   "metadata": {},
   "source": [
    "Presentan valores muy altos que tendran que ser revisados despues"
   ]
  },
  {
   "cell_type": "code",
   "execution_count": 55,
   "metadata": {},
   "outputs": [
    {
     "name": "stdout",
     "output_type": "stream",
     "text": [
      "['automatic' 'manual' 'other']\n",
      "-------------------------------------------------\n",
      "automatic    46825\n",
      "manual        2827\n",
      "other         1794\n",
      "Name: transmission, dtype: int64\n"
     ]
    }
   ],
   "source": [
    "variable= \"transmission\"\n",
    "print(df[variable].sort_values().unique())\n",
    "print('-------------------------------------------------')\n",
    "print(df[variable].value_counts())"
   ]
  },
  {
   "cell_type": "markdown",
   "metadata": {},
   "source": [
    "No presenta datos problematicos"
   ]
  },
  {
   "cell_type": "code",
   "execution_count": 56,
   "metadata": {},
   "outputs": [
    {
     "name": "stdout",
     "output_type": "stream",
     "text": [
      "['SUV' 'bus' 'convertible' 'coupe' 'hatchback' 'mini-van' 'offroad'\n",
      " 'other' 'pickup' 'sedan' 'truck' 'van' 'wagon']\n",
      "-------------------------------------------------\n",
      "SUV            12401\n",
      "truck          12348\n",
      "sedan          12150\n",
      "pickup          6985\n",
      "coupe           2300\n",
      "wagon           1536\n",
      "mini-van        1160\n",
      "hatchback       1046\n",
      "van              588\n",
      "convertible      444\n",
      "other            252\n",
      "offroad          213\n",
      "bus               23\n",
      "Name: type, dtype: int64\n"
     ]
    }
   ],
   "source": [
    "variable= \"type\"\n",
    "print(df[variable].sort_values().unique())\n",
    "print('-------------------------------------------------')\n",
    "print(df[variable].value_counts())"
   ]
  },
  {
   "cell_type": "markdown",
   "metadata": {},
   "source": [
    "Convertiremos todos los campos mayuscula en minuscula"
   ]
  },
  {
   "cell_type": "code",
   "execution_count": 57,
   "metadata": {},
   "outputs": [],
   "source": [
    "df['type']=df['type'].str.lower()"
   ]
  },
  {
   "cell_type": "code",
   "execution_count": 58,
   "metadata": {},
   "outputs": [
    {
     "name": "stdout",
     "output_type": "stream",
     "text": [
      "suv            12401\n",
      "truck          12348\n",
      "sedan          12150\n",
      "pickup          6985\n",
      "coupe           2300\n",
      "wagon           1536\n",
      "mini-van        1160\n",
      "hatchback       1046\n",
      "van              588\n",
      "convertible      444\n",
      "other            252\n",
      "offroad          213\n",
      "bus               23\n",
      "Name: type, dtype: int64\n"
     ]
    }
   ],
   "source": [
    "print(df[variable].value_counts())"
   ]
  },
  {
   "cell_type": "code",
   "execution_count": 59,
   "metadata": {},
   "outputs": [
    {
     "name": "stdout",
     "output_type": "stream",
     "text": [
      "['black' 'blue' 'brown' 'custom' 'green' 'grey' 'missing' 'orange'\n",
      " 'purple' 'red' 'silver' 'white' 'yellow']\n",
      "-------------------------------------------------\n",
      "white      10023\n",
      "missing     9256\n",
      "black       7653\n",
      "silver      6240\n",
      "grey        5031\n",
      "blue        4472\n",
      "red         4415\n",
      "green       1393\n",
      "brown       1223\n",
      "custom      1153\n",
      "yellow       254\n",
      "orange       231\n",
      "purple       102\n",
      "Name: paint_color, dtype: int64\n"
     ]
    }
   ],
   "source": [
    "variable= \"paint_color\"\n",
    "print(df[variable].sort_values().unique())\n",
    "print('-------------------------------------------------')\n",
    "print(df[variable].value_counts())"
   ]
  },
  {
   "cell_type": "code",
   "execution_count": 60,
   "metadata": {},
   "outputs": [
    {
     "name": "stdout",
     "output_type": "stream",
     "text": [
      "[False  True]\n",
      "-------------------------------------------------\n",
      "False    25884\n",
      "True     25562\n",
      "Name: is_4wd, dtype: int64\n"
     ]
    }
   ],
   "source": [
    "variable= \"is_4wd\"\n",
    "print(df[variable].sort_values().unique())\n",
    "print('-------------------------------------------------')\n",
    "print(df[variable].value_counts())"
   ]
  },
  {
   "cell_type": "markdown",
   "metadata": {},
   "source": [
    "Correctos los datos, es una expresion booleana en el campo `\"is_4wd\"`"
   ]
  },
  {
   "cell_type": "code",
   "execution_count": 61,
   "metadata": {},
   "outputs": [
    {
     "name": "stdout",
     "output_type": "stream",
     "text": [
      "[  0   1   2   3   4   5   6   7   8   9  10  11  12  13  14  15  16  17\n",
      "  18  19  20  21  22  23  24  25  26  27  28  29  30  31  32  33  34  35\n",
      "  36  37  38  39  40  41  42  43  44  45  46  47  48  49  50  51  52  53\n",
      "  54  55  56  57  58  59  60  61  62  63  64  65  66  67  68  69  70  71\n",
      "  72  73  74  75  76  77  78  79  80  81  82  83  84  85  86  87  88  89\n",
      "  90  91  92  93  94  95  96  97  98  99 100 101 102 103 104 105 106 107\n",
      " 108 109 110 111 112 113 114 115 116 117 118 119 120 121 122 123 124 125\n",
      " 126 127 128 129 130 131 132 133 134 135 136 137 138 139 140 141 142 143\n",
      " 144 145 146 147 148 149 150 151 152 153 154 155 156 157 158 159 160 161\n",
      " 162 163 164 165 166 167 168 169 170 171 172 173 174 175 176 177 178 179\n",
      " 180 181 182 183 184 185 186 187 188 189 190 191 192 193 194 195 197 199\n",
      " 200 201 202 203 204 205 206 207 208 209 210 213 217 221 223 225 226 228\n",
      " 233 236 240 243 244 252 256 261 263 267 271]\n",
      "-------------------------------------------------\n",
      "18     959\n",
      "24     947\n",
      "22     945\n",
      "19     940\n",
      "20     933\n",
      "      ... \n",
      "199      1\n",
      "261      1\n",
      "217      1\n",
      "228      1\n",
      "223      1\n",
      "Name: days_listed, Length: 227, dtype: int64\n",
      "-------------------------------------------------\n"
     ]
    }
   ],
   "source": [
    "variable= \"days_listed\"\n",
    "print(df[variable].sort_values().unique())\n",
    "print('-------------------------------------------------')\n",
    "print(df[variable].value_counts())\n",
    "print('-------------------------------------------------')\n"
   ]
  },
  {
   "cell_type": "code",
   "execution_count": 62,
   "metadata": {},
   "outputs": [
    {
     "name": "stdout",
     "output_type": "stream",
     "text": [
      "[2018 2019]\n",
      "-------------------------------------------------\n",
      "2018    35632\n",
      "2019    15814\n",
      "Name: year_posted, dtype: int64\n",
      "-------------------------------------------------\n"
     ]
    }
   ],
   "source": [
    "variable= \"year_posted\"\n",
    "print(df[variable].sort_values().unique())\n",
    "print('-------------------------------------------------')\n",
    "print(df[variable].value_counts())\n",
    "print('-------------------------------------------------')\n"
   ]
  },
  {
   "cell_type": "markdown",
   "metadata": {},
   "source": [
    "No presenta ningun error el campo `year_posted`"
   ]
  },
  {
   "cell_type": "code",
   "execution_count": 63,
   "metadata": {},
   "outputs": [
    {
     "name": "stdout",
     "output_type": "stream",
     "text": [
      "['acura tl' 'bmw x5' 'buick enclave' 'cadillac escalade'\n",
      " 'chevrolet camaro' 'chevrolet camaro lt coupe 2d' 'chevrolet colorado'\n",
      " 'chevrolet corvette' 'chevrolet cruze' 'chevrolet equinox'\n",
      " 'chevrolet impala' 'chevrolet malibu' 'chevrolet silverado'\n",
      " 'chevrolet silverado 1500' 'chevrolet silverado 1500 crew'\n",
      " 'chevrolet silverado 2500hd' 'chevrolet silverado 3500hd'\n",
      " 'chevrolet suburban' 'chevrolet tahoe' 'chevrolet trailblazer'\n",
      " 'chevrolet traverse' 'chrysler 200' 'chrysler 300'\n",
      " 'chrysler town & country' 'dodge charger' 'dodge dakota'\n",
      " 'dodge grand caravan' 'ford econoline' 'ford edge' 'ford escape'\n",
      " 'ford expedition' 'ford explorer' 'ford f-150' 'ford f-250'\n",
      " 'ford f-250 sd' 'ford f-250 super duty' 'ford f-350 sd' 'ford f150'\n",
      " 'ford f150 supercrew cab xlt' 'ford f250' 'ford f250 super duty'\n",
      " 'ford f350' 'ford f350 super duty' 'ford focus' 'ford focus se'\n",
      " 'ford fusion' 'ford fusion se' 'ford mustang' 'ford mustang gt coupe 2d'\n",
      " 'ford ranger' 'ford taurus' 'gmc acadia' 'gmc sierra' 'gmc sierra 1500'\n",
      " 'gmc sierra 2500hd' 'gmc yukon' 'honda accord' 'honda civic'\n",
      " 'honda civic lx' 'honda cr-v' 'honda odyssey' 'honda pilot'\n",
      " 'hyundai elantra' 'hyundai santa fe' 'hyundai sonata' 'jeep cherokee'\n",
      " 'jeep grand cherokee' 'jeep grand cherokee laredo' 'jeep liberty'\n",
      " 'jeep wrangler' 'jeep wrangler unlimited' 'kia sorento' 'kia soul'\n",
      " 'nissan altima' 'nissan frontier' 'nissan frontier crew cab sv'\n",
      " 'nissan maxima' 'nissan murano' 'nissan rogue' 'nissan sentra'\n",
      " 'nissan versa' 'ram 1500' 'ram 2500' 'ram 3500' 'subaru forester'\n",
      " 'subaru impreza' 'subaru outback' 'toyota 4runner' 'toyota camry'\n",
      " 'toyota camry le' 'toyota corolla' 'toyota highlander' 'toyota prius'\n",
      " 'toyota rav4' 'toyota sienna' 'toyota tacoma' 'toyota tundra'\n",
      " 'volkswagen jetta' 'volkswagen passat']\n"
     ]
    }
   ],
   "source": [
    "variable= \"model\"\n",
    "print(df[variable].sort_values().unique())"
   ]
  },
  {
   "cell_type": "markdown",
   "metadata": {},
   "source": [
    "El primer elemto es la marca y luego viene el modelo. se creará una funcion que haga esta separacion"
   ]
  },
  {
   "cell_type": "code",
   "execution_count": 64,
   "metadata": {},
   "outputs": [],
   "source": [
    "def brand(row):\n",
    "    \"\"\"\n",
    "    Tome un vehiculo y devolverá la marca\n",
    "    \"\"\"  \n",
    "    model = row['model']\n",
    "    model_split = model.split(' ') # hay que colocar el caracter de separacion, en este caso es un campo vacio \n",
    "    brand = model_split[0] # tomamos el indice 0\n",
    "    return brand"
   ]
  },
  {
   "cell_type": "code",
   "execution_count": 65,
   "metadata": {},
   "outputs": [],
   "source": [
    "df['brand'] = df.apply(brand, axis=1) #agrega la columna creada en la base"
   ]
  },
  {
   "cell_type": "code",
   "execution_count": 66,
   "metadata": {},
   "outputs": [
    {
     "data": {
      "text/plain": [
       "ford          12661\n",
       "chevrolet     10605\n",
       "toyota         5439\n",
       "honda          3483\n",
       "ram            3314\n",
       "jeep           3278\n",
       "nissan         3206\n",
       "gmc            2377\n",
       "subaru         1272\n",
       "dodge          1255\n",
       "hyundai        1171\n",
       "volkswagen      868\n",
       "chrysler        838\n",
       "kia             584\n",
       "cadillac        322\n",
       "buick           270\n",
       "bmw             267\n",
       "acura           236\n",
       "Name: brand, dtype: int64"
      ]
     },
     "execution_count": 66,
     "metadata": {},
     "output_type": "execute_result"
    }
   ],
   "source": [
    "df['brand'].value_counts()"
   ]
  },
  {
   "cell_type": "code",
   "execution_count": 67,
   "metadata": {},
   "outputs": [
    {
     "name": "stdout",
     "output_type": "stream",
     "text": [
      "               price    model_year     cylinders       odometer   days_listed  \\\n",
      "count   51446.000000  51446.000000  51446.000000   51446.000000  51446.000000   \n",
      "mean    12116.807604   2009.766201      6.122186  115770.581211     39.557264   \n",
      "std     10025.236092      6.171042      1.658138   60372.031809     28.210467   \n",
      "min         1.000000   1908.000000      3.000000       1.000000      0.000000   \n",
      "25%      5000.000000   2006.000000      4.000000   77447.000000     19.000000   \n",
      "50%      9000.000000   2011.000000      6.000000  115163.000000     33.000000   \n",
      "75%     16800.000000   2014.000000      8.000000  149000.000000     53.000000   \n",
      "max    375000.000000   2019.000000     12.000000  990000.000000    271.000000   \n",
      "\n",
      "        year_posted  \n",
      "count  51446.000000  \n",
      "mean    2018.307390  \n",
      "std        0.461417  \n",
      "min     2018.000000  \n",
      "25%     2018.000000  \n",
      "50%     2018.000000  \n",
      "75%     2019.000000  \n",
      "max     2019.000000  \n"
     ]
    }
   ],
   "source": [
    "print(df.describe())"
   ]
  },
  {
   "cell_type": "markdown",
   "metadata": {},
   "source": [
    "Datos a revisar más adelante:\n",
    "\n",
    "`price`=  tiene un minimo de 1 que debe ser corregido\n",
    "\n",
    "`Model_years`= Hay que revisar el modelo de 1908\n",
    "\n",
    "`odometer`= Hay que revisar los valores muy altos\n"
   ]
  },
  {
   "cell_type": "markdown",
   "metadata": {},
   "source": [
    "### Duplicados"
   ]
  },
  {
   "cell_type": "code",
   "execution_count": 68,
   "metadata": {},
   "outputs": [
    {
     "name": "stdout",
     "output_type": "stream",
     "text": [
      "0\n"
     ]
    }
   ],
   "source": [
    "print(df.duplicated().sum())"
   ]
  },
  {
   "cell_type": "markdown",
   "metadata": {},
   "source": [
    "No hay duplicados "
   ]
  },
  {
   "cell_type": "markdown",
   "metadata": {
    "tags": []
   },
   "source": [
    "# Paso 3. Calcula y añade a la tabla lo siguiente:"
   ]
  },
  {
   "cell_type": "markdown",
   "metadata": {
    "tags": []
   },
   "source": [
    "## Enriquecer datos"
   ]
  },
  {
   "cell_type": "code",
   "execution_count": 69,
   "metadata": {},
   "outputs": [],
   "source": [
    "# Agrega valores de fecha y hora para cuando se colocó el anuncio\n",
    "df['month_posted'] = df['date_posted'].dt.month\n",
    "df['day_posted'] = df['date_posted'].dt.dayofweek\n"
   ]
  },
  {
   "cell_type": "code",
   "execution_count": 70,
   "metadata": {},
   "outputs": [],
   "source": [
    "# Agrega los años del vehículo cuando el anuncio se colocó\n",
    "\n",
    "df['age_in_years_posted'] = (df['date_posted'] - pd.to_datetime(df.model_year, format='%Y'))/ np.timedelta64(1, 'Y')\n",
    "df['age_in_years_posted'] = np.ceil(df['age_in_years_posted'])"
   ]
  },
  {
   "cell_type": "code",
   "execution_count": 71,
   "metadata": {},
   "outputs": [],
   "source": [
    "# Agrega el millaje promedio del vehículo por año\n",
    "\n",
    "df['avg_miles_per_year'] = df['odometer']/df['age_in_years_posted']"
   ]
  },
  {
   "cell_type": "code",
   "execution_count": 72,
   "metadata": {},
   "outputs": [],
   "source": [
    "# Podría ser útil reemplazar los valores de condición con algo que se pueda manipular más fácilmente\n",
    "\n",
    "condition_dict = {'new': 5, 'like new': 4, 'excellent': 3, 'good': 2, 'fair': 1, 'salvage': 0} # creamos un diccionario\n"
   ]
  },
  {
   "cell_type": "code",
   "execution_count": 73,
   "metadata": {},
   "outputs": [
    {
     "data": {
      "text/plain": [
       "3    24714\n",
       "2    20133\n",
       "4     4738\n",
       "1     1603\n",
       "5      143\n",
       "0      115\n",
       "Name: condition, dtype: int64"
      ]
     },
     "execution_count": 73,
     "metadata": {},
     "output_type": "execute_result"
    }
   ],
   "source": [
    "df['condition'] = df['condition'].map(condition_dict)\n",
    "df['condition'].value_counts()"
   ]
  },
  {
   "cell_type": "raw",
   "metadata": {},
   "source": [
    "\n",
    "Se reemplazo por el codigo aterior \n",
    "\n",
    "def condition_dict(row):  # creamos unas condiciones con la funcion IF\n",
    "    if 'new' in row['condition']:\n",
    "        return 5\n",
    "    if 'like new' in row['condition']:\n",
    "        return 4\n",
    "    if 'excellent' in row['condition']:\n",
    "        return 3\n",
    "    if 'good' in row['condition'] :\n",
    "        return 2\n",
    "    if 'fair' in row['condition']:\n",
    "        return 1\n",
    "    if 'salvage' in row['condition']:\n",
    "        return 0\n",
    "    "
   ]
  },
  {
   "cell_type": "markdown",
   "metadata": {
    "tags": []
   },
   "source": [
    "## Comprobar datos limpios"
   ]
  },
  {
   "cell_type": "markdown",
   "metadata": {},
   "source": [
    "[Dado que los datos están listos para el análisis, échales otro vistazo rápido. Es útil ver qué es exactamente lo que vas a utilizar para el análisis.]"
   ]
  },
  {
   "cell_type": "code",
   "execution_count": 74,
   "metadata": {},
   "outputs": [
    {
     "data": {
      "text/html": [
       "<div>\n",
       "<style scoped>\n",
       "    .dataframe tbody tr th:only-of-type {\n",
       "        vertical-align: middle;\n",
       "    }\n",
       "\n",
       "    .dataframe tbody tr th {\n",
       "        vertical-align: top;\n",
       "    }\n",
       "\n",
       "    .dataframe thead th {\n",
       "        text-align: right;\n",
       "    }\n",
       "</style>\n",
       "<table border=\"1\" class=\"dataframe\">\n",
       "  <thead>\n",
       "    <tr style=\"text-align: right;\">\n",
       "      <th></th>\n",
       "      <th>price</th>\n",
       "      <th>model_year</th>\n",
       "      <th>condition</th>\n",
       "      <th>cylinders</th>\n",
       "      <th>odometer</th>\n",
       "      <th>days_listed</th>\n",
       "      <th>year_posted</th>\n",
       "      <th>month_posted</th>\n",
       "      <th>day_posted</th>\n",
       "      <th>age_in_years_posted</th>\n",
       "      <th>avg_miles_per_year</th>\n",
       "    </tr>\n",
       "  </thead>\n",
       "  <tbody>\n",
       "    <tr>\n",
       "      <th>count</th>\n",
       "      <td>51446.000000</td>\n",
       "      <td>51446.000000</td>\n",
       "      <td>51446.000000</td>\n",
       "      <td>51446.000000</td>\n",
       "      <td>51446.000000</td>\n",
       "      <td>51446.000000</td>\n",
       "      <td>51446.000000</td>\n",
       "      <td>51446.000000</td>\n",
       "      <td>51446.000000</td>\n",
       "      <td>51446.000000</td>\n",
       "      <td>5.144600e+04</td>\n",
       "    </tr>\n",
       "    <tr>\n",
       "      <th>mean</th>\n",
       "      <td>12116.807604</td>\n",
       "      <td>2009.766201</td>\n",
       "      <td>2.637290</td>\n",
       "      <td>6.122186</td>\n",
       "      <td>115770.581211</td>\n",
       "      <td>39.557264</td>\n",
       "      <td>2018.307390</td>\n",
       "      <td>6.628737</td>\n",
       "      <td>3.005559</td>\n",
       "      <td>9.539925</td>\n",
       "      <td>inf</td>\n",
       "    </tr>\n",
       "    <tr>\n",
       "      <th>std</th>\n",
       "      <td>10025.236092</td>\n",
       "      <td>6.171042</td>\n",
       "      <td>0.712574</td>\n",
       "      <td>1.658138</td>\n",
       "      <td>60372.031809</td>\n",
       "      <td>28.210467</td>\n",
       "      <td>0.461417</td>\n",
       "      <td>3.474279</td>\n",
       "      <td>1.997668</td>\n",
       "      <td>6.181921</td>\n",
       "      <td>NaN</td>\n",
       "    </tr>\n",
       "    <tr>\n",
       "      <th>min</th>\n",
       "      <td>1.000000</td>\n",
       "      <td>1908.000000</td>\n",
       "      <td>0.000000</td>\n",
       "      <td>3.000000</td>\n",
       "      <td>1.000000</td>\n",
       "      <td>0.000000</td>\n",
       "      <td>2018.000000</td>\n",
       "      <td>1.000000</td>\n",
       "      <td>0.000000</td>\n",
       "      <td>0.000000</td>\n",
       "      <td>3.333333e-02</td>\n",
       "    </tr>\n",
       "    <tr>\n",
       "      <th>25%</th>\n",
       "      <td>5000.000000</td>\n",
       "      <td>2006.000000</td>\n",
       "      <td>2.000000</td>\n",
       "      <td>4.000000</td>\n",
       "      <td>77447.000000</td>\n",
       "      <td>19.000000</td>\n",
       "      <td>2018.000000</td>\n",
       "      <td>3.000000</td>\n",
       "      <td>1.000000</td>\n",
       "      <td>5.000000</td>\n",
       "      <td>9.568556e+03</td>\n",
       "    </tr>\n",
       "    <tr>\n",
       "      <th>50%</th>\n",
       "      <td>9000.000000</td>\n",
       "      <td>2011.000000</td>\n",
       "      <td>3.000000</td>\n",
       "      <td>6.000000</td>\n",
       "      <td>115163.000000</td>\n",
       "      <td>33.000000</td>\n",
       "      <td>2018.000000</td>\n",
       "      <td>7.000000</td>\n",
       "      <td>3.000000</td>\n",
       "      <td>9.000000</td>\n",
       "      <td>1.305462e+04</td>\n",
       "    </tr>\n",
       "    <tr>\n",
       "      <th>75%</th>\n",
       "      <td>16800.000000</td>\n",
       "      <td>2014.000000</td>\n",
       "      <td>3.000000</td>\n",
       "      <td>8.000000</td>\n",
       "      <td>149000.000000</td>\n",
       "      <td>53.000000</td>\n",
       "      <td>2019.000000</td>\n",
       "      <td>10.000000</td>\n",
       "      <td>5.000000</td>\n",
       "      <td>13.000000</td>\n",
       "      <td>1.773799e+04</td>\n",
       "    </tr>\n",
       "    <tr>\n",
       "      <th>max</th>\n",
       "      <td>375000.000000</td>\n",
       "      <td>2019.000000</td>\n",
       "      <td>5.000000</td>\n",
       "      <td>12.000000</td>\n",
       "      <td>990000.000000</td>\n",
       "      <td>271.000000</td>\n",
       "      <td>2019.000000</td>\n",
       "      <td>12.000000</td>\n",
       "      <td>6.000000</td>\n",
       "      <td>111.000000</td>\n",
       "      <td>inf</td>\n",
       "    </tr>\n",
       "  </tbody>\n",
       "</table>\n",
       "</div>"
      ],
      "text/plain": [
       "               price    model_year     condition     cylinders       odometer  \\\n",
       "count   51446.000000  51446.000000  51446.000000  51446.000000   51446.000000   \n",
       "mean    12116.807604   2009.766201      2.637290      6.122186  115770.581211   \n",
       "std     10025.236092      6.171042      0.712574      1.658138   60372.031809   \n",
       "min         1.000000   1908.000000      0.000000      3.000000       1.000000   \n",
       "25%      5000.000000   2006.000000      2.000000      4.000000   77447.000000   \n",
       "50%      9000.000000   2011.000000      3.000000      6.000000  115163.000000   \n",
       "75%     16800.000000   2014.000000      3.000000      8.000000  149000.000000   \n",
       "max    375000.000000   2019.000000      5.000000     12.000000  990000.000000   \n",
       "\n",
       "        days_listed   year_posted  month_posted    day_posted  \\\n",
       "count  51446.000000  51446.000000  51446.000000  51446.000000   \n",
       "mean      39.557264   2018.307390      6.628737      3.005559   \n",
       "std       28.210467      0.461417      3.474279      1.997668   \n",
       "min        0.000000   2018.000000      1.000000      0.000000   \n",
       "25%       19.000000   2018.000000      3.000000      1.000000   \n",
       "50%       33.000000   2018.000000      7.000000      3.000000   \n",
       "75%       53.000000   2019.000000     10.000000      5.000000   \n",
       "max      271.000000   2019.000000     12.000000      6.000000   \n",
       "\n",
       "       age_in_years_posted  avg_miles_per_year  \n",
       "count         51446.000000        5.144600e+04  \n",
       "mean              9.539925                 inf  \n",
       "std               6.181921                 NaN  \n",
       "min               0.000000        3.333333e-02  \n",
       "25%               5.000000        9.568556e+03  \n",
       "50%               9.000000        1.305462e+04  \n",
       "75%              13.000000        1.773799e+04  \n",
       "max             111.000000                 inf  "
      ]
     },
     "execution_count": 74,
     "metadata": {},
     "output_type": "execute_result"
    }
   ],
   "source": [
    "# imprime la información general/resumida sobre el DataFrame\n",
    "\n",
    "df.describe()"
   ]
  },
  {
   "cell_type": "code",
   "execution_count": 75,
   "metadata": {},
   "outputs": [
    {
     "name": "stdout",
     "output_type": "stream",
     "text": [
      "<class 'pandas.core.frame.DataFrame'>\n",
      "RangeIndex: 51446 entries, 0 to 51445\n",
      "Data columns (total 19 columns):\n",
      " #   Column               Non-Null Count  Dtype         \n",
      "---  ------               --------------  -----         \n",
      " 0   price                51446 non-null  int64         \n",
      " 1   model_year           51446 non-null  int64         \n",
      " 2   model                51446 non-null  object        \n",
      " 3   condition            51446 non-null  int64         \n",
      " 4   cylinders            51446 non-null  int64         \n",
      " 5   fuel                 51446 non-null  object        \n",
      " 6   odometer             51446 non-null  int64         \n",
      " 7   transmission         51446 non-null  object        \n",
      " 8   type                 51446 non-null  object        \n",
      " 9   paint_color          51446 non-null  object        \n",
      " 10  is_4wd               51446 non-null  bool          \n",
      " 11  date_posted          51446 non-null  datetime64[ns]\n",
      " 12  days_listed          51446 non-null  int64         \n",
      " 13  year_posted          51446 non-null  int64         \n",
      " 14  brand                51446 non-null  object        \n",
      " 15  month_posted         51446 non-null  int64         \n",
      " 16  day_posted           51446 non-null  int64         \n",
      " 17  age_in_years_posted  51446 non-null  float64       \n",
      " 18  avg_miles_per_year   51446 non-null  float64       \n",
      "dtypes: bool(1), datetime64[ns](1), float64(2), int64(9), object(6)\n",
      "memory usage: 7.1+ MB\n"
     ]
    }
   ],
   "source": [
    "df.info()"
   ]
  },
  {
   "cell_type": "code",
   "execution_count": 76,
   "metadata": {},
   "outputs": [
    {
     "data": {
      "text/html": [
       "<div>\n",
       "<style scoped>\n",
       "    .dataframe tbody tr th:only-of-type {\n",
       "        vertical-align: middle;\n",
       "    }\n",
       "\n",
       "    .dataframe tbody tr th {\n",
       "        vertical-align: top;\n",
       "    }\n",
       "\n",
       "    .dataframe thead th {\n",
       "        text-align: right;\n",
       "    }\n",
       "</style>\n",
       "<table border=\"1\" class=\"dataframe\">\n",
       "  <thead>\n",
       "    <tr style=\"text-align: right;\">\n",
       "      <th></th>\n",
       "      <th>price</th>\n",
       "      <th>model_year</th>\n",
       "      <th>model</th>\n",
       "      <th>condition</th>\n",
       "      <th>cylinders</th>\n",
       "      <th>fuel</th>\n",
       "      <th>odometer</th>\n",
       "      <th>transmission</th>\n",
       "      <th>type</th>\n",
       "      <th>paint_color</th>\n",
       "      <th>is_4wd</th>\n",
       "      <th>date_posted</th>\n",
       "      <th>days_listed</th>\n",
       "      <th>year_posted</th>\n",
       "      <th>brand</th>\n",
       "      <th>month_posted</th>\n",
       "      <th>day_posted</th>\n",
       "      <th>age_in_years_posted</th>\n",
       "      <th>avg_miles_per_year</th>\n",
       "    </tr>\n",
       "  </thead>\n",
       "  <tbody>\n",
       "    <tr>\n",
       "      <th>0</th>\n",
       "      <td>9400</td>\n",
       "      <td>2011</td>\n",
       "      <td>bmw x5</td>\n",
       "      <td>2</td>\n",
       "      <td>6</td>\n",
       "      <td>gas</td>\n",
       "      <td>145000</td>\n",
       "      <td>automatic</td>\n",
       "      <td>suv</td>\n",
       "      <td>missing</td>\n",
       "      <td>True</td>\n",
       "      <td>2018-06-23</td>\n",
       "      <td>19</td>\n",
       "      <td>2018</td>\n",
       "      <td>bmw</td>\n",
       "      <td>6</td>\n",
       "      <td>5</td>\n",
       "      <td>8.0</td>\n",
       "      <td>18125.000000</td>\n",
       "    </tr>\n",
       "    <tr>\n",
       "      <th>1</th>\n",
       "      <td>25500</td>\n",
       "      <td>2012</td>\n",
       "      <td>ford f-150</td>\n",
       "      <td>2</td>\n",
       "      <td>6</td>\n",
       "      <td>gas</td>\n",
       "      <td>88705</td>\n",
       "      <td>automatic</td>\n",
       "      <td>pickup</td>\n",
       "      <td>white</td>\n",
       "      <td>True</td>\n",
       "      <td>2018-10-19</td>\n",
       "      <td>50</td>\n",
       "      <td>2018</td>\n",
       "      <td>ford</td>\n",
       "      <td>10</td>\n",
       "      <td>4</td>\n",
       "      <td>7.0</td>\n",
       "      <td>12672.142857</td>\n",
       "    </tr>\n",
       "    <tr>\n",
       "      <th>2</th>\n",
       "      <td>5500</td>\n",
       "      <td>2013</td>\n",
       "      <td>hyundai sonata</td>\n",
       "      <td>4</td>\n",
       "      <td>4</td>\n",
       "      <td>gas</td>\n",
       "      <td>110000</td>\n",
       "      <td>automatic</td>\n",
       "      <td>sedan</td>\n",
       "      <td>red</td>\n",
       "      <td>False</td>\n",
       "      <td>2019-02-07</td>\n",
       "      <td>79</td>\n",
       "      <td>2019</td>\n",
       "      <td>hyundai</td>\n",
       "      <td>2</td>\n",
       "      <td>3</td>\n",
       "      <td>7.0</td>\n",
       "      <td>15714.285714</td>\n",
       "    </tr>\n",
       "    <tr>\n",
       "      <th>3</th>\n",
       "      <td>1500</td>\n",
       "      <td>2003</td>\n",
       "      <td>ford f-150</td>\n",
       "      <td>1</td>\n",
       "      <td>8</td>\n",
       "      <td>gas</td>\n",
       "      <td>126000</td>\n",
       "      <td>automatic</td>\n",
       "      <td>pickup</td>\n",
       "      <td>missing</td>\n",
       "      <td>False</td>\n",
       "      <td>2019-03-22</td>\n",
       "      <td>9</td>\n",
       "      <td>2019</td>\n",
       "      <td>ford</td>\n",
       "      <td>3</td>\n",
       "      <td>4</td>\n",
       "      <td>17.0</td>\n",
       "      <td>7411.764706</td>\n",
       "    </tr>\n",
       "    <tr>\n",
       "      <th>4</th>\n",
       "      <td>14900</td>\n",
       "      <td>2017</td>\n",
       "      <td>chrysler 200</td>\n",
       "      <td>3</td>\n",
       "      <td>4</td>\n",
       "      <td>gas</td>\n",
       "      <td>80903</td>\n",
       "      <td>automatic</td>\n",
       "      <td>sedan</td>\n",
       "      <td>black</td>\n",
       "      <td>False</td>\n",
       "      <td>2019-04-02</td>\n",
       "      <td>28</td>\n",
       "      <td>2019</td>\n",
       "      <td>chrysler</td>\n",
       "      <td>4</td>\n",
       "      <td>1</td>\n",
       "      <td>3.0</td>\n",
       "      <td>26967.666667</td>\n",
       "    </tr>\n",
       "  </tbody>\n",
       "</table>\n",
       "</div>"
      ],
      "text/plain": [
       "   price  model_year           model  condition  cylinders fuel  odometer  \\\n",
       "0   9400        2011          bmw x5          2          6  gas    145000   \n",
       "1  25500        2012      ford f-150          2          6  gas     88705   \n",
       "2   5500        2013  hyundai sonata          4          4  gas    110000   \n",
       "3   1500        2003      ford f-150          1          8  gas    126000   \n",
       "4  14900        2017    chrysler 200          3          4  gas     80903   \n",
       "\n",
       "  transmission    type paint_color  is_4wd date_posted  days_listed  \\\n",
       "0    automatic     suv     missing    True  2018-06-23           19   \n",
       "1    automatic  pickup       white    True  2018-10-19           50   \n",
       "2    automatic   sedan         red   False  2019-02-07           79   \n",
       "3    automatic  pickup     missing   False  2019-03-22            9   \n",
       "4    automatic   sedan       black   False  2019-04-02           28   \n",
       "\n",
       "   year_posted     brand  month_posted  day_posted  age_in_years_posted  \\\n",
       "0         2018       bmw             6           5                  8.0   \n",
       "1         2018      ford            10           4                  7.0   \n",
       "2         2019   hyundai             2           3                  7.0   \n",
       "3         2019      ford             3           4                 17.0   \n",
       "4         2019  chrysler             4           1                  3.0   \n",
       "\n",
       "   avg_miles_per_year  \n",
       "0        18125.000000  \n",
       "1        12672.142857  \n",
       "2        15714.285714  \n",
       "3         7411.764706  \n",
       "4        26967.666667  "
      ]
     },
     "execution_count": 76,
     "metadata": {},
     "output_type": "execute_result"
    }
   ],
   "source": [
    "# imprimir una muestra de datos\n",
    "df.head()\n"
   ]
  },
  {
   "cell_type": "markdown",
   "metadata": {},
   "source": [
    "### conclusion"
   ]
  },
  {
   "cell_type": "markdown",
   "metadata": {},
   "source": [
    "# Paso 4. Lleva a cabo el análisis exploratorio de datos siguiendo las siguientes instrucciones:"
   ]
  },
  {
   "cell_type": "markdown",
   "metadata": {
    "tags": []
   },
   "source": [
    "## Estudiar parámetros principales\n",
    "\n",
    "\n",
    "Los parámetros son:\n",
    "- Precio\n",
    "- Los años del vehículo cuando el anuncio se colocó\n",
    "- Millaje\n",
    "- Número de cilindros\n",
    "- Estado"
   ]
  },
  {
   "cell_type": "markdown",
   "metadata": {},
   "source": [
    "Para lo siguiente voy  a generar la siguiente funcion para los graficos de los parametros"
   ]
  },
  {
   "cell_type": "code",
   "execution_count": 125,
   "metadata": {},
   "outputs": [],
   "source": [
    "import matplotlib.pyplot as plt\n",
    "\n",
    "def plot_histogram(df, column, tittle,  bins, range):\n",
    "    df.hist(column, bins=bins, range=range)\n",
    "    plt.title(tittle)\n",
    "    plt.xlabel(column)\n",
    "    plt.ylabel(\"Frequency\")"
   ]
  },
  {
   "cell_type": "markdown",
   "metadata": {},
   "source": [
    "`Price`"
   ]
  },
  {
   "cell_type": "code",
   "execution_count": 101,
   "metadata": {},
   "outputs": [
    {
     "data": {
      "text/html": [
       "<div>\n",
       "<style scoped>\n",
       "    .dataframe tbody tr th:only-of-type {\n",
       "        vertical-align: middle;\n",
       "    }\n",
       "\n",
       "    .dataframe tbody tr th {\n",
       "        vertical-align: top;\n",
       "    }\n",
       "\n",
       "    .dataframe thead th {\n",
       "        text-align: right;\n",
       "    }\n",
       "</style>\n",
       "<table border=\"1\" class=\"dataframe\">\n",
       "  <thead>\n",
       "    <tr style=\"text-align: right;\">\n",
       "      <th></th>\n",
       "      <th>price</th>\n",
       "      <th>model_year</th>\n",
       "      <th>model</th>\n",
       "      <th>condition</th>\n",
       "      <th>cylinders</th>\n",
       "      <th>fuel</th>\n",
       "      <th>odometer</th>\n",
       "      <th>transmission</th>\n",
       "      <th>type</th>\n",
       "      <th>paint_color</th>\n",
       "      <th>is_4wd</th>\n",
       "      <th>date_posted</th>\n",
       "      <th>days_listed</th>\n",
       "      <th>year_posted</th>\n",
       "      <th>brand</th>\n",
       "      <th>month_posted</th>\n",
       "      <th>day_posted</th>\n",
       "      <th>age_in_years_posted</th>\n",
       "      <th>avg_miles_per_year</th>\n",
       "    </tr>\n",
       "  </thead>\n",
       "  <tbody>\n",
       "    <tr>\n",
       "      <th>12488</th>\n",
       "      <td>375000.0</td>\n",
       "      <td>1999</td>\n",
       "      <td>nissan frontier</td>\n",
       "      <td>2</td>\n",
       "      <td>6</td>\n",
       "      <td>gas</td>\n",
       "      <td>115000</td>\n",
       "      <td>automatic</td>\n",
       "      <td>pickup</td>\n",
       "      <td>blue</td>\n",
       "      <td>True</td>\n",
       "      <td>2018-05-19</td>\n",
       "      <td>21</td>\n",
       "      <td>2018</td>\n",
       "      <td>nissan</td>\n",
       "      <td>5</td>\n",
       "      <td>5</td>\n",
       "      <td>20.0</td>\n",
       "      <td>5750.0</td>\n",
       "    </tr>\n",
       "  </tbody>\n",
       "</table>\n",
       "</div>"
      ],
      "text/plain": [
       "          price  model_year            model  condition  cylinders fuel  \\\n",
       "12488  375000.0        1999  nissan frontier          2          6  gas   \n",
       "\n",
       "       odometer transmission    type paint_color  is_4wd date_posted  \\\n",
       "12488    115000    automatic  pickup        blue    True  2018-05-19   \n",
       "\n",
       "       days_listed  year_posted   brand  month_posted  day_posted  \\\n",
       "12488           21         2018  nissan             5           5   \n",
       "\n",
       "       age_in_years_posted  avg_miles_per_year  \n",
       "12488                 20.0              5750.0  "
      ]
     },
     "execution_count": 101,
     "metadata": {},
     "output_type": "execute_result"
    }
   ],
   "source": [
    "df[df['price'] == df['price'].max()]"
   ]
  },
  {
   "cell_type": "code",
   "execution_count": 102,
   "metadata": {},
   "outputs": [
    {
     "data": {
      "text/plain": [
       "count     51445.000000\n",
       "mean      12309.535105\n",
       "std        9931.393291\n",
       "min           3.000000\n",
       "25%        5400.000000\n",
       "50%        9500.000000\n",
       "75%       16900.000000\n",
       "max      375000.000000\n",
       "Name: price, dtype: float64"
      ]
     },
     "execution_count": 102,
     "metadata": {},
     "output_type": "execute_result"
    }
   ],
   "source": [
    "df['price'].describe()\n"
   ]
  },
  {
   "cell_type": "markdown",
   "metadata": {},
   "source": [
    "Al investigar sobre el modelo en internet, no figura ningun modelo con este precio. este numero pudo haber sido debido a un error humano o sistematico"
   ]
  },
  {
   "cell_type": "code",
   "execution_count": 126,
   "metadata": {
    "tags": []
   },
   "outputs": [
    {
     "data": {
      "image/png": "[encoded data removed]",
      "text/plain": [
       "<Figure size 432x288 with 1 Axes>"
      ]
     },
     "metadata": {
      "needs_background": "light"
     },
     "output_type": "display_data"
    }
   ],
   "source": [
    "#\n",
    "plot_histogram(df, \"price\",'number of vehicles', 50, (0, 50000))\n"
   ]
  },
  {
   "cell_type": "code",
   "execution_count": 116,
   "metadata": {
    "tags": []
   },
   "outputs": [
    {
     "data": {
      "text/plain": [
       "0"
      ]
     },
     "execution_count": 116,
     "metadata": {},
     "output_type": "execute_result"
    }
   ],
   "source": [
    "len(df[df['price'] == 1])\n",
    "\n"
   ]
  },
  {
   "cell_type": "markdown",
   "metadata": {
    "tags": []
   },
   "source": [
    "Existen 798 vehiculos al precio de un dolar\n",
    "\n"
   ]
  },
  {
   "cell_type": "code",
   "execution_count": 105,
   "metadata": {
    "tags": []
   },
   "outputs": [],
   "source": [
    "df.loc[df['price'] == 1, 'price'] = np.nan\n",
    "\n"
   ]
  },
  {
   "cell_type": "code",
   "execution_count": 106,
   "metadata": {},
   "outputs": [],
   "source": [
    "df['price'] = df.groupby(['model','type'])['price'].apply(lambda x: x.fillna(x.median()))\n"
   ]
  },
  {
   "cell_type": "code",
   "execution_count": 128,
   "metadata": {},
   "outputs": [
    {
     "data": {
      "text/plain": [
       "0"
      ]
     },
     "execution_count": 128,
     "metadata": {},
     "output_type": "execute_result"
    }
   ],
   "source": [
    "df['price'].isnull().sum()\n"
   ]
  },
  {
   "cell_type": "code",
   "execution_count": 129,
   "metadata": {},
   "outputs": [],
   "source": [
    "df = df.dropna(subset=['price'], axis=0)\n",
    "df.reset_index(drop=True, inplace=True)"
   ]
  },
  {
   "cell_type": "code",
   "execution_count": 130,
   "metadata": {},
   "outputs": [
    {
     "data": {
      "text/plain": [
       "0"
      ]
     },
     "execution_count": 130,
     "metadata": {},
     "output_type": "execute_result"
    }
   ],
   "source": [
    "df['price'].isnull().sum()"
   ]
  },
  {
   "cell_type": "code",
   "execution_count": 131,
   "metadata": {},
   "outputs": [
    {
     "data": {
      "image/png": "[encoded data removed]",
      "text/plain": [
       "<Figure size 432x288 with 1 Axes>"
      ]
     },
     "metadata": {
      "needs_background": "light"
     },
     "output_type": "display_data"
    }
   ],
   "source": [
    "plot_histogram(df, \"price\",'number of vehicles', 50, (0, 50000))\n"
   ]
  },
  {
   "cell_type": "markdown",
   "metadata": {},
   "source": [
    "`Los años del vehículo cuando el anuncio se colocó`"
   ]
  },
  {
   "cell_type": "code",
   "execution_count": 132,
   "metadata": {},
   "outputs": [
    {
     "data": {
      "image/png": "[encoded data removed]",
      "text/plain": [
       "<Figure size 432x288 with 1 Axes>"
      ]
     },
     "metadata": {
      "needs_background": "light"
     },
     "output_type": "display_data"
    }
   ],
   "source": [
    "plot_histogram(df, \"age_in_years_posted\",'The years of the vehicle when the advertisement was placed', 50, (0, 50))"
   ]
  },
  {
   "cell_type": "code",
   "execution_count": 133,
   "metadata": {},
   "outputs": [
    {
     "name": "stdout",
     "output_type": "stream",
     "text": [
      "9.54\n"
     ]
    }
   ],
   "source": [
    "print('{:0.2f}'.format(df['age_in_years_posted'].mean()))  #Redondeo de decimales '{:0.2f}'"
   ]
  },
  {
   "cell_type": "code",
   "execution_count": 134,
   "metadata": {},
   "outputs": [
    {
     "name": "stdout",
     "output_type": "stream",
     "text": [
      "9.00\n"
     ]
    }
   ],
   "source": [
    "print('{:0.2f}'.format(df['age_in_years_posted'].median())) "
   ]
  },
  {
   "cell_type": "markdown",
   "metadata": {},
   "source": [
    "La media y mediana de los años del automivil son casi similares, se encuentra entre 8 y 9 años. tambien se identifico una cola larga en el grafico despues de los 30 años. "
   ]
  },
  {
   "cell_type": "markdown",
   "metadata": {},
   "source": [
    "`Odometer`"
   ]
  },
  {
   "cell_type": "code",
   "execution_count": 138,
   "metadata": {},
   "outputs": [
    {
     "data": {
      "image/png": "[encoded data removed]",
      "text/plain": [
       "<Figure size 432x288 with 1 Axes>"
      ]
     },
     "metadata": {
      "needs_background": "light"
     },
     "output_type": "display_data"
    }
   ],
   "source": [
    "plot_histogram(df, \"odometer\",'Mileage of a vehicle', 50,(0, 50000) )\n"
   ]
  },
  {
   "cell_type": "markdown",
   "metadata": {},
   "source": [
    "Al igual que el grafico anterior, el grafico presenta una cola larga qué tendra que ser trabajada más adelante"
   ]
  },
  {
   "cell_type": "markdown",
   "metadata": {},
   "source": [
    "`CYLINDERS`"
   ]
  },
  {
   "cell_type": "code",
   "execution_count": 147,
   "metadata": {},
   "outputs": [
    {
     "data": {
      "image/png": "[encoded data removed]",
      "text/plain": [
       "<Figure size 432x288 with 1 Axes>"
      ]
     },
     "metadata": {
      "needs_background": "light"
     },
     "output_type": "display_data"
    }
   ],
   "source": [
    "plot_histogram(df, \"cylinders\",'Mileage of a vehicle', 10, (3,10))\n"
   ]
  },
  {
   "cell_type": "markdown",
   "metadata": {},
   "source": [
    "El grafico no representa ningun problema, las que tienen un numero menor que 4 puede ser debido a que sean autos antiguos. donde mas se concentran los valores es en 4 6 y 8 cilindros. no se visualiza valores atipicos"
   ]
  },
  {
   "cell_type": "markdown",
   "metadata": {},
   "source": [
    "`Condition`"
   ]
  },
  {
   "cell_type": "code",
   "execution_count": 150,
   "metadata": {},
   "outputs": [
    {
     "data": {
      "image/png": "[encoded data removed]",
      "text/plain": [
       "<Figure size 432x288 with 1 Axes>"
      ]
     },
     "metadata": {
      "needs_background": "light"
     },
     "output_type": "display_data"
    }
   ],
   "source": [
    "plot_histogram(df, \"condition\",'Condition of a vehicle', 6 , (0,5))"
   ]
  },
  {
   "cell_type": "markdown",
   "metadata": {},
   "source": [
    "La mayoria del detalle de la descricpcion se encuentra en bueno y como nuevo. veamos si la condicion del auto esta relacionado con el precio"
   ]
  },
  {
   "cell_type": "markdown",
   "metadata": {},
   "source": [
    "\n",
    "<div class=\"alert alert-block alert-info\">\n",
    "<b>Respuesta del estudiante</b> <a class=\"tocSkip\"></a>\n",
    "    \n",
    "Se creo la siguiente funcion \n",
    "    \n",
    "    def plot_histogram(df, column, tittle,  bins, range):\n",
    "    df.hist(column, bins=bins, range=range)\n",
    "    plt.title(tittle)\n",
    "    plt.xlabel(column)\n",
    "    plt.ylabel(\"Frequency\")\n",
    "</div>"
   ]
  },
  {
   "cell_type": "code",
   "execution_count": 93,
   "metadata": {},
   "outputs": [
    {
     "data": {
      "image/png": "[encoded data removed]",
      "text/plain": [
       "<Figure size 576x288 with 1 Axes>"
      ]
     },
     "metadata": {
      "needs_background": "light"
     },
     "output_type": "display_data"
    }
   ],
   "source": [
    "df.plot(x='condition', y='price', kind='scatter', figsize=(8,4))\n",
    "plt.title('Link between price and condition of a vehicle');"
   ]
  },
  {
   "cell_type": "markdown",
   "metadata": {},
   "source": [
    "No existe una relacion muy  significativa entre el precio y condicion, eso debe depender de otros factoresi"
   ]
  },
  {
   "cell_type": "markdown",
   "metadata": {
    "tags": []
   },
   "source": [
    "## Estudiar y tratar valores atípicos\n",
    "\n",
    "Con respecto a nuestro analisis anterior sobre las variables Cylinndersrs y condition  las distribuciones parecian nornmal, sin ningun valor atipico. habra que sacar valores atipicos de las columnas precio, Odomoter y  Age_in_years_posted."
   ]
  },
  {
   "cell_type": "code",
   "execution_count": 151,
   "metadata": {},
   "outputs": [],
   "source": [
    "q1_price= df['price'].quantile(0.25)\n",
    "q3_price= df['price'].quantile(0.75)\n",
    "iqr_price= q3_price-q1_price\n",
    "\n",
    "q1_age_in_years_posted= df['age_in_years_posted'].quantile(0.25)\n",
    "q3_age_in_years_posted= df['age_in_years_posted'].quantile(0.75)\n",
    "iqr_age_in_years_posted=q3_age_in_years_posted - q1_age_in_years_posted\n",
    "\n",
    "q1_odometer= df['odometer'].quantile(0.25)\n",
    "q3_odometer= df['odometer'].quantile(0.75)\n",
    "iqr_odometer= q3_odometer - q1_odometer\n"
   ]
  },
  {
   "cell_type": "markdown",
   "metadata": {},
   "source": [
    "# Determina los límites inferiores para valores atípicos\n",
    "\n",
    "Para determinar los limites inferiores tendremos que detectar los cuartiles inferiores"
   ]
  },
  {
   "cell_type": "code",
   "execution_count": 152,
   "metadata": {},
   "outputs": [],
   "source": [
    "inferior_limit = np.zeros(len(df), dtype=bool) + True\n",
    "for feature in ['price','odometer','age_in_years_posted']:\n",
    "    q25 = df[feature].quantile(0.25)\n",
    "    q75 = df[feature].quantile(0.75)\n",
    "    iqr = q75 - q25\n",
    "    # calculate the outlier cutoff and upper limit\n",
    "    cut_off = iqr * 1.5\n",
    "    upper = q75 + cut_off\n",
    "    inferior_limit[np.where(df[feature]>upper)] = False"
   ]
  },
  {
   "cell_type": "markdown",
   "metadata": {},
   "source": [
    "\n",
    "<div class=\"alert alert-block alert-info\">\n",
    "<b>Respuesta del estudiante</b> <a class=\"tocSkip\"></a>\n",
    "    \n",
    "Se modificó por inferior_limit\n",
    "</div>"
   ]
  },
  {
   "cell_type": "code",
   "execution_count": 153,
   "metadata": {},
   "outputs": [],
   "source": [
    "df_filtered = df[inferior_limit]\n",
    "df_filtered.dropna(how='all', inplace=True)\n",
    "df_filtered.reset_index(drop=True, inplace=True)"
   ]
  },
  {
   "cell_type": "code",
   "execution_count": 154,
   "metadata": {},
   "outputs": [
    {
     "data": {
      "text/plain": [
       "(48190, 19)"
      ]
     },
     "execution_count": 154,
     "metadata": {},
     "output_type": "execute_result"
    }
   ],
   "source": [
    "df_filtered.shape"
   ]
  },
  {
   "cell_type": "markdown",
   "metadata": {
    "tags": []
   },
   "source": [
    "## Estudiar parámetros principales sin valores atípicos"
   ]
  },
  {
   "cell_type": "code",
   "execution_count": 98,
   "metadata": {
    "scrolled": true
   },
   "outputs": [
    {
     "data": {
      "image/png": "[encoded data removed]",
      "text/plain": [
       "<Figure size 1080x576 with 4 Axes>"
      ]
     },
     "metadata": {
      "needs_background": "light"
     },
     "output_type": "display_data"
    }
   ],
   "source": [
    "df_filtered[['price', 'odometer', 'age_in_years_posted']].hist(bins=100, figsize=(15,8));"
   ]
  },
  {
   "cell_type": "markdown",
   "metadata": {},
   "source": [
    "Las largas colas de valores elevados para estas dos características ya no son visibles, lo que indica que sus distribuciones aparentan ser más normales y menos sesgadas en comparación con el pasado."
   ]
  },
  {
   "cell_type": "markdown",
   "metadata": {
    "tags": []
   },
   "source": [
    "## Periodo de colocación de los anuncios\n"
   ]
  },
  {
   "cell_type": "code",
   "execution_count": 99,
   "metadata": {},
   "outputs": [
    {
     "data": {
      "text/plain": [
       "count    48190.000000\n",
       "mean        39.549533\n",
       "std         28.221238\n",
       "min          0.000000\n",
       "25%         19.000000\n",
       "50%         33.000000\n",
       "75%         53.000000\n",
       "max        271.000000\n",
       "Name: days_listed, dtype: float64"
      ]
     },
     "execution_count": 99,
     "metadata": {},
     "output_type": "execute_result"
    }
   ],
   "source": [
    "df_filtered['days_listed'].describe()"
   ]
  },
  {
   "cell_type": "markdown",
   "metadata": {},
   "source": [
    "q1 los anuncios menos largos fueron de  19 dias y  los mas largos  53 dias  (q3). la mediana es de 33 dias y la media  de 39 dias"
   ]
  },
  {
   "cell_type": "code",
   "execution_count": 156,
   "metadata": {},
   "outputs": [
    {
     "data": {
      "text/plain": [
       "53.0"
      ]
     },
     "execution_count": 156,
     "metadata": {},
     "output_type": "execute_result"
    }
   ],
   "source": [
    "#Describe el periodo de colocación habitual de un anuncio. \n",
    "df_filtered['days_listed'].describe()['75%']"
   ]
  },
  {
   "cell_type": "markdown",
   "metadata": {},
   "source": [
    "El Quantil superior es de 53 dias"
   ]
  },
  {
   "cell_type": "code",
   "execution_count": 157,
   "metadata": {},
   "outputs": [
    {
     "data": {
      "text/plain": [
       "white      19.250297\n",
       "missing    18.007994\n",
       "black      15.015664\n",
       "silver     12.228584\n",
       "grey        9.960030\n",
       "blue        9.052609\n",
       "red         8.112780\n",
       "green       2.905909\n",
       "brown       2.365777\n",
       "custom      2.030896\n",
       "yellow      0.421303\n",
       "orange      0.399698\n",
       "purple      0.248461\n",
       "Name: paint_color, dtype: float64"
      ]
     },
     "execution_count": 157,
     "metadata": {},
     "output_type": "execute_result"
    }
   ],
   "source": [
    "df_filtered.query('days_listed>60')['paint_color'].value_counts(normalize=True)*100"
   ]
  },
  {
   "cell_type": "code",
   "execution_count": 158,
   "metadata": {
    "scrolled": true
   },
   "outputs": [
    {
     "data": {
      "text/plain": [
       "white      19.472700\n",
       "missing    17.994222\n",
       "black      14.816343\n",
       "silver     12.208978\n",
       "grey        9.786118\n",
       "red         8.666942\n",
       "blue        8.598966\n",
       "green       2.677769\n",
       "brown       2.350028\n",
       "custom      2.291763\n",
       "yellow      0.485543\n",
       "orange      0.458838\n",
       "purple      0.191789\n",
       "Name: paint_color, dtype: float64"
      ]
     },
     "execution_count": 158,
     "metadata": {},
     "output_type": "execute_result"
    }
   ],
   "source": [
    "df.query('days_listed<60')['paint_color'].value_counts(normalize=True)*100"
   ]
  },
  {
   "cell_type": "markdown",
   "metadata": {},
   "source": [
    "El percentil 25 (Q1) corresponde a 19 días, lo que significa que el 25% de los anuncios se vendieron en menos de 19 días. Por lo tanto, podemos considerar que un anuncio que dura menos de 19 días es anormalmente corto.\n",
    "\n",
    "El percentil 75 (Q3) corresponde a 53 días, lo que significa que el 75% de los anuncios se vendieron en menos de 53 días. Por lo tanto, podemos considerar que un anuncio que dura más de 53 días es anormalmente largo.\n",
    "\n",
    "Podemos usar estos valores como una medida aproximada de lo que se considera \"normal\" en términos de la duración de un anuncio."
   ]
  },
  {
   "cell_type": "markdown",
   "metadata": {
    "tags": []
   },
   "source": [
    "## Precio promedio por cada tipo de vehículo"
   ]
  },
  {
   "cell_type": "code",
   "execution_count": 159,
   "metadata": {},
   "outputs": [],
   "source": [
    "vehicle_grouped = df_filtered.pivot_table(index='type', values='price', aggfunc=['count','mean'])"
   ]
  },
  {
   "cell_type": "code",
   "execution_count": 160,
   "metadata": {
    "scrolled": true
   },
   "outputs": [
    {
     "data": {
      "image/png": "[encoded data removed]",
      "text/plain": [
       "<Figure size 432x288 with 1 Axes>"
      ]
     },
     "metadata": {
      "needs_background": "light"
     },
     "output_type": "display_data"
    }
   ],
   "source": [
    "vehicle_grouped['mean'].sort_values(by='price', ascending=False).plot(kind='bar', legend=False)\n",
    "plt.title('Average price per vehicle type')\n",
    "plt.ylabel('average price');"
   ]
  },
  {
   "cell_type": "markdown",
   "metadata": {},
   "source": [
    "Basándonos en el gráfico de barras anterior, los camiones y las camionetas parecen ser los más costosos en promedio, lo cual resulta lógico ya que son los vehículos más grandes.\n",
    "\n",
    "A continuación, generaremos un gráfico que muestre la relación entre el número de anuncios y el tipo de vehículo, y así identificar los dos tipos con mayor cantidad de anuncios."
   ]
  },
  {
   "cell_type": "code",
   "execution_count": 161,
   "metadata": {
    "scrolled": true
   },
   "outputs": [
    {
     "data": {
      "image/png": "[encoded data removed]",
      "text/plain": [
       "<Figure size 432x288 with 1 Axes>"
      ]
     },
     "metadata": {
      "needs_background": "light"
     },
     "output_type": "display_data"
    }
   ],
   "source": [
    "vehicle_grouped['count'].sort_values(by='price', ascending=False).plot(kind='bar', legend=False)\n",
    "plt.title('Number of ads per vehicle type')\n",
    "plt.ylabel('number of ads');"
   ]
  },
  {
   "cell_type": "markdown",
   "metadata": {},
   "source": [
    "A partir del gráfico de barras anterior, observamos que 'SUV' y 'Sedán' son los dos tipos de vehículos más populares en este conjunto de datos. Vamos a seleccionar un subconjunto de nuestros datos en función de estos 2 tipos."
   ]
  },
  {
   "cell_type": "markdown",
   "metadata": {
    "tags": []
   },
   "source": [
    "## Factores de precio"
   ]
  },
  {
   "cell_type": "code",
   "execution_count": 173,
   "metadata": {},
   "outputs": [],
   "source": [
    "popular_types = df_filtered[df_filtered['type'].isin(['SUV', 'sedan', 'truck'])]"
   ]
  },
  {
   "cell_type": "markdown",
   "metadata": {},
   "source": [
    "`condition vs price  `"
   ]
  },
  {
   "cell_type": "markdown",
   "metadata": {},
   "source": [
    "vamos a ver si tienen 50 anuncios como minimo "
   ]
  },
  {
   "cell_type": "code",
   "execution_count": 176,
   "metadata": {},
   "outputs": [
    {
     "data": {
      "text/plain": [
       "3    11075\n",
       "2     9129\n",
       "4     2160\n",
       "1      591\n",
       "5       61\n",
       "0       51\n",
       "Name: condition, dtype: int64"
      ]
     },
     "execution_count": 176,
     "metadata": {},
     "output_type": "execute_result"
    }
   ],
   "source": [
    "popular_types.condition.value_counts()"
   ]
  },
  {
   "cell_type": "code",
   "execution_count": 177,
   "metadata": {
    "scrolled": false
   },
   "outputs": [
    {
     "data": {
      "image/png": "[encoded data removed]",
      "text/plain": [
       "<Figure size 432x288 with 1 Axes>"
      ]
     },
     "metadata": {
      "needs_background": "light"
     },
     "output_type": "display_data"
    }
   ],
   "source": [
    "popular_types.boxplot(by='condition', column='price')\n",
    "plt.suptitle('')\n",
    "plt.title('Link between price and condition of a vehicle');"
   ]
  },
  {
   "cell_type": "code",
   "execution_count": 169,
   "metadata": {
    "scrolled": false
   },
   "outputs": [
    {
     "data": {
      "image/png": "[encoded data removed]",
      "text/plain": [
       "<Figure size 432x288 with 1 Axes>"
      ]
     },
     "metadata": {
      "needs_background": "light"
     },
     "output_type": "display_data"
    }
   ],
   "source": [
    "popular_types.plot.scatter(x='condition', y='price', alpha=.25)\n",
    "plt.title('Link between price and condition');"
   ]
  },
  {
   "cell_type": "markdown",
   "metadata": {},
   "source": [
    "Vemos una conexión bastante clara: en promedio, cuanto mejor sea la condición de un vehículo, mayor será su precio."
   ]
  },
  {
   "cell_type": "markdown",
   "metadata": {},
   "source": [
    "`Transmission type vs price`"
   ]
  },
  {
   "cell_type": "code",
   "execution_count": 174,
   "metadata": {},
   "outputs": [
    {
     "data": {
      "text/plain": [
       "automatic    21797\n",
       "manual         947\n",
       "other          323\n",
       "Name: transmission, dtype: int64"
      ]
     },
     "execution_count": 174,
     "metadata": {},
     "output_type": "execute_result"
    }
   ],
   "source": [
    "popular_types.transmission.value_counts()"
   ]
  },
  {
   "cell_type": "code",
   "execution_count": 175,
   "metadata": {
    "scrolled": true
   },
   "outputs": [
    {
     "data": {
      "image/png": "[encoded data removed]",
      "text/plain": [
       "<Figure size 432x288 with 1 Axes>"
      ]
     },
     "metadata": {
      "needs_background": "light"
     },
     "output_type": "display_data"
    }
   ],
   "source": [
    "popular_types.boxplot(by='transmission', column='price')\n",
    "plt.suptitle('')\n",
    "plt.title('price and transmission type of a vehicle');"
   ]
  },
  {
   "cell_type": "markdown",
   "metadata": {},
   "source": [
    "Los vehículos con el \"otro\" tipo de transmisión tienden a ser ligeramente más costosos. Probablemente se explique por el hecho de que estos otros tipos ofrecen más flexibilidad y comodidad al conductor, además de ser más eficientes en términos de consumo de combustible."
   ]
  },
  {
   "cell_type": "markdown",
   "metadata": {},
   "source": [
    "`Paint color vs price `"
   ]
  },
  {
   "cell_type": "code",
   "execution_count": 165,
   "metadata": {},
   "outputs": [
    {
     "data": {
      "text/plain": [
       "missing    2161\n",
       "silver     2031\n",
       "black      1756\n",
       "grey       1609\n",
       "white      1490\n",
       "blue       1220\n",
       "red         934\n",
       "custom      296\n",
       "brown       254\n",
       "green       202\n",
       "purple       23\n",
       "yellow       21\n",
       "orange        9\n",
       "Name: paint_color, dtype: int64"
      ]
     },
     "execution_count": 165,
     "metadata": {},
     "output_type": "execute_result"
    }
   ],
   "source": [
    "popular_types.paint_color.value_counts()"
   ]
  },
  {
   "cell_type": "code",
   "execution_count": 166,
   "metadata": {
    "scrolled": false
   },
   "outputs": [
    {
     "data": {
      "image/png": "[encoded data removed]",
      "text/plain": [
       "<Figure size 720x360 with 1 Axes>"
      ]
     },
     "metadata": {
      "needs_background": "light"
     },
     "output_type": "display_data"
    }
   ],
   "source": [
    "popular_types.boxplot(by='paint_color', column='price', figsize=(10,5))\n",
    "plt.suptitle('')\n",
    "plt.title('Link between price and paint color of a vehicle');"
   ]
  },
  {
   "cell_type": "markdown",
   "metadata": {},
   "source": [
    "No existe una conexión clara entre el precio y el color de la pintura de un coche. Tiene sentido porque el color de la pintura depende principalmente de las preferencias de los clientes y no del precio del coche. Curiosamente, los coches naranjas parecen ser los más caros, pero su número es bastante bajo en este conjunto de datos (solo 88 coches). La mayoría de los coches son negros y plateados."
   ]
  },
  {
   "cell_type": "markdown",
   "metadata": {},
   "source": [
    "`Age vs price `"
   ]
  },
  {
   "cell_type": "code",
   "execution_count": 167,
   "metadata": {},
   "outputs": [
    {
     "data": {
      "image/png": "[encoded data removed]",
      "text/plain": [
       "<Figure size 432x288 with 1 Axes>"
      ]
     },
     "metadata": {
      "needs_background": "light"
     },
     "output_type": "display_data"
    }
   ],
   "source": [
    "popular_types.plot.scatter(x='age_in_years_posted', y='price', alpha=.15)\n",
    "plt.title('Link between price and age of a vehicle: scatter plot');"
   ]
  },
  {
   "cell_type": "markdown",
   "metadata": {},
   "source": [
    "La edad del vehiculo impacta en el precio, a medida que el vehiculo sea mas antiguo el precio bajara"
   ]
  },
  {
   "cell_type": "markdown",
   "metadata": {},
   "source": [
    "`Mileage vs price  `"
   ]
  },
  {
   "cell_type": "code",
   "execution_count": 168,
   "metadata": {},
   "outputs": [
    {
     "data": {
      "image/png": "[encoded data removed]",
      "text/plain": [
       "<Figure size 432x288 with 1 Axes>"
      ]
     },
     "metadata": {
      "needs_background": "light"
     },
     "output_type": "display_data"
    }
   ],
   "source": [
    "popular_types.plot.scatter(x='odometer', y='price', alpha=.25)\n",
    "plt.title('Link between price and mileage of a vehicle');"
   ]
  },
  {
   "cell_type": "markdown",
   "metadata": {},
   "source": [
    "Basándonos en el gráfico de dispersión anterior, podemos observar que a medida que aumenta el kilometraje, el precio del vehículo tiende a disminuir. Esta tendencia es lógica ya que, en promedio, cuanto mayor sea el kilometraje, peor será la condición del automóvil, y por lo tanto, menor será su precio."
   ]
  },
  {
   "cell_type": "markdown",
   "metadata": {
    "tags": []
   },
   "source": [
    "## Conclusión general\n",
    "\n",
    "En este informe se analizaron diferentes características de varios tipos de vehículos con el objetivo de determinar si la edad, el kilometraje, la condición, el tipo de transmisión y el color influyen en el precio de un vehículo. se realizaron los siguientes pasos para determinar los faactores que influyen en el precio\n",
    "\n",
    "1. Se realizaron estadísticas descriptivas para familiarizarse con los datos.\n",
    "2. Se corrigieron valores anómalos en la variable objetivo precio y se trataron los valores faltantes en las columnas is_4wd, odometer, model_year, cylinders y paint_color.\n",
    "3. Se realizaron cálculos auxiliares como la extracción del día de la semana, mes y año en que se publicó el anuncio, la edad del vehículo y el kilometraje promedio por año.\n",
    "4. Se realizó un análisis exploratorio de los datos que incluyó la identificación y eliminación de valores atípicos utilizando el rango intercuartílico y la identificación de las principales tendencias que influyen en el precio de los vehículos.\n",
    "5. Se analizaron las principales tendencias que influyen en el precio de los vehículos, incluyendo la edad, el kilometraje, la condición, el tipo de transmisión y el color de los vehículos. Se encontró que la edad, el kilometraje y la condición influyen en el precio, mientras que el tipo de transmisión y el color tienen una relación más débil o inexistente con el precio.\n",
    "\n",
    "\n",
    "Por ulitmo, Según el reporte, se encontró que varios factores influyen en el precio de un vehículo. En particular, se analizó si la edad, el kilometraje, la condición, el tipo de transmisión y el color del vehículo influían en el precio. Los resultados indican que la edad y el kilometraje influyen negativamente en el precio, es decir, a medida que el vehículo es más antiguo o tiene más kilómetros, su precio tiende a ser más bajo. Por otro lado, la mejor condición del vehículo y algunos tipos de transmisión influyen positivamente en el precio. El color del vehículo no parece tener una relación clara con el precio, aunque se encontró que los vehículos naranjas son los más caros en promedio, aunque su número es bastante bajo en el conjunto de datos."
   ]
  }
 ],
 "metadata": {
  "ExecuteTimeLog": [
   {
    "duration": 828,
    "start_time": "2021-11-16T09:21:11.304Z"
   },
   {
    "duration": 893,
    "start_time": "2021-11-16T09:21:17.728Z"
   },
   {
    "duration": 1150,
    "start_time": "2021-11-16T09:21:29.568Z"
   },
   {
    "duration": 3,
    "start_time": "2021-11-16T09:24:14.495Z"
   },
   {
    "duration": 120,
    "start_time": "2021-11-16T09:24:46.630Z"
   },
   {
    "duration": 3,
    "start_time": "2021-11-16T09:28:27.882Z"
   },
   {
    "duration": 4,
    "start_time": "2021-11-16T09:29:54.281Z"
   },
   {
    "duration": 3,
    "start_time": "2021-11-16T09:30:45.936Z"
   },
   {
    "duration": 4,
    "start_time": "2021-11-16T09:31:06.300Z"
   },
   {
    "duration": 113,
    "start_time": "2021-11-16T09:31:37.208Z"
   },
   {
    "duration": 143,
    "start_time": "2021-11-16T09:31:48.656Z"
   },
   {
    "duration": 98,
    "start_time": "2021-11-16T09:31:55.678Z"
   },
   {
    "duration": 3,
    "start_time": "2021-11-16T09:32:08.535Z"
   },
   {
    "duration": 111,
    "start_time": "2021-11-16T09:32:10.120Z"
   },
   {
    "duration": 3,
    "start_time": "2021-11-16T09:32:15.732Z"
   },
   {
    "duration": 4,
    "start_time": "2021-11-16T09:32:29.423Z"
   },
   {
    "duration": 3,
    "start_time": "2021-11-16T10:03:03.074Z"
   },
   {
    "duration": 3,
    "start_time": "2021-11-16T10:10:01.288Z"
   },
   {
    "duration": 3,
    "start_time": "2021-11-16T10:10:46.923Z"
   },
   {
    "duration": 121,
    "start_time": "2021-11-16T10:37:46.494Z"
   },
   {
    "duration": 125,
    "start_time": "2021-11-16T10:38:20.632Z"
   },
   {
    "duration": 112,
    "start_time": "2021-11-16T10:46:53.001Z"
   },
   {
    "duration": 110,
    "start_time": "2021-11-16T10:48:25.775Z"
   },
   {
    "duration": 3,
    "start_time": "2021-11-16T10:50:18.720Z"
   },
   {
    "duration": 4,
    "start_time": "2021-11-16T10:50:37.649Z"
   },
   {
    "duration": 2,
    "start_time": "2021-11-16T10:50:51.884Z"
   },
   {
    "duration": 3,
    "start_time": "2021-11-16T10:51:56.237Z"
   },
   {
    "duration": 101,
    "start_time": "2021-11-16T10:53:13.791Z"
   },
   {
    "duration": 3,
    "start_time": "2021-11-16T10:55:59.186Z"
   },
   {
    "duration": 3,
    "start_time": "2021-11-16T10:56:10.751Z"
   },
   {
    "duration": 3,
    "start_time": "2021-11-16T10:56:49.038Z"
   },
   {
    "duration": 3,
    "start_time": "2021-11-16T10:56:49.174Z"
   },
   {
    "duration": 4,
    "start_time": "2021-11-16T10:56:49.414Z"
   },
   {
    "duration": 3,
    "start_time": "2021-11-16T10:56:49.680Z"
   },
   {
    "duration": 3,
    "start_time": "2021-11-16T10:56:50.370Z"
   },
   {
    "duration": 114,
    "start_time": "2021-11-16T10:59:34.518Z"
   },
   {
    "duration": 3,
    "start_time": "2021-11-16T11:01:41.201Z"
   },
   {
    "duration": 116,
    "start_time": "2021-11-16T11:01:48.754Z"
   },
   {
    "duration": 3,
    "start_time": "2021-11-16T11:02:16.685Z"
   },
   {
    "duration": 3,
    "start_time": "2021-11-16T11:02:19.479Z"
   },
   {
    "duration": 3,
    "start_time": "2021-11-16T11:02:47.067Z"
   },
   {
    "duration": 3,
    "start_time": "2021-11-16T11:02:49.353Z"
   },
   {
    "duration": 3,
    "start_time": "2021-11-16T11:03:07.835Z"
   },
   {
    "duration": 3,
    "start_time": "2021-11-16T11:03:07.953Z"
   },
   {
    "duration": 112,
    "start_time": "2021-11-16T11:07:52.072Z"
   },
   {
    "duration": 187,
    "start_time": "2021-11-16T11:09:23.468Z"
   },
   {
    "duration": 4,
    "start_time": "2021-11-16T11:10:01.455Z"
   },
   {
    "duration": 3,
    "start_time": "2021-11-16T11:10:05.069Z"
   },
   {
    "duration": 4,
    "start_time": "2021-11-16T11:10:13.376Z"
   },
   {
    "duration": 3,
    "start_time": "2021-11-16T11:10:14.434Z"
   },
   {
    "duration": 3,
    "start_time": "2021-11-16T11:10:22.853Z"
   },
   {
    "duration": 4,
    "start_time": "2021-11-16T11:27:29.279Z"
   },
   {
    "duration": 4,
    "start_time": "2021-11-16T11:29:08.919Z"
   },
   {
    "duration": 118,
    "start_time": "2021-11-16T11:29:46.703Z"
   },
   {
    "duration": 437,
    "start_time": "2021-11-16T11:36:02.181Z"
   },
   {
    "duration": 157,
    "start_time": "2021-11-16T11:36:14.388Z"
   },
   {
    "duration": 207,
    "start_time": "2021-11-16T11:47:15.898Z"
   },
   {
    "duration": 3,
    "start_time": "2021-11-16T11:53:52.092Z"
   },
   {
    "duration": 3,
    "start_time": "2021-11-16T11:53:52.236Z"
   },
   {
    "duration": 3,
    "start_time": "2021-11-16T11:59:12.005Z"
   },
   {
    "duration": 112,
    "start_time": "2021-11-16T12:00:33.446Z"
   },
   {
    "duration": 3,
    "start_time": "2021-11-16T12:02:14.453Z"
   },
   {
    "duration": 3,
    "start_time": "2021-11-16T12:02:39.512Z"
   },
   {
    "duration": 106,
    "start_time": "2021-11-16T12:03:03.460Z"
   }
  ],
  "kernelspec": {
   "display_name": "Python 3 (ipykernel)",
   "language": "python",
   "name": "python3"
  },
  "language_info": {
   "codemirror_mode": {
    "name": "ipython",
    "version": 3
   },
   "file_extension": ".py",
   "mimetype": "text/x-python",
   "name": "python",
   "nbconvert_exporter": "python",
   "pygments_lexer": "ipython3",
   "version": "3.9.19"
  },
  "toc": {
   "base_numbering": 1,
   "nav_menu": {},
   "number_sections": true,
   "sideBar": true,
   "skip_h1_title": false,
   "title_cell": "Table of Contents",
   "title_sidebar": "Contents",
   "toc_cell": false,
   "toc_position": {},
   "toc_section_display": true,
   "toc_window_display": false
  }
 },
 "nbformat": 4,
 "nbformat_minor": 4
}
