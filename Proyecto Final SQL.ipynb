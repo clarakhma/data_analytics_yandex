{
 "cells": [
  {
   "cell_type": "markdown",
   "id": "6acbdd4e-c75e-41b5-956f-659a5a7ff591",
   "metadata": {},
   "source": [
    "# Aplicaciones para los amantes de los libros"
   ]
  },
  {
   "cell_type": "markdown",
   "id": "f24f74ce-52c3-4531-9453-9c4585d7fbdc",
   "metadata": {},
   "source": [
    "El coronavirus tomó al mundo entero por sorpresa, cambiando la rutina diaria de todos y todas. Los habitantes de las ciudades ya no pasaban su tiempo libre fuera, yendo a cafés y centros comerciales; sino que más gente se quedaba en casa, leyendo libros. Eso atrajo la atención de las startups (empresas emergentes) que se apresuraron a desarrollar nuevas aplicaciones para los amantes de los libros.\n",
    "\n",
    "Te han dado una base de datos de uno de los servicios que compiten en este mercado. Contiene datos sobre libros, editoriales, autores y calificaciones de clientes y reseñas de libros. Esta información se utilizará para generar una propuesta de valor para un nuevo producto."
   ]
  },
  {
   "cell_type": "markdown",
   "id": "87e9aa22",
   "metadata": {
    "toc": true
   },
   "source": [
    "<h1>Tabla de contenido<span class=\"tocSkip\"></span></h1>\n",
    "<div class=\"toc\"><ul class=\"toc-item\"><li><span><a href=\"#Descripcion-de-los-datos\" data-toc-modified-id=\"Descripcion-de-los-datos-1\">Descripcion de los datos</a></span></li><li><span><a href=\"#01.-Iniciacion\" data-toc-modified-id=\"01.-Iniciacion-2\">01. Iniciacion</a></span></li><li><span><a href=\"#02.-Exploracion-de-las-tablas\" data-toc-modified-id=\"02.-Exploracion-de-las-tablas-3\">02. Exploracion de las tablas</a></span></li><li><span><a href=\"#03.-Realiza-una-consulta-SQL-para-cada-una-de-las-tareas\" data-toc-modified-id=\"03.-Realiza-una-consulta-SQL-para-cada-una-de-las-tareas-4\">03. Realiza una consulta SQL para cada una de las tareas</a></span><ul class=\"toc-item\"><li><span><a href=\"#Encuentra-el-número-de-libros-publicados-después-del-1-de-enero-de-2000.\" data-toc-modified-id=\"Encuentra-el-número-de-libros-publicados-después-del-1-de-enero-de-2000.-4.1\">Encuentra el número de libros publicados después del 1 de enero de 2000.</a></span></li><li><span><a href=\"#Encuentra-el-número-de-reseñas-de-usuarios-y-la-calificación-promedio-para-cada-libro.\" data-toc-modified-id=\"Encuentra-el-número-de-reseñas-de-usuarios-y-la-calificación-promedio-para-cada-libro.-4.2\">Encuentra el número de reseñas de usuarios y la calificación promedio para cada libro.</a></span></li><li><span><a href=\"#dentifica-la-editorial-que-ha-publicado-el-mayor-número-de-libros-con-más-de-50-páginas-(esto-te-ayudará-a-excluir-folletos-y-publicaciones-similares-de-tu-análisis)\" data-toc-modified-id=\"dentifica-la-editorial-que-ha-publicado-el-mayor-número-de-libros-con-más-de-50-páginas-(esto-te-ayudará-a-excluir-folletos-y-publicaciones-similares-de-tu-análisis)-4.3\">dentifica la editorial que ha publicado el mayor número de libros con más de 50 páginas (esto te ayudará a excluir folletos y publicaciones similares de tu análisis)</a></span></li><li><span><a href=\"#Identifica-al-autor-que-tiene-la-más-alta-calificación-promedio-del-libro:-mira-solo-los-libros-con-al-menos-50-calificaciones.\" data-toc-modified-id=\"Identifica-al-autor-que-tiene-la-más-alta-calificación-promedio-del-libro:-mira-solo-los-libros-con-al-menos-50-calificaciones.-4.4\">Identifica al autor que tiene la más alta calificación promedio del libro: mira solo los libros con al menos 50 calificaciones.</a></span></li><li><span><a href=\"#Encuentra-el-número-promedio-de-reseñas-de-texto-entre-los-usuarios-que-calificaron-más-de-50-libros.\" data-toc-modified-id=\"Encuentra-el-número-promedio-de-reseñas-de-texto-entre-los-usuarios-que-calificaron-más-de-50-libros.-4.5\">Encuentra el número promedio de reseñas de texto entre los usuarios que calificaron más de 50 libros.</a></span></li></ul></li><li><span><a href=\"#04.-Conclusion\" data-toc-modified-id=\"04.-Conclusion-5\">04. Conclusion</a></span></li></ul></div>"
   ]
  },
  {
   "cell_type": "markdown",
   "id": "3b58ec7f-1744-4391-9a02-7d82ed04e475",
   "metadata": {},
   "source": [
    "## Descripcion de los datos\n",
    "\n",
    "Descripción de los datos\n",
    "\n",
    "**books**\n",
    "Contiene datos sobre libros:\n",
    "\n",
    "- book_id : identificación del libro\n",
    "- author_id : identificación del autor o autora\n",
    "- title : título\n",
    "- num_pages : número de páginas\n",
    "- publication_date : fecha de la publicación\n",
    "- publisher_id : identificación de la editorial\n",
    "\n",
    "**authors**\n",
    "Contiene datos sobre autores:\n",
    "\n",
    "- author_id : identificación del autor o autora\n",
    "- author : el autor o la autora\n",
    "\n",
    "**publishers**\n",
    "Contiene datos sobre editoriales:\n",
    "- publisher_id : identificación de la editorial\n",
    "- publisher : la editorial\n",
    "\n",
    "**ratings**\n",
    "\n",
    "Contiene datos sobre las calificaciones de usuarios:\n",
    "- rating_id : identificación de la calificación\n",
    "- book_id : identificación del libro\n",
    "- username : el nombre del usuario que revisó el libro\n",
    "- rating : calificación\n",
    "\n",
    "**reviews**\n",
    "Contiene datos sobre las reseñas de los y las clientes:\n",
    "- review_id : identificación de la reseña\n",
    "- book_id : identificación del libro\n",
    "- username : el nombre del usuario que revisó el libro\n",
    "- text : el texto de la reseñ"
   ]
  },
  {
   "cell_type": "markdown",
   "id": "0a514789-0c68-4d22-b1b7-f4b53eccb453",
   "metadata": {},
   "source": [
    "## 01. Iniciacion "
   ]
  },
  {
   "cell_type": "code",
   "execution_count": 1,
   "id": "fe5583b1-b88e-495a-ac8d-6eb64bc37e09",
   "metadata": {},
   "outputs": [],
   "source": [
    "# importar librerias\n",
    "import pandas as pd\n",
    "from sqlalchemy import create_engine\n",
    "\n"
   ]
  },
  {
   "cell_type": "code",
   "execution_count": 2,
   "id": "3889220d-ee53-4f7f-b299-a4a36aa865c0",
   "metadata": {},
   "outputs": [],
   "source": [
    "db_config = {\n",
    "    'user': 'praktikum_student',\n",
    "    'pwd': 'Sdf4$2;d-d30pp',\n",
    "    'host': 'rc1b-wcoijxj3yxfsf3fs.mdb.yandexcloud.net',\n",
    "    'port': 6432,\n",
    "    'db': 'data-analyst-final-project-db'\n",
    "}\n",
    "\n",
    "connection_string = 'postgresql://{}:{}@{}:{}/{}'.format(\n",
    "    db_config['user'],\n",
    "    db_config['pwd'],\n",
    "    db_config['host'],\n",
    "    db_config['port'],\n",
    "    db_config['db']\n",
    ")\n",
    "\n",
    "engine = create_engine(connection_string)"
   ]
  },
  {
   "cell_type": "markdown",
   "id": "f44ac410-003a-4486-af81-6a16ed15bf3f",
   "metadata": {},
   "source": [
    "## 02. Exploracion de las tablas"
   ]
  },
  {
   "cell_type": "code",
   "execution_count": 3,
   "id": "37559a92-48f3-48f9-8083-ea2ce6bc15d6",
   "metadata": {},
   "outputs": [
    {
     "data": {
      "text/html": [
       "<div>\n",
       "<style scoped>\n",
       "    .dataframe tbody tr th:only-of-type {\n",
       "        vertical-align: middle;\n",
       "    }\n",
       "\n",
       "    .dataframe tbody tr th {\n",
       "        vertical-align: top;\n",
       "    }\n",
       "\n",
       "    .dataframe thead th {\n",
       "        text-align: right;\n",
       "    }\n",
       "</style>\n",
       "<table border=\"1\" class=\"dataframe\">\n",
       "  <thead>\n",
       "    <tr style=\"text-align: right;\">\n",
       "      <th></th>\n",
       "      <th>book_id</th>\n",
       "      <th>author_id</th>\n",
       "      <th>title</th>\n",
       "      <th>num_pages</th>\n",
       "      <th>publication_date</th>\n",
       "      <th>publisher_id</th>\n",
       "    </tr>\n",
       "  </thead>\n",
       "  <tbody>\n",
       "    <tr>\n",
       "      <th>0</th>\n",
       "      <td>1</td>\n",
       "      <td>546</td>\n",
       "      <td>'Salem's Lot</td>\n",
       "      <td>594</td>\n",
       "      <td>2005-11-01</td>\n",
       "      <td>93</td>\n",
       "    </tr>\n",
       "    <tr>\n",
       "      <th>1</th>\n",
       "      <td>2</td>\n",
       "      <td>465</td>\n",
       "      <td>1 000 Places to See Before You Die</td>\n",
       "      <td>992</td>\n",
       "      <td>2003-05-22</td>\n",
       "      <td>336</td>\n",
       "    </tr>\n",
       "    <tr>\n",
       "      <th>2</th>\n",
       "      <td>3</td>\n",
       "      <td>407</td>\n",
       "      <td>13 Little Blue Envelopes (Little Blue Envelope...</td>\n",
       "      <td>322</td>\n",
       "      <td>2010-12-21</td>\n",
       "      <td>135</td>\n",
       "    </tr>\n",
       "    <tr>\n",
       "      <th>3</th>\n",
       "      <td>4</td>\n",
       "      <td>82</td>\n",
       "      <td>1491: New Revelations of the Americas Before C...</td>\n",
       "      <td>541</td>\n",
       "      <td>2006-10-10</td>\n",
       "      <td>309</td>\n",
       "    </tr>\n",
       "    <tr>\n",
       "      <th>4</th>\n",
       "      <td>5</td>\n",
       "      <td>125</td>\n",
       "      <td>1776</td>\n",
       "      <td>386</td>\n",
       "      <td>2006-07-04</td>\n",
       "      <td>268</td>\n",
       "    </tr>\n",
       "  </tbody>\n",
       "</table>\n",
       "</div>"
      ],
      "text/plain": [
       "   book_id  author_id                                              title  \\\n",
       "0        1        546                                       'Salem's Lot   \n",
       "1        2        465                 1 000 Places to See Before You Die   \n",
       "2        3        407  13 Little Blue Envelopes (Little Blue Envelope...   \n",
       "3        4         82  1491: New Revelations of the Americas Before C...   \n",
       "4        5        125                                               1776   \n",
       "\n",
       "   num_pages publication_date  publisher_id  \n",
       "0        594       2005-11-01            93  \n",
       "1        992       2003-05-22           336  \n",
       "2        322       2010-12-21           135  \n",
       "3        541       2006-10-10           309  \n",
       "4        386       2006-07-04           268  "
      ]
     },
     "execution_count": 3,
     "metadata": {},
     "output_type": "execute_result"
    }
   ],
   "source": [
    "query = \"\"\"\n",
    "SELECT *\n",
    "FROM books\n",
    "limit 5\n",
    "\"\"\"\n",
    "\n",
    "results = pd.io.sql.read_sql(query, con = engine)\n",
    "\n",
    "results.head()\n"
   ]
  },
  {
   "cell_type": "code",
   "execution_count": 4,
   "id": "2ed1ab37",
   "metadata": {},
   "outputs": [
    {
     "data": {
      "text/html": [
       "<div>\n",
       "<style scoped>\n",
       "    .dataframe tbody tr th:only-of-type {\n",
       "        vertical-align: middle;\n",
       "    }\n",
       "\n",
       "    .dataframe tbody tr th {\n",
       "        vertical-align: top;\n",
       "    }\n",
       "\n",
       "    .dataframe thead th {\n",
       "        text-align: right;\n",
       "    }\n",
       "</style>\n",
       "<table border=\"1\" class=\"dataframe\">\n",
       "  <thead>\n",
       "    <tr style=\"text-align: right;\">\n",
       "      <th></th>\n",
       "      <th>book_id</th>\n",
       "      <th>author_id</th>\n",
       "      <th>title</th>\n",
       "      <th>num_pages</th>\n",
       "      <th>publication_date</th>\n",
       "      <th>publisher_id</th>\n",
       "    </tr>\n",
       "  </thead>\n",
       "  <tbody>\n",
       "  </tbody>\n",
       "</table>\n",
       "</div>"
      ],
      "text/plain": [
       "Empty DataFrame\n",
       "Columns: [book_id, author_id, title, num_pages, publication_date, publisher_id]\n",
       "Index: []"
      ]
     },
     "execution_count": 4,
     "metadata": {},
     "output_type": "execute_result"
    }
   ],
   "source": [
    "query_null_1= \"\"\"\n",
    "SELECT *\n",
    "FROM books\n",
    "WHERE book_id IS  NULL\n",
    "   OR author_id IS NULL\n",
    "   OR title IS  NULL\n",
    "   OR num_pages IS  NULL\n",
    "   OR publication_date IS NULL\n",
    "   OR publisher_id IS NULL;\n",
    "\n",
    "\"\"\"\n",
    "\n",
    "results = pd.io.sql.read_sql(query_null_1, con = engine)\n",
    "results.head()\n"
   ]
  },
  {
   "cell_type": "markdown",
   "id": "11b5a675",
   "metadata": {},
   "source": [
    "No hay Valores nulos en la tabla book"
   ]
  },
  {
   "cell_type": "code",
   "execution_count": 5,
   "id": "c8dd8bc8-72ac-44c3-acf4-cdbfdd2cbdc4",
   "metadata": {},
   "outputs": [
    {
     "data": {
      "text/html": [
       "<div>\n",
       "<style scoped>\n",
       "    .dataframe tbody tr th:only-of-type {\n",
       "        vertical-align: middle;\n",
       "    }\n",
       "\n",
       "    .dataframe tbody tr th {\n",
       "        vertical-align: top;\n",
       "    }\n",
       "\n",
       "    .dataframe thead th {\n",
       "        text-align: right;\n",
       "    }\n",
       "</style>\n",
       "<table border=\"1\" class=\"dataframe\">\n",
       "  <thead>\n",
       "    <tr style=\"text-align: right;\">\n",
       "      <th></th>\n",
       "      <th>author_id</th>\n",
       "      <th>author</th>\n",
       "    </tr>\n",
       "  </thead>\n",
       "  <tbody>\n",
       "    <tr>\n",
       "      <th>0</th>\n",
       "      <td>1</td>\n",
       "      <td>A.S. Byatt</td>\n",
       "    </tr>\n",
       "    <tr>\n",
       "      <th>1</th>\n",
       "      <td>2</td>\n",
       "      <td>Aesop/Laura Harris/Laura Gibbs</td>\n",
       "    </tr>\n",
       "    <tr>\n",
       "      <th>2</th>\n",
       "      <td>3</td>\n",
       "      <td>Agatha Christie</td>\n",
       "    </tr>\n",
       "    <tr>\n",
       "      <th>3</th>\n",
       "      <td>4</td>\n",
       "      <td>Alan Brennert</td>\n",
       "    </tr>\n",
       "    <tr>\n",
       "      <th>4</th>\n",
       "      <td>5</td>\n",
       "      <td>Alan Moore/David   Lloyd</td>\n",
       "    </tr>\n",
       "  </tbody>\n",
       "</table>\n",
       "</div>"
      ],
      "text/plain": [
       "   author_id                          author\n",
       "0          1                      A.S. Byatt\n",
       "1          2  Aesop/Laura Harris/Laura Gibbs\n",
       "2          3                 Agatha Christie\n",
       "3          4                   Alan Brennert\n",
       "4          5        Alan Moore/David   Lloyd"
      ]
     },
     "execution_count": 5,
     "metadata": {},
     "output_type": "execute_result"
    }
   ],
   "source": [
    "query=\"\"\"\n",
    "SELECT *\n",
    "FROM authors\n",
    "limit 5\n",
    "\"\"\"\n",
    "\n",
    "results = pd.io.sql.read_sql(query, con = engine)\n",
    "results.head()"
   ]
  },
  {
   "cell_type": "code",
   "execution_count": 6,
   "id": "2ac123f9",
   "metadata": {},
   "outputs": [
    {
     "data": {
      "text/html": [
       "<div>\n",
       "<style scoped>\n",
       "    .dataframe tbody tr th:only-of-type {\n",
       "        vertical-align: middle;\n",
       "    }\n",
       "\n",
       "    .dataframe tbody tr th {\n",
       "        vertical-align: top;\n",
       "    }\n",
       "\n",
       "    .dataframe thead th {\n",
       "        text-align: right;\n",
       "    }\n",
       "</style>\n",
       "<table border=\"1\" class=\"dataframe\">\n",
       "  <thead>\n",
       "    <tr style=\"text-align: right;\">\n",
       "      <th></th>\n",
       "      <th>author_id</th>\n",
       "      <th>author</th>\n",
       "    </tr>\n",
       "  </thead>\n",
       "  <tbody>\n",
       "  </tbody>\n",
       "</table>\n",
       "</div>"
      ],
      "text/plain": [
       "Empty DataFrame\n",
       "Columns: [author_id, author]\n",
       "Index: []"
      ]
     },
     "execution_count": 6,
     "metadata": {},
     "output_type": "execute_result"
    }
   ],
   "source": [
    "query_null_2= \"\"\"\n",
    "SELECT *\n",
    "FROM authors\n",
    "WHERE author_id\t IS  NULL\n",
    "   OR author IS NULL;\n",
    "\n",
    "\n",
    "\"\"\"\n",
    "\n",
    "results = pd.io.sql.read_sql(query_null_2, con = engine)\n",
    "results.head()"
   ]
  },
  {
   "cell_type": "markdown",
   "id": "a3bb9ac1",
   "metadata": {},
   "source": [
    "No hay valores nulos en la tabla Author"
   ]
  },
  {
   "cell_type": "code",
   "execution_count": 7,
   "id": "32a964ae-f15c-48d0-810d-c848f645e85e",
   "metadata": {
    "scrolled": true
   },
   "outputs": [
    {
     "data": {
      "text/html": [
       "<div>\n",
       "<style scoped>\n",
       "    .dataframe tbody tr th:only-of-type {\n",
       "        vertical-align: middle;\n",
       "    }\n",
       "\n",
       "    .dataframe tbody tr th {\n",
       "        vertical-align: top;\n",
       "    }\n",
       "\n",
       "    .dataframe thead th {\n",
       "        text-align: right;\n",
       "    }\n",
       "</style>\n",
       "<table border=\"1\" class=\"dataframe\">\n",
       "  <thead>\n",
       "    <tr style=\"text-align: right;\">\n",
       "      <th></th>\n",
       "      <th>publisher_id</th>\n",
       "      <th>publisher</th>\n",
       "    </tr>\n",
       "  </thead>\n",
       "  <tbody>\n",
       "    <tr>\n",
       "      <th>0</th>\n",
       "      <td>1</td>\n",
       "      <td>Ace</td>\n",
       "    </tr>\n",
       "    <tr>\n",
       "      <th>1</th>\n",
       "      <td>2</td>\n",
       "      <td>Ace Book</td>\n",
       "    </tr>\n",
       "    <tr>\n",
       "      <th>2</th>\n",
       "      <td>3</td>\n",
       "      <td>Ace Books</td>\n",
       "    </tr>\n",
       "    <tr>\n",
       "      <th>3</th>\n",
       "      <td>4</td>\n",
       "      <td>Ace Hardcover</td>\n",
       "    </tr>\n",
       "    <tr>\n",
       "      <th>4</th>\n",
       "      <td>5</td>\n",
       "      <td>Addison Wesley Publishing Company</td>\n",
       "    </tr>\n",
       "  </tbody>\n",
       "</table>\n",
       "</div>"
      ],
      "text/plain": [
       "   publisher_id                          publisher\n",
       "0             1                                Ace\n",
       "1             2                           Ace Book\n",
       "2             3                          Ace Books\n",
       "3             4                      Ace Hardcover\n",
       "4             5  Addison Wesley Publishing Company"
      ]
     },
     "execution_count": 7,
     "metadata": {},
     "output_type": "execute_result"
    }
   ],
   "source": [
    "query= \"\"\"\n",
    "SELECT *\n",
    "FROM publishers\n",
    "limit 5\n",
    "\"\"\"\n",
    "results = pd.io.sql.read_sql(query, con = engine)\n",
    "results.head()"
   ]
  },
  {
   "cell_type": "code",
   "execution_count": 8,
   "id": "b51df752",
   "metadata": {},
   "outputs": [
    {
     "data": {
      "text/html": [
       "<div>\n",
       "<style scoped>\n",
       "    .dataframe tbody tr th:only-of-type {\n",
       "        vertical-align: middle;\n",
       "    }\n",
       "\n",
       "    .dataframe tbody tr th {\n",
       "        vertical-align: top;\n",
       "    }\n",
       "\n",
       "    .dataframe thead th {\n",
       "        text-align: right;\n",
       "    }\n",
       "</style>\n",
       "<table border=\"1\" class=\"dataframe\">\n",
       "  <thead>\n",
       "    <tr style=\"text-align: right;\">\n",
       "      <th></th>\n",
       "      <th>publisher_id</th>\n",
       "      <th>publisher</th>\n",
       "    </tr>\n",
       "  </thead>\n",
       "  <tbody>\n",
       "  </tbody>\n",
       "</table>\n",
       "</div>"
      ],
      "text/plain": [
       "Empty DataFrame\n",
       "Columns: [publisher_id, publisher]\n",
       "Index: []"
      ]
     },
     "execution_count": 8,
     "metadata": {},
     "output_type": "execute_result"
    }
   ],
   "source": [
    "query_null_3= \"\"\"\n",
    "SELECT *\n",
    "FROM publishers\n",
    "WHERE publisher_id IS  NULL\n",
    "   OR publisher IS NULL;\n",
    "\n",
    "\n",
    "\"\"\"\n",
    "\n",
    "results = pd.io.sql.read_sql(query_null_3, con = engine)\n",
    "results.head()"
   ]
  },
  {
   "cell_type": "markdown",
   "id": "6dbac5ba",
   "metadata": {},
   "source": [
    "En la tabla publisher no hay valores nulos"
   ]
  },
  {
   "cell_type": "code",
   "execution_count": 9,
   "id": "41a8ea6a-ec18-4a63-bc0e-1c5bfa219b92",
   "metadata": {},
   "outputs": [
    {
     "data": {
      "text/html": [
       "<div>\n",
       "<style scoped>\n",
       "    .dataframe tbody tr th:only-of-type {\n",
       "        vertical-align: middle;\n",
       "    }\n",
       "\n",
       "    .dataframe tbody tr th {\n",
       "        vertical-align: top;\n",
       "    }\n",
       "\n",
       "    .dataframe thead th {\n",
       "        text-align: right;\n",
       "    }\n",
       "</style>\n",
       "<table border=\"1\" class=\"dataframe\">\n",
       "  <thead>\n",
       "    <tr style=\"text-align: right;\">\n",
       "      <th></th>\n",
       "      <th>rating_id</th>\n",
       "      <th>book_id</th>\n",
       "      <th>username</th>\n",
       "      <th>rating</th>\n",
       "    </tr>\n",
       "  </thead>\n",
       "  <tbody>\n",
       "    <tr>\n",
       "      <th>0</th>\n",
       "      <td>1</td>\n",
       "      <td>1</td>\n",
       "      <td>ryanfranco</td>\n",
       "      <td>4</td>\n",
       "    </tr>\n",
       "    <tr>\n",
       "      <th>1</th>\n",
       "      <td>2</td>\n",
       "      <td>1</td>\n",
       "      <td>grantpatricia</td>\n",
       "      <td>2</td>\n",
       "    </tr>\n",
       "    <tr>\n",
       "      <th>2</th>\n",
       "      <td>3</td>\n",
       "      <td>1</td>\n",
       "      <td>brandtandrea</td>\n",
       "      <td>5</td>\n",
       "    </tr>\n",
       "    <tr>\n",
       "      <th>3</th>\n",
       "      <td>4</td>\n",
       "      <td>2</td>\n",
       "      <td>lorichen</td>\n",
       "      <td>3</td>\n",
       "    </tr>\n",
       "    <tr>\n",
       "      <th>4</th>\n",
       "      <td>5</td>\n",
       "      <td>2</td>\n",
       "      <td>mariokeller</td>\n",
       "      <td>2</td>\n",
       "    </tr>\n",
       "  </tbody>\n",
       "</table>\n",
       "</div>"
      ],
      "text/plain": [
       "   rating_id  book_id       username  rating\n",
       "0          1        1     ryanfranco       4\n",
       "1          2        1  grantpatricia       2\n",
       "2          3        1   brandtandrea       5\n",
       "3          4        2       lorichen       3\n",
       "4          5        2    mariokeller       2"
      ]
     },
     "execution_count": 9,
     "metadata": {},
     "output_type": "execute_result"
    }
   ],
   "source": [
    "query= \"\"\"\n",
    "SELECT *\n",
    "FROM ratings\n",
    "limit 5\n",
    "\"\"\"\n",
    "results = pd.io.sql.read_sql(query, con = engine)\n",
    "results.head()"
   ]
  },
  {
   "cell_type": "code",
   "execution_count": 10,
   "id": "14aa395b",
   "metadata": {},
   "outputs": [
    {
     "data": {
      "text/html": [
       "<div>\n",
       "<style scoped>\n",
       "    .dataframe tbody tr th:only-of-type {\n",
       "        vertical-align: middle;\n",
       "    }\n",
       "\n",
       "    .dataframe tbody tr th {\n",
       "        vertical-align: top;\n",
       "    }\n",
       "\n",
       "    .dataframe thead th {\n",
       "        text-align: right;\n",
       "    }\n",
       "</style>\n",
       "<table border=\"1\" class=\"dataframe\">\n",
       "  <thead>\n",
       "    <tr style=\"text-align: right;\">\n",
       "      <th></th>\n",
       "      <th>rating_id</th>\n",
       "      <th>book_id</th>\n",
       "      <th>username</th>\n",
       "      <th>rating</th>\n",
       "    </tr>\n",
       "  </thead>\n",
       "  <tbody>\n",
       "  </tbody>\n",
       "</table>\n",
       "</div>"
      ],
      "text/plain": [
       "Empty DataFrame\n",
       "Columns: [rating_id, book_id, username, rating]\n",
       "Index: []"
      ]
     },
     "execution_count": 10,
     "metadata": {},
     "output_type": "execute_result"
    }
   ],
   "source": [
    "query_null_4= \"\"\"\n",
    "SELECT *\n",
    "FROM ratings\n",
    "WHERE rating_id IS  NULL\n",
    "   OR book_id IS NULL\n",
    "   OR username IS NULL\n",
    "   OR rating IS NULL;\n",
    "\n",
    "\n",
    "\"\"\"\n",
    "\n",
    "results = pd.io.sql.read_sql(query_null_4, con = engine)\n",
    "results.head()"
   ]
  },
  {
   "cell_type": "markdown",
   "id": "af7053d1",
   "metadata": {},
   "source": [
    "No hat valores nulos en la tabla rating"
   ]
  },
  {
   "cell_type": "code",
   "execution_count": 11,
   "id": "5130bda4-0cec-4c4e-add9-b3b0e4670923",
   "metadata": {},
   "outputs": [
    {
     "data": {
      "text/html": [
       "<div>\n",
       "<style scoped>\n",
       "    .dataframe tbody tr th:only-of-type {\n",
       "        vertical-align: middle;\n",
       "    }\n",
       "\n",
       "    .dataframe tbody tr th {\n",
       "        vertical-align: top;\n",
       "    }\n",
       "\n",
       "    .dataframe thead th {\n",
       "        text-align: right;\n",
       "    }\n",
       "</style>\n",
       "<table border=\"1\" class=\"dataframe\">\n",
       "  <thead>\n",
       "    <tr style=\"text-align: right;\">\n",
       "      <th></th>\n",
       "      <th>review_id</th>\n",
       "      <th>book_id</th>\n",
       "      <th>username</th>\n",
       "      <th>text</th>\n",
       "    </tr>\n",
       "  </thead>\n",
       "  <tbody>\n",
       "    <tr>\n",
       "      <th>0</th>\n",
       "      <td>1</td>\n",
       "      <td>1</td>\n",
       "      <td>brandtandrea</td>\n",
       "      <td>Mention society tell send professor analysis. ...</td>\n",
       "    </tr>\n",
       "    <tr>\n",
       "      <th>1</th>\n",
       "      <td>2</td>\n",
       "      <td>1</td>\n",
       "      <td>ryanfranco</td>\n",
       "      <td>Foot glass pretty audience hit themselves. Amo...</td>\n",
       "    </tr>\n",
       "    <tr>\n",
       "      <th>2</th>\n",
       "      <td>3</td>\n",
       "      <td>2</td>\n",
       "      <td>lorichen</td>\n",
       "      <td>Listen treat keep worry. Miss husband tax but ...</td>\n",
       "    </tr>\n",
       "    <tr>\n",
       "      <th>3</th>\n",
       "      <td>4</td>\n",
       "      <td>3</td>\n",
       "      <td>johnsonamanda</td>\n",
       "      <td>Finally month interesting blue could nature cu...</td>\n",
       "    </tr>\n",
       "    <tr>\n",
       "      <th>4</th>\n",
       "      <td>5</td>\n",
       "      <td>3</td>\n",
       "      <td>scotttamara</td>\n",
       "      <td>Nation purpose heavy give wait song will. List...</td>\n",
       "    </tr>\n",
       "  </tbody>\n",
       "</table>\n",
       "</div>"
      ],
      "text/plain": [
       "   review_id  book_id       username  \\\n",
       "0          1        1   brandtandrea   \n",
       "1          2        1     ryanfranco   \n",
       "2          3        2       lorichen   \n",
       "3          4        3  johnsonamanda   \n",
       "4          5        3    scotttamara   \n",
       "\n",
       "                                                text  \n",
       "0  Mention society tell send professor analysis. ...  \n",
       "1  Foot glass pretty audience hit themselves. Amo...  \n",
       "2  Listen treat keep worry. Miss husband tax but ...  \n",
       "3  Finally month interesting blue could nature cu...  \n",
       "4  Nation purpose heavy give wait song will. List...  "
      ]
     },
     "execution_count": 11,
     "metadata": {},
     "output_type": "execute_result"
    }
   ],
   "source": [
    "query= \"\"\"\n",
    "SELECT *\n",
    "FROM reviews\n",
    "limit 5\n",
    "\"\"\"\n",
    "results = pd.io.sql.read_sql(query, con = engine)\n",
    "results.head()"
   ]
  },
  {
   "cell_type": "code",
   "execution_count": 12,
   "id": "6a438b40",
   "metadata": {},
   "outputs": [
    {
     "data": {
      "text/html": [
       "<div>\n",
       "<style scoped>\n",
       "    .dataframe tbody tr th:only-of-type {\n",
       "        vertical-align: middle;\n",
       "    }\n",
       "\n",
       "    .dataframe tbody tr th {\n",
       "        vertical-align: top;\n",
       "    }\n",
       "\n",
       "    .dataframe thead th {\n",
       "        text-align: right;\n",
       "    }\n",
       "</style>\n",
       "<table border=\"1\" class=\"dataframe\">\n",
       "  <thead>\n",
       "    <tr style=\"text-align: right;\">\n",
       "      <th></th>\n",
       "      <th>review_id</th>\n",
       "      <th>book_id</th>\n",
       "      <th>username</th>\n",
       "      <th>text</th>\n",
       "    </tr>\n",
       "  </thead>\n",
       "  <tbody>\n",
       "  </tbody>\n",
       "</table>\n",
       "</div>"
      ],
      "text/plain": [
       "Empty DataFrame\n",
       "Columns: [review_id, book_id, username, text]\n",
       "Index: []"
      ]
     },
     "execution_count": 12,
     "metadata": {},
     "output_type": "execute_result"
    }
   ],
   "source": [
    "query_null_5= \"\"\"\n",
    "SELECT *\n",
    "FROM reviews\n",
    "WHERE review_id IS  NULL\n",
    "   OR book_id IS NULL\n",
    "   OR username IS NULL\n",
    "   OR text IS NULL;\n",
    "\n",
    "\n",
    "\"\"\"\n",
    "\n",
    "results = pd.io.sql.read_sql(query_null_5, con = engine)\n",
    "results.head()"
   ]
  },
  {
   "cell_type": "markdown",
   "id": "982f56fc-a0dc-43a9-9967-97da09f13962",
   "metadata": {},
   "source": [
    "No hay valores nulos en la tabla review"
   ]
  },
  {
   "cell_type": "markdown",
   "id": "317a32c3-28bc-4172-a730-668d196ac9b9",
   "metadata": {},
   "source": [
    "## 03. Realiza una consulta SQL para cada una de las tareas"
   ]
  },
  {
   "cell_type": "markdown",
   "id": "2106b028-c0b2-4fc6-8385-c44b24d64c70",
   "metadata": {},
   "source": [
    "### Encuentra el número de libros publicados después del 1 de enero de 2000."
   ]
  },
  {
   "cell_type": "code",
   "execution_count": 13,
   "id": "ac1eea90-8635-4e70-b3e4-60351e7036f6",
   "metadata": {},
   "outputs": [
    {
     "data": {
      "text/html": [
       "<div>\n",
       "<style scoped>\n",
       "    .dataframe tbody tr th:only-of-type {\n",
       "        vertical-align: middle;\n",
       "    }\n",
       "\n",
       "    .dataframe tbody tr th {\n",
       "        vertical-align: top;\n",
       "    }\n",
       "\n",
       "    .dataframe thead th {\n",
       "        text-align: right;\n",
       "    }\n",
       "</style>\n",
       "<table border=\"1\" class=\"dataframe\">\n",
       "  <thead>\n",
       "    <tr style=\"text-align: right;\">\n",
       "      <th></th>\n",
       "      <th>book_id</th>\n",
       "      <th>author_id</th>\n",
       "      <th>title</th>\n",
       "      <th>num_pages</th>\n",
       "      <th>publication_date</th>\n",
       "      <th>publisher_id</th>\n",
       "    </tr>\n",
       "  </thead>\n",
       "  <tbody>\n",
       "    <tr>\n",
       "      <th>0</th>\n",
       "      <td>1</td>\n",
       "      <td>546</td>\n",
       "      <td>'Salem's Lot</td>\n",
       "      <td>594</td>\n",
       "      <td>2005-11-01</td>\n",
       "      <td>93</td>\n",
       "    </tr>\n",
       "    <tr>\n",
       "      <th>1</th>\n",
       "      <td>2</td>\n",
       "      <td>465</td>\n",
       "      <td>1 000 Places to See Before You Die</td>\n",
       "      <td>992</td>\n",
       "      <td>2003-05-22</td>\n",
       "      <td>336</td>\n",
       "    </tr>\n",
       "    <tr>\n",
       "      <th>2</th>\n",
       "      <td>3</td>\n",
       "      <td>407</td>\n",
       "      <td>13 Little Blue Envelopes (Little Blue Envelope...</td>\n",
       "      <td>322</td>\n",
       "      <td>2010-12-21</td>\n",
       "      <td>135</td>\n",
       "    </tr>\n",
       "    <tr>\n",
       "      <th>3</th>\n",
       "      <td>4</td>\n",
       "      <td>82</td>\n",
       "      <td>1491: New Revelations of the Americas Before C...</td>\n",
       "      <td>541</td>\n",
       "      <td>2006-10-10</td>\n",
       "      <td>309</td>\n",
       "    </tr>\n",
       "    <tr>\n",
       "      <th>4</th>\n",
       "      <td>5</td>\n",
       "      <td>125</td>\n",
       "      <td>1776</td>\n",
       "      <td>386</td>\n",
       "      <td>2006-07-04</td>\n",
       "      <td>268</td>\n",
       "    </tr>\n",
       "  </tbody>\n",
       "</table>\n",
       "</div>"
      ],
      "text/plain": [
       "   book_id  author_id                                              title  \\\n",
       "0        1        546                                       'Salem's Lot   \n",
       "1        2        465                 1 000 Places to See Before You Die   \n",
       "2        3        407  13 Little Blue Envelopes (Little Blue Envelope...   \n",
       "3        4         82  1491: New Revelations of the Americas Before C...   \n",
       "4        5        125                                               1776   \n",
       "\n",
       "   num_pages publication_date  publisher_id  \n",
       "0        594       2005-11-01            93  \n",
       "1        992       2003-05-22           336  \n",
       "2        322       2010-12-21           135  \n",
       "3        541       2006-10-10           309  \n",
       "4        386       2006-07-04           268  "
      ]
     },
     "execution_count": 13,
     "metadata": {},
     "output_type": "execute_result"
    }
   ],
   "source": [
    "query_1= \"\"\"\n",
    "SELECT *\n",
    "FROM books\n",
    "WHERE \n",
    "publication_date > '01-01-2000'\n",
    "\"\"\"\n",
    "results = pd.io.sql.read_sql(query_1, con = engine)\n",
    "results.head()"
   ]
  },
  {
   "cell_type": "code",
   "execution_count": 14,
   "id": "6addb3db-a960-480f-8302-52c2ce4d7ec5",
   "metadata": {},
   "outputs": [
    {
     "data": {
      "text/html": [
       "<div>\n",
       "<style scoped>\n",
       "    .dataframe tbody tr th:only-of-type {\n",
       "        vertical-align: middle;\n",
       "    }\n",
       "\n",
       "    .dataframe tbody tr th {\n",
       "        vertical-align: top;\n",
       "    }\n",
       "\n",
       "    .dataframe thead th {\n",
       "        text-align: right;\n",
       "    }\n",
       "</style>\n",
       "<table border=\"1\" class=\"dataframe\">\n",
       "  <thead>\n",
       "    <tr style=\"text-align: right;\">\n",
       "      <th></th>\n",
       "      <th>cnt</th>\n",
       "    </tr>\n",
       "  </thead>\n",
       "  <tbody>\n",
       "    <tr>\n",
       "      <th>0</th>\n",
       "      <td>819</td>\n",
       "    </tr>\n",
       "  </tbody>\n",
       "</table>\n",
       "</div>"
      ],
      "text/plain": [
       "   cnt\n",
       "0  819"
      ]
     },
     "execution_count": 14,
     "metadata": {},
     "output_type": "execute_result"
    }
   ],
   "source": [
    "query_1= \"\"\"\n",
    "SELECT\n",
    "COUNT(*) as cnt\n",
    "FROM books\n",
    "WHERE \n",
    "publication_date > '01-01-2000'\n",
    "\"\"\"\n",
    "results = pd.io.sql.read_sql(query_1, con = engine)\n",
    "results.head()"
   ]
  },
  {
   "cell_type": "markdown",
   "id": "f0401374-e813-4711-ad85-2b7534c29bc7",
   "metadata": {},
   "source": [
    "Hay 819 libros que fueron publicados despues del 1-01-2000"
   ]
  },
  {
   "cell_type": "markdown",
   "id": "aacbb2c2-c726-4aac-82ef-cb7db6d34119",
   "metadata": {},
   "source": [
    "### Encuentra el número de reseñas de usuarios y la calificación promedio para cada libro."
   ]
  },
  {
   "cell_type": "code",
   "execution_count": 15,
   "id": "001d363a-27d6-44be-9d58-f755790c3d56",
   "metadata": {
    "scrolled": true
   },
   "outputs": [
    {
     "data": {
      "text/html": [
       "<div>\n",
       "<style scoped>\n",
       "    .dataframe tbody tr th:only-of-type {\n",
       "        vertical-align: middle;\n",
       "    }\n",
       "\n",
       "    .dataframe tbody tr th {\n",
       "        vertical-align: top;\n",
       "    }\n",
       "\n",
       "    .dataframe thead th {\n",
       "        text-align: right;\n",
       "    }\n",
       "</style>\n",
       "<table border=\"1\" class=\"dataframe\">\n",
       "  <thead>\n",
       "    <tr style=\"text-align: right;\">\n",
       "      <th></th>\n",
       "      <th>book_id</th>\n",
       "      <th>title</th>\n",
       "      <th>author_book</th>\n",
       "      <th>number_review</th>\n",
       "      <th>rating_avg</th>\n",
       "    </tr>\n",
       "  </thead>\n",
       "  <tbody>\n",
       "    <tr>\n",
       "      <th>0</th>\n",
       "      <td>86</td>\n",
       "      <td>Arrows of the Queen (Heralds of Valdemar  #1)</td>\n",
       "      <td>Mercedes Lackey</td>\n",
       "      <td>2</td>\n",
       "      <td>5.0</td>\n",
       "    </tr>\n",
       "    <tr>\n",
       "      <th>1</th>\n",
       "      <td>901</td>\n",
       "      <td>The Walking Dead  Book One (The Walking Dead #...</td>\n",
       "      <td>Robert Kirkman/Tony Moore/Charlie Adlard/Cliff...</td>\n",
       "      <td>2</td>\n",
       "      <td>5.0</td>\n",
       "    </tr>\n",
       "    <tr>\n",
       "      <th>2</th>\n",
       "      <td>390</td>\n",
       "      <td>Light in August</td>\n",
       "      <td>William Faulkner</td>\n",
       "      <td>2</td>\n",
       "      <td>5.0</td>\n",
       "    </tr>\n",
       "    <tr>\n",
       "      <th>3</th>\n",
       "      <td>972</td>\n",
       "      <td>Wherever You Go  There You Are: Mindfulness Me...</td>\n",
       "      <td>Jon Kabat-Zinn</td>\n",
       "      <td>2</td>\n",
       "      <td>5.0</td>\n",
       "    </tr>\n",
       "    <tr>\n",
       "      <th>4</th>\n",
       "      <td>136</td>\n",
       "      <td>Captivating: Unveiling the Mystery of a Woman'...</td>\n",
       "      <td>John Eldredge/Stasi Eldredge</td>\n",
       "      <td>2</td>\n",
       "      <td>5.0</td>\n",
       "    </tr>\n",
       "  </tbody>\n",
       "</table>\n",
       "</div>"
      ],
      "text/plain": [
       "   book_id                                              title  \\\n",
       "0       86      Arrows of the Queen (Heralds of Valdemar  #1)   \n",
       "1      901  The Walking Dead  Book One (The Walking Dead #...   \n",
       "2      390                                    Light in August   \n",
       "3      972  Wherever You Go  There You Are: Mindfulness Me...   \n",
       "4      136  Captivating: Unveiling the Mystery of a Woman'...   \n",
       "\n",
       "                                         author_book  number_review  \\\n",
       "0                                    Mercedes Lackey              2   \n",
       "1  Robert Kirkman/Tony Moore/Charlie Adlard/Cliff...              2   \n",
       "2                                   William Faulkner              2   \n",
       "3                                     Jon Kabat-Zinn              2   \n",
       "4                       John Eldredge/Stasi Eldredge              2   \n",
       "\n",
       "   rating_avg  \n",
       "0         5.0  \n",
       "1         5.0  \n",
       "2         5.0  \n",
       "3         5.0  \n",
       "4         5.0  "
      ]
     },
     "execution_count": 15,
     "metadata": {},
     "output_type": "execute_result"
    }
   ],
   "source": [
    "query_3=\"\"\"\n",
    "SELECT \n",
    "books.book_id as book_id,\n",
    "books.title, \n",
    "authors.author as author_book,\n",
    "COUNT(DISTINCT review_id) AS number_review,\n",
    "AVG(rating) as rating_avg \n",
    "\n",
    "FROM books\n",
    "    left join reviews on books.book_id = reviews.book_id \n",
    "    left join ratings on books.book_id = ratings.book_id \n",
    "    left join authors on books.author_id = authors.author_id \n",
    "group by\n",
    "books.book_id, authors.author_id\n",
    "order by \n",
    "rating_avg desc\n",
    "\"\"\"\n",
    "\n",
    "results = pd.io.sql.read_sql(query_3, con = engine)\n",
    "results.head()"
   ]
  },
  {
   "cell_type": "markdown",
   "id": "9692dc64",
   "metadata": {},
   "source": [
    "Los libros que tienen más rating son:\n",
    "- Arrows of the Queen\n",
    "- The Walking Dead Book One\n",
    "- Light in August\n",
    "- Wherever You Go There You Are: Mindfulness Me\n",
    "- Captivating: Unveiling the Mystery of a Woman'"
   ]
  },
  {
   "cell_type": "markdown",
   "id": "2dc97c31-ffc3-4f75-9927-d0f5e57133fb",
   "metadata": {},
   "source": [
    "### dentifica la editorial que ha publicado el mayor número de libros con más de 50 páginas (esto te ayudará a excluir folletos y publicaciones similares de tu análisis)"
   ]
  },
  {
   "cell_type": "code",
   "execution_count": 16,
   "id": "722521b3-c0ea-4c28-9128-6174a3836a21",
   "metadata": {},
   "outputs": [
    {
     "data": {
      "text/html": [
       "<div>\n",
       "<style scoped>\n",
       "    .dataframe tbody tr th:only-of-type {\n",
       "        vertical-align: middle;\n",
       "    }\n",
       "\n",
       "    .dataframe tbody tr th {\n",
       "        vertical-align: top;\n",
       "    }\n",
       "\n",
       "    .dataframe thead th {\n",
       "        text-align: right;\n",
       "    }\n",
       "</style>\n",
       "<table border=\"1\" class=\"dataframe\">\n",
       "  <thead>\n",
       "    <tr style=\"text-align: right;\">\n",
       "      <th></th>\n",
       "      <th>publisher_id</th>\n",
       "      <th>publisher</th>\n",
       "      <th>count_books</th>\n",
       "    </tr>\n",
       "  </thead>\n",
       "  <tbody>\n",
       "    <tr>\n",
       "      <th>0</th>\n",
       "      <td>212</td>\n",
       "      <td>Penguin Books</td>\n",
       "      <td>42</td>\n",
       "    </tr>\n",
       "  </tbody>\n",
       "</table>\n",
       "</div>"
      ],
      "text/plain": [
       "   publisher_id      publisher  count_books\n",
       "0           212  Penguin Books           42"
      ]
     },
     "execution_count": 16,
     "metadata": {},
     "output_type": "execute_result"
    }
   ],
   "source": [
    "query_4= \"\"\"\n",
    "\n",
    "SELECT \n",
    "    distinct publishers.publisher_id \n",
    "    , publishers.publisher\n",
    "    , COUNT(books.book_id) OVER(PARTITION BY publishers.publisher_id) AS count_books \n",
    "FROM\n",
    "books \n",
    "    inner join publishers using(publisher_id)\n",
    "WHERE\n",
    "books.num_pages > 50\n",
    "order by\n",
    "count_books desc\n",
    "limit 1\n",
    "\"\"\"\n",
    "results = pd.io.sql.read_sql(query_4, con = engine)\n",
    "results.head()"
   ]
  },
  {
   "cell_type": "markdown",
   "id": "36bdfbcf",
   "metadata": {},
   "source": [
    "La editorial que ha publicado el mayor numero de libros con más de 50 paginas  con un total de 42 libros, es la editoral Penguin Books"
   ]
  },
  {
   "cell_type": "markdown",
   "id": "4bc487cb-9e1d-42ce-a150-c51d7782fe69",
   "metadata": {},
   "source": [
    "### Identifica al autor que tiene la más alta calificación promedio del libro: mira solo los libros con al menos 50 calificaciones."
   ]
  },
  {
   "cell_type": "code",
   "execution_count": 17,
   "id": "8ae92c0d-9bcf-4232-854a-e029a8448772",
   "metadata": {
    "scrolled": true
   },
   "outputs": [
    {
     "data": {
      "text/html": [
       "<div>\n",
       "<style scoped>\n",
       "    .dataframe tbody tr th:only-of-type {\n",
       "        vertical-align: middle;\n",
       "    }\n",
       "\n",
       "    .dataframe tbody tr th {\n",
       "        vertical-align: top;\n",
       "    }\n",
       "\n",
       "    .dataframe thead th {\n",
       "        text-align: right;\n",
       "    }\n",
       "</style>\n",
       "<table border=\"1\" class=\"dataframe\">\n",
       "  <thead>\n",
       "    <tr style=\"text-align: right;\">\n",
       "      <th></th>\n",
       "      <th>book_id</th>\n",
       "      <th>title</th>\n",
       "      <th>author</th>\n",
       "      <th>avg_rating</th>\n",
       "    </tr>\n",
       "  </thead>\n",
       "  <tbody>\n",
       "    <tr>\n",
       "      <th>0</th>\n",
       "      <td>302</td>\n",
       "      <td>Harry Potter and the Prisoner of Azkaban (Harr...</td>\n",
       "      <td>J.K. Rowling/Mary GrandPré</td>\n",
       "      <td>4.41</td>\n",
       "    </tr>\n",
       "  </tbody>\n",
       "</table>\n",
       "</div>"
      ],
      "text/plain": [
       "   book_id                                              title  \\\n",
       "0      302  Harry Potter and the Prisoner of Azkaban (Harr...   \n",
       "\n",
       "                       author  avg_rating  \n",
       "0  J.K. Rowling/Mary GrandPré        4.41  "
      ]
     },
     "execution_count": 17,
     "metadata": {},
     "output_type": "execute_result"
    }
   ],
   "source": [
    "query_5 = \"\"\"\n",
    "with books_rating(book_id,title,author,count_marks,avg_rating)\n",
    "as (\n",
    "select \n",
    "   distinct book_id\n",
    "   , books.title \n",
    "   , authors.author \n",
    "   , count(rating_id) over (partition by book_id) as count_marks\n",
    "   , round(avg(rating) over (partition by book_id),2) as avg_rating\n",
    "from books \n",
    "    left join ratings using(book_id)\n",
    "    left join authors using(author_id)\n",
    ")\n",
    "select \n",
    "    book_id\n",
    "    , title\n",
    "    , author\n",
    "    , avg_rating\n",
    "from books_rating\n",
    "where \n",
    "    (count_marks > 50) and avg_rating = \n",
    "       (\n",
    "        select avg_rating \n",
    "        from books_rating\n",
    "        where count_marks > 50\n",
    "        order by avg_rating desc\n",
    "        limit 1\n",
    "        )\n",
    "\"\"\"\n",
    "results = pd.io.sql.read_sql(query_5, con = engine)\n",
    "results.head()\n",
    "\n"
   ]
  },
  {
   "cell_type": "markdown",
   "id": "471a758e",
   "metadata": {},
   "source": [
    "El Libro de Harry potter y el prisionero de azkaban es el libro que tiene la calificacion más alta"
   ]
  },
  {
   "cell_type": "markdown",
   "id": "ded64057-2b78-4011-9e04-eb9726a3d48e",
   "metadata": {},
   "source": [
    "### Encuentra el número promedio de reseñas de texto entre los usuarios que calificaron más de 50 libros."
   ]
  },
  {
   "cell_type": "code",
   "execution_count": 18,
   "id": "f1b500d2-2103-4ee8-99d4-353a53b6e550",
   "metadata": {
    "scrolled": true
   },
   "outputs": [
    {
     "data": {
      "text/html": [
       "<div>\n",
       "<style scoped>\n",
       "    .dataframe tbody tr th:only-of-type {\n",
       "        vertical-align: middle;\n",
       "    }\n",
       "\n",
       "    .dataframe tbody tr th {\n",
       "        vertical-align: top;\n",
       "    }\n",
       "\n",
       "    .dataframe thead th {\n",
       "        text-align: right;\n",
       "    }\n",
       "</style>\n",
       "<table border=\"1\" class=\"dataframe\">\n",
       "  <thead>\n",
       "    <tr style=\"text-align: right;\">\n",
       "      <th></th>\n",
       "      <th>avg_reviews</th>\n",
       "    </tr>\n",
       "  </thead>\n",
       "  <tbody>\n",
       "    <tr>\n",
       "      <th>0</th>\n",
       "      <td>24.33</td>\n",
       "    </tr>\n",
       "  </tbody>\n",
       "</table>\n",
       "</div>"
      ],
      "text/plain": [
       "   avg_reviews\n",
       "0        24.33"
      ]
     },
     "execution_count": 18,
     "metadata": {},
     "output_type": "execute_result"
    }
   ],
   "source": [
    "query_6 = \"\"\"\n",
    "with users_rated_50_plus (username)\n",
    "as (\n",
    "select \n",
    "   ratings.username \n",
    "from ratings \n",
    "group by username\n",
    "having count(rating_id) > 50\n",
    "),\n",
    "users_count_reviews (username, count_reviews)\n",
    "as (\n",
    "    SELECT \n",
    "        distinct username\n",
    "        , COUNT(review_id) over (partition by username) as count_reviews\n",
    "    from users_rated_50_plus\n",
    "        inner join reviews USING(username)\n",
    ")\n",
    "select ROUND(AVG(count_reviews),2) as AVG_REVIEWS \n",
    "from users_count_reviews\n",
    "\"\"\"\n",
    "results = pd.io.sql.read_sql(query_6, con = engine)\n",
    "results.head()\n",
    "\n"
   ]
  },
  {
   "cell_type": "markdown",
   "id": "f93bd869",
   "metadata": {},
   "source": [
    "El promedio de reseñas de los usuarios que califican mas de 50 libros es de 24.33"
   ]
  },
  {
   "cell_type": "markdown",
   "id": "5abfd6c8-8022-4d3e-bd91-9cbaf7546ba6",
   "metadata": {},
   "source": [
    "## 04. Conclusion"
   ]
  },
  {
   "cell_type": "markdown",
   "id": "2a807835-4139-44a6-8e5b-878cbaf94951",
   "metadata": {},
   "source": [
    "En resumen, las consultas anteriores proporcionaron información relevante para el análisis. Se obtuvieron datos sobre el número de libros publicados después del 1 de enero de 2000, el número de reseñas de usuarios y la calificación promedio de cada libro. Además, se logró identificar la editorial que ha lanzado la mayor cantidad de libros con más de 50 páginas, así como el autor con la calificación promedio más alta para sus obras. Por último, se determinó el promedio de reseñas de texto realizadas por usuarios que calificaron más de 50 libros.\n",
    "De acuerdo a lo anterior las conclusiones son las siguientes;\n",
    "- Hay 819 libros que fueron publicados despues del 1-01-2000\n",
    "- Los libros que tienen más rating son: Arrows of the Queen, The Walking Dead Book One, Light in August, Wherever You Go There You Are: Mindfulness Me, Captivating: Unveiling the Mystery of a Woman'\n",
    "- La editorial que ha publicado el mayor numero de libros con más de 50 paginas  con un total de 42 libros, es la editoral Penguin Books\n",
    "- El Libro de Harry potter y el prisionero de azkaban es el libro que tiene la calificacion más alta\n",
    "- El promedio de reseñas de los usuarios que califican mas de 50 libros es de 24.33\n",
    "\n",
    "Por ultimo, se verifico "
   ]
  }
 ],
 "metadata": {
  "kernelspec": {
   "display_name": "Python 3 (ipykernel)",
   "language": "python",
   "name": "python3"
  },
  "language_info": {
   "codemirror_mode": {
    "name": "ipython",
    "version": 3
   },
   "file_extension": ".py",
   "mimetype": "text/x-python",
   "name": "python",
   "nbconvert_exporter": "python",
   "pygments_lexer": "ipython3",
   "version": "3.9.12"
  },
  "toc": {
   "base_numbering": 1,
   "nav_menu": {},
   "number_sections": false,
   "sideBar": true,
   "skip_h1_title": true,
   "title_cell": "Tabla de contenido",
   "title_sidebar": "Contents",
   "toc_cell": true,
   "toc_position": {},
   "toc_section_display": true,
   "toc_window_display": true
  }
 },
 "nbformat": 4,
 "nbformat_minor": 5
}
