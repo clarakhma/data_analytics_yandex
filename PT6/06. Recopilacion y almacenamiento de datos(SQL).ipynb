{
 "cells": [
  {
   "cell_type": "markdown",
   "id": "1859aa7a-541c-46bf-84ce-fbe2be3b996a",
   "metadata": {},
   "source": [
    "\n",
    "# Detección de preferencias e impacto de factores externos"
   ]
  },
  {
   "cell_type": "markdown",
   "id": "0d303031-bb93-4991-a2ec-24755b52bbeb",
   "metadata": {},
   "source": [
    "\n",
    "Estás trabajando como analista para Zuber, una nueva empresa de viajes compartidos que se está lanzando en Chicago. Tu tarea es encontrar patrones en la información disponible. Quieres comprender las preferencias de los pasajeros y el impacto de los factores externos en los viajes.\n",
    "Al trabajar con una base de datos, analizarás los datos de los competidores y probarás una hipótesis sobre el impacto del clima en la frecuencia de los viajes."
   ]
  },
  {
   "cell_type": "markdown",
   "id": "5e2a1b66",
   "metadata": {
    "toc": true
   },
   "source": [
    "<h1>Table of Contents<span class=\"tocSkip\"></span></h1>\n",
    "<div class=\"toc\"><ul class=\"toc-item\"><li><span><a href=\"#Iniciacion\" data-toc-modified-id=\"Iniciacion-1\"><span class=\"toc-item-num\">1&nbsp;&nbsp;</span>Iniciacion</a></span></li><li><span><a href=\"#Exploracion-de-datos\" data-toc-modified-id=\"Exploracion-de-datos-2\"><span class=\"toc-item-num\">2&nbsp;&nbsp;</span>Exploracion de datos</a></span><ul class=\"toc-item\"><li><span><a href=\"#Tabla-company_trips:\" data-toc-modified-id=\"Tabla-company_trips:-2.1\"><span class=\"toc-item-num\">2.1&nbsp;&nbsp;</span><code>Tabla company_trips</code>:</a></span></li><li><span><a href=\"#Tabla-Dropoff\" data-toc-modified-id=\"Tabla-Dropoff-2.2\"><span class=\"toc-item-num\">2.2&nbsp;&nbsp;</span><code>Tabla Dropoff</code></a></span></li><li><span><a href=\"#Tabla-trips_to_airport\" data-toc-modified-id=\"Tabla-trips_to_airport-2.3\"><span class=\"toc-item-num\">2.3&nbsp;&nbsp;</span><code>Tabla trips_to_airport</code></a></span></li></ul></li><li><span><a href=\"#Analisis-de-datos\" data-toc-modified-id=\"Analisis-de-datos-3\"><span class=\"toc-item-num\">3&nbsp;&nbsp;</span>Analisis de datos</a></span></li><li><span><a href=\"#Comprobación-de-Hipótesis:\" data-toc-modified-id=\"Comprobación-de-Hipótesis:-4\"><span class=\"toc-item-num\">4&nbsp;&nbsp;</span>Comprobación de Hipótesis:</a></span></li><li><span><a href=\"#Conclusion-General\" data-toc-modified-id=\"Conclusion-General-5\"><span class=\"toc-item-num\">5&nbsp;&nbsp;</span>Conclusion General</a></span></li></ul></div>"
   ]
  },
  {
   "cell_type": "markdown",
   "id": "a34f85c2",
   "metadata": {
    "tags": []
   },
   "source": [
    "\n",
    " ## Iniciacion \n",
    "\n"
   ]
  },
  {
   "cell_type": "markdown",
   "id": "4deca38e-7467-48cd-a094-ef62c1b68bef",
   "metadata": {},
   "source": [
    "Carga de librerias y datos"
   ]
  },
  {
   "cell_type": "code",
   "execution_count": 1,
   "id": "a13a3aab-e03f-4110-abf0-bc3b39f1945f",
   "metadata": {},
   "outputs": [],
   "source": [
    "#Cargaremos las librerias \n",
    "\n",
    "import pandas as pd\n",
    "import matplotlib.pyplot as plt #Creacion de graficos\n",
    "import seaborn as sns  # Visualizacion de datos\n",
    "import numpy as np  # Calculo matematico y estadistico \n",
    "from scipy.stats import ttest_ind  #  realiza una prueba t de dos muestras independientes. "
   ]
  },
  {
   "cell_type": "code",
   "execution_count": 2,
   "id": "df7bdf65-8835-40bd-9fb3-42e15763be72",
   "metadata": {},
   "outputs": [],
   "source": [
    "#Carga de datos\n",
    "\n",
    "try: #anaconda\n",
    "    company_trip = pd.read_csv('moved_project_sql_result_01.csv')\n",
    "    dropoff = pd.read_csv('moved_project_sql_result_04.csv')\n",
    "    trips_to_airport = pd.read_csv('moved_project_sql_result_07.csv')\n",
    "    \n",
    "except: #jupyter\n",
    "    company_trip = pd.read_csv('/datasets/moved_project_sql_result_01.csv')\n",
    "    dropoff = pd.read_csv('/datasets/moved_project_sql_result_04.csv')\n",
    "    trips_to_airport = pd.read_csv('/datasets/moved_project_sql_result_07.csv')\n",
    "    "
   ]
  },
  {
   "cell_type": "code",
   "execution_count": 3,
   "id": "a1efca9c-d604-4dd2-9086-9bdc68983810",
   "metadata": {},
   "outputs": [],
   "source": [
    "# Carga de funciones establecidas\n",
    "\n",
    "def data_info(df):\n",
    "    print('---------------------------------------')\n",
    "    print('Filas y columnas: \\n{}'.format(df.shape))\n",
    "    print()\n",
    "    print('Informacion general:')\n",
    "    print(df.info())\n",
    "    print()\n",
    "    print('Primeras cinco columnas: \\n{}'.format(df.head()))\n",
    "    print()\n",
    "    print('Detalles estadisticos: \\n{}'.format(df.describe()))\n",
    "    print()\n",
    "    print('Cuantos duplicados hay?\\n')\n",
    "    print('Hay {} datos duplicados.'.format(df.duplicated().sum()))\n",
    "    print()\n",
    "    print('Valores ausentes ?')\n",
    "    print(df.isna().sum(),'\\n')\n",
    "    print('Porcentaje de valores ausentes \\n')\n",
    "    print(df.isna().mean().reset_index())\n",
    "    print('---------------------------------------')"
   ]
  },
  {
   "cell_type": "markdown",
   "id": "3cf07102-4721-4e6e-8aa7-3010da4e5a7c",
   "metadata": {
    "tags": [],
    "toc-hr-collapsed": true
   },
   "source": [
    " ##   Exploracion de datos ###"
   ]
  },
  {
   "cell_type": "markdown",
   "id": "7538de4b-8519-424e-b7a5-e4014e7b7df9",
   "metadata": {
    "tags": []
   },
   "source": [
    "### `Tabla company_trips`: ### "
   ]
  },
  {
   "cell_type": "markdown",
   "id": "ede62948-e0a4-4c9b-b07b-e8dcd5fd7e02",
   "metadata": {},
   "source": [
    "La tabla company_trips contiene los siguientes datos:\n",
    "\n",
    "    company_name: nombre de la empresa de taxis\n",
    "    trips_amount: el número de viajes de cada compañía de taxis el 15 y 16 de noviembre de 2017\n",
    "\n"
   ]
  },
  {
   "cell_type": "code",
   "execution_count": 4,
   "id": "5cdccf0c-b8f1-4be5-a1c9-38ca342a97a1",
   "metadata": {},
   "outputs": [
    {
     "name": "stdout",
     "output_type": "stream",
     "text": [
      "---------------------------------------\n",
      "Filas y columnas: \n",
      "(64, 2)\n",
      "\n",
      "Informacion general:\n",
      "<class 'pandas.core.frame.DataFrame'>\n",
      "RangeIndex: 64 entries, 0 to 63\n",
      "Data columns (total 2 columns):\n",
      " #   Column        Non-Null Count  Dtype \n",
      "---  ------        --------------  ----- \n",
      " 0   company_name  64 non-null     object\n",
      " 1   trips_amount  64 non-null     int64 \n",
      "dtypes: int64(1), object(1)\n",
      "memory usage: 1.1+ KB\n",
      "None\n",
      "\n",
      "Primeras cinco columnas: \n",
      "                      company_name  trips_amount\n",
      "0                        Flash Cab         19558\n",
      "1        Taxi Affiliation Services         11422\n",
      "2                 Medallion Leasin         10367\n",
      "3                       Yellow Cab          9888\n",
      "4  Taxi Affiliation Service Yellow          9299\n",
      "\n",
      "Detalles estadisticos: \n",
      "       trips_amount\n",
      "count     64.000000\n",
      "mean    2145.484375\n",
      "std     3812.310186\n",
      "min        2.000000\n",
      "25%       20.750000\n",
      "50%      178.500000\n",
      "75%     2106.500000\n",
      "max    19558.000000\n",
      "\n",
      "Cuantos duplicados hay?\n",
      "\n",
      "Hay 0 datos duplicados.\n",
      "\n",
      "Valores ausentes ?\n",
      "company_name    0\n",
      "trips_amount    0\n",
      "dtype: int64 \n",
      "\n",
      "Porcentaje de valores ausentes \n",
      "\n",
      "          index    0\n",
      "0  company_name  0.0\n",
      "1  trips_amount  0.0\n",
      "---------------------------------------\n"
     ]
    }
   ],
   "source": [
    "data_info(company_trip)"
   ]
  },
  {
   "cell_type": "markdown",
   "id": "adf0cc3f-273d-412a-9677-aa4eed3e9064",
   "metadata": {},
   "source": [
    "La tabla company_trips consta de 2 columnas (company_name y trips_amount) y 64 líneas. Los nombres de las columnas son adecuados, no hay valores ausentes y los tipos de datos están correctos."
   ]
  },
  {
   "cell_type": "markdown",
   "id": "9395d917-c9ad-4e14-b054-da387caa5641",
   "metadata": {
    "tags": []
   },
   "source": [
    "### ` Tabla Dropoff` ### "
   ]
  },
  {
   "cell_type": "markdown",
   "id": "b9cfbb1b-24c3-487b-bb4d-2058bb1a7dc1",
   "metadata": {},
   "source": [
    "\n",
    "La tabla dropoff contiene los siguientes datos:\n",
    "\n",
    "    dropoff_location_name: barrios de Chicago donde finalizaron los viajes\n",
    "    average_trips: el promedio de viajes que terminaron en cada barrio en noviembre de 2017\n",
    "\n"
   ]
  },
  {
   "cell_type": "code",
   "execution_count": 5,
   "id": "1052f308-a9f6-43b5-80ca-ea9731e9b460",
   "metadata": {},
   "outputs": [
    {
     "name": "stdout",
     "output_type": "stream",
     "text": [
      "---------------------------------------\n",
      "Filas y columnas: \n",
      "(94, 2)\n",
      "\n",
      "Informacion general:\n",
      "<class 'pandas.core.frame.DataFrame'>\n",
      "RangeIndex: 94 entries, 0 to 93\n",
      "Data columns (total 2 columns):\n",
      " #   Column                 Non-Null Count  Dtype  \n",
      "---  ------                 --------------  -----  \n",
      " 0   dropoff_location_name  94 non-null     object \n",
      " 1   average_trips          94 non-null     float64\n",
      "dtypes: float64(1), object(1)\n",
      "memory usage: 1.6+ KB\n",
      "None\n",
      "\n",
      "Primeras cinco columnas: \n",
      "  dropoff_location_name  average_trips\n",
      "0                  Loop   10727.466667\n",
      "1           River North    9523.666667\n",
      "2         Streeterville    6664.666667\n",
      "3             West Loop    5163.666667\n",
      "4                O'Hare    2546.900000\n",
      "\n",
      "Detalles estadisticos: \n",
      "       average_trips\n",
      "count      94.000000\n",
      "mean      599.953728\n",
      "std      1714.591098\n",
      "min         1.800000\n",
      "25%        14.266667\n",
      "50%        52.016667\n",
      "75%       298.858333\n",
      "max     10727.466667\n",
      "\n",
      "Cuantos duplicados hay?\n",
      "\n",
      "Hay 0 datos duplicados.\n",
      "\n",
      "Valores ausentes ?\n",
      "dropoff_location_name    0\n",
      "average_trips            0\n",
      "dtype: int64 \n",
      "\n",
      "Porcentaje de valores ausentes \n",
      "\n",
      "                   index    0\n",
      "0  dropoff_location_name  0.0\n",
      "1          average_trips  0.0\n",
      "---------------------------------------\n"
     ]
    }
   ],
   "source": [
    "data_info(dropoff)"
   ]
  },
  {
   "cell_type": "markdown",
   "id": "e551f71a-a4fe-440f-94dd-8722024240a0",
   "metadata": {},
   "source": [
    "La tabla dropoff también consta de 2 columnas (dropoff_location_name y average_trips) y 94 líneas. Los nombres de las columnas son correctos, no hay valores ausentes y los tipos de datos son correctos, sin embargo pasaremos los promedios a valores enteros para facilitar su lectura."
   ]
  },
  {
   "cell_type": "code",
   "execution_count": 6,
   "id": "9407e40e-a950-420f-a3e1-faa5ba03b042",
   "metadata": {},
   "outputs": [
    {
     "name": "stdout",
     "output_type": "stream",
     "text": [
      "  dropoff_location_name  average_trips\n",
      "0                  Loop          10727\n",
      "1           River North           9523\n",
      "2         Streeterville           6664\n",
      "3             West Loop           5163\n",
      "4                O'Hare           2546\n"
     ]
    }
   ],
   "source": [
    "#Convertiremos los datos a enteros\n",
    "\n",
    "dropoff['average_trips'] = dropoff['average_trips'].astype(int)\n",
    "print(dropoff.head(5))"
   ]
  },
  {
   "cell_type": "markdown",
   "id": "d1d97377-d345-4ff4-b163-bcf05678ca4c",
   "metadata": {},
   "source": [
    "### `Tabla trips_to_airport` ### "
   ]
  },
  {
   "cell_type": "markdown",
   "id": "f48fc722-c6ed-472d-a2d5-1332c5d32772",
   "metadata": {},
   "source": [
    "La tabla trips_to_airport contiene los siguientes datos:\n",
    "\n",
    "    start_ts: fecha y hora de recogida\n",
    "    weather_conditions: condiciones climáticas en el momento en el que comenzó el viaje\n",
    "    duration_seconds: duración del viaje en segundos\n",
    "\n"
   ]
  },
  {
   "cell_type": "code",
   "execution_count": 7,
   "id": "27016258-a2ee-4a2e-9811-bce17d0e6939",
   "metadata": {},
   "outputs": [
    {
     "name": "stdout",
     "output_type": "stream",
     "text": [
      "---------------------------------------\n",
      "Filas y columnas: \n",
      "(1068, 3)\n",
      "\n",
      "Informacion general:\n",
      "<class 'pandas.core.frame.DataFrame'>\n",
      "RangeIndex: 1068 entries, 0 to 1067\n",
      "Data columns (total 3 columns):\n",
      " #   Column              Non-Null Count  Dtype  \n",
      "---  ------              --------------  -----  \n",
      " 0   start_ts            1068 non-null   object \n",
      " 1   weather_conditions  1068 non-null   object \n",
      " 2   duration_seconds    1068 non-null   float64\n",
      "dtypes: float64(1), object(2)\n",
      "memory usage: 25.2+ KB\n",
      "None\n",
      "\n",
      "Primeras cinco columnas: \n",
      "              start_ts weather_conditions  duration_seconds\n",
      "0  2017-11-25 16:00:00               Good            2410.0\n",
      "1  2017-11-25 14:00:00               Good            1920.0\n",
      "2  2017-11-25 12:00:00               Good            1543.0\n",
      "3  2017-11-04 10:00:00               Good            2512.0\n",
      "4  2017-11-11 07:00:00               Good            1440.0\n",
      "\n",
      "Detalles estadisticos: \n",
      "       duration_seconds\n",
      "count       1068.000000\n",
      "mean        2071.731273\n",
      "std          769.461125\n",
      "min            0.000000\n",
      "25%         1438.250000\n",
      "50%         1980.000000\n",
      "75%         2580.000000\n",
      "max         7440.000000\n",
      "\n",
      "Cuantos duplicados hay?\n",
      "\n",
      "Hay 197 datos duplicados.\n",
      "\n",
      "Valores ausentes ?\n",
      "start_ts              0\n",
      "weather_conditions    0\n",
      "duration_seconds      0\n",
      "dtype: int64 \n",
      "\n",
      "Porcentaje de valores ausentes \n",
      "\n",
      "                index    0\n",
      "0            start_ts  0.0\n",
      "1  weather_conditions  0.0\n",
      "2    duration_seconds  0.0\n",
      "---------------------------------------\n"
     ]
    }
   ],
   "source": [
    "data_info(trips_to_airport)"
   ]
  },
  {
   "cell_type": "markdown",
   "id": "7f632f15-1498-49d6-bd74-d75ae9dc8d40",
   "metadata": {},
   "source": [
    "En esta tabla hay que hacer las siguientes correcciones. \n",
    "\n",
    "\n",
    "1- Modificar a formato fecha la columna start_ts\n",
    "\n",
    "2- Modificar a entero la columna duration_second\n",
    "\n",
    "2- Revisar los que duraron 0 segundos\n",
    "\n",
    "3- Eliminar los duplicados "
   ]
  },
  {
   "cell_type": "code",
   "execution_count": 8,
   "id": "dd581a37-4574-4a94-9bfa-3600a8973552",
   "metadata": {},
   "outputs": [],
   "source": [
    "# Cambiar formato de columnas \n",
    "\n",
    "trips_to_airport['start_ts'] = pd.to_datetime(trips_to_airport['start_ts'], format='%Y-%m-%d %H:%M:%S')\n",
    "\n",
    "# Cambiar formato de duration_second\n",
    "\n",
    "trips_to_airport['duration_seconds'] = trips_to_airport['duration_seconds'].astype(int)"
   ]
  },
  {
   "cell_type": "markdown",
   "id": "812f6ab9-39d0-4c62-8dbf-05f8f1e87475",
   "metadata": {},
   "source": [
    "## Analisis de datos"
   ]
  },
  {
   "cell_type": "markdown",
   "id": "1a6d411a-17f6-4057-9763-14f00b4b22bb",
   "metadata": {},
   "source": [
    "**Identificar los 10 principales barrios en términos de finalización del recorrido**"
   ]
  },
  {
   "cell_type": "code",
   "execution_count": 9,
   "id": "128e0efd-ea14-4ff7-823a-5152c5242db7",
   "metadata": {},
   "outputs": [
    {
     "name": "stdout",
     "output_type": "stream",
     "text": [
      "  dropoff_location_name  average_trips\n",
      "0                  Loop          10727\n",
      "1           River North           9523\n",
      "2         Streeterville           6664\n",
      "3             West Loop           5163\n",
      "4                O'Hare           2546\n",
      "5             Lake View           2420\n",
      "6            Grant Park           2068\n",
      "7         Museum Campus           1510\n",
      "8            Gold Coast           1364\n",
      "9    Sheffield & DePaul           1259\n"
     ]
    }
   ],
   "source": [
    "#Ordenamos de mayo a menor y seleccionamos los primeros 10\n",
    "\n",
    "top_dropoff = dropoff.sort_values(by='average_trips', ascending=False).head(10)\n",
    "\n",
    "print(top_dropoff)"
   ]
  },
  {
   "cell_type": "code",
   "execution_count": 10,
   "id": "2515cf02-a9e1-4bfb-bb8f-c493bc465e10",
   "metadata": {},
   "outputs": [
    {
     "data": {
      "image/png": "[encoded data removed]",
      "text/plain": [
       "<Figure size 1440x432 with 1 Axes>"
      ]
     },
     "metadata": {
      "needs_background": "light"
     },
     "output_type": "display_data"
    }
   ],
   "source": [
    "# gragico de barra \n",
    "\n",
    "top_dropoff.plot(x='dropoff_location_name', kind='barh', figsize=(20,6))\n",
    "plt.xlabel('dropoff_location_name')\n",
    "plt.xticks(rotation=100)\n",
    "plt.ylabel('average_trips')\n",
    "plt.title('Los principales barrios en términos de finalización de recorrido')\n",
    "plt.show(block=False)\n",
    "\n"
   ]
  },
  {
   "cell_type": "markdown",
   "id": "0cd9020d-ad20-4839-81a7-6e7933ebb8b0",
   "metadata": {},
   "source": [
    "**Los principales compañías que realizan más viajes**"
   ]
  },
  {
   "cell_type": "code",
   "execution_count": 11,
   "id": "07b48907-b383-49d9-af1c-994fa287a0ec",
   "metadata": {},
   "outputs": [
    {
     "name": "stdout",
     "output_type": "stream",
     "text": [
      "                        company_name  trips_amount\n",
      "0                          Flash Cab         19558\n",
      "1          Taxi Affiliation Services         11422\n",
      "2                   Medallion Leasin         10367\n",
      "3                         Yellow Cab          9888\n",
      "4    Taxi Affiliation Service Yellow          9299\n",
      "5          Chicago Carriage Cab Corp          9181\n",
      "6                       City Service          8448\n",
      "7                           Sun Taxi          7701\n",
      "8          Star North Management LLC          7455\n",
      "9  Blue Ribbon Taxi Association Inc.          5953\n"
     ]
    }
   ],
   "source": [
    "#Ordenamos de mayo a menor y seleccionamos los primeros 10\n",
    "\n",
    "top_company_trip = company_trip.sort_values(by='trips_amount', ascending=False).head(10)\n",
    "print(top_company_trip)"
   ]
  },
  {
   "cell_type": "code",
   "execution_count": 12,
   "id": "2b2ec919-96fc-4a3d-82e0-a2b93cdaf590",
   "metadata": {
    "scrolled": true
   },
   "outputs": [
    {
     "data": {
      "image/png": "[encoded data removed]",
      "text/plain": [
       "<Figure size 1440x432 with 1 Axes>"
      ]
     },
     "metadata": {
      "needs_background": "light"
     },
     "output_type": "display_data"
    }
   ],
   "source": [
    "top_company_trip.plot(x='company_name', kind='barh', figsize=(20,6))\n",
    "plt.xlabel('top_company_trip')\n",
    "plt.xticks(rotation=100)\n",
    "plt.ylabel('trips_amount')\n",
    "plt.title('Los principales compañías que realizan más viajes')\n",
    "plt.show(block=False)\n"
   ]
  },
  {
   "cell_type": "markdown",
   "id": "c38abba5-2ee4-4585-965b-6a88d19f648a",
   "metadata": {},
   "source": [
    "**Conclusiones** \n",
    "\n",
    "El  barrio que tiene más  finalización de recorrido es Loop con más de 1000 Viajes. \n",
    "\n",
    "Luedo de haber seleccionado las 10  compañias de taxis más usadas se determino que la compañia Flasj Cab es la preferrida de los usuarios, tiene un registro promedio de casi 2000 viajes. por otro lado, taxi afiliation services es la segunda, pero con un promedio de 1100 viajes recolectados. a pesar de estar tener el segundo lugar, Flash  Cab la supera el doble \n",
    "\n",
    "se deLas compañias de taxis mas usadas son :\n",
    "    \n",
    "    Flash cab\n",
    "    \n",
    "    Taxi afiliation\n",
    "    \n",
    "    Modelion\n",
    "    \n",
    "    Yellow Cab\n",
    "    \n",
    "    Taxi afiliation servive yellow\n",
    "    \n",
    "\n",
    "    "
   ]
  },
  {
   "cell_type": "markdown",
   "id": "46260294-7456-45a0-b925-298effb78ca4",
   "metadata": {
    "tags": []
   },
   "source": [
    "\n",
    "## Comprobación de Hipótesis: ##"
   ]
  },
  {
   "cell_type": "markdown",
   "id": "00c6c32f-9be9-4b30-8a76-b68adfc5929b",
   "metadata": {},
   "source": [
    "\"La duración promedio de los viajes desde el Loop hasta el Aeropuerto Internacional O'Hare cambia los sábados lluviosos\". Para ello generaremos las dos sentencias siguientes:\n",
    "\n",
    "H0: La duración promedio de los viajes no cambia en los sábados lluviosos\n",
    "\n",
    "Ha: La duración promedio cambia\n",
    "\n",
    "Nivel de significacion = 0.5"
   ]
  },
  {
   "cell_type": "code",
   "execution_count": 13,
   "id": "7bc5790d-9f58-4ea0-b76b-45d9e9c7b867",
   "metadata": {},
   "outputs": [
    {
     "name": "stdout",
     "output_type": "stream",
     "text": [
      "\n",
      "    Duración promedio de viajes en días lluviosos: 2427.2055555555557\n",
      "    Duración promedio de viajes en días soleados: 1999.6756756756756\n",
      "\n",
      "\n",
      "    t-estadístico: 7.186034288068629\n",
      "    valor-p: 6.738994326108734e-12\n",
      "    Rechazamos nuestra hipótesis nula\n",
      "\n"
     ]
    }
   ],
   "source": [
    "# Creamos dos Dataframe que uno incluya la variabble lluvioso y otro no\n",
    "\n",
    "bad_weather_duration = trips_to_airport.loc[trips_to_airport[\"weather_conditions\"] == 'Bad', \"duration_seconds\"]\n",
    "good_weather_duration = trips_to_airport.loc[trips_to_airport[\"weather_conditions\"] == 'Good', \"duration_seconds\"]\n",
    "\n",
    "\n",
    "# Calculamos los promedios\n",
    " \n",
    "mean_bad_weather = bad_weather_duration.mean()\n",
    "mean_good_weather = good_weather_duration .mean()\n",
    "\n",
    "print(f\"\"\"\n",
    "    Duración promedio de viajes en días lluviosos: {mean_bad_weather}\n",
    "    Duración promedio de viajes en días soleados: {mean_good_weather}\n",
    "\"\"\")\n",
    "\n",
    "#Realizamos el test de hipotesis \n",
    "stat, p_value = ttest_ind(bad_weather_duration, good_weather_duration, equal_var=False)\n",
    "\n",
    "significance = 0.05\n",
    "\n",
    "print(f\"\"\"\n",
    "    t-estadístico: {stat}\n",
    "    valor-p: {p_value}\n",
    "    {\"Rechazamos\" if p_value < significance \n",
    "    else \"No rechazamos\"} nuestra hipótesis nula\n",
    "\"\"\")\n"
   ]
  },
  {
   "cell_type": "markdown",
   "id": "29d85685-d0b9-4d37-a519-8becc2fd4a04",
   "metadata": {},
   "source": [
    "Rechazamos la hipotesis nula, la duracion del viaje varia segun el clima "
   ]
  },
  {
   "cell_type": "markdown",
   "id": "f7f1bda2-43d1-46e4-a5f1-6d79282eb36c",
   "metadata": {},
   "source": [
    "## Conclusion General ##"
   ]
  },
  {
   "cell_type": "markdown",
   "id": "763f70b2-22b5-4429-b58f-2908da163943",
   "metadata": {},
   "source": [
    "En este estudio se utilizaron tres tablas: \n",
    "\n",
    "- la tabla company_trips con 2 columnas (company_name y trips_amount) y 64 filas,\n",
    "\n",
    "- la tabla dropoff con 2 columnas (dropoff_location_name y average_trips) y 94 fila\n",
    "\n",
    "- la tabla trips_to_airport con 3 columnas (start_ts, weather_conditions y duration_seconds) y 1068 filas. \n",
    "\n",
    "Ambas tablas iniciales estaban completas y los datos se presentaron correctamente. Se convirtió la columna average_trips en valores enteros para facilitar la lectura de los datos, y se cambió el tipo de datos de la columna start_ts a DateTime en la tabla trips_to_airport.\n",
    "\n",
    "Para analizar los datos de las compañias de taxi más usadas y la ciudad \n",
    "De las tablas se puede concluir que los diez barrios con más finalización de recorridos son: Loop, River North, Streeterville, West Loop, O'Hare, Lake View, Grant Park, Museum Campus, Gold Coast y Sheffield & DePaul, en ese orden.\n",
    "\n",
    "\n",
    "En cuanto a las empresas de taxis, se observa que de las 63 compañías en la tabla, la mayoría realizó menos de 5000 viajes en los días estudiados. Flash Cab realizó la mayor cantidad de viajes, casi 20000, seguida de Taxi Affiliation Services con un poco más de 10000.\n",
    "\n",
    "\n",
    "Se planteó la hipótesis \"La duración promedio de los viajes desde el Loop hasta el Aeropuerto Internacional O'Hare cambia los sábados lluviosos\". Se creó una hipótesis nula que establecía que la duración promedio de los viajes no cambia en los sábados lluviosos. Según los resultados obtenidos en el estudio, se rechazó la hipótesis nula."
   ]
  }
 ],
 "metadata": {
  "kernelspec": {
   "display_name": "Python 3 (ipykernel)",
   "language": "python",
   "name": "python3"
  },
  "language_info": {
   "codemirror_mode": {
    "name": "ipython",
    "version": 3
   },
   "file_extension": ".py",
   "mimetype": "text/x-python",
   "name": "python",
   "nbconvert_exporter": "python",
   "pygments_lexer": "ipython3",
   "version": "3.9.12"
  },
  "toc": {
   "base_numbering": 1,
   "nav_menu": {},
   "number_sections": true,
   "sideBar": true,
   "skip_h1_title": true,
   "title_cell": "Table of Contents",
   "title_sidebar": "Contents",
   "toc_cell": true,
   "toc_position": {
    "height": "calc(100% - 180px)",
    "left": "10px",
    "top": "150px",
    "width": "371.797px"
   },
   "toc_section_display": true,
   "toc_window_display": false
  }
 },
 "nbformat": 4,
 "nbformat_minor": 5
}
